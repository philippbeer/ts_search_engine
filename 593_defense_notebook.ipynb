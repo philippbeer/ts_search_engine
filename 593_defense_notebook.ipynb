{
 "cells": [
  {
   "cell_type": "markdown",
   "id": "b1212448",
   "metadata": {},
   "source": [
    "# Efficient Algorithm for Time Series Retrieval\n",
    "example of M4 data"
   ]
  },
  {
   "cell_type": "markdown",
   "id": "a26a948b-e387-43b1-a5a6-4ebed69f7947",
   "metadata": {
    "jp-MarkdownHeadingCollapsed": true,
    "tags": []
   },
   "source": [
    "## Imports and Setup"
   ]
  },
  {
   "cell_type": "code",
   "execution_count": 1,
   "id": "5889a2d2",
   "metadata": {
    "tags": []
   },
   "outputs": [
    {
     "name": "stdout",
     "output_type": "stream",
     "text": [
      "Importing the dtw module. When using in academic works please cite:\n",
      "  T. Giorgino. Computing and Visualizing Dynamic Time Warping Alignments in R: The dtw Package.\n",
      "  J. Stat. Soft., doi:10.18637/jss.v031.i07.\n",
      "\n"
     ]
    }
   ],
   "source": [
    "import locale\n",
    "import os\n",
    "import random\n",
    "import re\n",
    "import time\n",
    "from typing import List, Tuple\n",
    "\n",
    "\n",
    "from dtw import dtw, dtwPlotTwoWay, dtwPlotThreeWay\n",
    "import matplotlib.pyplot as plt\n",
    "import numpy as np\n",
    "import pandas as pd\n",
    "from scipy import signal\n",
    "import seaborn as sns\n",
    "from statsmodels.tsa.seasonal import seasonal_decompose\n",
    "from tqdm.notebook import tqdm\n",
    "\n",
    "locale.setlocale(locale.LC_ALL, '');\n",
    "## fr ranges\n",
    "start = -1\n",
    "stop = 3\n",
    "steps = 410\n",
    "freq_ranges = 10**np.linspace(start,stop,steps)\n",
    "\n",
    "# set comparison KPI\n",
    "KPI = ['m', 'mean', 'std', 'q25', 'q50', 'q75', 'min', 'max']\n",
    "DELTA_KPI = ['d_m', 'd_mean', 'd_std', 'd_q25', 'd_q50', 'd_q75', 'd_min', 'd_max']\n",
    "\n",
    "# Visualization Setup\n",
    "sns.set_style(\"darkgrid\", {\"grid.color\": \".6\", \"grid.linestyle\": \":\"})\n",
    "sns.set(font_scale=1.5)"
   ]
  },
  {
   "cell_type": "markdown",
   "id": "1f766caa",
   "metadata": {
    "tags": []
   },
   "source": [
    "## Loading M4 Data"
   ]
  },
  {
   "cell_type": "code",
   "execution_count": 2,
   "id": "b04389a1",
   "metadata": {
    "tags": []
   },
   "outputs": [],
   "source": [
    "def read_m4_data(file_paths: List[str], path_prefix: str) -> pd.DataFrame:\n",
    "    \"\"\" reads the  list given file paths and\n",
    "        and combines them into a singular dataframe\"\"\"\n",
    "    df_all = pd.DataFrame()\n",
    "    \n",
    "    for fpath in file_paths:\n",
    "        start = time.time()\n",
    "        df_tmp = pd.read_csv(path_prefix+fpath)\n",
    "        end = time.time()\n",
    "        execution_time = end - start\n",
    "        print(f\"file: {fpath} read in {execution_time:.2f} seconds\\n\\\n",
    "        with {df_tmp.shape[0]:,d} rows and {df_tmp.shape[1]:,d} columns.\\n\")\n",
    "        df_all = pd.concat([df_all, df_tmp])\n",
    "        \n",
    "    return df_all"
   ]
  },
  {
   "cell_type": "code",
   "execution_count": 3,
   "id": "8d355c27",
   "metadata": {},
   "outputs": [],
   "source": [
    "# setting file paths\n",
    "path_prefix_m4 = \"/Users/philipp/workspace/UNIC/comp-593/m4_data/\"\n",
    "m4_paths = [\n",
    "    \"Hourly-train.csv\",\n",
    "    \"Daily-train.csv\",\n",
    "    \"Weekly-train.csv\",\n",
    "    \"Monthly-train.csv\",\n",
    "    \"Quarterly-train.csv\",\n",
    "    \"Yearly-train.csv\"\n",
    "]"
   ]
  },
  {
   "cell_type": "code",
   "execution_count": 4,
   "id": "b92c3f56",
   "metadata": {},
   "outputs": [
    {
     "name": "stdout",
     "output_type": "stream",
     "text": [
      "file: Hourly-train.csv read in 0.09 seconds\n",
      "        with 414 rows and 961 columns.\n",
      "\n",
      "file: Daily-train.csv read in 17.75 seconds\n",
      "        with 4,227 rows and 9,920 columns.\n",
      "\n",
      "file: Weekly-train.csv read in 0.33 seconds\n",
      "        with 359 rows and 2,598 columns.\n",
      "\n",
      "file: Monthly-train.csv read in 17.86 seconds\n",
      "        with 48,000 rows and 2,795 columns.\n",
      "\n",
      "file: Quarterly-train.csv read in 1.53 seconds\n",
      "        with 24,000 rows and 867 columns.\n",
      "\n",
      "file: Yearly-train.csv read in 1.27 seconds\n",
      "        with 23,000 rows and 836 columns.\n",
      "\n",
      "###################\n",
      "\n"
     ]
    }
   ],
   "source": [
    "\n",
    "df_all_m4 = read_m4_data(m4_paths, path_prefix_m4)\n",
    "print(\"###################\\n\")"
   ]
  },
  {
   "cell_type": "markdown",
   "id": "430c5882",
   "metadata": {
    "jp-MarkdownHeadingCollapsed": true,
    "tags": []
   },
   "source": [
    "## Discard"
   ]
  },
  {
   "cell_type": "code",
   "execution_count": 5,
   "id": "010d23c8",
   "metadata": {},
   "outputs": [],
   "source": [
    "def get_ucr_file_paths(path_prefix: str) -> Tuple[List[str],List[str]]:\n",
    "  \"\"\"creates a list file paths based on naming\n",
    "  conventions of UCR archive\"\"\"\n",
    "  ts_train_infos = []\n",
    "  ts_test_infos = []\n",
    "  for root, dirs, files in os.walk(path_prefix):\n",
    "      for name in files:\n",
    "          if(name.endswith(\"_TRAIN.tsv\")):\n",
    "              path_tmp = os.path.join(root,name)\n",
    "              ts_name = re.split(\"/\", root)[-1]\n",
    "              ts_train_infos.append((ts_name, os.path.join(root,name)))\n",
    "          elif(name.endswith(\"_TEST.tsv\")):\n",
    "              path_tmp = os.path.join(root,name)\n",
    "              ts_name = re.split(\"/\", root)[-1]\n",
    "              ts_test_infos.append((ts_name, os.path.join(root,name)))\n",
    "  return ts_train_infos, ts_test_infos"
   ]
  },
  {
   "cell_type": "code",
   "execution_count": 6,
   "id": "20af3821",
   "metadata": {},
   "outputs": [],
   "source": [
    "path_prefix_ucr = \"/Users/philipp/workspace/UNIC/comp-593/data/ucr_data/UCRArchive_2018\"\n",
    "ts_train_paths, ts_test_paths = get_ucr_file_paths(path_prefix_ucr)"
   ]
  },
  {
   "cell_type": "code",
   "execution_count": 7,
   "id": "cb341edd",
   "metadata": {},
   "outputs": [],
   "source": [
    "def load_ucr_files(train_paths: List[str], test_paths: List[str]) -> Tuple[pd.DataFrame,pd.DataFrame]:\n",
    "    \"\"\"load UCR archive files\"\"\"\n",
    "    df_train = pd.DataFrame()\n",
    "    df_test = pd.DataFrame()\n",
    "\n",
    "    for ts_info in tqdm(train_paths):\n",
    "        ts_name = ts_info[0]\n",
    "        fp = ts_info[1]\n",
    "\n",
    "        df_tmp = pd.read_csv(fp, sep='\\t', header=None)\n",
    "        df_tmp['name'] = ts_name\n",
    "        df_tmp['no'] = df_tmp.index\n",
    "        cols = df_tmp.columns.tolist()\n",
    "        cols = cols[-2:] + cols[:-2]\n",
    "        df_tmp = df_tmp[cols]\n",
    "        df_train = df_train.append(df_tmp)\n",
    "\n",
    "    for ts_info in tqdm(test_paths):\n",
    "        ts_name = ts_info[0]\n",
    "        fp = ts_info[1]\n",
    "\n",
    "        df_tmp = pd.read_csv(fp, sep='\\t', header=None)\n",
    "        df_tmp['name'] = ts_name\n",
    "        df_tmp['no'] = df_tmp.index\n",
    "        cols = df_tmp.columns.tolist()\n",
    "        cols = cols[-2:] + cols[:-2]\n",
    "        df_tmp = df_tmp[cols]\n",
    "        df_test = df_test.append(df_tmp)\n",
    "        \n",
    "    return df_train, df_test\n",
    "    "
   ]
  },
  {
   "cell_type": "code",
   "execution_count": 8,
   "id": "1a316664",
   "metadata": {},
   "outputs": [
    {
     "data": {
      "application/vnd.jupyter.widget-view+json": {
       "model_id": "28a292ef0133465eb3313672412ef3be",
       "version_major": 2,
       "version_minor": 0
      },
      "text/plain": [
       "  0%|          | 0/143 [00:00<?, ?it/s]"
      ]
     },
     "metadata": {},
     "output_type": "display_data"
    },
    {
     "data": {
      "application/vnd.jupyter.widget-view+json": {
       "model_id": "8e13dcd363c445ef971553fe64fd8d7b",
       "version_major": 2,
       "version_minor": 0
      },
      "text/plain": [
       "  0%|          | 0/143 [00:00<?, ?it/s]"
      ]
     },
     "metadata": {},
     "output_type": "display_data"
    }
   ],
   "source": [
    "df_train, df_test = load_ucr_files(ts_train_paths, ts_test_paths)"
   ]
  },
  {
   "cell_type": "markdown",
   "id": "7f4a374f",
   "metadata": {
    "tags": []
   },
   "source": [
    "## Load FFT conversion time series pool with statistics for M4"
   ]
  },
  {
   "cell_type": "code",
   "execution_count": 9,
   "id": "c0a7e464-ede1-455b-aca4-960229092fc8",
   "metadata": {},
   "outputs": [],
   "source": [
    "def extend_missing_freqs(freqs_l: list) -> list:\n",
    "    \"\"\" ensure frequency length matches 5\"\"\"\n",
    "    freqs_ext = [-1]*(5-len(freqs_l))\n",
    "    freqs_ext.extend(freqs_l)\n",
    "    return freqs_ext"
   ]
  },
  {
   "cell_type": "code",
   "execution_count": 10,
   "id": "d0eb38c5",
   "metadata": {},
   "outputs": [],
   "source": [
    "# load m4 stats\n",
    "df_m4_stats = pd.read_csv(\"../comp-593/data/df_stats_m4.csv\", converters={\"freq_ids\": eval})\n",
    "df_m4_stats[\"freq_ids\"] = df_m4_stats[\"freq_ids\"].apply(extend_missing_freqs)\n",
    "# load UCR stats\n",
    "#df_ucr_stats_train = pd.read_csv(\"../data/df_ucr_stats_train.csv\")\n",
    "df_ucr_stats_test = pd.read_csv(\"../comp-593/data/df_ucr_stats_test.csv\")"
   ]
  },
  {
   "cell_type": "markdown",
   "id": "f37865e6-87d7-4897-b1ab-0169978381bc",
   "metadata": {
    "tags": []
   },
   "source": [
    "## M4 FFT transformation functions and top frequencies selection"
   ]
  },
  {
   "cell_type": "code",
   "execution_count": 11,
   "id": "e6531fc2-4d7a-47e7-875d-d1a1b1b2b851",
   "metadata": {},
   "outputs": [],
   "source": [
    "def get_top_k_freq(PSD: np.array, freqs: np.array, k: int)->List[int]:\n",
    "    \"\"\" return top k indexes with largest PSD val\"\"\"\n",
    "    PSD = [np.real(val) for val in PSD]\n",
    "    PSD_power_idx = sorted(range(len(PSD)), key= lambda x: PSD[x])[-k:]\n",
    "    \n",
    "    # find issue why digitize seems to find other frequencies than fft_2 script\n",
    "    freq_apx_l = np.digitize(freqs, freq_ranges)\n",
    "    freq_idx = [freq_apx_l[i] for i in PSD_power_idx]\n",
    "    return freq_idx"
   ]
  },
  {
   "cell_type": "code",
   "execution_count": 12,
   "id": "64379b61-03f7-4f76-ba35-cecf460444ac",
   "metadata": {},
   "outputs": [],
   "source": [
    "def get_freq_m4(s: pd.Series, k:int=5) -> List[float]:\n",
    "    \"\"\" compute frequencies for M4 pandas series\"\"\"\n",
    "    df = pd.DataFrame()\n",
    "    f=np.array(s.iloc[1:].dropna())\n",
    "    n = f.size\n",
    "    wdw = np.hamming(n)\n",
    "    \n",
    "    # FFT\n",
    "    fhat = np.abs(np.fft.fft(f))\n",
    "    PSD = fhat * np.conj(fhat) / n\n",
    "    PSD = PSD.real\n",
    "                   \n",
    "    fft_freqs = np.arange(n)/n\n",
    "    top_fft_apx = get_top_k_freq(PSD, fft_freqs, k)\n",
    "\n",
    "    df_tmp = pd.DataFrame({\n",
    "            \"type\": [\"fft\"],\n",
    "            \"freq_ids\": [top_fft_apx]\n",
    "                          })\n",
    "    df = df.append(df_tmp)\n",
    "    \n",
    "    # Hamming\n",
    "    fhat = np.fft.fft(f*wdw)\n",
    "    PSD = np.real(fhat * np.conj(fhat) / n)\n",
    "\n",
    "    \n",
    "    hamming_freqs = np.arange(n)/n\n",
    "    top_ham_apx = get_top_k_freq(PSD, hamming_freqs, k)\n",
    "    df_tmp = pd.DataFrame({\n",
    "            \"type\": [\"Hamming\"],\n",
    "            \"freq_ids\": [top_ham_apx]\n",
    "                          })\n",
    "    df = df.append(df_tmp)\n",
    "    \n",
    "    # Welch\n",
    "    seg_length = np.floor(1/20*n)\n",
    "    if seg_length == 0:\n",
    "        seg_length=10\n",
    "    welch_freqs, PSD_welch = signal.welch(f, nperseg=seg_length,\n",
    "                                      window='hamming')\n",
    "    top_welch_apx = get_top_k_freq(PSD_welch, welch_freqs,k)\n",
    "    df_tmp = pd.DataFrame({\n",
    "            \"type\": [\"Welch\"],\n",
    "            \"freq_ids\": [top_welch_apx]\n",
    "                          })\n",
    "    df = df.append(df_tmp)\n",
    "    df.reset_index(inplace=True)\n",
    "    return df"
   ]
  },
  {
   "cell_type": "markdown",
   "id": "9c208b78-14e5-4a7f-a731-e08d23bb408e",
   "metadata": {
    "jp-MarkdownHeadingCollapsed": true,
    "tags": []
   },
   "source": [
    "## discard"
   ]
  },
  {
   "cell_type": "code",
   "execution_count": 13,
   "id": "145c4de7-6d5e-45b6-95ac-2a05b5ea4805",
   "metadata": {},
   "outputs": [],
   "source": [
    "def get_freq_ucr(s: pd.Series, k:int=5) -> List[float]:\n",
    "    \"\"\" compute frequencies for M4 pandas series\"\"\"\n",
    "    df = pd.DataFrame()\n",
    "    f=np.array(s.iloc[3:].dropna())\n",
    "    n = f.size\n",
    "    wdw = np.hamming(n)\n",
    "    freq = np.arange(n)/n\n",
    "\n",
    "    # FFT\n",
    "    fhat = np.fft.fft(f)\n",
    "    PSD = np.real(fhat * np.conj(fhat) / n)\n",
    "    top_fft_idx = get_top_k_freq(PSD,k)\n",
    "    fft_freq = freq[top_fft_idx]\n",
    "    df_tmp = pd.DataFrame({\n",
    "            \"type\": [\"FFT\"],\n",
    "            \"freq_ids\": [top_fft_idx]\n",
    "                          })\n",
    "    df = df.append(df_tmp)\n",
    "    # Hamming\n",
    "    fhat = np.fft.fft(f*wdw)\n",
    "    PSD = np.real(fhat * np.conj(fhat) / n)\n",
    "    freq = np.arange(n)/f.size\n",
    "    top_ham_idx = get_top_k_freq(PSD,k)\n",
    "    ham_freq = freq[top_ham_idx]\n",
    "    df_tmp = pd.DataFrame({\n",
    "            \"type\": [\"Hamming\"],\n",
    "            \"freq_ids\": [top_ham_idx]\n",
    "                          })\n",
    "    df = df.append(df_tmp)\n",
    "    # Welch\n",
    "    seg_length = np.floor(1/20*n)\n",
    "    if seg_length == 0:\n",
    "        seg_length=10\n",
    "    welch_freqs, PSD_welch = signal.welch(f, nperseg=seg_length,\n",
    "                                      window='hamming')\n",
    "    top_welch_idx = get_top_k_freq(PSD_welch,k)\n",
    "    welch_freq = freq[top_welch_idx]\n",
    "    df_tmp = pd.DataFrame({\n",
    "            \"type\": [\"Welch\"],\n",
    "            \"freq_ids\": [top_welch_idx]\n",
    "                          })\n",
    "    df = df.append(df_tmp)\n",
    "    \n",
    "    return df"
   ]
  },
  {
   "cell_type": "markdown",
   "id": "7e734c3a-0ec1-49ab-9654-b35f9d480601",
   "metadata": {
    "tags": []
   },
   "source": [
    "## Time Series handling and summary statistics computation"
   ]
  },
  {
   "cell_type": "code",
   "execution_count": 24,
   "id": "6acd3a4a-c465-4c15-9bba-0353aef5e6fb",
   "metadata": {},
   "outputs": [],
   "source": [
    "def get_trend(ts_ar: np.ndarray,\n",
    "                    periodicity: int) -> np.ndarray:\n",
    "    if ts_ar.shape[0] < 2*periodicity:\n",
    "        periodicity = math.floor(ts_ar.shape[0]/2)\n",
    "\n",
    "    res = seasonal_decompose(ts_ar, 'additive', period=periodicity)\n",
    "\n",
    "    return res.trend[~np.isnan(res.trend)]\n",
    "\n",
    "def fit_trend(trend_ar: np.ndarray) -> Tuple[float,float]:\n",
    "    fit_res = np.polyfit(np.arange(trend_ar.shape[0]), trend_ar, 1)\n",
    "    m = fit_res[0]\n",
    "    b = fit_res[1]\n",
    "    return (m,b)\n",
    "\n",
    "def get_ts_stats(s:pd.Series, archive:str=\"M4\")->pd.Series:\n",
    "    \"\"\" compute time series stats \"\"\"\n",
    "    if archive == \"M4\":\n",
    "        ar = np.array(s[1:].dropna())\n",
    "        ts_name = s[1]\n",
    "    elif archive == \"UCR\":\n",
    "        ar = np.array(s[3:].dropna())\n",
    "    else:\n",
    "        raise Exception(\"please set M4 or UCR as archive type\")\n",
    "    \n",
    "    count = ar.shape[0]\n",
    "    mean = np.mean(ar)\n",
    "    std = np.std(ar)\n",
    "    q25 = np.quantile(ar, .25)\n",
    "    q50 = np.median(ar)\n",
    "    q75 = np.quantile(ar, .75)\n",
    "    max_val = np.max(ar)\n",
    "    min_val = np.min(ar)\n",
    "    \n",
    "    period = 12\n",
    "    trend_ar = get_trend(ar, period)\n",
    "    m, b = fit_trend(trend_ar)\n",
    "    \n",
    "    if archive == \"M4\":\n",
    "        idx = ['ts_name', 'm', 'b', 'count', 'mean', 'std', 'min',\\\n",
    "               'q25', 'q50', 'q75', 'max']\n",
    "        res = pd.Series([ts_name, m, b, count, mean, std, min_val, q25, q50,\\\n",
    "                         q75, max_val], index=idx)\n",
    "    else:\n",
    "        idx = ['ts_name', 'no', 'class', 'm', 'b', 'count', 'mean', 'std', 'min',\\\n",
    "               'q25', 'q50', 'q75', 'max']\n",
    "        res = pd.Series([ts_name, no, type_cls, count, m, b, mean, std, min_val, q25, q50,\\\n",
    "                         q75, max_val], index=idx)\n",
    "    return res\n",
    "        "
   ]
  },
  {
   "cell_type": "code",
   "execution_count": 15,
   "id": "9c2fe2ae-5345-45aa-8e18-7618012f1e24",
   "metadata": {},
   "outputs": [],
   "source": [
    "def top_freqs_2_list(s: pd.DataFrame, fr_ranges: np.ndarray) -> pd.Series:\n",
    "    \"\"\" convert the list of frequencies into order \"\"\"\n",
    "    df_freqs = s.transpose()\n",
    "    index_ = [s.iloc[0,1],\"type\"]\n",
    "    df_freqs.index = index_\n",
    "    df_freqs.iloc[0] = np.digitize(df_freqs.iloc[0],fr_ranges)\n",
    "    return df_freqs.iloc[0]"
   ]
  },
  {
   "cell_type": "markdown",
   "id": "aac00333-c056-48bb-b7f2-5843608b7769",
   "metadata": {},
   "source": [
    "### Match frequencies via Score"
   ]
  },
  {
   "cell_type": "code",
   "execution_count": 49,
   "id": "2c00eb77-ea69-48a9-a6fe-d9c1cdb4bec5",
   "metadata": {},
   "outputs": [],
   "source": [
    "def compute_match_scores(df_sub: pd.DataFrame,\n",
    "                    freq_l: list) -> pd.Series:\n",
    "    \"\"\" compute the match score for all time series\n",
    "        in the pool of time series \"\"\"\n",
    "    # convert frequencies column to array\n",
    "    candidates = np.array(list(df_sub['freq_ids'].to_list()))\n",
    "    # handle cases where less that 5 top k frequencies\n",
    "    # were identified    \n",
    "    freq_l = extend_missing_freqs(freq_l)\n",
    "    template_ar = np.array([freq_l]*candidates.shape[0])\n",
    "    \n",
    "\n",
    "#     template_ar = np.array(extend_missing_freqs(template_ar))\n",
    "#     if template_ar.shape[0]!=5:\n",
    "#         print(f\"template are has wrong shape: {template_ar}\")\n",
    "    \n",
    "#     print(f\"shape tmpl ar: {template_ar.shape}\")\n",
    "#     print(f\"templ ar: {template_ar}\")\n",
    "    # match the frequencies\n",
    "    match_ar =  candidates-template_ar\n",
    "    mask = match_ar == 0\n",
    "    indx = np.nonzero(mask)\n",
    "    \n",
    "    \"\"\"\n",
    "    on the matches apply 10 to power of column index\n",
    "    and set non-matches to zero\n",
    "    \"\"\"\n",
    "    match_ar[mask] = 10**(indx[1])\n",
    "    match_ar[~mask] = 0\n",
    "\n",
    "    match_scores = pd.Series(np.sum(match_ar, axis=1))\n",
    "    df_sub.reset_index(inplace=True)\n",
    "    df_sub[\"match_score\"]=match_scores\n",
    "    return df_sub\n",
    "\n",
    "def find_max_matches(df_sub, freq_l) -> pd.DataFrame:\n",
    "    \"\"\" find maximum matching score(s) \"\"\"\n",
    "    df_sub = compute_match_scores(df_sub, freq_l)\n",
    "    \n",
    "    # find maximum value\n",
    "    max_f_match = df_sub[\"match_score\"].max()\n",
    "\n",
    "    # subset results to maximum match\n",
    "    df_sub = df_sub[df_sub[\"match_score\"]==max_f_match]\n",
    "    return df_sub\n",
    "\n",
    "def compute_stats_delta(s_templ_stats:pd.Series,\n",
    "                        df_sub:pd.DataFrame):\n",
    "    \"\"\" compute delta for each statistic in pool \"\"\"\n",
    "    kpis = s_templ_stats.index[1:].tolist()\n",
    "    for kpi in kpis:\n",
    "        d_kpi_name = \"_\".join((\"d\", kpi))\n",
    "        d_kpi_val = abs(df_sub[kpi] - s_templ_stats[kpi])\n",
    "        df_sub[d_kpi_name] = d_kpi_val\n",
    "    return df_sub\n",
    "\n",
    "\n",
    "def get_delta_min_ts(df_sub: pd.DataFrame, \n",
    "                     df_templ: pd.DataFrame,\n",
    "                     templ_stats: pd.Series,\n",
    "                     ts_name: str,\n",
    "                    remove_templ:bool=True)-> pd.DataFrame:\n",
    "    \"\"\" find the best matching frequencies\n",
    "        and minimum delta for all defined KPI \"\"\"\n",
    "    if remove_templ:\n",
    "        df_sub = df_sub[~(df_sub[\"ts_name\"]==ts_name)]\n",
    "        \n",
    "    # get different FFT types\n",
    "    l_types = df_templ[\"type\"].unique().tolist()\n",
    "    # process data per fft type\n",
    "    df_matches = pd.DataFrame()\n",
    "    for fft_type in l_types:\n",
    "        df_tmp = find_max_matches(df_sub[df_sub[\"type\"]==fft_type],\n",
    "                                 df_templ[df_templ[\"type\"]==fft_type][\"freq_ids\"].iloc[0])\n",
    "        df_matches = df_matches.append(df_tmp)\n",
    "\n",
    "    # compute stats deltas\n",
    "    df_delta_stats = compute_stats_delta(templ_stats,\n",
    "                                         df_matches)\n",
    "    df_res = pd.DataFrame() # result dataframe\n",
    "    \n",
    "    # get min delta for all defined kpis\n",
    "    for fft_tuple in df_delta_stats.groupby(\"type\"):\n",
    "        fft_type = fft_tuple[0]\n",
    "        df_type_matches = fft_tuple[1]\n",
    "        for i in range(len(DELTA_KPI)):\n",
    "            d_kpi = DELTA_KPI[i]\n",
    "            # check if results are sorting delta kpis correctly\n",
    "            min_series = df_type_matches.sort_values(d_kpi).iloc[0,:] # best match for particular KPI\n",
    "            df_tmp = pd.DataFrame({\n",
    "                \"ts_templ\": ts_name,\n",
    "                \"fft_type\": fft_type,\n",
    "                \"ts_match\": min_series['ts_name'],\n",
    "                \"match_score\": min_series[\"match_score\"],\n",
    "                \"min_kpi\": d_kpi,\n",
    "                \"value\": min_series[d_kpi]\n",
    "            }, index=[0])\n",
    "            df_res = df_res.append(df_tmp)\n",
    "    return df_res"
   ]
  },
  {
   "cell_type": "markdown",
   "id": "b849c2f2-f339-4a6b-a46b-1ab5f03b9083",
   "metadata": {
    "tags": []
   },
   "source": [
    "## Test on Single Series\n",
    "run-time for the algorithm starts here"
   ]
  },
  {
   "cell_type": "code",
   "execution_count": 59,
   "id": "e9d010b8-9024-4ec5-847b-f84be0343daa",
   "metadata": {},
   "outputs": [],
   "source": [
    "s_test = df_all_m4.sample(1, random_state=42).squeeze() # select random series"
   ]
  },
  {
   "cell_type": "markdown",
   "id": "e144b3f8-1d70-49ab-8ec8-c0270e5a2a7c",
   "metadata": {},
   "source": [
    "### Test Time to run against converted time series pool"
   ]
  },
  {
   "cell_type": "code",
   "execution_count": 57,
   "id": "b76f67f3-5d88-4acd-b367-e9d67f001b6b",
   "metadata": {},
   "outputs": [
    {
     "name": "stderr",
     "output_type": "stream",
     "text": [
      "/var/folders/9b/qts_zvv52g90t2t7r2t45drw0000gn/T/ipykernel_1889/2886081340.py:33: SettingWithCopyWarning: \n",
      "A value is trying to be set on a copy of a slice from a DataFrame.\n",
      "Try using .loc[row_indexer,col_indexer] = value instead\n",
      "\n",
      "See the caveats in the documentation: https://pandas.pydata.org/pandas-docs/stable/user_guide/indexing.html#returning-a-view-versus-a-copy\n",
      "  df_sub[\"match_score\"]=match_scores\n"
     ]
    }
   ],
   "source": [
    "%%timeit\n",
    "test_ts_stats = get_ts_stats(s_test) # get time series statistics\n",
    "df_test_ts_freq = get_freq_m4(s_test) # get top frequencies for time series\n",
    "ts_name = s_test[0] # name of time series\n",
    "df_ts_res = get_delta_min_ts(df_m4_stats, df_test_ts_freq, test_ts_stats, ts_name)"
   ]
  },
  {
   "cell_type": "markdown",
   "id": "adc1f5b2-9c85-4a8e-9c15-cea6d639b1b4",
   "metadata": {},
   "source": [
    "### Create actual results"
   ]
  },
  {
   "cell_type": "code",
   "execution_count": 61,
   "id": "2aebee80-8880-4b63-a71a-8ca5642d4785",
   "metadata": {},
   "outputs": [
    {
     "name": "stderr",
     "output_type": "stream",
     "text": [
      "/var/folders/9b/qts_zvv52g90t2t7r2t45drw0000gn/T/ipykernel_1889/2886081340.py:33: SettingWithCopyWarning: \n",
      "A value is trying to be set on a copy of a slice from a DataFrame.\n",
      "Try using .loc[row_indexer,col_indexer] = value instead\n",
      "\n",
      "See the caveats in the documentation: https://pandas.pydata.org/pandas-docs/stable/user_guide/indexing.html#returning-a-view-versus-a-copy\n",
      "  df_sub[\"match_score\"]=match_scores\n"
     ]
    }
   ],
   "source": [
    "test_ts_stats = get_ts_stats(s_test) # get time series statistics\n",
    "df_test_ts_freq = get_freq_m4(s_test) # get top frequencies for time series\n",
    "ts_name = s_test[0] # name of time series\n",
    "df_ts_res = get_delta_min_ts(df_m4_stats, df_test_ts_freq, test_ts_stats, ts_name)"
   ]
  },
  {
   "cell_type": "markdown",
   "id": "6a00576d-db99-4e37-a662-2a13551afa7d",
   "metadata": {
    "tags": []
   },
   "source": [
    "## Visualize Results"
   ]
  },
  {
   "cell_type": "markdown",
   "id": "4a49646d-a438-4144-8b80-5ffb07817e9f",
   "metadata": {
    "tags": []
   },
   "source": [
    "###  Time Series Visualization functions"
   ]
  },
  {
   "cell_type": "code",
   "execution_count": 74,
   "id": "7bd11b6e-0f2f-4258-b731-62682483faa5",
   "metadata": {},
   "outputs": [],
   "source": [
    "def viz_template_ts(s:pd.Series):\n",
    "    \"\"\" visualize template series \"\"\"\n",
    "    # prep data\n",
    "    y = s.iloc[1:].dropna()\n",
    "    x = np.linspace(0, y.shape[0],y.shape[0])\n",
    "    ts_name = s.iloc[0]\n",
    "    \n",
    "    # set plot\n",
    "    fig, ax = plt.subplots(figsize=(16,8))\n",
    "    fig.suptitle('Template Series: '+ts_name, fontsize=20)\n",
    "    ax.set(xlabel='steps', ylabel='values')\n",
    "    ax = sns.lineplot(x=x, y=y )\n",
    "\n",
    "def get_ts_by_name(df: pd.DataFrame,\n",
    "            ts_name:str\n",
    "            )->pd.Series:\n",
    "    \"\"\" return based on name \"\"\"      \n",
    "    s = df[df[\"V1\"]==ts_name].squeeze()\n",
    "    return s\n",
    "\n",
    "def get_match_ts_name(df_matches: pd.DataFrame,\n",
    "                      fft_type: str,\n",
    "                      match_kpi: str)->str:\n",
    "    \"\"\" get name of time series matching criteria \"\"\"\n",
    "    print(fft_type, match_kpi)\n",
    "    df_tmp = df_matches[(df_matches[\"fft_type\"]==fft_type)&\n",
    "                        (df_matches[\"min_kpi\"]==match_kpi)]\n",
    "\n",
    "    if df_tmp.shape[0] != 1:\n",
    "        raise Exception(\"selection error\")\n",
    "    else:\n",
    "        return df_tmp[\"ts_match\"].iloc[0]\n",
    "\n",
    "def viz_2_series(s_templ:pd.Series,\n",
    "                 df_pool: pd.DataFrame,\n",
    "                 df_matches: pd.DataFrame,\n",
    "                fft_type: str=None,\n",
    "                match_kpi: str=None)->None:\n",
    "    \"\"\" visualize two matches \"\"\"\n",
    "                                \n",
    "    # based on provided parameter complete choice with random selection    \n",
    "    if fft_type == None:\n",
    "        fft_type = random.choice(df_matches[\"fft_type\"].unique().tolist())\n",
    "\n",
    "    if match_kpi == None:\n",
    "        match_kpi = random.choice(df_matches[\"min_kpi\"].unique().tolist())\n",
    "        \n",
    "    match_name = get_match_ts_name(df_matches,\n",
    "                                   fft_type,\n",
    "                                   match_kpi)\n",
    "      \n",
    "    # get selected time series\n",
    "    s_match = get_ts_by_name(df_pool, match_name)\n",
    "    # prep data\n",
    "    y_templ = s_templ.iloc[1:].dropna()\n",
    "    y_match = s_match.iloc[1:].dropna()\n",
    "#     if y_templ.shape[0] > y_match.shape[0]:\n",
    "#         x = np.linspace(0, y_templ.shape[0],y_templ.shape[0])\n",
    "#     else:\n",
    "#         x = np.linspace(0, y_match.shape[0],y_match.shape[0])\n",
    "    x_templ = np.linspace(0, y_templ.shape[0],y_templ.shape[0])\n",
    "    x_match = np.linspace(0, y_match.shape[0],y_match.shape[0])\n",
    "    # get names\n",
    "    templ_name = s_templ.iloc[0]+ \" (Template)\"\n",
    "    match_name = s_match.iloc[0]+ \" (Match)\"\n",
    "    \n",
    "    # plot\n",
    "    fig, ax = plt.subplots(figsize=(16,8))\n",
    "    title = f\"Matching Single Time Series with\\nWindow type: {fft_type} and KPI: {match_kpi}\"\n",
    "    fig.suptitle(title, fontsize=20)\n",
    "    ax.set(xlabel='steps', ylabel='values')\n",
    "    #ax.set\n",
    "    ax = sns.lineplot(x=x_templ, y=y_templ, label=templ_name)\n",
    "    ax = sns.lineplot(x=x_match, y=y_match, label=match_name)\n",
    "\n",
    "    \n",
    "# def viz_all_kpi(s_templ:pd.Series,\n",
    "#                  df_pool: pd.DataFrame,\n",
    "#                  df_matches: pd.DataFrame,\n",
    "#                 fft_type: str=None)->None:\n",
    "#     \"\"\" visualize all KPI per FFT type \"\"\"\n",
    "#     # based on provided parameter complete choice with random selection    \n",
    "#     if fft_type == None:\n",
    "#         fft_type = random.choice(df_matches[\"fft_type\"].unique().tolist())\n",
    "        \n",
    "#     for"
   ]
  },
  {
   "cell_type": "markdown",
   "id": "cd948314-9823-4f62-98fd-8a0a24a4b063",
   "metadata": {
    "tags": []
   },
   "source": [
    "### Visualize Template Time Series only"
   ]
  },
  {
   "cell_type": "code",
   "execution_count": 72,
   "id": "51ae2172-e601-4f45-ab5a-bab4f0c279ec",
   "metadata": {
    "tags": []
   },
   "outputs": [
    {
     "data": {
      "image/png": "[encoded data removed]",
      "text/plain": [
       "<Figure size 1152x576 with 1 Axes>"
      ]
     },
     "metadata": {},
     "output_type": "display_data"
    }
   ],
   "source": [
    "viz_template_ts(s_test)"
   ]
  },
  {
   "cell_type": "markdown",
   "id": "09398a1f-1f0b-437a-a10e-8c5330af716d",
   "metadata": {
    "tags": []
   },
   "source": [
    "### Visualize Single Match for Time Series with Window Type and Minimum KPI"
   ]
  },
  {
   "cell_type": "code",
   "execution_count": 75,
   "id": "b405c9b1-92db-4a3f-9590-cdae7b9bbe40",
   "metadata": {
    "tags": []
   },
   "outputs": [
    {
     "name": "stdout",
     "output_type": "stream",
     "text": [
      "Hamming d_max\n"
     ]
    },
    {
     "data": {
      "image/png": "[encoded data removed]",
      "text/plain": [
       "<Figure size 1152x576 with 1 Axes>"
      ]
     },
     "metadata": {},
     "output_type": "display_data"
    }
   ],
   "source": [
    "viz_2_series(s_test, df_all_m4, df_ts_res)"
   ]
  },
  {
   "cell_type": "markdown",
   "id": "c2de364f-31ae-4987-9eb6-9f281ca84fc5",
   "metadata": {
    "tags": []
   },
   "source": [
    "## DTW Match\n",
    "Subset time series pool for reasonable execution time"
   ]
  },
  {
   "cell_type": "code",
   "execution_count": null,
   "id": "9620d88d-a600-4955-ad9c-d8ca4dc82d3a",
   "metadata": {},
   "outputs": [],
   "source": [
    "def apply_dtw(row_test: pd.Series,\n",
    "             ar_templ: np.ndarray):\n",
    "    \"\"\" compute distance via dynamic time warping\"\"\" \n",
    "    ar_test = np.array(row_test.iloc[1:].dropna().to_numpy(dtype='float'))\n",
    "    aln = dtw(ar_test, ar_templ, distance_only=True)  \n",
    "    return aln.distance\n"
   ]
  },
  {
   "cell_type": "markdown",
   "id": "212ca7e1-3f5f-4a1f-97b8-9c9c18b4dc76",
   "metadata": {},
   "source": [
    "### Subset time series pool size\n",
    "(accommodate wait times)"
   ]
  },
  {
   "cell_type": "code",
   "execution_count": null,
   "id": "4e6ac90d-f371-47a2-bf90-94724b3c47ae",
   "metadata": {},
   "outputs": [],
   "source": [
    "df_dtw_sample = df_all_m4.sample(200)\n",
    "print(f\" DTW sample pool has {df_dtw_sample.shape[0]} entries\")"
   ]
  },
  {
   "cell_type": "code",
   "execution_count": null,
   "id": "36342e9a-1fc8-4ec6-bac1-8a7664d77637",
   "metadata": {},
   "outputs": [],
   "source": [
    "%%timeit\n",
    "tqdm.pandas()\n",
    "ts = np.array(s_test.iloc[1:].dropna().to_numpy(dtype='float'))\n",
    "df_dtw_sample[\"distance\"] = df_dtw_sample.progress_apply(apply_dtw, args=(ts,), axis=1)"
   ]
  },
  {
   "cell_type": "markdown",
   "id": "9e46920f-111e-4da3-a035-5a00295c6b66",
   "metadata": {},
   "source": [
    "### Visualize DTW Results"
   ]
  },
  {
   "cell_type": "code",
   "execution_count": null,
   "id": "ee4efc01-d71d-4c34-bf9a-5a705269f438",
   "metadata": {},
   "outputs": [],
   "source": [
    "df_dtw_sample.sort_values(\"distance\", inplace=True)\n",
    "match_name = df_dtw_sample.iloc[0,0]\n",
    "ar_match = np.array(df_dtw_sample[df_dtw_sample['V1']==match_name].iloc[:,1:].dropna(axis=1))[0]\n",
    "aln = dtw(ts, ar_match)\n",
    "\n",
    "dtwPlotTwoWay(aln, ts, ar_match)\n",
    "dtwPlotThreeWay(aln, ts, ar_match)\n",
    "# remove actual time series from results"
   ]
  },
  {
   "cell_type": "code",
   "execution_count": null,
   "id": "6b48ed89-af90-489d-830d-3dccdbecdd85",
   "metadata": {},
   "outputs": [],
   "source": []
  }
 ],
 "metadata": {
  "kernelspec": {
   "display_name": "Python 3 (ipykernel)",
   "language": "python",
   "name": "python3"
  },
  "language_info": {
   "codemirror_mode": {
    "name": "ipython",
    "version": 3
   },
   "file_extension": ".py",
   "mimetype": "text/x-python",
   "name": "python",
   "nbconvert_exporter": "python",
   "pygments_lexer": "ipython3",
   "version": "3.9.7"
  }
 },
 "nbformat": 4,
 "nbformat_minor": 5
}
