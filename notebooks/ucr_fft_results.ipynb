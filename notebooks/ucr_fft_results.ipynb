{
 "cells": [
  {
   "cell_type": "code",
   "execution_count": 23,
   "id": "8190317a",
   "metadata": {},
   "outputs": [],
   "source": [
    "import numpy as np\n",
    "import pandas as pd"
   ]
  },
  {
   "cell_type": "code",
   "execution_count": 18,
   "id": "77235227",
   "metadata": {},
   "outputs": [],
   "source": [
    "df = pd.read_csv(\"../data/df_ucr_apx_win.csv\")"
   ]
  },
  {
   "cell_type": "code",
   "execution_count": 19,
   "id": "dc085153",
   "metadata": {},
   "outputs": [],
   "source": [
    "df['class'] = df['class'].fillna(99999)\n",
    "df['class'] = df['class'].astype(int)"
   ]
  },
  {
   "cell_type": "code",
   "execution_count": 20,
   "id": "10399b08",
   "metadata": {},
   "outputs": [
    {
     "data": {
      "text/html": [
       "<div>\n",
       "<style scoped>\n",
       "    .dataframe tbody tr th:only-of-type {\n",
       "        vertical-align: middle;\n",
       "    }\n",
       "\n",
       "    .dataframe tbody tr th {\n",
       "        vertical-align: top;\n",
       "    }\n",
       "\n",
       "    .dataframe thead th {\n",
       "        text-align: right;\n",
       "    }\n",
       "</style>\n",
       "<table border=\"1\" class=\"dataframe\">\n",
       "  <thead>\n",
       "    <tr style=\"text-align: right;\">\n",
       "      <th></th>\n",
       "      <th>ts_name</th>\n",
       "      <th>type</th>\n",
       "      <th>fhat</th>\n",
       "      <th>PSD</th>\n",
       "      <th>freq</th>\n",
       "      <th>freq_apx_idx</th>\n",
       "      <th>freq_apx</th>\n",
       "      <th>no</th>\n",
       "      <th>class</th>\n",
       "    </tr>\n",
       "  </thead>\n",
       "  <tbody>\n",
       "    <tr>\n",
       "      <th>0</th>\n",
       "      <td>GestureMidAirD1</td>\n",
       "      <td>fft</td>\n",
       "      <td>125.035156</td>\n",
       "      <td>43.42719503886583</td>\n",
       "      <td>0.000000</td>\n",
       "      <td>0</td>\n",
       "      <td>0.000000</td>\n",
       "      <td>130</td>\n",
       "      <td>2</td>\n",
       "    </tr>\n",
       "    <tr>\n",
       "      <th>1</th>\n",
       "      <td>GestureMidAirD1</td>\n",
       "      <td>fft</td>\n",
       "      <td>8181.772837</td>\n",
       "      <td>185948.35211026142</td>\n",
       "      <td>2.777778</td>\n",
       "      <td>148</td>\n",
       "      <td>2.801772</td>\n",
       "      <td>130</td>\n",
       "      <td>2</td>\n",
       "    </tr>\n",
       "    <tr>\n",
       "      <th>2</th>\n",
       "      <td>GestureMidAirD1</td>\n",
       "      <td>fft</td>\n",
       "      <td>7827.193458</td>\n",
       "      <td>170180.43731342163</td>\n",
       "      <td>5.555556</td>\n",
       "      <td>179</td>\n",
       "      <td>5.631333</td>\n",
       "      <td>130</td>\n",
       "      <td>2</td>\n",
       "    </tr>\n",
       "    <tr>\n",
       "      <th>3</th>\n",
       "      <td>GestureMidAirD1</td>\n",
       "      <td>fft</td>\n",
       "      <td>3485.748495</td>\n",
       "      <td>33751.22935353714</td>\n",
       "      <td>8.333333</td>\n",
       "      <td>197</td>\n",
       "      <td>8.445986</td>\n",
       "      <td>130</td>\n",
       "      <td>2</td>\n",
       "    </tr>\n",
       "    <tr>\n",
       "      <th>4</th>\n",
       "      <td>GestureMidAirD1</td>\n",
       "      <td>fft</td>\n",
       "      <td>3293.202361</td>\n",
       "      <td>30125.50496764828</td>\n",
       "      <td>11.111111</td>\n",
       "      <td>210</td>\n",
       "      <td>11.318522</td>\n",
       "      <td>130</td>\n",
       "      <td>2</td>\n",
       "    </tr>\n",
       "  </tbody>\n",
       "</table>\n",
       "</div>"
      ],
      "text/org": [
       "|    | ts_name         | type   |     fhat |         PSD |     freq |   freq_apx_idx |   freq_apx |   no |   class |\n",
       "|----+-----------------+--------+----------+-------------+----------+----------------+------------+------+---------|\n",
       "|  0 | GestureMidAirD1 | fft    |  125.035 |     43.4272 |  0       |              0 |    0       |  130 |       2 |\n",
       "|  1 | GestureMidAirD1 | fft    | 8181.77  | 185948      |  2.77778 |            148 |    2.80177 |  130 |       2 |\n",
       "|  2 | GestureMidAirD1 | fft    | 7827.19  | 170180      |  5.55556 |            179 |    5.63133 |  130 |       2 |\n",
       "|  3 | GestureMidAirD1 | fft    | 3485.75  |  33751.2    |  8.33333 |            197 |    8.44599 |  130 |       2 |\n",
       "|  4 | GestureMidAirD1 | fft    | 3293.2   |  30125.5    | 11.1111  |            210 |   11.3185  |  130 |       2 |"
      ],
      "text/plain": [
       "           ts_name type         fhat                 PSD       freq  \\\n",
       "0  GestureMidAirD1  fft   125.035156   43.42719503886583   0.000000   \n",
       "1  GestureMidAirD1  fft  8181.772837  185948.35211026142   2.777778   \n",
       "2  GestureMidAirD1  fft  7827.193458  170180.43731342163   5.555556   \n",
       "3  GestureMidAirD1  fft  3485.748495   33751.22935353714   8.333333   \n",
       "4  GestureMidAirD1  fft  3293.202361   30125.50496764828  11.111111   \n",
       "\n",
       "   freq_apx_idx   freq_apx   no  class  \n",
       "0             0   0.000000  130      2  \n",
       "1           148   2.801772  130      2  \n",
       "2           179   5.631333  130      2  \n",
       "3           197   8.445986  130      2  \n",
       "4           210  11.318522  130      2  "
      ]
     },
     "execution_count": 20,
     "metadata": {},
     "output_type": "execute_result"
    }
   ],
   "source": [
    "df.head()"
   ]
  },
  {
   "cell_type": "code",
   "execution_count": 21,
   "id": "30aa07cf",
   "metadata": {},
   "outputs": [
    {
     "data": {
      "text/plain": [
       "array([ 2,  4, 25,  6, 22, 11, 15, 21, 16, 26, 12,  5,  9, 24, 10,  8, 18,\n",
       "       20, 14,  1, 13,  7,  3, 19, 17, 23,  0, 28, 36, 29, 34, 33, 37, 32,\n",
       "       27, 30, 31, 35, -1, 38, 39, 40, 41, 42, 43, 44, 45, 46, 47, 48, 49,\n",
       "       50, 51, 52, 60, 59, 53, 54, 55, 56, 57, 58])"
      ]
     },
     "execution_count": 21,
     "metadata": {},
     "output_type": "execute_result"
    }
   ],
   "source": [
    "df['class'].unique()"
   ]
  },
  {
   "cell_type": "code",
   "execution_count": 27,
   "id": "2790e40e",
   "metadata": {},
   "outputs": [],
   "source": [
    "tup = ('test', 1, 2, np.array([1,2,3]))\n",
    "tup2 = ('test', 2, 1, np.array([4,5,6]))"
   ]
  },
  {
   "cell_type": "code",
   "execution_count": 31,
   "id": "9d143cfa",
   "metadata": {},
   "outputs": [],
   "source": [
    "series_l = [pd.Series(tup),\n",
    "pd.Series(tup2)]"
   ]
  },
  {
   "cell_type": "code",
   "execution_count": 32,
   "id": "9bbf724d",
   "metadata": {},
   "outputs": [
    {
     "data": {
      "text/html": [
       "<div>\n",
       "<style scoped>\n",
       "    .dataframe tbody tr th:only-of-type {\n",
       "        vertical-align: middle;\n",
       "    }\n",
       "\n",
       "    .dataframe tbody tr th {\n",
       "        vertical-align: top;\n",
       "    }\n",
       "\n",
       "    .dataframe thead th {\n",
       "        text-align: right;\n",
       "    }\n",
       "</style>\n",
       "<table border=\"1\" class=\"dataframe\">\n",
       "  <thead>\n",
       "    <tr style=\"text-align: right;\">\n",
       "      <th></th>\n",
       "      <th>0</th>\n",
       "      <th>1</th>\n",
       "      <th>2</th>\n",
       "      <th>3</th>\n",
       "    </tr>\n",
       "  </thead>\n",
       "  <tbody>\n",
       "    <tr>\n",
       "      <th>0</th>\n",
       "      <td>test</td>\n",
       "      <td>1</td>\n",
       "      <td>2</td>\n",
       "      <td>[1, 2, 3]</td>\n",
       "    </tr>\n",
       "    <tr>\n",
       "      <th>1</th>\n",
       "      <td>test</td>\n",
       "      <td>2</td>\n",
       "      <td>1</td>\n",
       "      <td>[4, 5, 6]</td>\n",
       "    </tr>\n",
       "  </tbody>\n",
       "</table>\n",
       "</div>"
      ],
      "text/org": [
       "|    | 0    |   1 |   2 | 3       |\n",
       "|----+------+-----+-----+---------|\n",
       "|  0 | test |   1 |   2 | [1 2 3] |\n",
       "|  1 | test |   2 |   1 | [4 5 6] |"
      ],
      "text/plain": [
       "      0  1  2          3\n",
       "0  test  1  2  [1, 2, 3]\n",
       "1  test  2  1  [4, 5, 6]"
      ]
     },
     "execution_count": 32,
     "metadata": {},
     "output_type": "execute_result"
    }
   ],
   "source": [
    "pd.DataFrame(series_l)"
   ]
  },
  {
   "cell_type": "code",
   "execution_count": 33,
   "id": "fbb71fc2",
   "metadata": {},
   "outputs": [
    {
     "name": "stdout",
     "output_type": "stream",
     "text": [
      "# Adiac\n",
      "\n",
      "The Automatic Diatom Identification and Classification (ADIAC) project was a pilot study concerning automatic identification of diatoms (unicellular algae) on the basis of images. The data was donated by Andrei Jalba, a PhD student in the project, which was finished in the early 2000s. The outlines are extracted from thresholded images. Presumably the time series are generated as distance to a reference point (the centre being the obvious candidate). The data are very sinusoidal.\n",
      "\n",
      "Train size: 390\n",
      "\n",
      "Test size: 391\n",
      "\n",
      "Missing value: No\n",
      "\n",
      "Number of classses: 37\n",
      "\n",
      "Time series length: 176\n",
      "\n",
      "Data donated by Andrei Jalba (see [1], [2]).\n",
      "\n",
      "[1] Jalba, Andrei C., Michael HF Wilkinson, and Jos BTM Roerdink. \"Automatic segmentation of diatom images for classification.\" Microscopy research and technique 65.1‐2 (2004): 72-85.\n",
      "\n",
      "[2] http://www.timeseriesclassification.com/description.php?Dataset=Adiac"
     ]
    }
   ],
   "source": [
    "!cat ../data/ucr_data/UCRArchive_2018/Adiac/README.md"
   ]
  },
  {
   "cell_type": "code",
   "execution_count": null,
   "id": "3ca5c1c8",
   "metadata": {},
   "outputs": [],
   "source": []
  }
 ],
 "metadata": {
  "kernelspec": {
   "display_name": "Python 3",
   "language": "python",
   "name": "python3"
  },
  "language_info": {
   "codemirror_mode": {
    "name": "ipython",
    "version": 3
   },
   "file_extension": ".py",
   "mimetype": "text/x-python",
   "name": "python",
   "nbconvert_exporter": "python",
   "pygments_lexer": "ipython3",
   "version": "3.7.9"
  }
 },
 "nbformat": 4,
 "nbformat_minor": 5
}
