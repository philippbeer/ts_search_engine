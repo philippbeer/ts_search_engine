{
 "cells": [
  {
   "cell_type": "code",
   "execution_count": 104,
   "id": "b87ad08f-bf4b-4801-af6f-e9612f63fd7c",
   "metadata": {},
   "outputs": [],
   "source": [
    "import numpy as np\n",
    "import pandas as pd"
   ]
  },
  {
   "cell_type": "code",
   "execution_count": 106,
   "id": "cb5608a7-2fcb-4e1d-b988-804863219fe1",
   "metadata": {},
   "outputs": [],
   "source": [
    "df = pd.read_csv(\"../data/df_stats.csv\")"
   ]
  },
  {
   "cell_type": "code",
   "execution_count": 107,
   "id": "a7227a1f-ed94-47b2-a034-b4060057e645",
   "metadata": {},
   "outputs": [
    {
     "data": {
      "text/html": [
       "<div>\n",
       "<style scoped>\n",
       "    .dataframe tbody tr th:only-of-type {\n",
       "        vertical-align: middle;\n",
       "    }\n",
       "\n",
       "    .dataframe tbody tr th {\n",
       "        vertical-align: top;\n",
       "    }\n",
       "\n",
       "    .dataframe thead th {\n",
       "        text-align: right;\n",
       "    }\n",
       "</style>\n",
       "<table border=\"1\" class=\"dataframe\">\n",
       "  <thead>\n",
       "    <tr style=\"text-align: right;\">\n",
       "      <th></th>\n",
       "      <th>ts_name</th>\n",
       "      <th>freq_ids</th>\n",
       "      <th>type</th>\n",
       "      <th>m</th>\n",
       "      <th>b</th>\n",
       "      <th>count</th>\n",
       "      <th>mean</th>\n",
       "      <th>std</th>\n",
       "      <th>min</th>\n",
       "      <th>q25</th>\n",
       "      <th>q50</th>\n",
       "      <th>q75</th>\n",
       "      <th>max</th>\n",
       "    </tr>\n",
       "  </thead>\n",
       "  <tbody>\n",
       "    <tr>\n",
       "      <th>0</th>\n",
       "      <td>M41821</td>\n",
       "      <td>[184, 409, 166, 409, 0]</td>\n",
       "      <td>fft</td>\n",
       "      <td>-1.930820</td>\n",
       "      <td>8264.479369</td>\n",
       "      <td>477.0</td>\n",
       "      <td>7796.651992</td>\n",
       "      <td>3055.512229</td>\n",
       "      <td>3412.000</td>\n",
       "      <td>5153.000</td>\n",
       "      <td>7231.000</td>\n",
       "      <td>9697.000</td>\n",
       "      <td>14718.000</td>\n",
       "    </tr>\n",
       "    <tr>\n",
       "      <th>1</th>\n",
       "      <td>M41822</td>\n",
       "      <td>[166, 409, 136, 409, 0]</td>\n",
       "      <td>fft</td>\n",
       "      <td>39.556878</td>\n",
       "      <td>-105.546726</td>\n",
       "      <td>477.0</td>\n",
       "      <td>9040.918595</td>\n",
       "      <td>7698.172253</td>\n",
       "      <td>1777.240</td>\n",
       "      <td>3240.200</td>\n",
       "      <td>5447.190</td>\n",
       "      <td>11961.370</td>\n",
       "      <td>32096.660</td>\n",
       "    </tr>\n",
       "    <tr>\n",
       "      <th>2</th>\n",
       "      <td>M41823</td>\n",
       "      <td>[166, 409, 409, 136, 0]</td>\n",
       "      <td>fft</td>\n",
       "      <td>12.526905</td>\n",
       "      <td>-861.901341</td>\n",
       "      <td>477.0</td>\n",
       "      <td>2069.459388</td>\n",
       "      <td>1829.340597</td>\n",
       "      <td>111.496</td>\n",
       "      <td>342.161</td>\n",
       "      <td>1398.506</td>\n",
       "      <td>3884.050</td>\n",
       "      <td>6941.477</td>\n",
       "    </tr>\n",
       "    <tr>\n",
       "      <th>3</th>\n",
       "      <td>M41824</td>\n",
       "      <td>[409, 166, 409, 136, 0]</td>\n",
       "      <td>fft</td>\n",
       "      <td>50.537625</td>\n",
       "      <td>-4350.076859</td>\n",
       "      <td>477.0</td>\n",
       "      <td>7490.976122</td>\n",
       "      <td>7581.540084</td>\n",
       "      <td>428.090</td>\n",
       "      <td>967.370</td>\n",
       "      <td>4876.480</td>\n",
       "      <td>14473.290</td>\n",
       "      <td>26530.140</td>\n",
       "    </tr>\n",
       "    <tr>\n",
       "      <th>4</th>\n",
       "      <td>M41825</td>\n",
       "      <td>[166, 409, 136, 409, 0]</td>\n",
       "      <td>fft</td>\n",
       "      <td>12.528268</td>\n",
       "      <td>-862.019547</td>\n",
       "      <td>477.0</td>\n",
       "      <td>2070.422956</td>\n",
       "      <td>1811.044769</td>\n",
       "      <td>117.119</td>\n",
       "      <td>342.299</td>\n",
       "      <td>1364.063</td>\n",
       "      <td>3934.564</td>\n",
       "      <td>6637.992</td>\n",
       "    </tr>\n",
       "  </tbody>\n",
       "</table>\n",
       "</div>"
      ],
      "text/org": [
       "|    | ts_name   | freq_ids                | type   |        m |         b |   count |    mean |     std |      min |      q25 |     q50 |      q75 |      max |\n",
       "|----+-----------+-------------------------+--------+----------+-----------+---------+---------+---------+----------+----------+---------+----------+----------|\n",
       "|  0 | M41821    | [184, 409, 166, 409, 0] | fft    | -1.93082 |  8264.48  |     477 | 7796.65 | 3055.51 | 3412     | 5153     | 7231    |  9697    | 14718    |\n",
       "|  1 | M41822    | [166, 409, 136, 409, 0] | fft    | 39.5569  |  -105.547 |     477 | 9040.92 | 7698.17 | 1777.24  | 3240.2   | 5447.19 | 11961.4  | 32096.7  |\n",
       "|  2 | M41823    | [166, 409, 409, 136, 0] | fft    | 12.5269  |  -861.901 |     477 | 2069.46 | 1829.34 |  111.496 |  342.161 | 1398.51 |  3884.05 |  6941.48 |\n",
       "|  3 | M41824    | [409, 166, 409, 136, 0] | fft    | 50.5376  | -4350.08  |     477 | 7490.98 | 7581.54 |  428.09  |  967.37  | 4876.48 | 14473.3  | 26530.1  |\n",
       "|  4 | M41825    | [166, 409, 136, 409, 0] | fft    | 12.5283  |  -862.02  |     477 | 2070.42 | 1811.04 |  117.119 |  342.299 | 1364.06 |  3934.56 |  6637.99 |"
      ],
      "text/plain": [
       "  ts_name                 freq_ids type          m            b  count  \\\n",
       "0  M41821  [184, 409, 166, 409, 0]  fft  -1.930820  8264.479369  477.0   \n",
       "1  M41822  [166, 409, 136, 409, 0]  fft  39.556878  -105.546726  477.0   \n",
       "2  M41823  [166, 409, 409, 136, 0]  fft  12.526905  -861.901341  477.0   \n",
       "3  M41824  [409, 166, 409, 136, 0]  fft  50.537625 -4350.076859  477.0   \n",
       "4  M41825  [166, 409, 136, 409, 0]  fft  12.528268  -862.019547  477.0   \n",
       "\n",
       "          mean          std       min       q25       q50        q75  \\\n",
       "0  7796.651992  3055.512229  3412.000  5153.000  7231.000   9697.000   \n",
       "1  9040.918595  7698.172253  1777.240  3240.200  5447.190  11961.370   \n",
       "2  2069.459388  1829.340597   111.496   342.161  1398.506   3884.050   \n",
       "3  7490.976122  7581.540084   428.090   967.370  4876.480  14473.290   \n",
       "4  2070.422956  1811.044769   117.119   342.299  1364.063   3934.564   \n",
       "\n",
       "         max  \n",
       "0  14718.000  \n",
       "1  32096.660  \n",
       "2   6941.477  \n",
       "3  26530.140  \n",
       "4   6637.992  "
      ]
     },
     "execution_count": 107,
     "metadata": {},
     "output_type": "execute_result"
    }
   ],
   "source": [
    "df.head()"
   ]
  },
  {
   "cell_type": "code",
   "execution_count": 121,
   "id": "48beacea-faf6-4ef2-bf86-49db205f0baf",
   "metadata": {},
   "outputs": [],
   "source": [
    "y_ts = df[(df['ts_name']=='Y6591') & (df['type']=='Hamming')]\n",
    "m_ts = df[(df['ts_name']=='Q16270') & (df['type']=='Hamming')]"
   ]
  },
  {
   "cell_type": "code",
   "execution_count": 122,
   "id": "992cb235-1aae-4735-86bd-1c3ffb7debb4",
   "metadata": {},
   "outputs": [
    {
     "data": {
      "text/html": [
       "<div>\n",
       "<style scoped>\n",
       "    .dataframe tbody tr th:only-of-type {\n",
       "        vertical-align: middle;\n",
       "    }\n",
       "\n",
       "    .dataframe tbody tr th {\n",
       "        vertical-align: top;\n",
       "    }\n",
       "\n",
       "    .dataframe thead th {\n",
       "        text-align: right;\n",
       "    }\n",
       "</style>\n",
       "<table border=\"1\" class=\"dataframe\">\n",
       "  <thead>\n",
       "    <tr style=\"text-align: right;\">\n",
       "      <th></th>\n",
       "      <th>ts_name</th>\n",
       "      <th>freq_ids</th>\n",
       "      <th>type</th>\n",
       "      <th>m</th>\n",
       "      <th>b</th>\n",
       "      <th>count</th>\n",
       "      <th>mean</th>\n",
       "      <th>std</th>\n",
       "      <th>min</th>\n",
       "      <th>q25</th>\n",
       "      <th>q50</th>\n",
       "      <th>q75</th>\n",
       "      <th>max</th>\n",
       "    </tr>\n",
       "  </thead>\n",
       "  <tbody>\n",
       "    <tr>\n",
       "      <th>96214</th>\n",
       "      <td>Y6591</td>\n",
       "      <td>[406, 294, 246, 408, 0]</td>\n",
       "      <td>Hamming</td>\n",
       "      <td>254.359979</td>\n",
       "      <td>-272.470598</td>\n",
       "      <td>40.0</td>\n",
       "      <td>4687.549</td>\n",
       "      <td>3017.950182</td>\n",
       "      <td>624.64</td>\n",
       "      <td>2107.715</td>\n",
       "      <td>4017.86</td>\n",
       "      <td>7164.7325</td>\n",
       "      <td>11179.82</td>\n",
       "    </tr>\n",
       "  </tbody>\n",
       "</table>\n",
       "</div>"
      ],
      "text/org": [
       "|       | ts_name   | freq_ids                | type    |      m |        b |   count |    mean |     std |    min |     q25 |     q50 |     q75 |     max |\n",
       "|-------+-----------+-------------------------+---------+--------+----------+---------+---------+---------+--------+---------+---------+---------+---------|\n",
       "| 96214 | Y6591     | [406, 294, 246, 408, 0] | Hamming | 254.36 | -272.471 |      40 | 4687.55 | 3017.95 | 624.64 | 2107.72 | 4017.86 | 7164.73 | 11179.8 |"
      ],
      "text/plain": [
       "      ts_name                 freq_ids     type           m           b  \\\n",
       "96214   Y6591  [406, 294, 246, 408, 0]  Hamming  254.359979 -272.470598   \n",
       "\n",
       "       count      mean          std     min       q25      q50        q75  \\\n",
       "96214   40.0  4687.549  3017.950182  624.64  2107.715  4017.86  7164.7325   \n",
       "\n",
       "            max  \n",
       "96214  11179.82  "
      ]
     },
     "execution_count": 122,
     "metadata": {},
     "output_type": "execute_result"
    }
   ],
   "source": [
    "y_ts"
   ]
  },
  {
   "cell_type": "code",
   "execution_count": 118,
   "id": "72158394-72c9-4745-80ed-9631bbef5643",
   "metadata": {},
   "outputs": [
    {
     "data": {
      "text/html": [
       "<div>\n",
       "<style scoped>\n",
       "    .dataframe tbody tr th:only-of-type {\n",
       "        vertical-align: middle;\n",
       "    }\n",
       "\n",
       "    .dataframe tbody tr th {\n",
       "        vertical-align: top;\n",
       "    }\n",
       "\n",
       "    .dataframe thead th {\n",
       "        text-align: right;\n",
       "    }\n",
       "</style>\n",
       "<table border=\"1\" class=\"dataframe\">\n",
       "  <thead>\n",
       "    <tr style=\"text-align: right;\">\n",
       "      <th></th>\n",
       "      <th>ts_name</th>\n",
       "      <th>freq_ids</th>\n",
       "      <th>type</th>\n",
       "      <th>m</th>\n",
       "      <th>b</th>\n",
       "      <th>count</th>\n",
       "      <th>mean</th>\n",
       "      <th>std</th>\n",
       "      <th>min</th>\n",
       "      <th>q25</th>\n",
       "      <th>q50</th>\n",
       "      <th>q75</th>\n",
       "      <th>max</th>\n",
       "    </tr>\n",
       "  </thead>\n",
       "  <tbody>\n",
       "    <tr>\n",
       "      <th>299610</th>\n",
       "      <td>Q16270</td>\n",
       "      <td>[249, 408, 218, 409, 0]</td>\n",
       "      <td>Hamming</td>\n",
       "      <td>42.482416</td>\n",
       "      <td>6864.10664</td>\n",
       "      <td>74.0</td>\n",
       "      <td>8359.324324</td>\n",
       "      <td>1006.463129</td>\n",
       "      <td>6440.0</td>\n",
       "      <td>7385.0</td>\n",
       "      <td>8510.0</td>\n",
       "      <td>9287.5</td>\n",
       "      <td>10200.0</td>\n",
       "    </tr>\n",
       "  </tbody>\n",
       "</table>\n",
       "</div>"
      ],
      "text/org": [
       "|        | ts_name   | freq_ids                | type    |       m |       b |   count |    mean |     std |   min |   q25 |   q50 |    q75 |   max |\n",
       "|--------+-----------+-------------------------+---------+---------+---------+---------+---------+---------+-------+-------+-------+--------+-------|\n",
       "| 299610 | Q16270    | [249, 408, 218, 409, 0] | Hamming | 42.4824 | 6864.11 |      74 | 8359.32 | 1006.46 |  6440 |  7385 |  8510 | 9287.5 | 10200 |"
      ],
      "text/plain": [
       "       ts_name                 freq_ids     type          m           b  \\\n",
       "299610  Q16270  [249, 408, 218, 409, 0]  Hamming  42.482416  6864.10664   \n",
       "\n",
       "        count         mean          std     min     q25     q50     q75  \\\n",
       "299610   74.0  8359.324324  1006.463129  6440.0  7385.0  8510.0  9287.5   \n",
       "\n",
       "            max  \n",
       "299610  10200.0  "
      ]
     },
     "execution_count": 118,
     "metadata": {},
     "output_type": "execute_result"
    }
   ],
   "source": [
    "m_ts"
   ]
  },
  {
   "cell_type": "code",
   "execution_count": 123,
   "id": "e3b6e4b4-c242-4fd7-8d58-52ef0017ad9f",
   "metadata": {},
   "outputs": [
    {
     "data": {
      "text/plain": [
       "array([211.87756313])"
      ]
     },
     "execution_count": 123,
     "metadata": {},
     "output_type": "execute_result"
    }
   ],
   "source": [
    "abs(y_ts['m'].values-m_ts['m'].values)"
   ]
  },
  {
   "cell_type": "code",
   "execution_count": 125,
   "id": "d366d2d3-0ca4-4318-aeee-273ba1d3f007",
   "metadata": {},
   "outputs": [
    {
     "data": {
      "text/plain": [
       "array([2122.7675])"
      ]
     },
     "execution_count": 125,
     "metadata": {},
     "output_type": "execute_result"
    }
   ],
   "source": [
    "abs(y_ts['q75'].values-m_ts['q75'].values)"
   ]
  },
  {
   "cell_type": "code",
   "execution_count": null,
   "id": "d31dc6c3-20b0-4b80-9c9c-ec168c0dee47",
   "metadata": {},
   "outputs": [],
   "source": []
  }
 ],
 "metadata": {
  "kernelspec": {
   "display_name": "Python 3",
   "language": "python",
   "name": "python3"
  },
  "language_info": {
   "codemirror_mode": {
    "name": "ipython",
    "version": 3
   },
   "file_extension": ".py",
   "mimetype": "text/x-python",
   "name": "python",
   "nbconvert_exporter": "python",
   "pygments_lexer": "ipython3",
   "version": "3.9.4"
  }
 },
 "nbformat": 4,
 "nbformat_minor": 5
}
