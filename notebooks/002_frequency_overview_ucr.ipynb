{
 "cells": [
  {
   "cell_type": "code",
   "execution_count": 2,
   "id": "0d210d3c-14a1-424c-a1b8-5399d8d973e8",
   "metadata": {},
   "outputs": [],
   "source": [
    "import pandas as pd\n",
    "\n",
    "import matplotlib.pyplot as plt\n",
    "import numpy as np\n",
    "import seaborn as sns"
   ]
  },
  {
   "cell_type": "markdown",
   "id": "12977c28-4a9d-475d-9865-e842341c8695",
   "metadata": {},
   "source": [
    "### UCR Train"
   ]
  },
  {
   "cell_type": "code",
   "execution_count": 3,
   "id": "d08fefb3-c41f-45ac-865f-536b01959c88",
   "metadata": {},
   "outputs": [],
   "source": [
    "df = pd.read_csv(\"../data/df_ucr_apx_win_train.csv\")"
   ]
  },
  {
   "cell_type": "code",
   "execution_count": 4,
   "id": "7ba1153a-b887-4d85-a1ca-17230077a085",
   "metadata": {},
   "outputs": [
    {
     "data": {
      "text/html": [
       "<div>\n",
       "<style scoped>\n",
       "    .dataframe tbody tr th:only-of-type {\n",
       "        vertical-align: middle;\n",
       "    }\n",
       "\n",
       "    .dataframe tbody tr th {\n",
       "        vertical-align: top;\n",
       "    }\n",
       "\n",
       "    .dataframe thead th {\n",
       "        text-align: right;\n",
       "    }\n",
       "</style>\n",
       "<table border=\"1\" class=\"dataframe\">\n",
       "  <thead>\n",
       "    <tr style=\"text-align: right;\">\n",
       "      <th></th>\n",
       "      <th>ts_name</th>\n",
       "      <th>type</th>\n",
       "      <th>fhat</th>\n",
       "      <th>PSD</th>\n",
       "      <th>freq</th>\n",
       "      <th>freq_apx_idx</th>\n",
       "      <th>freq_apx</th>\n",
       "      <th>no</th>\n",
       "      <th>class</th>\n",
       "    </tr>\n",
       "  </thead>\n",
       "  <tbody>\n",
       "    <tr>\n",
       "      <th>0</th>\n",
       "      <td>DodgerLoopWeekend</td>\n",
       "      <td>fft</td>\n",
       "      <td>6423.000000</td>\n",
       "      <td>143246.28125</td>\n",
       "      <td>0.000000</td>\n",
       "      <td>0</td>\n",
       "      <td>0.000000</td>\n",
       "      <td>0</td>\n",
       "      <td>1</td>\n",
       "    </tr>\n",
       "    <tr>\n",
       "      <th>1</th>\n",
       "      <td>DodgerLoopWeekend</td>\n",
       "      <td>fft</td>\n",
       "      <td>2295.710044</td>\n",
       "      <td>18299.599331314348</td>\n",
       "      <td>0.003472</td>\n",
       "      <td>155</td>\n",
       "      <td>0.003548</td>\n",
       "      <td>0</td>\n",
       "      <td>1</td>\n",
       "    </tr>\n",
       "    <tr>\n",
       "      <th>2</th>\n",
       "      <td>DodgerLoopWeekend</td>\n",
       "      <td>fft</td>\n",
       "      <td>1021.794954</td>\n",
       "      <td>3625.225445525364</td>\n",
       "      <td>0.006944</td>\n",
       "      <td>185</td>\n",
       "      <td>0.007079</td>\n",
       "      <td>0</td>\n",
       "      <td>1</td>\n",
       "    </tr>\n",
       "    <tr>\n",
       "      <th>3</th>\n",
       "      <td>DodgerLoopWeekend</td>\n",
       "      <td>fft</td>\n",
       "      <td>795.464743</td>\n",
       "      <td>2197.0977681276645</td>\n",
       "      <td>0.010417</td>\n",
       "      <td>202</td>\n",
       "      <td>0.010471</td>\n",
       "      <td>0</td>\n",
       "      <td>1</td>\n",
       "    </tr>\n",
       "    <tr>\n",
       "      <th>4</th>\n",
       "      <td>DodgerLoopWeekend</td>\n",
       "      <td>fft</td>\n",
       "      <td>499.280639</td>\n",
       "      <td>865.5595721242706</td>\n",
       "      <td>0.013889</td>\n",
       "      <td>215</td>\n",
       "      <td>0.014125</td>\n",
       "      <td>0</td>\n",
       "      <td>1</td>\n",
       "    </tr>\n",
       "  </tbody>\n",
       "</table>\n",
       "</div>"
      ],
      "text/org": [
       "|    | ts_name           | type   |     fhat |       PSD |       freq |   freq_apx_idx |   freq_apx |   no |   class |\n",
       "|----+-------------------+--------+----------+-----------+------------+----------------+------------+------+---------|\n",
       "|  0 | DodgerLoopWeekend | fft    | 6423     | 143246    | 0          |              0 | 0          |    0 |       1 |\n",
       "|  1 | DodgerLoopWeekend | fft    | 2295.71  |  18299.6  | 0.00347222 |            155 | 0.00354813 |    0 |       1 |\n",
       "|  2 | DodgerLoopWeekend | fft    | 1021.79  |   3625.23 | 0.00694444 |            185 | 0.00707946 |    0 |       1 |\n",
       "|  3 | DodgerLoopWeekend | fft    |  795.465 |   2197.1  | 0.0104167  |            202 | 0.0104713  |    0 |       1 |\n",
       "|  4 | DodgerLoopWeekend | fft    |  499.281 |    865.56 | 0.0138889  |            215 | 0.0141254  |    0 |       1 |"
      ],
      "text/plain": [
       "             ts_name type         fhat                 PSD      freq  \\\n",
       "0  DodgerLoopWeekend  fft  6423.000000        143246.28125  0.000000   \n",
       "1  DodgerLoopWeekend  fft  2295.710044  18299.599331314348  0.003472   \n",
       "2  DodgerLoopWeekend  fft  1021.794954   3625.225445525364  0.006944   \n",
       "3  DodgerLoopWeekend  fft   795.464743  2197.0977681276645  0.010417   \n",
       "4  DodgerLoopWeekend  fft   499.280639   865.5595721242706  0.013889   \n",
       "\n",
       "   freq_apx_idx  freq_apx  no  class  \n",
       "0             0  0.000000   0      1  \n",
       "1           155  0.003548   0      1  \n",
       "2           185  0.007079   0      1  \n",
       "3           202  0.010471   0      1  \n",
       "4           215  0.014125   0      1  "
      ]
     },
     "execution_count": 4,
     "metadata": {},
     "output_type": "execute_result"
    }
   ],
   "source": [
    "df.head()"
   ]
  },
  {
   "cell_type": "code",
   "execution_count": 44,
   "id": "6e7f5d41-e84c-4afc-b1ce-c8930e18f5b1",
   "metadata": {},
   "outputs": [
    {
     "data": {
      "text/plain": [
       "(52299556, 9)"
      ]
     },
     "execution_count": 44,
     "metadata": {},
     "output_type": "execute_result"
    }
   ],
   "source": [
    "df.shape"
   ]
  },
  {
   "cell_type": "code",
   "execution_count": null,
   "id": "91631ff2-64a5-42db-986b-a5f2d75cfa46",
   "metadata": {},
   "outputs": [],
   "source": [
    "df_gby = df.groupby(['ts_name','no','type']).apply(lambda x: x.sort_values('PSD', ascending=False))"
   ]
  },
  {
   "cell_type": "code",
   "execution_count": 5,
   "id": "b4f12b87-01af-4b03-a3ca-2e66f314c3cd",
   "metadata": {},
   "outputs": [],
   "source": [
    "df_sv = df.sort_values(['ts_name','no','type','PSD'],\n",
    "                       ascending=[True,True,True,False])\\\n",
    ".groupby(['ts_name','no','type']).head(5)"
   ]
  },
  {
   "cell_type": "code",
   "execution_count": 6,
   "id": "573894ab-bfa3-4338-a59b-5ba8c6e13913",
   "metadata": {},
   "outputs": [
    {
     "data": {
      "text/plain": [
       "(846239, 9)"
      ]
     },
     "execution_count": 6,
     "metadata": {},
     "output_type": "execute_result"
    }
   ],
   "source": [
    "df_sv.shape"
   ]
  },
  {
   "cell_type": "code",
   "execution_count": 7,
   "id": "6a59c732-3b03-4d31-9ed9-aef3f0a9ae55",
   "metadata": {},
   "outputs": [
    {
     "data": {
      "text/html": [
       "<div>\n",
       "<style scoped>\n",
       "    .dataframe tbody tr th:only-of-type {\n",
       "        vertical-align: middle;\n",
       "    }\n",
       "\n",
       "    .dataframe tbody tr th {\n",
       "        vertical-align: top;\n",
       "    }\n",
       "\n",
       "    .dataframe thead th {\n",
       "        text-align: right;\n",
       "    }\n",
       "</style>\n",
       "<table border=\"1\" class=\"dataframe\">\n",
       "  <thead>\n",
       "    <tr style=\"text-align: right;\">\n",
       "      <th></th>\n",
       "      <th>ts_name</th>\n",
       "      <th>type</th>\n",
       "      <th>fhat</th>\n",
       "      <th>PSD</th>\n",
       "      <th>freq</th>\n",
       "      <th>freq_apx_idx</th>\n",
       "      <th>freq_apx</th>\n",
       "      <th>no</th>\n",
       "      <th>class</th>\n",
       "    </tr>\n",
       "  </thead>\n",
       "  <tbody>\n",
       "    <tr>\n",
       "      <th>10406768</th>\n",
       "      <td>ACSF1</td>\n",
       "      <td>Hamming</td>\n",
       "      <td>0.010000</td>\n",
       "      <td>9.999555315686217e-05</td>\n",
       "      <td>0.367123</td>\n",
       "      <td>357</td>\n",
       "      <td>0.371535</td>\n",
       "      <td>0</td>\n",
       "      <td>9</td>\n",
       "    </tr>\n",
       "    <tr>\n",
       "      <th>10407156</th>\n",
       "      <td>ACSF1</td>\n",
       "      <td>Hamming</td>\n",
       "      <td>0.010000</td>\n",
       "      <td>9.999555315682446e-05</td>\n",
       "      <td>0.632877</td>\n",
       "      <td>381</td>\n",
       "      <td>0.645654</td>\n",
       "      <td>0</td>\n",
       "      <td>9</td>\n",
       "    </tr>\n",
       "    <tr>\n",
       "      <th>10407438</th>\n",
       "      <td>ACSF1</td>\n",
       "      <td>Hamming</td>\n",
       "      <td>0.009776</td>\n",
       "      <td>9.556510443168105e-05</td>\n",
       "      <td>0.826027</td>\n",
       "      <td>392</td>\n",
       "      <td>0.831764</td>\n",
       "      <td>0</td>\n",
       "      <td>9</td>\n",
       "    </tr>\n",
       "    <tr>\n",
       "      <th>10406486</th>\n",
       "      <td>ACSF1</td>\n",
       "      <td>Hamming</td>\n",
       "      <td>0.009776</td>\n",
       "      <td>9.556510443157482e-05</td>\n",
       "      <td>0.173973</td>\n",
       "      <td>325</td>\n",
       "      <td>0.177828</td>\n",
       "      <td>0</td>\n",
       "      <td>9</td>\n",
       "    </tr>\n",
       "    <tr>\n",
       "      <th>10406795</th>\n",
       "      <td>ACSF1</td>\n",
       "      <td>Hamming</td>\n",
       "      <td>0.009736</td>\n",
       "      <td>9.479092184793493e-05</td>\n",
       "      <td>0.385616</td>\n",
       "      <td>359</td>\n",
       "      <td>0.389045</td>\n",
       "      <td>0</td>\n",
       "      <td>9</td>\n",
       "    </tr>\n",
       "    <tr>\n",
       "      <th>10407710</th>\n",
       "      <td>ACSF1</td>\n",
       "      <td>Welch</td>\n",
       "      <td>NaN</td>\n",
       "      <td>(32.54447753535383+0j)</td>\n",
       "      <td>0.246575</td>\n",
       "      <td>340</td>\n",
       "      <td>0.251189</td>\n",
       "      <td>0</td>\n",
       "      <td>9</td>\n",
       "    </tr>\n",
       "    <tr>\n",
       "      <th>10407728</th>\n",
       "      <td>ACSF1</td>\n",
       "      <td>Welch</td>\n",
       "      <td>NaN</td>\n",
       "      <td>(23.51384618880154+0j)</td>\n",
       "      <td>0.493151</td>\n",
       "      <td>370</td>\n",
       "      <td>0.501187</td>\n",
       "      <td>0</td>\n",
       "      <td>9</td>\n",
       "    </tr>\n",
       "    <tr>\n",
       "      <th>10407709</th>\n",
       "      <td>ACSF1</td>\n",
       "      <td>Welch</td>\n",
       "      <td>NaN</td>\n",
       "      <td>(2.1766268837759997+0j)</td>\n",
       "      <td>0.232877</td>\n",
       "      <td>337</td>\n",
       "      <td>0.234423</td>\n",
       "      <td>0</td>\n",
       "      <td>9</td>\n",
       "    </tr>\n",
       "    <tr>\n",
       "      <th>10407711</th>\n",
       "      <td>ACSF1</td>\n",
       "      <td>Welch</td>\n",
       "      <td>NaN</td>\n",
       "      <td>(14.221568740303479+0j)</td>\n",
       "      <td>0.260274</td>\n",
       "      <td>342</td>\n",
       "      <td>0.263027</td>\n",
       "      <td>0</td>\n",
       "      <td>9</td>\n",
       "    </tr>\n",
       "    <tr>\n",
       "      <th>10407727</th>\n",
       "      <td>ACSF1</td>\n",
       "      <td>Welch</td>\n",
       "      <td>NaN</td>\n",
       "      <td>(0.4526535477924241+0j)</td>\n",
       "      <td>0.479452</td>\n",
       "      <td>369</td>\n",
       "      <td>0.489779</td>\n",
       "      <td>0</td>\n",
       "      <td>9</td>\n",
       "    </tr>\n",
       "  </tbody>\n",
       "</table>\n",
       "</div>"
      ],
      "text/org": [
       "|          | ts_name   | type    |         fhat | PSD                     |     freq |   freq_apx_idx |   freq_apx |   no |   class |\n",
       "|----------+-----------+---------+--------------+-------------------------+----------+----------------+------------+------+---------|\n",
       "| 10406768 | ACSF1     | Hamming |   0.00999978 | 9.999555315686217e-05   | 0.367123 |            357 |   0.371535 |    0 |       9 |\n",
       "| 10407156 | ACSF1     | Hamming |   0.00999978 | 9.999555315682446e-05   | 0.632877 |            381 |   0.645654 |    0 |       9 |\n",
       "| 10407438 | ACSF1     | Hamming |   0.00977574 | 9.556510443168105e-05   | 0.826027 |            392 |   0.831764 |    0 |       9 |\n",
       "| 10406486 | ACSF1     | Hamming |   0.00977574 | 9.556510443157482e-05   | 0.173973 |            325 |   0.177828 |    0 |       9 |\n",
       "| 10406795 | ACSF1     | Hamming |   0.00973606 | 9.479092184793493e-05   | 0.385616 |            359 |   0.389045 |    0 |       9 |\n",
       "| 10407710 | ACSF1     | Welch   | nan          | (32.54447753535383+0j)  | 0.246575 |            340 |   0.251189 |    0 |       9 |\n",
       "| 10407728 | ACSF1     | Welch   | nan          | (23.51384618880154+0j)  | 0.493151 |            370 |   0.501187 |    0 |       9 |\n",
       "| 10407709 | ACSF1     | Welch   | nan          | (2.1766268837759997+0j) | 0.232877 |            337 |   0.234423 |    0 |       9 |\n",
       "| 10407711 | ACSF1     | Welch   | nan          | (14.221568740303479+0j) | 0.260274 |            342 |   0.263027 |    0 |       9 |\n",
       "| 10407727 | ACSF1     | Welch   | nan          | (0.4526535477924241+0j) | 0.479452 |            369 |   0.489779 |    0 |       9 |"
      ],
      "text/plain": [
       "         ts_name     type      fhat                      PSD      freq  \\\n",
       "10406768   ACSF1  Hamming  0.010000    9.999555315686217e-05  0.367123   \n",
       "10407156   ACSF1  Hamming  0.010000    9.999555315682446e-05  0.632877   \n",
       "10407438   ACSF1  Hamming  0.009776    9.556510443168105e-05  0.826027   \n",
       "10406486   ACSF1  Hamming  0.009776    9.556510443157482e-05  0.173973   \n",
       "10406795   ACSF1  Hamming  0.009736    9.479092184793493e-05  0.385616   \n",
       "10407710   ACSF1    Welch       NaN   (32.54447753535383+0j)  0.246575   \n",
       "10407728   ACSF1    Welch       NaN   (23.51384618880154+0j)  0.493151   \n",
       "10407709   ACSF1    Welch       NaN  (2.1766268837759997+0j)  0.232877   \n",
       "10407711   ACSF1    Welch       NaN  (14.221568740303479+0j)  0.260274   \n",
       "10407727   ACSF1    Welch       NaN  (0.4526535477924241+0j)  0.479452   \n",
       "\n",
       "          freq_apx_idx  freq_apx  no  class  \n",
       "10406768           357  0.371535   0      9  \n",
       "10407156           381  0.645654   0      9  \n",
       "10407438           392  0.831764   0      9  \n",
       "10406486           325  0.177828   0      9  \n",
       "10406795           359  0.389045   0      9  \n",
       "10407710           340  0.251189   0      9  \n",
       "10407728           370  0.501187   0      9  \n",
       "10407709           337  0.234423   0      9  \n",
       "10407711           342  0.263027   0      9  \n",
       "10407727           369  0.489779   0      9  "
      ]
     },
     "execution_count": 7,
     "metadata": {},
     "output_type": "execute_result"
    }
   ],
   "source": [
    "df_sv.head(10)"
   ]
  },
  {
   "cell_type": "code",
   "execution_count": 68,
   "id": "0e09ae85-dffd-4cb4-b3f4-f8b65436c81d",
   "metadata": {},
   "outputs": [
    {
     "data": {
      "image/png": "[encoded data removed]",
      "text/plain": [
       "<Figure size 1440x720 with 1 Axes>"
      ]
     },
     "metadata": {},
     "output_type": "display_data"
    }
   ],
   "source": [
    "sns.set(font_scale=2)\n",
    "fig, ax = plt.subplots(figsize=(20,10))\n",
    "\n",
    "ax = sns.histplot(df_sv, x='freq', hue='type')\n",
    "ax.set_xlabel('Normalized Frequency')\n",
    "ax.set_yscale('log')\n",
    "ax.set_title(\"Frequency Distribution for different FFT window types\")\n",
    "ax.legend_.set_title(\"Window Type\")\n",
    "\n",
    "labels = ['Hamming window', 'Welch', 'raw FFT']\n",
    "for t, l in zip(ax.legend_.texts, labels):\n",
    "    t.set_text(l)\n",
    "\n",
    "sns.move_legend(ax, 'upper right', bbox_to_anchor=(1.1,1.06))\n",
    "fig.savefig(\"../img/freq_dist_ucr.png\")"
   ]
  },
  {
   "cell_type": "code",
   "execution_count": null,
   "id": "4fa7c339-c828-4944-8c11-62c1d15fd66d",
   "metadata": {},
   "outputs": [],
   "source": []
  }
 ],
 "metadata": {
  "kernelspec": {
   "display_name": "Python 3 (ipykernel)",
   "language": "python",
   "name": "python3"
  },
  "language_info": {
   "codemirror_mode": {
    "name": "ipython",
    "version": 3
   },
   "file_extension": ".py",
   "mimetype": "text/x-python",
   "name": "python",
   "nbconvert_exporter": "python",
   "pygments_lexer": "ipython3",
   "version": "3.9.7"
  }
 },
 "nbformat": 4,
 "nbformat_minor": 5
}
