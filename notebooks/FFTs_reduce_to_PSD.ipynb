{
 "cells": [
  {
   "cell_type": "code",
   "execution_count": 146,
   "id": "fcbea13c-41b2-4a6b-a34e-5cbc452a0553",
   "metadata": {},
   "outputs": [],
   "source": [
    "import pandas as pd\n",
    "from tqdm.notebook import tqdm"
   ]
  },
  {
   "cell_type": "code",
   "execution_count": 147,
   "id": "49a72986-034c-4e39-bc5c-04f13d5fd26f",
   "metadata": {},
   "outputs": [],
   "source": [
    "df = pd.read_csv(\"../df_approx_windows.csv\")"
   ]
  },
  {
   "cell_type": "code",
   "execution_count": 148,
   "id": "3988eceb-829f-4829-9967-d5326ca3b3fb",
   "metadata": {},
   "outputs": [
    {
     "data": {
      "text/html": [
       "<div>\n",
       "<style scoped>\n",
       "    .dataframe tbody tr th:only-of-type {\n",
       "        vertical-align: middle;\n",
       "    }\n",
       "\n",
       "    .dataframe tbody tr th {\n",
       "        vertical-align: top;\n",
       "    }\n",
       "\n",
       "    .dataframe thead th {\n",
       "        text-align: right;\n",
       "    }\n",
       "</style>\n",
       "<table border=\"1\" class=\"dataframe\">\n",
       "  <thead>\n",
       "    <tr style=\"text-align: right;\">\n",
       "      <th></th>\n",
       "      <th>ts_name</th>\n",
       "      <th>type</th>\n",
       "      <th>freqs</th>\n",
       "    </tr>\n",
       "  </thead>\n",
       "  <tbody>\n",
       "    <tr>\n",
       "      <th>0</th>\n",
       "      <td>D1</td>\n",
       "      <td>Hamming</td>\n",
       "      <td>[0, 119, 149, 167, 180]</td>\n",
       "    </tr>\n",
       "    <tr>\n",
       "      <th>1</th>\n",
       "      <td>D1</td>\n",
       "      <td>Welch</td>\n",
       "      <td>[0, 119, 149, 167, 180]</td>\n",
       "    </tr>\n",
       "    <tr>\n",
       "      <th>2</th>\n",
       "      <td>D1</td>\n",
       "      <td>fft</td>\n",
       "      <td>[0, 119, 149, 167, 180]</td>\n",
       "    </tr>\n",
       "    <tr>\n",
       "      <th>3</th>\n",
       "      <td>D10</td>\n",
       "      <td>Hamming</td>\n",
       "      <td>[0, 119, 149, 167, 180]</td>\n",
       "    </tr>\n",
       "    <tr>\n",
       "      <th>4</th>\n",
       "      <td>D10</td>\n",
       "      <td>Welch</td>\n",
       "      <td>[0, 119, 149, 167, 180]</td>\n",
       "    </tr>\n",
       "  </tbody>\n",
       "</table>\n",
       "</div>"
      ],
      "text/org": [
       "|    | ts_name   | type    | freqs                   |\n",
       "|----+-----------+---------+-------------------------|\n",
       "|  0 | D1        | Hamming | [0, 119, 149, 167, 180] |\n",
       "|  1 | D1        | Welch   | [0, 119, 149, 167, 180] |\n",
       "|  2 | D1        | fft     | [0, 119, 149, 167, 180] |\n",
       "|  3 | D10       | Hamming | [0, 119, 149, 167, 180] |\n",
       "|  4 | D10       | Welch   | [0, 119, 149, 167, 180] |"
      ],
      "text/plain": [
       "  ts_name     type                    freqs\n",
       "0      D1  Hamming  [0, 119, 149, 167, 180]\n",
       "1      D1    Welch  [0, 119, 149, 167, 180]\n",
       "2      D1      fft  [0, 119, 149, 167, 180]\n",
       "3     D10  Hamming  [0, 119, 149, 167, 180]\n",
       "4     D10    Welch  [0, 119, 149, 167, 180]"
      ]
     },
     "execution_count": 148,
     "metadata": {},
     "output_type": "execute_result"
    }
   ],
   "source": [
    "df.head()"
   ]
  },
  {
   "cell_type": "code",
   "execution_count": null,
   "id": "3fb32428-ada6-4e0b-9ee7-058202d894e7",
   "metadata": {},
   "outputs": [],
   "source": [
    "d"
   ]
  }
 ],
 "metadata": {
  "kernelspec": {
   "display_name": "Python 3",
   "language": "python",
   "name": "python3"
  },
  "language_info": {
   "codemirror_mode": {
    "name": "ipython",
    "version": 3
   },
   "file_extension": ".py",
   "mimetype": "text/x-python",
   "name": "python",
   "nbconvert_exporter": "python",
   "pygments_lexer": "ipython3",
   "version": "3.9.4"
  }
 },
 "nbformat": 4,
 "nbformat_minor": 5
}
