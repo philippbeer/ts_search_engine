{
 "cells": [
  {
   "cell_type": "code",
   "execution_count": 1,
   "id": "bfddb33a-1e8a-42c9-bb01-4adb66050787",
   "metadata": {},
   "outputs": [],
   "source": [
    "import math\n",
    "import os\n",
    "import re\n",
    "from typing import List\n",
    "\n",
    "import random\n",
    "import matplotlib.pyplot as plt\n",
    "import numpy as np\n",
    "import pandas as pd\n",
    "import seaborn as sns\n",
    "from scipy import signal\n",
    "from tqdm.notebook import tqdm\n",
    "\n",
    "\n",
    "from matplotlib import rc\n",
    "rc('font',**{'family':'sans-serif','sans-serif':['Helvetica']})\n",
    "## for Palatino and other serif fonts use:\n",
    "#rc('font',**{'family':'serif','serif':['Palatino']})\n",
    "rc('text', usetex=True)"
   ]
  },
  {
   "cell_type": "markdown",
   "id": "38872826-c298-4e64-9935-11910184d879",
   "metadata": {},
   "source": [
    "## load M4 data"
   ]
  },
  {
   "cell_type": "code",
   "execution_count": 2,
   "id": "50120782-92d4-41d1-9472-854b97154f54",
   "metadata": {},
   "outputs": [
    {
     "name": "stdout",
     "output_type": "stream",
     "text": [
      "hourly read: (414, 961)\n",
      "daily read: (4227, 9920)\n",
      "weekly: (359, 2598)\n",
      "monthly: (48000, 2795)\n",
      "quarterly: (24000, 867)\n",
      "yearly: (23000, 836)\n"
     ]
    }
   ],
   "source": [
    "df_hourly = pd.read_csv(\"../m4_data/Hourly-train.csv\")\n",
    "print(\"hourly read: {}\".format(df_hourly.shape))\n",
    "df_daily = pd.read_csv(\"../m4_data/Daily-train.csv\")\n",
    "print(\"daily read: {}\".format(df_daily.shape))\n",
    "df_weekly = pd.read_csv(\"../m4_data/Weekly-train.csv\")\n",
    "print(\"weekly: {}\".format(df_weekly.shape))\n",
    "df_monthly = pd.read_csv(\"../m4_data/Monthly-train.csv\")\n",
    "print(\"monthly: {}\".format(df_monthly.shape))\n",
    "df_quarterly = pd.read_csv(\"../m4_data/Quarterly-train.csv\")\n",
    "print(\"quarterly: {}\".format(df_quarterly.shape))\n",
    "df_yearly = pd.read_csv(\"../m4_data/Yearly-train.csv\")\n",
    "print(\"yearly: {}\".format(df_yearly.shape))\n",
    "\n",
    "df_m4_raw = pd.concat([df_hourly,\n",
    "                   df_daily,\n",
    "                   df_weekly,\n",
    "                    df_monthly,\n",
    "                   df_quarterly,\n",
    "                   df_yearly])\n",
    "\n",
    "df_hourly = None\n",
    "df_daily = None\n",
    "df_weekly = None\n",
    "df_monthly = None\n",
    "df_quarterly = None\n",
    "df_yearly = None"
   ]
  },
  {
   "cell_type": "markdown",
   "id": "bb696247-b3e4-4da4-859b-0138dfbefe56",
   "metadata": {},
   "source": [
    "## load UCR data"
   ]
  },
  {
   "cell_type": "code",
   "execution_count": 3,
   "id": "c2bf1131-828f-422a-b041-ed12a42ca04e",
   "metadata": {},
   "outputs": [],
   "source": [
    "ts_train_infos = []\n",
    "ts_test_infos = []\n",
    "for root, dirs, files in os.walk(\"../data/ucr_data/UCRArchive_2018/\"):\n",
    "    for name in files:\n",
    "        if(name.endswith(\"_TRAIN.tsv\")):\n",
    "            path_tmp = os.path.join(root,name)\n",
    "            ts_name = re.split(\"/\", root)[-1]\n",
    "            ts_train_infos.append((ts_name, os.path.join(root,name)))\n",
    "        elif(name.endswith(\"_TEST.tsv\")):\n",
    "            path_tmp = os.path.join(root,name)\n",
    "            ts_name = re.split(\"/\", root)[-1]\n",
    "            ts_test_infos.append((ts_name, os.path.join(root,name)))"
   ]
  },
  {
   "cell_type": "code",
   "execution_count": 4,
   "id": "66bf0e6b-9e74-45c0-b6e8-a88312d27de2",
   "metadata": {},
   "outputs": [
    {
     "data": {
      "application/vnd.jupyter.widget-view+json": {
       "model_id": "f762beb12fb54be1b2fa30cb1ffdbdb7",
       "version_major": 2,
       "version_minor": 0
      },
      "text/plain": [
       "  0%|          | 0/143 [00:00<?, ?it/s]"
      ]
     },
     "metadata": {},
     "output_type": "display_data"
    },
    {
     "data": {
      "application/vnd.jupyter.widget-view+json": {
       "model_id": "4d83d3d60ee842eb9d37d9bb1ed16efc",
       "version_major": 2,
       "version_minor": 0
      },
      "text/plain": [
       "  0%|          | 0/143 [00:00<?, ?it/s]"
      ]
     },
     "metadata": {},
     "output_type": "display_data"
    },
    {
     "name": "stdout",
     "output_type": "stream",
     "text": [
      "df_train shape: (64306, 2847)\n",
      "df_test shape: (136855, 2847)\n"
     ]
    }
   ],
   "source": [
    "df_ucr_train = pd.DataFrame()\n",
    "df_ucr_test = pd.DataFrame()\n",
    "\n",
    "for ts_info in tqdm(ts_train_infos):\n",
    "    ts_name = ts_info[0]\n",
    "    fp = ts_info[1]\n",
    "    \n",
    "    df_tmp = pd.read_csv(fp, sep='\\t', header=None)\n",
    "    df_tmp['name'] = ts_name\n",
    "    df_tmp['no'] = df_tmp.index\n",
    "    cols = df_tmp.columns.tolist()\n",
    "    cols = cols[-2:] + cols[:-2]\n",
    "    df_tmp = df_tmp[cols]\n",
    "    df_ucr_train = df_ucr_train.append(df_tmp)\n",
    "    \n",
    "# for ts_info in tqdm(ts_test_infos):\n",
    "#     ts_name = ts_info[0]\n",
    "#     fp = ts_info[1]\n",
    "    \n",
    "#     df_tmp = pd.read_csv(fp, sep='\\t', header=None)\n",
    "#     df_tmp['name'] = ts_name\n",
    "#     df_tmp['no'] = df_tmp.index\n",
    "#     cols = df_tmp.columns.tolist()\n",
    "#     cols = cols[-2:] + cols[:-2]\n",
    "#     df_tmp = df_tmp[cols]\n",
    "#     df_ucr_test = df_ucr_test.append(df_tmp)\n",
    "    \n",
    "\n",
    "print(\"df_train shape: {}\".format(df_ucr_train.shape))\n",
    "# print(\"df_test shape: {}\".format(df_ucr_test.shape))"
   ]
  },
  {
   "cell_type": "markdown",
   "id": "8f7e8edb-0b46-4fb7-8c3d-ade8406ff355",
   "metadata": {},
   "source": [
    "## Fourier transform"
   ]
  },
  {
   "cell_type": "code",
   "execution_count": 34,
   "id": "449c002c-3e4c-491e-9c6b-73dd31bdfb02",
   "metadata": {},
   "outputs": [],
   "source": [
    "def get_top_k_freq(PSD: np.array, k: int)->List[int]:\n",
    "    \"\"\" return top k indexes with largest PSD val\"\"\"\n",
    "    PSD = [np.real(val) for val in PSD]\n",
    "    return sorted(range(len(PSD)), key= lambda x: PSD[x])[-k:]\n",
    "    "
   ]
  },
  {
   "cell_type": "code",
   "execution_count": 44,
   "id": "762ee776-9e0a-4bcd-8b07-55ea35edd361",
   "metadata": {},
   "outputs": [],
   "source": [
    "def get_freq_m4(s: pd.Series, k:int=5) -> List[float]:\n",
    "    \"\"\" compute frequencies for M4 pandas series\"\"\"\n",
    "    df = pd.DataFrame()\n",
    "    f=np.array(s.iloc[1:].dropna())\n",
    "    n = f.size\n",
    "    wdw = np.hamming(n)\n",
    "    freq = np.arange(n)/n\n",
    "\n",
    "    # FFT\n",
    "    fhat = np.fft.fft(f)\n",
    "    PSD = np.real(fhat * np.conj(fhat) / n)\n",
    "    top_fft_idx = get_top_k_freq(PSD,k)\n",
    "    fft_freq = freq[top_fft_idx]\n",
    "    df_tmp = pd.DataFrame(fft_freq, columns=['val'])\n",
    "    df_tmp['type']='FFT'\n",
    "    df = df.append(df_tmp)\n",
    "    # Hamming\n",
    "    fhat = np.fft.fft(f*wdw)\n",
    "    PSD = np.real(fhat * np.conj(fhat) / n)\n",
    "    freq = np.arange(n)/f.size\n",
    "    top_ham_idx = get_top_k_freq(PSD,k)\n",
    "    ham_freq = freq[top_ham_idx]\n",
    "    df_tmp = pd.DataFrame(ham_freq, columns=['val'])\n",
    "    df_tmp['type']='Hamming'\n",
    "    df = df.append(df_tmp)\n",
    "    # Welch\n",
    "    seg_length = np.floor(1/20*n)\n",
    "    if seg_length == 0:\n",
    "        seg_length=10\n",
    "    welch_freqs, PSD_welch = signal.welch(f, nperseg=seg_length,\n",
    "                                      window='hamming')\n",
    "    top_ham_idx = get_top_k_freq(PSD_welch,k)\n",
    "    welch_freq = freq[top_ham_idx]\n",
    "    df_tmp = pd.DataFrame(welch_freq, columns=['val'])\n",
    "    df_tmp['type']='Welch'\n",
    "    df = df.append(df_tmp)\n",
    "    \n",
    "    return df\n"
   ]
  },
  {
   "cell_type": "code",
   "execution_count": 54,
   "id": "b150b8a7-78db-4e78-b7ce-dacd1a08352e",
   "metadata": {},
   "outputs": [],
   "source": [
    "def get_freq_ucr(s: pd.Series, k:int=5) -> List[float]:\n",
    "    \"\"\" compute frequencies for M4 pandas series\"\"\"\n",
    "    df = pd.DataFrame()\n",
    "    f=np.array(s.iloc[3:].dropna())\n",
    "    n = f.size\n",
    "    wdw = np.hamming(n)\n",
    "    freq = np.arange(n)/n\n",
    "\n",
    "    # FFT\n",
    "    fhat = np.fft.fft(f)\n",
    "    PSD = np.real(fhat * np.conj(fhat) / n)\n",
    "    top_fft_idx = get_top_k_freq(PSD,k)\n",
    "    fft_freq = freq[top_fft_idx]\n",
    "    df_tmp = pd.DataFrame(fft_freq, columns=['val'])\n",
    "    df_tmp['type']='FFT'\n",
    "    df = df.append(df_tmp)\n",
    "    # Hamming\n",
    "    fhat = np.fft.fft(f*wdw)\n",
    "    PSD = np.real(fhat * np.conj(fhat) / n)\n",
    "    freq = np.arange(n)/f.size\n",
    "    top_ham_idx = get_top_k_freq(PSD,k)\n",
    "    ham_freq = freq[top_ham_idx]\n",
    "    df_tmp = pd.DataFrame(ham_freq, columns=['val'])\n",
    "    df_tmp['type']='Hamming'\n",
    "    df = df.append(df_tmp)\n",
    "    # Welch\n",
    "    seg_length = np.floor(1/20*n)\n",
    "    if seg_length == 0:\n",
    "        seg_length=10\n",
    "    welch_freqs, PSD_welch = signal.welch(f, nperseg=seg_length,\n",
    "                                      window='hamming')\n",
    "    top_ham_idx = get_top_k_freq(PSD_welch,k)\n",
    "    welch_freq = freq[top_ham_idx]\n",
    "    df_tmp = pd.DataFrame(welch_freq, columns=['val'])\n",
    "    df_tmp['type']='Welch'\n",
    "    df = df.append(df_tmp)\n",
    "    return df"
   ]
  },
  {
   "cell_type": "markdown",
   "id": "d9199cef-00e5-4784-92ee-50ebf0e8d9a2",
   "metadata": {},
   "source": [
    "create df transpose for faster computation"
   ]
  },
  {
   "cell_type": "code",
   "execution_count": 56,
   "id": "d68ba988-8e24-4b5b-88f3-01bd69770939",
   "metadata": {},
   "outputs": [
    {
     "data": {
      "application/vnd.jupyter.widget-view+json": {
       "model_id": "2a4a7e2ea1984260a5785bb3412f29c1",
       "version_major": 2,
       "version_minor": 0
      },
      "text/plain": [
       "  0%|          | 0/100000 [00:00<?, ?it/s]"
      ]
     },
     "metadata": {},
     "output_type": "display_data"
    }
   ],
   "source": [
    "tqdm.pandas()\n",
    "res = df_m4_raw.progress_apply(func=get_freq_m4, axis=1)\n",
    "df_m4_res = pd.concat(list(res))"
   ]
  },
  {
   "cell_type": "code",
   "execution_count": 60,
   "id": "4db52ba3-f788-4c83-b2c3-37d84d5ef07e",
   "metadata": {},
   "outputs": [],
   "source": [
    "df_m4_res.to_csv(\"../data/data_expl_m4_freqs.csv\", index=True)"
   ]
  },
  {
   "cell_type": "code",
   "execution_count": 58,
   "id": "a3545853-8820-4f5a-8a62-c256f60f5c0e",
   "metadata": {},
   "outputs": [
    {
     "data": {
      "application/vnd.jupyter.widget-view+json": {
       "model_id": "bceb88eb1df14da88e794bf35a7d372b",
       "version_major": 2,
       "version_minor": 0
      },
      "text/plain": [
       "  0%|          | 0/64306 [00:00<?, ?it/s]"
      ]
     },
     "metadata": {},
     "output_type": "display_data"
    },
    {
     "name": "stderr",
     "output_type": "stream",
     "text": [
      "/Users/philipp/anaconda3/envs/unic2/lib/python3.9/site-packages/scipy/signal/spectral.py:1964: UserWarning: nperseg = 10 is greater than input length  = 8, using nperseg = 8\n",
      "  warnings.warn('nperseg = {0:d} is greater than input length '\n"
     ]
    }
   ],
   "source": [
    "res = df_ucr_train.progress_apply(func=get_freq_ucr, axis=1)\n",
    "df_ucr_res = pd.concat(list(res))"
   ]
  },
  {
   "cell_type": "code",
   "execution_count": 59,
   "id": "9166b2d1-9cb8-4fb1-b36c-bcd4143efe7c",
   "metadata": {},
   "outputs": [],
   "source": [
    "df_ucr_res.to_csv(\"../data/data_expl_ucr_freqs.csv\", index=True)"
   ]
  },
  {
   "cell_type": "code",
   "execution_count": 63,
   "id": "df5e3d85-478a-40e4-b823-1919d58fbbf2",
   "metadata": {},
   "outputs": [
    {
     "data": {
      "text/org": [
       "|    | 0   | 1   | 2   |\n",
       "|----+-----+-----+-----|\n",
       "|  0 | F   | F   | T   |\n",
       "|  1 | H   | a   | m   |\n",
       "|  2 | W   | e   | l   |"
      ],
      "text/plain": [
       "array(['FFT', 'Hamming', 'Welch'], dtype=object)"
      ]
     },
     "execution_count": 63,
     "metadata": {},
     "output_type": "execute_result"
    }
   ],
   "source": [
    "df_ucr_res['type'].unique()"
   ]
  },
  {
   "cell_type": "code",
   "execution_count": 66,
   "id": "fec7433e-c4e2-4287-bb9e-7b158efb49d4",
   "metadata": {},
   "outputs": [],
   "source": [
    "def convert_series(s: pd.Series,col_name)->pd.DataFrame:\n",
    "    \"\"\"convert list to common series\"\"\"\n",
    "    df = pd.DataFrame(s, columns=['value'])\n",
    "    df['k'] = col_name"
   ]
  },
  {
   "cell_type": "code",
   "execution_count": 99,
   "id": "ee51e8ae-4bc9-4569-87b9-5b42cd39cd44",
   "metadata": {},
   "outputs": [
    {
     "data": {
      "application/vnd.jupyter.widget-view+json": {
       "model_id": "56555c9fc0724a37b99866a12f2c5586",
       "version_major": 2,
       "version_minor": 0
      },
      "text/plain": [
       "  0%|          | 0/5 [00:00<?, ?it/s]"
      ]
     },
     "metadata": {},
     "output_type": "display_data"
    },
    {
     "data": {
      "text/html": [
       "<div>\n",
       "<style scoped>\n",
       "    .dataframe tbody tr th:only-of-type {\n",
       "        vertical-align: middle;\n",
       "    }\n",
       "\n",
       "    .dataframe tbody tr th {\n",
       "        vertical-align: top;\n",
       "    }\n",
       "\n",
       "    .dataframe thead th {\n",
       "        text-align: right;\n",
       "    }\n",
       "</style>\n",
       "<table border=\"1\" class=\"dataframe\">\n",
       "  <thead>\n",
       "    <tr style=\"text-align: right;\">\n",
       "      <th></th>\n",
       "      <th>k</th>\n",
       "      <th>val</th>\n",
       "    </tr>\n",
       "  </thead>\n",
       "  <tbody>\n",
       "    <tr>\n",
       "      <th>0</th>\n",
       "      <td>0</td>\n",
       "      <td>0.997253</td>\n",
       "    </tr>\n",
       "    <tr>\n",
       "      <th>1</th>\n",
       "      <td>0</td>\n",
       "      <td>0.002747</td>\n",
       "    </tr>\n",
       "    <tr>\n",
       "      <th>2</th>\n",
       "      <td>0</td>\n",
       "      <td>0.997253</td>\n",
       "    </tr>\n",
       "    <tr>\n",
       "      <th>3</th>\n",
       "      <td>0</td>\n",
       "      <td>0.997253</td>\n",
       "    </tr>\n",
       "    <tr>\n",
       "      <th>4</th>\n",
       "      <td>0</td>\n",
       "      <td>0.002747</td>\n",
       "    </tr>\n",
       "  </tbody>\n",
       "</table>\n",
       "</div>"
      ],
      "text/org": [
       "|    |   k |        val |\n",
       "|----+-----+------------|\n",
       "|  0 |   0 | 0.997253   |\n",
       "|  1 |   0 | 0.00274725 |\n",
       "|  2 |   0 | 0.997253   |\n",
       "|  3 |   0 | 0.997253   |\n",
       "|  4 |   0 | 0.00274725 |"
      ],
      "text/plain": [
       "   k       val\n",
       "0  0  0.997253\n",
       "1  0  0.002747\n",
       "2  0  0.997253\n",
       "3  0  0.997253\n",
       "4  0  0.002747"
      ]
     },
     "execution_count": 99,
     "metadata": {},
     "output_type": "execute_result"
    }
   ],
   "source": [
    "cols = list(df_m4_f)\n",
    "\n",
    "df_m4_top_f = pd.DataFrame(columns=['k','val'])\n",
    "df_ucr_top_f = pd.DataFrame(columns=['k','val'])\n",
    "for col in tqdm(cols):\n",
    "    \n",
    "    df_tmp_m4 = pd.DataFrame(df_m4_f[col])\n",
    "    df_tmp_m4['k'] = col\n",
    "    df_tmp_m4.columns = ['val','k']\n",
    "    df_m4_top_f = df_m4_top_f.append(df_tmp_m4, ignore_index=True)\n",
    "    \n",
    "    df_tmp_ucr = pd.DataFrame(df_ucr_f[col])\n",
    "    df_tmp_ucr['k'] = col\n",
    "    df_tmp_ucr.columns = ['val','k']\n",
    "    df_ucr_top_f = df_ucr_top_f.append(df_tmp_ucr, ignore_index=True)\n",
    "    \n",
    "    \n",
    "df_ucr_top_f.head()"
   ]
  },
  {
   "cell_type": "markdown",
   "id": "33b1cae8-a77d-4d06-885b-5110cd755e80",
   "metadata": {},
   "source": [
    "### Create FFT Histogram"
   ]
  },
  {
   "cell_type": "code",
   "execution_count": 9,
   "id": "e1cb41ac-0cd4-467f-a38c-4cd3c52b13af",
   "metadata": {},
   "outputs": [],
   "source": [
    "df_m4_hist = pd.read_csv(\"../data/data_expl_m4_freqs.csv\")\n",
    "df_m4_hist.columns = ['idx_pos','val','type']\n",
    "df_m4_hist = df_m4_hist[['idx_pos','type', 'val']]\n",
    "df_ucr_hist = pd.read_csv(\"../data/data_expl_ucr_freqs.csv\")\n",
    "df_ucr_hist.columns = ['idx_pos','val','type']\n",
    "df_ucr_hist = df_ucr_hist[['idx_pos','type', 'val']]"
   ]
  },
  {
   "cell_type": "code",
   "execution_count": 15,
   "id": "9306180a-a9ce-4659-a68b-8192de826dbb",
   "metadata": {},
   "outputs": [
    {
     "data": {
      "text/html": [
       "<div>\n",
       "<style scoped>\n",
       "    .dataframe tbody tr th:only-of-type {\n",
       "        vertical-align: middle;\n",
       "    }\n",
       "\n",
       "    .dataframe tbody tr th {\n",
       "        vertical-align: top;\n",
       "    }\n",
       "\n",
       "    .dataframe thead th {\n",
       "        text-align: right;\n",
       "    }\n",
       "</style>\n",
       "<table border=\"1\" class=\"dataframe\">\n",
       "  <thead>\n",
       "    <tr style=\"text-align: right;\">\n",
       "      <th></th>\n",
       "      <th>idx_pos</th>\n",
       "      <th>val</th>\n",
       "    </tr>\n",
       "  </thead>\n",
       "  <tbody>\n",
       "    <tr>\n",
       "      <th>count</th>\n",
       "      <td>894516.000000</td>\n",
       "      <td>894516.000000</td>\n",
       "    </tr>\n",
       "    <tr>\n",
       "      <th>mean</th>\n",
       "      <td>1.903999</td>\n",
       "      <td>0.356527</td>\n",
       "    </tr>\n",
       "    <tr>\n",
       "      <th>std</th>\n",
       "      <td>1.405817</td>\n",
       "      <td>0.452043</td>\n",
       "    </tr>\n",
       "    <tr>\n",
       "      <th>min</th>\n",
       "      <td>0.000000</td>\n",
       "      <td>0.000000</td>\n",
       "    </tr>\n",
       "    <tr>\n",
       "      <th>25%</th>\n",
       "      <td>1.000000</td>\n",
       "      <td>0.004000</td>\n",
       "    </tr>\n",
       "    <tr>\n",
       "      <th>50%</th>\n",
       "      <td>2.000000</td>\n",
       "      <td>0.023438</td>\n",
       "    </tr>\n",
       "    <tr>\n",
       "      <th>75%</th>\n",
       "      <td>3.000000</td>\n",
       "      <td>0.962000</td>\n",
       "    </tr>\n",
       "    <tr>\n",
       "      <th>max</th>\n",
       "      <td>4.000000</td>\n",
       "      <td>0.999648</td>\n",
       "    </tr>\n",
       "  </tbody>\n",
       "</table>\n",
       "</div>"
      ],
      "text/org": [
       "|       |      idx_pos |            val |\n",
       "|-------+--------------+----------------|\n",
       "| count | 894516       | 894516         |\n",
       "| mean  |      1.904   |      0.356527  |\n",
       "| std   |      1.40582 |      0.452043  |\n",
       "| min   |      0       |      0         |\n",
       "| 25%   |      1       |      0.004     |\n",
       "| 50%   |      2       |      0.0234375 |\n",
       "| 75%   |      3       |      0.962     |\n",
       "| max   |      4       |      0.999648  |"
      ],
      "text/plain": [
       "             idx_pos            val\n",
       "count  894516.000000  894516.000000\n",
       "mean        1.903999       0.356527\n",
       "std         1.405817       0.452043\n",
       "min         0.000000       0.000000\n",
       "25%         1.000000       0.004000\n",
       "50%         2.000000       0.023438\n",
       "75%         3.000000       0.962000\n",
       "max         4.000000       0.999648"
      ]
     },
     "execution_count": 15,
     "metadata": {},
     "output_type": "execute_result"
    }
   ],
   "source": [
    "df_ucr_hist.describe()"
   ]
  },
  {
   "cell_type": "code",
   "execution_count": 29,
   "id": "9948a60d-84bf-431f-a027-e365b80ef385",
   "metadata": {},
   "outputs": [],
   "source": [
    "# M4 bin width\n",
    "cnt = df_m4_hist.describe().loc[\"count\",'val']\n",
    "q75 = df_m4_hist.describe().loc[\"75%\",'val']\n",
    "q25 = df_m4_hist.describe().loc[\"25%\",'val']\n",
    "max_val = df_m4_hist['val'].max()\n",
    "min_val = df_m4_hist['val'].min()\n",
    "# Freedman–Diaconis rule\n",
    "h = 2 * (q75-q25)*cnt**(-1./3)\n",
    "b_m4 = int((max_val-min_val)/h)\n",
    "# UCR bin width\n",
    "cnt = df_ucr_hist.describe().loc[\"count\",'val']\n",
    "q75 = df_ucr_hist.describe().loc[\"75%\",'val']\n",
    "q25 = df_ucr_hist.describe().loc[\"25%\",'val']\n",
    "max_val = df_ucr_hist['val'].max()\n",
    "min_val = df_ucr_hist['val'].min()\n",
    "# Freedman–Diaconis rule\n",
    "h = 2 * (q75-q25)*cnt**(-1./3)\n",
    "b_ucr = int((max_val-min_val)/h)\n"
   ]
  },
  {
   "cell_type": "code",
   "execution_count": 50,
   "id": "fcfd80b1-6150-46d8-9c2f-92ff8c1fd57a",
   "metadata": {},
   "outputs": [
    {
     "data": {
      "image/png": "[encoded data removed]",
      "text/plain": [
       "<Figure size 936x648 with 2 Axes>"
      ]
     },
     "metadata": {},
     "output_type": "display_data"
    }
   ],
   "source": [
    "sns.set(font_scale=1.5)\n",
    "\n",
    "fig, axs = plt.subplots(2, 1, figsize=(13,9), sharex=True)\n",
    "# fig.tight_layout()\n",
    "fig.suptitle(\"Fourier Transform Frequency Distribution\")\n",
    "\n",
    "sns.histplot(data=df_m4_hist, x='val', hue='type',\n",
    "             bins=b_m4, ax=axs.flatten()[0]);\n",
    "axs.flatten()[0].set_yscale('log')\n",
    "axs.flatten()[0].set_ylabel(\" Count M4 FFT\")\n",
    "leg = axs.flatten()[0].get_legend()\n",
    "leg.set_title(\"FFT type\");\n",
    "\n",
    "sns.histplot(data=df_ucr_hist, x='val', hue='type',\n",
    "             bins=b_ucr, ax=axs.flatten()[1]);\n",
    "axs.flatten()[1].set_xlabel(\"FFT frequency value spectrum\")\n",
    "axs.flatten()[1].set_yscale('log')\n",
    "axs.flatten()[1].set_ylabel(\"Count UCR FFT\")\n",
    "leg = axs.flatten()[1].get_legend()\n",
    "leg.set_title(\"FFT type\");\n",
    "fig.savefig(\"../img/fft_freq_dist_ucr_m4.png\")"
   ]
  },
  {
   "cell_type": "code",
   "execution_count": 58,
   "id": "08316a8c-cd58-408d-a65c-b66a83d77317",
   "metadata": {},
   "outputs": [
    {
     "data": {
      "text/plain": [
       "array([4, 3, 2, 1, 0])"
      ]
     },
     "execution_count": 58,
     "metadata": {},
     "output_type": "execute_result"
    }
   ],
   "source": [
    "topks = df_ucr_hist['idx_pos'].unique()[-1::-1] ### reverse order with most import frequency at the top\n",
    "topks"
   ]
  },
  {
   "cell_type": "code",
   "execution_count": 113,
   "id": "cdafc8eb-0dda-4d0a-bf18-ecec4695855c",
   "metadata": {},
   "outputs": [],
   "source": [
    "def compute_bins(df: pd.DataFrame)-> int:\n",
    "    \"\"\" compute no. of bins viaFreedman–Diaconis rule\"\"\"\n",
    "    cnt = df.describe().loc[\"count\",'val']\n",
    "    q75 = df.describe().loc[\"75%\",'val']\n",
    "    q25 = df.describe().loc[\"25%\",'val']\n",
    "    max_val = df['val'].max()\n",
    "    min_val = df['val'].min()\n",
    "    # Freedman–Diaconis rule\n",
    "    h = 2 * (q75-q25)*cnt**(-1./3)\n",
    "    if int(h) == 0:\n",
    "        h =3\n",
    "    b = int((max_val-min_val)/h)\n",
    "#     print(\"b is {}\".format(b))\n",
    "    if int(b)==0:\n",
    "        b=3\n",
    "    return b"
   ]
  },
  {
   "cell_type": "code",
   "execution_count": 123,
   "id": "ddc4d8b7-211e-48cc-bf3c-3fad562282b3",
   "metadata": {},
   "outputs": [
    {
     "name": "stdout",
     "output_type": "stream",
     "text": [
      "top: 1 - (242043, 3)\n",
      "unique: 1186 - range: 0.3333333333333333\n",
      "top: 2 - (247188, 3)\n",
      "unique: 4034 - range: 0.999899183385422\n",
      "top: 3 - (260103, 3)\n",
      "unique: 4091 - range: 0.999899183385422\n",
      "top: 4 - (285964, 3)\n",
      "unique: 6400 - range: 0.9998724815098188\n",
      "top: 5 - (300000, 3)\n",
      "unique: 6518 - range: 0.9997804610318332\n"
     ]
    },
    {
     "data": {
      "image/png": "[encoded data removed]",
      "text/plain": [
       "<Figure size 1440x1296 with 10 Axes>"
      ]
     },
     "metadata": {},
     "output_type": "display_data"
    }
   ],
   "source": [
    "sns.set(font_scale=1)\n",
    "fig, axs = plt.subplots(topks.size, 2, figsize=(20,18))\n",
    "#fig.tight_layout()\n",
    "#fig.suptitle(\"Fourier Transform Frequency Distribution by top k\")\n",
    "\n",
    "for i in range(topks.size):\n",
    "    topk = topks[i]\n",
    "    df_m4_tmp = df_m4_hist[df_m4_hist['idx_pos']==topk]\n",
    "    rnge = df_m4_tmp['val'].max() - df_m4_tmp['val'].min()\n",
    "    print(\"top: {} - {}\\nunique: {} - range: {}\".format(i+1,df_m4_tmp.shape, df_m4_tmp['val'].nunique(), rnge))\n",
    "    b_m4 = compute_bins(df_m4_tmp)\n",
    "    df_ucr_tmp = df_ucr_hist[df_ucr_hist['idx_pos']==topk]\n",
    "    b_ucr = compute_bins(df_ucr_tmp)\n",
    "    \n",
    "    sns.histplot(data=df_m4_tmp, x='val', hue='type',\n",
    "                 bins='auto', ax=axs[i,0]);\n",
    "    axs[i,0].set_xlabel(\"M4 FFT frequencies\")\n",
    "    axs[i,0].set_yscale('log')\n",
    "    axs[i,0].set_ylabel(\" Count M4 - Top {}\".format(i+1))\n",
    "    leg = axs[i,0].get_legend()\n",
    "    leg.set_title(\"FFT type\");\n",
    "\n",
    "    sns.histplot(data=df_ucr_tmp, x='val', hue='type', bins='fd',\n",
    "                ax=axs[i,1]);\n",
    "    axs[i,1].set_xlabel(\"UCR FFT frequencies\")\n",
    "    axs[i,1].set_yscale('log')\n",
    "    axs[i,1].set_ylabel(\"Count UCR - Top {}\".format(i+1))\n",
    "    leg = axs[i,1].get_legend()\n",
    "    leg.set_title(\"FFT type\");\n",
    "\n",
    "fig.savefig(\"../img/fft_freq_topk.png\")"
   ]
  },
  {
   "cell_type": "code",
   "execution_count": null,
   "id": "47947c33-9faf-458a-8020-55e98b9e2da2",
   "metadata": {},
   "outputs": [],
   "source": []
  }
 ],
 "metadata": {
  "kernelspec": {
   "display_name": "Python 3 (ipykernel)",
   "language": "python",
   "name": "python3"
  },
  "language_info": {
   "codemirror_mode": {
    "name": "ipython",
    "version": 3
   },
   "file_extension": ".py",
   "mimetype": "text/x-python",
   "name": "python",
   "nbconvert_exporter": "python",
   "pygments_lexer": "ipython3",
   "version": "3.9.7"
  }
 },
 "nbformat": 4,
 "nbformat_minor": 5
}
