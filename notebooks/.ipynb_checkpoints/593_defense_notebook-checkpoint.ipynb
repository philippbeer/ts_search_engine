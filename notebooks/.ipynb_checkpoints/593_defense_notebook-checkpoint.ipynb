{
 "cells": [
  {
   "cell_type": "markdown",
   "id": "b1212448",
   "metadata": {},
   "source": [
    "# Title Thesis defense"
   ]
  },
  {
   "cell_type": "code",
   "execution_count": 42,
   "id": "5889a2d2",
   "metadata": {},
   "outputs": [],
   "source": [
    "import locale\n",
    "import os\n",
    "import re\n",
    "import time\n",
    "from typing import List, Tuple\n",
    "\n",
    "from tqdm.notebook import tqdm\n",
    "import numpy as np\n",
    "import pandas as pd\n",
    "import matplotlib.pyplot as plt\n",
    "from scipy import signal\n",
    "import seaborn as sns\n",
    "\n",
    "locale.setlocale(locale.LC_ALL, '');"
   ]
  },
  {
   "cell_type": "markdown",
   "id": "1f766caa",
   "metadata": {
    "tags": []
   },
   "source": [
    "## Loading M4 Data"
   ]
  },
  {
   "cell_type": "code",
   "execution_count": 25,
   "id": "b04389a1",
   "metadata": {
    "tags": []
   },
   "outputs": [],
   "source": [
    "def read_m4_data(file_paths: List[str], path_prefix: str) -> pd.DataFrame:\n",
    "    \"\"\" reads the  list given file paths and\n",
    "        and combines them into a singular dataframe\"\"\"\n",
    "    df_all = pd.DataFrame()\n",
    "    \n",
    "    for fpath in file_paths:\n",
    "        start = time.time()\n",
    "        df_tmp = pd.read_csv(path_prefix+fpath)\n",
    "        end = time.time()\n",
    "        execution_time = end - start\n",
    "        print(f\"file: {fpath} read in {execution_time:.2f} seconds\\n\\\n",
    "        with {df_tmp.shape[0]:,d} rows and {df_tmp.shape[1]:,d} columns.\\n\")\n",
    "        df_all = pd.concat([df_all, df_tmp])\n",
    "        \n",
    "    return df_all"
   ]
  },
  {
   "cell_type": "code",
   "execution_count": 26,
   "id": "8d355c27",
   "metadata": {},
   "outputs": [],
   "source": [
    "# setting file paths\n",
    "path_prefix_m4 = \"/Users/philipp/workspace/UNIC/comp-593/m4_data/\"\n",
    "m4_paths = [\n",
    "    \"Hourly-train.csv\",\n",
    "#     \"Daily-train.csv\",\n",
    "    \"Weekly-train.csv\",\n",
    "    # \"Monthly-train.csv\",\n",
    "    # \"Quarterly-train.csv\",\n",
    "    # \"Yearly-train.csv\"\n",
    "]"
   ]
  },
  {
   "cell_type": "code",
   "execution_count": 27,
   "id": "b92c3f56",
   "metadata": {},
   "outputs": [
    {
     "name": "stdout",
     "output_type": "stream",
     "text": [
      "file: Hourly-train.csv read in 0.11 seconds\n",
      "        with 414 rows and 961 columns.\n",
      "\n",
      "file: Weekly-train.csv read in 0.30 seconds\n",
      "        with 359 rows and 2,598 columns.\n",
      "\n",
      "###################\n",
      "\n",
      "CPU times: user 356 ms, sys: 47.9 ms, total: 404 ms\n",
      "Wall time: 425 ms\n"
     ]
    }
   ],
   "source": [
    "%%time\n",
    "df_all_m4 = read_m4_data(m4_paths, path_prefix_m4)\n",
    "print(\"###################\\n\")"
   ]
  },
  {
   "cell_type": "markdown",
   "id": "430c5882",
   "metadata": {},
   "source": [
    "## Load UCR archive"
   ]
  },
  {
   "cell_type": "code",
   "execution_count": 5,
   "id": "010d23c8",
   "metadata": {},
   "outputs": [],
   "source": [
    "def get_ucr_file_paths(path_prefix: str) -> Tuple[List[str],List[str]]:\n",
    "  \"\"\"creates a list file paths based on naming\n",
    "  conventions of UCR archive\"\"\"\n",
    "  ts_train_infos = []\n",
    "  ts_test_infos = []\n",
    "  for root, dirs, files in os.walk(path_prefix):\n",
    "      for name in files:\n",
    "          if(name.endswith(\"_TRAIN.tsv\")):\n",
    "              path_tmp = os.path.join(root,name)\n",
    "              ts_name = re.split(\"/\", root)[-1]\n",
    "              ts_train_infos.append((ts_name, os.path.join(root,name)))\n",
    "          elif(name.endswith(\"_TEST.tsv\")):\n",
    "              path_tmp = os.path.join(root,name)\n",
    "              ts_name = re.split(\"/\", root)[-1]\n",
    "              ts_test_infos.append((ts_name, os.path.join(root,name)))\n",
    "  return ts_train_infos, ts_test_infos"
   ]
  },
  {
   "cell_type": "code",
   "execution_count": 6,
   "id": "20af3821",
   "metadata": {},
   "outputs": [],
   "source": [
    "path_prefix_ucr = \"/Users/philipp/workspace/UNIC/comp-593/data/ucr_data/UCRArchive_2018\"\n",
    "ts_train_paths, ts_test_paths = get_ucr_file_paths(path_prefix_ucr)"
   ]
  },
  {
   "cell_type": "code",
   "execution_count": 8,
   "id": "cb341edd",
   "metadata": {},
   "outputs": [],
   "source": [
    "def load_ucr_files(train_paths: List[str], test_paths: List[str]) -> Tuple[pd.DataFrame,pd.DataFrame]:\n",
    "    \"\"\"load UCR archive files\"\"\"\n",
    "    df_train = pd.DataFrame()\n",
    "    df_test = pd.DataFrame()\n",
    "\n",
    "    for ts_info in tqdm(train_paths):\n",
    "        ts_name = ts_info[0]\n",
    "        fp = ts_info[1]\n",
    "\n",
    "        df_tmp = pd.read_csv(fp, sep='\\t', header=None)\n",
    "        df_tmp['name'] = ts_name\n",
    "        df_tmp['no'] = df_tmp.index\n",
    "        cols = df_tmp.columns.tolist()\n",
    "        cols = cols[-2:] + cols[:-2]\n",
    "        df_tmp = df_tmp[cols]\n",
    "        df_train = df_train.append(df_tmp)\n",
    "\n",
    "    for ts_info in tqdm(test_paths):\n",
    "        ts_name = ts_info[0]\n",
    "        fp = ts_info[1]\n",
    "\n",
    "        df_tmp = pd.read_csv(fp, sep='\\t', header=None)\n",
    "        df_tmp['name'] = ts_name\n",
    "        df_tmp['no'] = df_tmp.index\n",
    "        cols = df_tmp.columns.tolist()\n",
    "        cols = cols[-2:] + cols[:-2]\n",
    "        df_tmp = df_tmp[cols]\n",
    "        df_test = df_test.append(df_tmp)\n",
    "        \n",
    "    return df_train, df_test\n",
    "    "
   ]
  },
  {
   "cell_type": "code",
   "execution_count": 9,
   "id": "1a316664",
   "metadata": {},
   "outputs": [
    {
     "data": {
      "application/vnd.jupyter.widget-view+json": {
       "model_id": "87207ce9bf7d43a88d41fcff4b913541",
       "version_major": 2,
       "version_minor": 0
      },
      "text/plain": [
       "  0%|          | 0/143 [00:00<?, ?it/s]"
      ]
     },
     "metadata": {},
     "output_type": "display_data"
    },
    {
     "data": {
      "application/vnd.jupyter.widget-view+json": {
       "model_id": "c310dec63cd14d80bb92c2a81402a87e",
       "version_major": 2,
       "version_minor": 0
      },
      "text/plain": [
       "  0%|          | 0/143 [00:00<?, ?it/s]"
      ]
     },
     "metadata": {},
     "output_type": "display_data"
    }
   ],
   "source": [
    "df_train, df_test = load_ucr_files(ts_train_paths, ts_test_paths)"
   ]
  },
  {
   "cell_type": "markdown",
   "id": "b2119509",
   "metadata": {},
   "source": [
    "## Visualize Time Series"
   ]
  },
  {
   "cell_type": "code",
   "execution_count": 94,
   "id": "eb45e673",
   "metadata": {},
   "outputs": [],
   "source": [
    "sns.set_style(\"darkgrid\", {\"grid.color\": \".6\", \"grid.linestyle\": \":\"})"
   ]
  },
  {
   "cell_type": "markdown",
   "id": "7f4a374f",
   "metadata": {},
   "source": [
    "## Load FFT conversion results with statistics"
   ]
  },
  {
   "cell_type": "code",
   "execution_count": 18,
   "id": "d0eb38c5",
   "metadata": {},
   "outputs": [],
   "source": [
    "# load m4 stats\n",
    "df_m4_stats = pd.read_csv(\"../data/df_stats.csv\")\n",
    "\n",
    "# load UCR stats\n",
    "#df_ucr_stats_train = pd.read_csv(\"../data/df_ucr_stats_train.csv\")\n",
    "df_ucr_stats_test = pd.read_csv(\"../data/df_ucr_stats_test.csv\")"
   ]
  },
  {
   "cell_type": "markdown",
   "id": "285bc912-9045-494f-a443-6e7cdd974e3d",
   "metadata": {},
   "source": [
    "### Sample Output M4 statsfile\n",
    "please note identified frequency bands and computed statistics\n"
   ]
  },
  {
   "cell_type": "code",
   "execution_count": 15,
   "id": "11ce24cb-c127-401d-a5c2-80df5134a4ac",
   "metadata": {},
   "outputs": [
    {
     "data": {
      "text/html": [
       "<div>\n",
       "<style scoped>\n",
       "    .dataframe tbody tr th:only-of-type {\n",
       "        vertical-align: middle;\n",
       "    }\n",
       "\n",
       "    .dataframe tbody tr th {\n",
       "        vertical-align: top;\n",
       "    }\n",
       "\n",
       "    .dataframe thead th {\n",
       "        text-align: right;\n",
       "    }\n",
       "</style>\n",
       "<table border=\"1\" class=\"dataframe\">\n",
       "  <thead>\n",
       "    <tr style=\"text-align: right;\">\n",
       "      <th></th>\n",
       "      <th>ts_name</th>\n",
       "      <th>freq_ids</th>\n",
       "      <th>type</th>\n",
       "      <th>m</th>\n",
       "      <th>b</th>\n",
       "      <th>count</th>\n",
       "      <th>mean</th>\n",
       "      <th>std</th>\n",
       "      <th>min</th>\n",
       "      <th>q25</th>\n",
       "      <th>q50</th>\n",
       "      <th>q75</th>\n",
       "      <th>max</th>\n",
       "    </tr>\n",
       "  </thead>\n",
       "  <tbody>\n",
       "    <tr>\n",
       "      <th>104641</th>\n",
       "      <td>M1</td>\n",
       "      <td>[35, 0, 12, 25, 0]</td>\n",
       "      <td>Welch</td>\n",
       "      <td>0.763289</td>\n",
       "      <td>6125.215235</td>\n",
       "      <td>469.0</td>\n",
       "      <td>6306.247335</td>\n",
       "      <td>1790.611195</td>\n",
       "      <td>2690.0</td>\n",
       "      <td>5000.0</td>\n",
       "      <td>6040.0</td>\n",
       "      <td>7360.0</td>\n",
       "      <td>13490.0</td>\n",
       "    </tr>\n",
       "    <tr>\n",
       "      <th>144641</th>\n",
       "      <td>M1</td>\n",
       "      <td>[409, 198, 136, 409, 0]</td>\n",
       "      <td>fft</td>\n",
       "      <td>0.763289</td>\n",
       "      <td>6125.215235</td>\n",
       "      <td>469.0</td>\n",
       "      <td>6306.247335</td>\n",
       "      <td>1790.611195</td>\n",
       "      <td>2690.0</td>\n",
       "      <td>5000.0</td>\n",
       "      <td>6040.0</td>\n",
       "      <td>7360.0</td>\n",
       "      <td>13490.0</td>\n",
       "    </tr>\n",
       "    <tr>\n",
       "      <th>244641</th>\n",
       "      <td>M1</td>\n",
       "      <td>[409, 198, 409, 136, 0]</td>\n",
       "      <td>Hamming</td>\n",
       "      <td>0.763289</td>\n",
       "      <td>6125.215235</td>\n",
       "      <td>469.0</td>\n",
       "      <td>6306.247335</td>\n",
       "      <td>1790.611195</td>\n",
       "      <td>2690.0</td>\n",
       "      <td>5000.0</td>\n",
       "      <td>6040.0</td>\n",
       "      <td>7360.0</td>\n",
       "      <td>13490.0</td>\n",
       "    </tr>\n",
       "  </tbody>\n",
       "</table>\n",
       "</div>"
      ],
      "text/org": [
       "|        | ts_name   | freq_ids                | type    |        m |       b |   count |    mean |     std |   min |   q25 |   q50 |   q75 |   max |\n",
       "|--------+-----------+-------------------------+---------+----------+---------+---------+---------+---------+-------+-------+-------+-------+-------|\n",
       "| 104641 | M1        | [35, 0, 12, 25, 0]      | Welch   | 0.763289 | 6125.22 |     469 | 6306.25 | 1790.61 |  2690 |  5000 |  6040 |  7360 | 13490 |\n",
       "| 144641 | M1        | [409, 198, 136, 409, 0] | fft     | 0.763289 | 6125.22 |     469 | 6306.25 | 1790.61 |  2690 |  5000 |  6040 |  7360 | 13490 |\n",
       "| 244641 | M1        | [409, 198, 409, 136, 0] | Hamming | 0.763289 | 6125.22 |     469 | 6306.25 | 1790.61 |  2690 |  5000 |  6040 |  7360 | 13490 |"
      ],
      "text/plain": [
       "       ts_name                 freq_ids     type         m            b  \\\n",
       "104641      M1       [35, 0, 12, 25, 0]    Welch  0.763289  6125.215235   \n",
       "144641      M1  [409, 198, 136, 409, 0]      fft  0.763289  6125.215235   \n",
       "244641      M1  [409, 198, 409, 136, 0]  Hamming  0.763289  6125.215235   \n",
       "\n",
       "        count         mean          std     min     q25     q50     q75  \\\n",
       "104641  469.0  6306.247335  1790.611195  2690.0  5000.0  6040.0  7360.0   \n",
       "144641  469.0  6306.247335  1790.611195  2690.0  5000.0  6040.0  7360.0   \n",
       "244641  469.0  6306.247335  1790.611195  2690.0  5000.0  6040.0  7360.0   \n",
       "\n",
       "            max  \n",
       "104641  13490.0  \n",
       "144641  13490.0  \n",
       "244641  13490.0  "
      ]
     },
     "execution_count": 15,
     "metadata": {},
     "output_type": "execute_result"
    }
   ],
   "source": [
    "df_m4_stats[df_m4_stats['ts_name']=='M1']"
   ]
  },
  {
   "cell_type": "markdown",
   "id": "118d0f8d-b06c-4ed9-8b0b-d1ef87d945b8",
   "metadata": {},
   "source": [
    "### Sample Ouput UCR statsfile"
   ]
  },
  {
   "cell_type": "code",
   "execution_count": 19,
   "id": "9accc43a-a41f-487e-b429-8f43208e9d8e",
   "metadata": {},
   "outputs": [
    {
     "data": {
      "text/html": [
       "<div>\n",
       "<style scoped>\n",
       "    .dataframe tbody tr th:only-of-type {\n",
       "        vertical-align: middle;\n",
       "    }\n",
       "\n",
       "    .dataframe tbody tr th {\n",
       "        vertical-align: top;\n",
       "    }\n",
       "\n",
       "    .dataframe thead th {\n",
       "        text-align: right;\n",
       "    }\n",
       "</style>\n",
       "<table border=\"1\" class=\"dataframe\">\n",
       "  <thead>\n",
       "    <tr style=\"text-align: right;\">\n",
       "      <th></th>\n",
       "      <th>ts_name</th>\n",
       "      <th>freq_ids</th>\n",
       "      <th>type</th>\n",
       "      <th>no</th>\n",
       "      <th>class</th>\n",
       "      <th>m</th>\n",
       "      <th>b</th>\n",
       "      <th>count</th>\n",
       "      <th>mean</th>\n",
       "      <th>std</th>\n",
       "      <th>min</th>\n",
       "      <th>q25</th>\n",
       "      <th>q50</th>\n",
       "      <th>q75</th>\n",
       "      <th>max</th>\n",
       "    </tr>\n",
       "  </thead>\n",
       "  <tbody>\n",
       "    <tr>\n",
       "      <th>0</th>\n",
       "      <td>ACSF1</td>\n",
       "      <td>[340, 388, 370, 340, 388]</td>\n",
       "      <td>Hamming</td>\n",
       "      <td>0.0</td>\n",
       "      <td>9.0</td>\n",
       "      <td>1460</td>\n",
       "      <td>-2.927752e-06</td>\n",
       "      <td>0.002134</td>\n",
       "      <td>-1.541096e-09</td>\n",
       "      <td>1.0</td>\n",
       "      <td>-0.577967</td>\n",
       "      <td>-0.577967</td>\n",
       "      <td>-0.577967</td>\n",
       "      <td>0.012759</td>\n",
       "      <td>1.742434</td>\n",
       "    </tr>\n",
       "    <tr>\n",
       "      <th>1</th>\n",
       "      <td>ACSF1</td>\n",
       "      <td>[340, 388, 370, 340, 388]</td>\n",
       "      <td>Hamming</td>\n",
       "      <td>1.0</td>\n",
       "      <td>9.0</td>\n",
       "      <td>1460</td>\n",
       "      <td>3.756977e-06</td>\n",
       "      <td>-0.002682</td>\n",
       "      <td>5.684931e-10</td>\n",
       "      <td>1.0</td>\n",
       "      <td>-0.598240</td>\n",
       "      <td>-0.588575</td>\n",
       "      <td>-0.588332</td>\n",
       "      <td>0.027480</td>\n",
       "      <td>1.756899</td>\n",
       "    </tr>\n",
       "    <tr>\n",
       "      <th>2</th>\n",
       "      <td>ACSF1</td>\n",
       "      <td>[388, 340, 370, 388, 340]</td>\n",
       "      <td>Hamming</td>\n",
       "      <td>2.0</td>\n",
       "      <td>9.0</td>\n",
       "      <td>1460</td>\n",
       "      <td>-2.508553e-06</td>\n",
       "      <td>0.001803</td>\n",
       "      <td>-2.739726e-10</td>\n",
       "      <td>1.0</td>\n",
       "      <td>-0.586960</td>\n",
       "      <td>-0.582897</td>\n",
       "      <td>-0.582691</td>\n",
       "      <td>0.013297</td>\n",
       "      <td>1.757700</td>\n",
       "    </tr>\n",
       "    <tr>\n",
       "      <th>3</th>\n",
       "      <td>ACSF1</td>\n",
       "      <td>[340, 388, 370, 388, 340]</td>\n",
       "      <td>Hamming</td>\n",
       "      <td>3.0</td>\n",
       "      <td>9.0</td>\n",
       "      <td>1460</td>\n",
       "      <td>-9.970090e-06</td>\n",
       "      <td>0.007221</td>\n",
       "      <td>9.041096e-10</td>\n",
       "      <td>1.0</td>\n",
       "      <td>-0.591978</td>\n",
       "      <td>-0.590736</td>\n",
       "      <td>-0.583757</td>\n",
       "      <td>0.032882</td>\n",
       "      <td>1.746551</td>\n",
       "    </tr>\n",
       "    <tr>\n",
       "      <th>4</th>\n",
       "      <td>ACSF1</td>\n",
       "      <td>[340, 388, 370, 388, 340]</td>\n",
       "      <td>Hamming</td>\n",
       "      <td>4.0</td>\n",
       "      <td>9.0</td>\n",
       "      <td>1460</td>\n",
       "      <td>3.325016e-07</td>\n",
       "      <td>-0.000261</td>\n",
       "      <td>4.315069e-10</td>\n",
       "      <td>1.0</td>\n",
       "      <td>-0.577828</td>\n",
       "      <td>-0.577828</td>\n",
       "      <td>-0.577828</td>\n",
       "      <td>0.008326</td>\n",
       "      <td>1.743008</td>\n",
       "    </tr>\n",
       "  </tbody>\n",
       "</table>\n",
       "</div>"
      ],
      "text/org": [
       "|    | ts_name   | freq_ids                  | type    |   no |   class |    m |            b |        count |         mean |   std |       min |       q25 |       q50 |        q75 |     max |\n",
       "|----+-----------+---------------------------+---------+------+---------+------+--------------+--------------+--------------+-------+-----------+-----------+-----------+------------+---------|\n",
       "|  0 | ACSF1     | [340, 388, 370, 340, 388] | Hamming |    0 |       9 | 1460 | -2.92775e-06 |  0.00213395  | -1.5411e-09  |     1 | -0.577967 | -0.577967 | -0.577967 | 0.0127589  | 1.74243 |\n",
       "|  1 | ACSF1     | [340, 388, 370, 340, 388] | Hamming |    1 |       9 | 1460 |  3.75698e-06 | -0.00268207  |  5.68493e-10 |     1 | -0.59824  | -0.588575 | -0.588332 | 0.0274804  | 1.7569  |\n",
       "|  2 | ACSF1     | [388, 340, 370, 388, 340] | Hamming |    2 |       9 | 1460 | -2.50855e-06 |  0.00180329  | -2.73973e-10 |     1 | -0.58696  | -0.582897 | -0.582691 | 0.013297   | 1.7577  |\n",
       "|  3 | ACSF1     | [340, 388, 370, 388, 340] | Hamming |    3 |       9 | 1460 | -9.97009e-06 |  0.00722127  |  9.0411e-10  |     1 | -0.591978 | -0.590736 | -0.583757 | 0.0328823  | 1.74655 |\n",
       "|  4 | ACSF1     | [340, 388, 370, 388, 340] | Hamming |    4 |       9 | 1460 |  3.32502e-07 | -0.000261023 |  4.31507e-10 |     1 | -0.577828 | -0.577828 | -0.577828 | 0.00832645 | 1.74301 |"
      ],
      "text/plain": [
       "  ts_name                   freq_ids     type   no  class     m             b  \\\n",
       "0   ACSF1  [340, 388, 370, 340, 388]  Hamming  0.0    9.0  1460 -2.927752e-06   \n",
       "1   ACSF1  [340, 388, 370, 340, 388]  Hamming  1.0    9.0  1460  3.756977e-06   \n",
       "2   ACSF1  [388, 340, 370, 388, 340]  Hamming  2.0    9.0  1460 -2.508553e-06   \n",
       "3   ACSF1  [340, 388, 370, 388, 340]  Hamming  3.0    9.0  1460 -9.970090e-06   \n",
       "4   ACSF1  [340, 388, 370, 388, 340]  Hamming  4.0    9.0  1460  3.325016e-07   \n",
       "\n",
       "      count          mean  std       min       q25       q50       q75  \\\n",
       "0  0.002134 -1.541096e-09  1.0 -0.577967 -0.577967 -0.577967  0.012759   \n",
       "1 -0.002682  5.684931e-10  1.0 -0.598240 -0.588575 -0.588332  0.027480   \n",
       "2  0.001803 -2.739726e-10  1.0 -0.586960 -0.582897 -0.582691  0.013297   \n",
       "3  0.007221  9.041096e-10  1.0 -0.591978 -0.590736 -0.583757  0.032882   \n",
       "4 -0.000261  4.315069e-10  1.0 -0.577828 -0.577828 -0.577828  0.008326   \n",
       "\n",
       "        max  \n",
       "0  1.742434  \n",
       "1  1.756899  \n",
       "2  1.757700  \n",
       "3  1.746551  \n",
       "4  1.743008  "
      ]
     },
     "execution_count": 19,
     "metadata": {},
     "output_type": "execute_result"
    }
   ],
   "source": [
    "df_ucr_stats_test.head()"
   ]
  },
  {
   "cell_type": "markdown",
   "id": "f37865e6-87d7-4897-b1ab-0169978381bc",
   "metadata": {},
   "source": [
    "## Transform Frequencies M4"
   ]
  },
  {
   "cell_type": "code",
   "execution_count": 24,
   "id": "e6531fc2-4d7a-47e7-875d-d1a1b1b2b851",
   "metadata": {},
   "outputs": [],
   "source": [
    "def get_top_k_freq(PSD: np.array, k: int)->List[int]:\n",
    "    \"\"\" return top k indexes with largest PSD val\"\"\"\n",
    "    PSD = [np.real(val) for val in PSD]\n",
    "    return sorted(range(len(PSD)), key= lambda x: PSD[x])[-k:]"
   ]
  },
  {
   "cell_type": "code",
   "execution_count": 20,
   "id": "64379b61-03f7-4f76-ba35-cecf460444ac",
   "metadata": {},
   "outputs": [],
   "source": [
    "def get_freq_m4(s: pd.Series, k:int=5) -> List[float]:\n",
    "    \"\"\" compute frequencies for M4 pandas series\"\"\"\n",
    "    df = pd.DataFrame()\n",
    "    f=np.array(s.iloc[1:].dropna())\n",
    "    n = f.size\n",
    "    wdw = np.hamming(n)\n",
    "    freq = np.arange(n)/n\n",
    "\n",
    "    # FFT\n",
    "    fhat = np.fft.fft(f)\n",
    "    PSD = np.real(fhat * np.conj(fhat) / n)\n",
    "    top_fft_idx = get_top_k_freq(PSD,k)\n",
    "    fft_freq = freq[top_fft_idx]\n",
    "    df_tmp = pd.DataFrame(fft_freq, columns=['val'])\n",
    "    df_tmp['type']='FFT'\n",
    "    df = df.append(df_tmp)\n",
    "    # Hamming\n",
    "    fhat = np.fft.fft(f*wdw)\n",
    "    PSD = np.real(fhat * np.conj(fhat) / n)\n",
    "    freq = np.arange(n)/f.size\n",
    "    top_ham_idx = get_top_k_freq(PSD,k)\n",
    "    ham_freq = freq[top_ham_idx]\n",
    "    df_tmp = pd.DataFrame(ham_freq, columns=['val'])\n",
    "    df_tmp['type']='Hamming'\n",
    "    df = df.append(df_tmp)\n",
    "    # Welch\n",
    "    seg_length = np.floor(1/20*n)\n",
    "    if seg_length == 0:\n",
    "        seg_length=10\n",
    "    welch_freqs, PSD_welch = signal.welch(f, nperseg=seg_length,\n",
    "                                      window='hamming')\n",
    "    top_ham_idx = get_top_k_freq(PSD_welch,k)\n",
    "    welch_freq = freq[top_ham_idx]\n",
    "    df_tmp = pd.DataFrame(welch_freq, columns=['val'])\n",
    "    df_tmp['type']='Welch'\n",
    "    df = df.append(df_tmp)\n",
    "    \n",
    "    return df"
   ]
  },
  {
   "cell_type": "markdown",
   "id": "9c208b78-14e5-4a7f-a731-e08d23bb408e",
   "metadata": {},
   "source": [
    "## Transform to frequencies UCR"
   ]
  },
  {
   "cell_type": "code",
   "execution_count": 21,
   "id": "145c4de7-6d5e-45b6-95ac-2a05b5ea4805",
   "metadata": {},
   "outputs": [],
   "source": [
    "def get_freq_ucr(s: pd.Series, k:int=5) -> List[float]:\n",
    "    \"\"\" compute frequencies for M4 pandas series\"\"\"\n",
    "    df = pd.DataFrame()\n",
    "    f=np.array(s.iloc[3:].dropna())\n",
    "    n = f.size\n",
    "    wdw = np.hamming(n)\n",
    "    freq = np.arange(n)/n\n",
    "\n",
    "    # FFT\n",
    "    fhat = np.fft.fft(f)\n",
    "    PSD = np.real(fhat * np.conj(fhat) / n)\n",
    "    top_fft_idx = get_top_k_freq(PSD,k)\n",
    "    fft_freq = freq[top_fft_idx]\n",
    "    df_tmp = pd.DataFrame(fft_freq, columns=['val'])\n",
    "    df_tmp['type']='FFT'\n",
    "    df = df.append(df_tmp)\n",
    "    # Hamming\n",
    "    fhat = np.fft.fft(f*wdw)\n",
    "    PSD = np.real(fhat * np.conj(fhat) / n)\n",
    "    freq = np.arange(n)/f.size\n",
    "    top_ham_idx = get_top_k_freq(PSD,k)\n",
    "    ham_freq = freq[top_ham_idx]\n",
    "    df_tmp = pd.DataFrame(ham_freq, columns=['val'])\n",
    "    df_tmp['type']='Hamming'\n",
    "    df = df.append(df_tmp)\n",
    "    # Welch\n",
    "    seg_length = np.floor(1/20*n)\n",
    "    if seg_length == 0:\n",
    "        seg_length=10\n",
    "    welch_freqs, PSD_welch = signal.welch(f, nperseg=seg_length,\n",
    "                                      window='hamming')\n",
    "    top_ham_idx = get_top_k_freq(PSD_welch,k)\n",
    "    welch_freq = freq[top_ham_idx]\n",
    "    df_tmp = pd.DataFrame(welch_freq, columns=['val'])\n",
    "    df_tmp['type']='Welch'\n",
    "    df = df.append(df_tmp)\n",
    "    return df"
   ]
  },
  {
   "cell_type": "markdown",
   "id": "b849c2f2-f339-4a6b-a46b-1ab5f03b9083",
   "metadata": {},
   "source": [
    "### Test on Single Series"
   ]
  },
  {
   "cell_type": "code",
   "execution_count": 28,
   "id": "e5ac049e-78ca-469e-8441-e983a8fb023b",
   "metadata": {},
   "outputs": [
    {
     "data": {
      "text/html": [
       "<div>\n",
       "<style scoped>\n",
       "    .dataframe tbody tr th:only-of-type {\n",
       "        vertical-align: middle;\n",
       "    }\n",
       "\n",
       "    .dataframe tbody tr th {\n",
       "        vertical-align: top;\n",
       "    }\n",
       "\n",
       "    .dataframe thead th {\n",
       "        text-align: right;\n",
       "    }\n",
       "</style>\n",
       "<table border=\"1\" class=\"dataframe\">\n",
       "  <thead>\n",
       "    <tr style=\"text-align: right;\">\n",
       "      <th></th>\n",
       "      <th>V1</th>\n",
       "      <th>V2</th>\n",
       "      <th>V3</th>\n",
       "      <th>V4</th>\n",
       "      <th>V5</th>\n",
       "      <th>V6</th>\n",
       "      <th>V7</th>\n",
       "      <th>V8</th>\n",
       "      <th>V9</th>\n",
       "      <th>V10</th>\n",
       "      <th>...</th>\n",
       "      <th>V2589</th>\n",
       "      <th>V2590</th>\n",
       "      <th>V2591</th>\n",
       "      <th>V2592</th>\n",
       "      <th>V2593</th>\n",
       "      <th>V2594</th>\n",
       "      <th>V2595</th>\n",
       "      <th>V2596</th>\n",
       "      <th>V2597</th>\n",
       "      <th>V2598</th>\n",
       "    </tr>\n",
       "  </thead>\n",
       "  <tbody>\n",
       "    <tr>\n",
       "      <th>0</th>\n",
       "      <td>H1</td>\n",
       "      <td>605.0</td>\n",
       "      <td>586.0</td>\n",
       "      <td>586.0</td>\n",
       "      <td>559.0</td>\n",
       "      <td>511.0</td>\n",
       "      <td>443.0</td>\n",
       "      <td>422.0</td>\n",
       "      <td>395.0</td>\n",
       "      <td>382.0</td>\n",
       "      <td>...</td>\n",
       "      <td>NaN</td>\n",
       "      <td>NaN</td>\n",
       "      <td>NaN</td>\n",
       "      <td>NaN</td>\n",
       "      <td>NaN</td>\n",
       "      <td>NaN</td>\n",
       "      <td>NaN</td>\n",
       "      <td>NaN</td>\n",
       "      <td>NaN</td>\n",
       "      <td>NaN</td>\n",
       "    </tr>\n",
       "    <tr>\n",
       "      <th>1</th>\n",
       "      <td>H2</td>\n",
       "      <td>3124.0</td>\n",
       "      <td>2990.0</td>\n",
       "      <td>2862.0</td>\n",
       "      <td>2809.0</td>\n",
       "      <td>2544.0</td>\n",
       "      <td>2201.0</td>\n",
       "      <td>1996.0</td>\n",
       "      <td>1861.0</td>\n",
       "      <td>1735.0</td>\n",
       "      <td>...</td>\n",
       "      <td>NaN</td>\n",
       "      <td>NaN</td>\n",
       "      <td>NaN</td>\n",
       "      <td>NaN</td>\n",
       "      <td>NaN</td>\n",
       "      <td>NaN</td>\n",
       "      <td>NaN</td>\n",
       "      <td>NaN</td>\n",
       "      <td>NaN</td>\n",
       "      <td>NaN</td>\n",
       "    </tr>\n",
       "    <tr>\n",
       "      <th>2</th>\n",
       "      <td>H3</td>\n",
       "      <td>1828.0</td>\n",
       "      <td>1806.0</td>\n",
       "      <td>1897.0</td>\n",
       "      <td>1750.0</td>\n",
       "      <td>1679.0</td>\n",
       "      <td>1620.0</td>\n",
       "      <td>1463.0</td>\n",
       "      <td>1342.0</td>\n",
       "      <td>1192.0</td>\n",
       "      <td>...</td>\n",
       "      <td>NaN</td>\n",
       "      <td>NaN</td>\n",
       "      <td>NaN</td>\n",
       "      <td>NaN</td>\n",
       "      <td>NaN</td>\n",
       "      <td>NaN</td>\n",
       "      <td>NaN</td>\n",
       "      <td>NaN</td>\n",
       "      <td>NaN</td>\n",
       "      <td>NaN</td>\n",
       "    </tr>\n",
       "    <tr>\n",
       "      <th>3</th>\n",
       "      <td>H4</td>\n",
       "      <td>6454.0</td>\n",
       "      <td>6324.0</td>\n",
       "      <td>6075.0</td>\n",
       "      <td>5949.0</td>\n",
       "      <td>5858.0</td>\n",
       "      <td>5579.0</td>\n",
       "      <td>5163.0</td>\n",
       "      <td>4790.0</td>\n",
       "      <td>4478.0</td>\n",
       "      <td>...</td>\n",
       "      <td>NaN</td>\n",
       "      <td>NaN</td>\n",
       "      <td>NaN</td>\n",
       "      <td>NaN</td>\n",
       "      <td>NaN</td>\n",
       "      <td>NaN</td>\n",
       "      <td>NaN</td>\n",
       "      <td>NaN</td>\n",
       "      <td>NaN</td>\n",
       "      <td>NaN</td>\n",
       "    </tr>\n",
       "    <tr>\n",
       "      <th>4</th>\n",
       "      <td>H5</td>\n",
       "      <td>4263.0</td>\n",
       "      <td>4297.0</td>\n",
       "      <td>4236.0</td>\n",
       "      <td>4080.0</td>\n",
       "      <td>3883.0</td>\n",
       "      <td>3672.0</td>\n",
       "      <td>3248.0</td>\n",
       "      <td>2841.0</td>\n",
       "      <td>2513.0</td>\n",
       "      <td>...</td>\n",
       "      <td>NaN</td>\n",
       "      <td>NaN</td>\n",
       "      <td>NaN</td>\n",
       "      <td>NaN</td>\n",
       "      <td>NaN</td>\n",
       "      <td>NaN</td>\n",
       "      <td>NaN</td>\n",
       "      <td>NaN</td>\n",
       "      <td>NaN</td>\n",
       "      <td>NaN</td>\n",
       "    </tr>\n",
       "  </tbody>\n",
       "</table>\n",
       "<p>5 rows × 2598 columns</p>\n",
       "</div>"
      ],
      "text/org": [
       "|    | V1   |   V2 |   V3 |   V4 |   V5 |   V6 |   V7 |   V8 |   V9 |   V10 |   V11 |   V12 |   V13 |   V14 |   V15 |   V16 |   V17 |   V18 |   V19 |   V20 |   V21 |   V22 |   V23 |   V24 |   V25 |   V26 |   V27 |   V28 |   V29 |   V30 |   V31 |   V32 |   V33 |   V34 |   V35 |   V36 |   V37 |   V38 |   V39 |   V40 |   V41 |   V42 |   V43 |   V44 |   V45 |   V46 |   V47 |   V48 |   V49 |   V50 |   V51 |   V52 |   V53 |   V54 |   V55 |   V56 |   V57 |   V58 |   V59 |   V60 |   V61 |   V62 |   V63 |   V64 |   V65 |   V66 |   V67 |   V68 |   V69 |   V70 |   V71 |   V72 |   V73 |   V74 |   V75 |   V76 |   V77 |   V78 |   V79 |   V80 |   V81 |   V82 |   V83 |   V84 |   V85 |   V86 |   V87 |   V88 |   V89 |   V90 |   V91 |   V92 |   V93 |   V94 |   V95 |   V96 |   V97 |   V98 |   V99 |   V100 |   V101 |   V102 |   V103 |   V104 |   V105 |   V106 |   V107 |   V108 |   V109 |   V110 |   V111 |   V112 |   V113 |   V114 |   V115 |   V116 |   V117 |   V118 |   V119 |   V120 |   V121 |   V122 |   V123 |   V124 |   V125 |   V126 |   V127 |   V128 |   V129 |   V130 |   V131 |   V132 |   V133 |   V134 |   V135 |   V136 |   V137 |   V138 |   V139 |   V140 |   V141 |   V142 |   V143 |   V144 |   V145 |   V146 |   V147 |   V148 |   V149 |   V150 |   V151 |   V152 |   V153 |   V154 |   V155 |   V156 |   V157 |   V158 |   V159 |   V160 |   V161 |   V162 |   V163 |   V164 |   V165 |   V166 |   V167 |   V168 |   V169 |   V170 |   V171 |   V172 |   V173 |   V174 |   V175 |   V176 |   V177 |   V178 |   V179 |   V180 |   V181 |   V182 |   V183 |   V184 |   V185 |   V186 |   V187 |   V188 |   V189 |   V190 |   V191 |   V192 |   V193 |   V194 |   V195 |   V196 |   V197 |   V198 |   V199 |   V200 |   V201 |   V202 |   V203 |   V204 |   V205 |   V206 |   V207 |   V208 |   V209 |   V210 |   V211 |   V212 |   V213 |   V214 |   V215 |   V216 |   V217 |   V218 |   V219 |   V220 |   V221 |   V222 |   V223 |   V224 |   V225 |   V226 |   V227 |   V228 |   V229 |   V230 |   V231 |   V232 |   V233 |   V234 |   V235 |   V236 |   V237 |   V238 |   V239 |   V240 |   V241 |   V242 |   V243 |   V244 |   V245 |   V246 |   V247 |   V248 |   V249 |   V250 |   V251 |   V252 |   V253 |   V254 |   V255 |   V256 |   V257 |   V258 |   V259 |   V260 |   V261 |   V262 |   V263 |   V264 |   V265 |   V266 |   V267 |   V268 |   V269 |   V270 |   V271 |   V272 |   V273 |   V274 |   V275 |   V276 |   V277 |   V278 |   V279 |   V280 |   V281 |   V282 |   V283 |   V284 |   V285 |   V286 |   V287 |   V288 |   V289 |   V290 |   V291 |   V292 |   V293 |   V294 |   V295 |   V296 |   V297 |   V298 |   V299 |   V300 |   V301 |   V302 |   V303 |   V304 |   V305 |   V306 |   V307 |   V308 |   V309 |   V310 |   V311 |   V312 |   V313 |   V314 |   V315 |   V316 |   V317 |   V318 |   V319 |   V320 |   V321 |   V322 |   V323 |   V324 |   V325 |   V326 |   V327 |   V328 |   V329 |   V330 |   V331 |   V332 |   V333 |   V334 |   V335 |   V336 |   V337 |   V338 |   V339 |   V340 |   V341 |   V342 |   V343 |   V344 |   V345 |   V346 |   V347 |   V348 |   V349 |   V350 |   V351 |   V352 |   V353 |   V354 |   V355 |   V356 |   V357 |   V358 |   V359 |   V360 |   V361 |   V362 |   V363 |   V364 |   V365 |   V366 |   V367 |   V368 |   V369 |   V370 |   V371 |   V372 |   V373 |   V374 |   V375 |   V376 |   V377 |   V378 |   V379 |   V380 |   V381 |   V382 |   V383 |   V384 |   V385 |   V386 |   V387 |   V388 |   V389 |   V390 |   V391 |   V392 |   V393 |   V394 |   V395 |   V396 |   V397 |   V398 |   V399 |   V400 |   V401 |   V402 |   V403 |   V404 |   V405 |   V406 |   V407 |   V408 |   V409 |   V410 |   V411 |   V412 |   V413 |   V414 |   V415 |   V416 |   V417 |   V418 |   V419 |   V420 |   V421 |   V422 |   V423 |   V424 |   V425 |   V426 |   V427 |   V428 |   V429 |   V430 |   V431 |   V432 |   V433 |   V434 |   V435 |   V436 |   V437 |   V438 |   V439 |   V440 |   V441 |   V442 |   V443 |   V444 |   V445 |   V446 |   V447 |   V448 |   V449 |   V450 |   V451 |   V452 |   V453 |   V454 |   V455 |   V456 |   V457 |   V458 |   V459 |   V460 |   V461 |   V462 |   V463 |   V464 |   V465 |   V466 |   V467 |   V468 |   V469 |   V470 |   V471 |   V472 |   V473 |   V474 |   V475 |   V476 |   V477 |   V478 |   V479 |   V480 |   V481 |   V482 |   V483 |   V484 |   V485 |   V486 |   V487 |   V488 |   V489 |   V490 |   V491 |   V492 |   V493 |   V494 |   V495 |   V496 |   V497 |   V498 |   V499 |   V500 |   V501 |   V502 |   V503 |   V504 |   V505 |   V506 |   V507 |   V508 |   V509 |   V510 |   V511 |   V512 |   V513 |   V514 |   V515 |   V516 |   V517 |   V518 |   V519 |   V520 |   V521 |   V522 |   V523 |   V524 |   V525 |   V526 |   V527 |   V528 |   V529 |   V530 |   V531 |   V532 |   V533 |   V534 |   V535 |   V536 |   V537 |   V538 |   V539 |   V540 |   V541 |   V542 |   V543 |   V544 |   V545 |   V546 |   V547 |   V548 |   V549 |   V550 |   V551 |   V552 |   V553 |   V554 |   V555 |   V556 |   V557 |   V558 |   V559 |   V560 |   V561 |   V562 |   V563 |   V564 |   V565 |   V566 |   V567 |   V568 |   V569 |   V570 |   V571 |   V572 |   V573 |   V574 |   V575 |   V576 |   V577 |   V578 |   V579 |   V580 |   V581 |   V582 |   V583 |   V584 |   V585 |   V586 |   V587 |   V588 |   V589 |   V590 |   V591 |   V592 |   V593 |   V594 |   V595 |   V596 |   V597 |   V598 |   V599 |   V600 |   V601 |   V602 |   V603 |   V604 |   V605 |   V606 |   V607 |   V608 |   V609 |   V610 |   V611 |   V612 |   V613 |   V614 |   V615 |   V616 |   V617 |   V618 |   V619 |   V620 |   V621 |   V622 |   V623 |   V624 |   V625 |   V626 |   V627 |   V628 |   V629 |   V630 |   V631 |   V632 |   V633 |   V634 |   V635 |   V636 |   V637 |   V638 |   V639 |   V640 |   V641 |   V642 |   V643 |   V644 |   V645 |   V646 |   V647 |   V648 |   V649 |   V650 |   V651 |   V652 |   V653 |   V654 |   V655 |   V656 |   V657 |   V658 |   V659 |   V660 |   V661 |   V662 |   V663 |   V664 |   V665 |   V666 |   V667 |   V668 |   V669 |   V670 |   V671 |   V672 |   V673 |   V674 |   V675 |   V676 |   V677 |   V678 |   V679 |   V680 |   V681 |   V682 |   V683 |   V684 |   V685 |   V686 |   V687 |   V688 |   V689 |   V690 |   V691 |   V692 |   V693 |   V694 |   V695 |   V696 |   V697 |   V698 |   V699 |   V700 |   V701 |   V702 |   V703 |   V704 |   V705 |   V706 |   V707 |   V708 |   V709 |   V710 |   V711 |   V712 |   V713 |   V714 |   V715 |   V716 |   V717 |   V718 |   V719 |   V720 |   V721 |   V722 |   V723 |   V724 |   V725 |   V726 |   V727 |   V728 |   V729 |   V730 |   V731 |   V732 |   V733 |   V734 |   V735 |   V736 |   V737 |   V738 |   V739 |   V740 |   V741 |   V742 |   V743 |   V744 |   V745 |   V746 |   V747 |   V748 |   V749 |   V750 |   V751 |   V752 |   V753 |   V754 |   V755 |   V756 |   V757 |   V758 |   V759 |   V760 |   V761 |   V762 |   V763 |   V764 |   V765 |   V766 |   V767 |   V768 |   V769 |   V770 |   V771 |   V772 |   V773 |   V774 |   V775 |   V776 |   V777 |   V778 |   V779 |   V780 |   V781 |   V782 |   V783 |   V784 |   V785 |   V786 |   V787 |   V788 |   V789 |   V790 |   V791 |   V792 |   V793 |   V794 |   V795 |   V796 |   V797 |   V798 |   V799 |   V800 |   V801 |   V802 |   V803 |   V804 |   V805 |   V806 |   V807 |   V808 |   V809 |   V810 |   V811 |   V812 |   V813 |   V814 |   V815 |   V816 |   V817 |   V818 |   V819 |   V820 |   V821 |   V822 |   V823 |   V824 |   V825 |   V826 |   V827 |   V828 |   V829 |   V830 |   V831 |   V832 |   V833 |   V834 |   V835 |   V836 |   V837 |   V838 |   V839 |   V840 |   V841 |   V842 |   V843 |   V844 |   V845 |   V846 |   V847 |   V848 |   V849 |   V850 |   V851 |   V852 |   V853 |   V854 |   V855 |   V856 |   V857 |   V858 |   V859 |   V860 |   V861 |   V862 |   V863 |   V864 |   V865 |   V866 |   V867 |   V868 |   V869 |   V870 |   V871 |   V872 |   V873 |   V874 |   V875 |   V876 |   V877 |   V878 |   V879 |   V880 |   V881 |   V882 |   V883 |   V884 |   V885 |   V886 |   V887 |   V888 |   V889 |   V890 |   V891 |   V892 |   V893 |   V894 |   V895 |   V896 |   V897 |   V898 |   V899 |   V900 |   V901 |   V902 |   V903 |   V904 |   V905 |   V906 |   V907 |   V908 |   V909 |   V910 |   V911 |   V912 |   V913 |   V914 |   V915 |   V916 |   V917 |   V918 |   V919 |   V920 |   V921 |   V922 |   V923 |   V924 |   V925 |   V926 |   V927 |   V928 |   V929 |   V930 |   V931 |   V932 |   V933 |   V934 |   V935 |   V936 |   V937 |   V938 |   V939 |   V940 |   V941 |   V942 |   V943 |   V944 |   V945 |   V946 |   V947 |   V948 |   V949 |   V950 |   V951 |   V952 |   V953 |   V954 |   V955 |   V956 |   V957 |   V958 |   V959 |   V960 |   V961 |   V962 |   V963 |   V964 |   V965 |   V966 |   V967 |   V968 |   V969 |   V970 |   V971 |   V972 |   V973 |   V974 |   V975 |   V976 |   V977 |   V978 |   V979 |   V980 |   V981 |   V982 |   V983 |   V984 |   V985 |   V986 |   V987 |   V988 |   V989 |   V990 |   V991 |   V992 |   V993 |   V994 |   V995 |   V996 |   V997 |   V998 |   V999 |   V1000 |   V1001 |   V1002 |   V1003 |   V1004 |   V1005 |   V1006 |   V1007 |   V1008 |   V1009 |   V1010 |   V1011 |   V1012 |   V1013 |   V1014 |   V1015 |   V1016 |   V1017 |   V1018 |   V1019 |   V1020 |   V1021 |   V1022 |   V1023 |   V1024 |   V1025 |   V1026 |   V1027 |   V1028 |   V1029 |   V1030 |   V1031 |   V1032 |   V1033 |   V1034 |   V1035 |   V1036 |   V1037 |   V1038 |   V1039 |   V1040 |   V1041 |   V1042 |   V1043 |   V1044 |   V1045 |   V1046 |   V1047 |   V1048 |   V1049 |   V1050 |   V1051 |   V1052 |   V1053 |   V1054 |   V1055 |   V1056 |   V1057 |   V1058 |   V1059 |   V1060 |   V1061 |   V1062 |   V1063 |   V1064 |   V1065 |   V1066 |   V1067 |   V1068 |   V1069 |   V1070 |   V1071 |   V1072 |   V1073 |   V1074 |   V1075 |   V1076 |   V1077 |   V1078 |   V1079 |   V1080 |   V1081 |   V1082 |   V1083 |   V1084 |   V1085 |   V1086 |   V1087 |   V1088 |   V1089 |   V1090 |   V1091 |   V1092 |   V1093 |   V1094 |   V1095 |   V1096 |   V1097 |   V1098 |   V1099 |   V1100 |   V1101 |   V1102 |   V1103 |   V1104 |   V1105 |   V1106 |   V1107 |   V1108 |   V1109 |   V1110 |   V1111 |   V1112 |   V1113 |   V1114 |   V1115 |   V1116 |   V1117 |   V1118 |   V1119 |   V1120 |   V1121 |   V1122 |   V1123 |   V1124 |   V1125 |   V1126 |   V1127 |   V1128 |   V1129 |   V1130 |   V1131 |   V1132 |   V1133 |   V1134 |   V1135 |   V1136 |   V1137 |   V1138 |   V1139 |   V1140 |   V1141 |   V1142 |   V1143 |   V1144 |   V1145 |   V1146 |   V1147 |   V1148 |   V1149 |   V1150 |   V1151 |   V1152 |   V1153 |   V1154 |   V1155 |   V1156 |   V1157 |   V1158 |   V1159 |   V1160 |   V1161 |   V1162 |   V1163 |   V1164 |   V1165 |   V1166 |   V1167 |   V1168 |   V1169 |   V1170 |   V1171 |   V1172 |   V1173 |   V1174 |   V1175 |   V1176 |   V1177 |   V1178 |   V1179 |   V1180 |   V1181 |   V1182 |   V1183 |   V1184 |   V1185 |   V1186 |   V1187 |   V1188 |   V1189 |   V1190 |   V1191 |   V1192 |   V1193 |   V1194 |   V1195 |   V1196 |   V1197 |   V1198 |   V1199 |   V1200 |   V1201 |   V1202 |   V1203 |   V1204 |   V1205 |   V1206 |   V1207 |   V1208 |   V1209 |   V1210 |   V1211 |   V1212 |   V1213 |   V1214 |   V1215 |   V1216 |   V1217 |   V1218 |   V1219 |   V1220 |   V1221 |   V1222 |   V1223 |   V1224 |   V1225 |   V1226 |   V1227 |   V1228 |   V1229 |   V1230 |   V1231 |   V1232 |   V1233 |   V1234 |   V1235 |   V1236 |   V1237 |   V1238 |   V1239 |   V1240 |   V1241 |   V1242 |   V1243 |   V1244 |   V1245 |   V1246 |   V1247 |   V1248 |   V1249 |   V1250 |   V1251 |   V1252 |   V1253 |   V1254 |   V1255 |   V1256 |   V1257 |   V1258 |   V1259 |   V1260 |   V1261 |   V1262 |   V1263 |   V1264 |   V1265 |   V1266 |   V1267 |   V1268 |   V1269 |   V1270 |   V1271 |   V1272 |   V1273 |   V1274 |   V1275 |   V1276 |   V1277 |   V1278 |   V1279 |   V1280 |   V1281 |   V1282 |   V1283 |   V1284 |   V1285 |   V1286 |   V1287 |   V1288 |   V1289 |   V1290 |   V1291 |   V1292 |   V1293 |   V1294 |   V1295 |   V1296 |   V1297 |   V1298 |   V1299 |   V1300 |   V1301 |   V1302 |   V1303 |   V1304 |   V1305 |   V1306 |   V1307 |   V1308 |   V1309 |   V1310 |   V1311 |   V1312 |   V1313 |   V1314 |   V1315 |   V1316 |   V1317 |   V1318 |   V1319 |   V1320 |   V1321 |   V1322 |   V1323 |   V1324 |   V1325 |   V1326 |   V1327 |   V1328 |   V1329 |   V1330 |   V1331 |   V1332 |   V1333 |   V1334 |   V1335 |   V1336 |   V1337 |   V1338 |   V1339 |   V1340 |   V1341 |   V1342 |   V1343 |   V1344 |   V1345 |   V1346 |   V1347 |   V1348 |   V1349 |   V1350 |   V1351 |   V1352 |   V1353 |   V1354 |   V1355 |   V1356 |   V1357 |   V1358 |   V1359 |   V1360 |   V1361 |   V1362 |   V1363 |   V1364 |   V1365 |   V1366 |   V1367 |   V1368 |   V1369 |   V1370 |   V1371 |   V1372 |   V1373 |   V1374 |   V1375 |   V1376 |   V1377 |   V1378 |   V1379 |   V1380 |   V1381 |   V1382 |   V1383 |   V1384 |   V1385 |   V1386 |   V1387 |   V1388 |   V1389 |   V1390 |   V1391 |   V1392 |   V1393 |   V1394 |   V1395 |   V1396 |   V1397 |   V1398 |   V1399 |   V1400 |   V1401 |   V1402 |   V1403 |   V1404 |   V1405 |   V1406 |   V1407 |   V1408 |   V1409 |   V1410 |   V1411 |   V1412 |   V1413 |   V1414 |   V1415 |   V1416 |   V1417 |   V1418 |   V1419 |   V1420 |   V1421 |   V1422 |   V1423 |   V1424 |   V1425 |   V1426 |   V1427 |   V1428 |   V1429 |   V1430 |   V1431 |   V1432 |   V1433 |   V1434 |   V1435 |   V1436 |   V1437 |   V1438 |   V1439 |   V1440 |   V1441 |   V1442 |   V1443 |   V1444 |   V1445 |   V1446 |   V1447 |   V1448 |   V1449 |   V1450 |   V1451 |   V1452 |   V1453 |   V1454 |   V1455 |   V1456 |   V1457 |   V1458 |   V1459 |   V1460 |   V1461 |   V1462 |   V1463 |   V1464 |   V1465 |   V1466 |   V1467 |   V1468 |   V1469 |   V1470 |   V1471 |   V1472 |   V1473 |   V1474 |   V1475 |   V1476 |   V1477 |   V1478 |   V1479 |   V1480 |   V1481 |   V1482 |   V1483 |   V1484 |   V1485 |   V1486 |   V1487 |   V1488 |   V1489 |   V1490 |   V1491 |   V1492 |   V1493 |   V1494 |   V1495 |   V1496 |   V1497 |   V1498 |   V1499 |   V1500 |   V1501 |   V1502 |   V1503 |   V1504 |   V1505 |   V1506 |   V1507 |   V1508 |   V1509 |   V1510 |   V1511 |   V1512 |   V1513 |   V1514 |   V1515 |   V1516 |   V1517 |   V1518 |   V1519 |   V1520 |   V1521 |   V1522 |   V1523 |   V1524 |   V1525 |   V1526 |   V1527 |   V1528 |   V1529 |   V1530 |   V1531 |   V1532 |   V1533 |   V1534 |   V1535 |   V1536 |   V1537 |   V1538 |   V1539 |   V1540 |   V1541 |   V1542 |   V1543 |   V1544 |   V1545 |   V1546 |   V1547 |   V1548 |   V1549 |   V1550 |   V1551 |   V1552 |   V1553 |   V1554 |   V1555 |   V1556 |   V1557 |   V1558 |   V1559 |   V1560 |   V1561 |   V1562 |   V1563 |   V1564 |   V1565 |   V1566 |   V1567 |   V1568 |   V1569 |   V1570 |   V1571 |   V1572 |   V1573 |   V1574 |   V1575 |   V1576 |   V1577 |   V1578 |   V1579 |   V1580 |   V1581 |   V1582 |   V1583 |   V1584 |   V1585 |   V1586 |   V1587 |   V1588 |   V1589 |   V1590 |   V1591 |   V1592 |   V1593 |   V1594 |   V1595 |   V1596 |   V1597 |   V1598 |   V1599 |   V1600 |   V1601 |   V1602 |   V1603 |   V1604 |   V1605 |   V1606 |   V1607 |   V1608 |   V1609 |   V1610 |   V1611 |   V1612 |   V1613 |   V1614 |   V1615 |   V1616 |   V1617 |   V1618 |   V1619 |   V1620 |   V1621 |   V1622 |   V1623 |   V1624 |   V1625 |   V1626 |   V1627 |   V1628 |   V1629 |   V1630 |   V1631 |   V1632 |   V1633 |   V1634 |   V1635 |   V1636 |   V1637 |   V1638 |   V1639 |   V1640 |   V1641 |   V1642 |   V1643 |   V1644 |   V1645 |   V1646 |   V1647 |   V1648 |   V1649 |   V1650 |   V1651 |   V1652 |   V1653 |   V1654 |   V1655 |   V1656 |   V1657 |   V1658 |   V1659 |   V1660 |   V1661 |   V1662 |   V1663 |   V1664 |   V1665 |   V1666 |   V1667 |   V1668 |   V1669 |   V1670 |   V1671 |   V1672 |   V1673 |   V1674 |   V1675 |   V1676 |   V1677 |   V1678 |   V1679 |   V1680 |   V1681 |   V1682 |   V1683 |   V1684 |   V1685 |   V1686 |   V1687 |   V1688 |   V1689 |   V1690 |   V1691 |   V1692 |   V1693 |   V1694 |   V1695 |   V1696 |   V1697 |   V1698 |   V1699 |   V1700 |   V1701 |   V1702 |   V1703 |   V1704 |   V1705 |   V1706 |   V1707 |   V1708 |   V1709 |   V1710 |   V1711 |   V1712 |   V1713 |   V1714 |   V1715 |   V1716 |   V1717 |   V1718 |   V1719 |   V1720 |   V1721 |   V1722 |   V1723 |   V1724 |   V1725 |   V1726 |   V1727 |   V1728 |   V1729 |   V1730 |   V1731 |   V1732 |   V1733 |   V1734 |   V1735 |   V1736 |   V1737 |   V1738 |   V1739 |   V1740 |   V1741 |   V1742 |   V1743 |   V1744 |   V1745 |   V1746 |   V1747 |   V1748 |   V1749 |   V1750 |   V1751 |   V1752 |   V1753 |   V1754 |   V1755 |   V1756 |   V1757 |   V1758 |   V1759 |   V1760 |   V1761 |   V1762 |   V1763 |   V1764 |   V1765 |   V1766 |   V1767 |   V1768 |   V1769 |   V1770 |   V1771 |   V1772 |   V1773 |   V1774 |   V1775 |   V1776 |   V1777 |   V1778 |   V1779 |   V1780 |   V1781 |   V1782 |   V1783 |   V1784 |   V1785 |   V1786 |   V1787 |   V1788 |   V1789 |   V1790 |   V1791 |   V1792 |   V1793 |   V1794 |   V1795 |   V1796 |   V1797 |   V1798 |   V1799 |   V1800 |   V1801 |   V1802 |   V1803 |   V1804 |   V1805 |   V1806 |   V1807 |   V1808 |   V1809 |   V1810 |   V1811 |   V1812 |   V1813 |   V1814 |   V1815 |   V1816 |   V1817 |   V1818 |   V1819 |   V1820 |   V1821 |   V1822 |   V1823 |   V1824 |   V1825 |   V1826 |   V1827 |   V1828 |   V1829 |   V1830 |   V1831 |   V1832 |   V1833 |   V1834 |   V1835 |   V1836 |   V1837 |   V1838 |   V1839 |   V1840 |   V1841 |   V1842 |   V1843 |   V1844 |   V1845 |   V1846 |   V1847 |   V1848 |   V1849 |   V1850 |   V1851 |   V1852 |   V1853 |   V1854 |   V1855 |   V1856 |   V1857 |   V1858 |   V1859 |   V1860 |   V1861 |   V1862 |   V1863 |   V1864 |   V1865 |   V1866 |   V1867 |   V1868 |   V1869 |   V1870 |   V1871 |   V1872 |   V1873 |   V1874 |   V1875 |   V1876 |   V1877 |   V1878 |   V1879 |   V1880 |   V1881 |   V1882 |   V1883 |   V1884 |   V1885 |   V1886 |   V1887 |   V1888 |   V1889 |   V1890 |   V1891 |   V1892 |   V1893 |   V1894 |   V1895 |   V1896 |   V1897 |   V1898 |   V1899 |   V1900 |   V1901 |   V1902 |   V1903 |   V1904 |   V1905 |   V1906 |   V1907 |   V1908 |   V1909 |   V1910 |   V1911 |   V1912 |   V1913 |   V1914 |   V1915 |   V1916 |   V1917 |   V1918 |   V1919 |   V1920 |   V1921 |   V1922 |   V1923 |   V1924 |   V1925 |   V1926 |   V1927 |   V1928 |   V1929 |   V1930 |   V1931 |   V1932 |   V1933 |   V1934 |   V1935 |   V1936 |   V1937 |   V1938 |   V1939 |   V1940 |   V1941 |   V1942 |   V1943 |   V1944 |   V1945 |   V1946 |   V1947 |   V1948 |   V1949 |   V1950 |   V1951 |   V1952 |   V1953 |   V1954 |   V1955 |   V1956 |   V1957 |   V1958 |   V1959 |   V1960 |   V1961 |   V1962 |   V1963 |   V1964 |   V1965 |   V1966 |   V1967 |   V1968 |   V1969 |   V1970 |   V1971 |   V1972 |   V1973 |   V1974 |   V1975 |   V1976 |   V1977 |   V1978 |   V1979 |   V1980 |   V1981 |   V1982 |   V1983 |   V1984 |   V1985 |   V1986 |   V1987 |   V1988 |   V1989 |   V1990 |   V1991 |   V1992 |   V1993 |   V1994 |   V1995 |   V1996 |   V1997 |   V1998 |   V1999 |   V2000 |   V2001 |   V2002 |   V2003 |   V2004 |   V2005 |   V2006 |   V2007 |   V2008 |   V2009 |   V2010 |   V2011 |   V2012 |   V2013 |   V2014 |   V2015 |   V2016 |   V2017 |   V2018 |   V2019 |   V2020 |   V2021 |   V2022 |   V2023 |   V2024 |   V2025 |   V2026 |   V2027 |   V2028 |   V2029 |   V2030 |   V2031 |   V2032 |   V2033 |   V2034 |   V2035 |   V2036 |   V2037 |   V2038 |   V2039 |   V2040 |   V2041 |   V2042 |   V2043 |   V2044 |   V2045 |   V2046 |   V2047 |   V2048 |   V2049 |   V2050 |   V2051 |   V2052 |   V2053 |   V2054 |   V2055 |   V2056 |   V2057 |   V2058 |   V2059 |   V2060 |   V2061 |   V2062 |   V2063 |   V2064 |   V2065 |   V2066 |   V2067 |   V2068 |   V2069 |   V2070 |   V2071 |   V2072 |   V2073 |   V2074 |   V2075 |   V2076 |   V2077 |   V2078 |   V2079 |   V2080 |   V2081 |   V2082 |   V2083 |   V2084 |   V2085 |   V2086 |   V2087 |   V2088 |   V2089 |   V2090 |   V2091 |   V2092 |   V2093 |   V2094 |   V2095 |   V2096 |   V2097 |   V2098 |   V2099 |   V2100 |   V2101 |   V2102 |   V2103 |   V2104 |   V2105 |   V2106 |   V2107 |   V2108 |   V2109 |   V2110 |   V2111 |   V2112 |   V2113 |   V2114 |   V2115 |   V2116 |   V2117 |   V2118 |   V2119 |   V2120 |   V2121 |   V2122 |   V2123 |   V2124 |   V2125 |   V2126 |   V2127 |   V2128 |   V2129 |   V2130 |   V2131 |   V2132 |   V2133 |   V2134 |   V2135 |   V2136 |   V2137 |   V2138 |   V2139 |   V2140 |   V2141 |   V2142 |   V2143 |   V2144 |   V2145 |   V2146 |   V2147 |   V2148 |   V2149 |   V2150 |   V2151 |   V2152 |   V2153 |   V2154 |   V2155 |   V2156 |   V2157 |   V2158 |   V2159 |   V2160 |   V2161 |   V2162 |   V2163 |   V2164 |   V2165 |   V2166 |   V2167 |   V2168 |   V2169 |   V2170 |   V2171 |   V2172 |   V2173 |   V2174 |   V2175 |   V2176 |   V2177 |   V2178 |   V2179 |   V2180 |   V2181 |   V2182 |   V2183 |   V2184 |   V2185 |   V2186 |   V2187 |   V2188 |   V2189 |   V2190 |   V2191 |   V2192 |   V2193 |   V2194 |   V2195 |   V2196 |   V2197 |   V2198 |   V2199 |   V2200 |   V2201 |   V2202 |   V2203 |   V2204 |   V2205 |   V2206 |   V2207 |   V2208 |   V2209 |   V2210 |   V2211 |   V2212 |   V2213 |   V2214 |   V2215 |   V2216 |   V2217 |   V2218 |   V2219 |   V2220 |   V2221 |   V2222 |   V2223 |   V2224 |   V2225 |   V2226 |   V2227 |   V2228 |   V2229 |   V2230 |   V2231 |   V2232 |   V2233 |   V2234 |   V2235 |   V2236 |   V2237 |   V2238 |   V2239 |   V2240 |   V2241 |   V2242 |   V2243 |   V2244 |   V2245 |   V2246 |   V2247 |   V2248 |   V2249 |   V2250 |   V2251 |   V2252 |   V2253 |   V2254 |   V2255 |   V2256 |   V2257 |   V2258 |   V2259 |   V2260 |   V2261 |   V2262 |   V2263 |   V2264 |   V2265 |   V2266 |   V2267 |   V2268 |   V2269 |   V2270 |   V2271 |   V2272 |   V2273 |   V2274 |   V2275 |   V2276 |   V2277 |   V2278 |   V2279 |   V2280 |   V2281 |   V2282 |   V2283 |   V2284 |   V2285 |   V2286 |   V2287 |   V2288 |   V2289 |   V2290 |   V2291 |   V2292 |   V2293 |   V2294 |   V2295 |   V2296 |   V2297 |   V2298 |   V2299 |   V2300 |   V2301 |   V2302 |   V2303 |   V2304 |   V2305 |   V2306 |   V2307 |   V2308 |   V2309 |   V2310 |   V2311 |   V2312 |   V2313 |   V2314 |   V2315 |   V2316 |   V2317 |   V2318 |   V2319 |   V2320 |   V2321 |   V2322 |   V2323 |   V2324 |   V2325 |   V2326 |   V2327 |   V2328 |   V2329 |   V2330 |   V2331 |   V2332 |   V2333 |   V2334 |   V2335 |   V2336 |   V2337 |   V2338 |   V2339 |   V2340 |   V2341 |   V2342 |   V2343 |   V2344 |   V2345 |   V2346 |   V2347 |   V2348 |   V2349 |   V2350 |   V2351 |   V2352 |   V2353 |   V2354 |   V2355 |   V2356 |   V2357 |   V2358 |   V2359 |   V2360 |   V2361 |   V2362 |   V2363 |   V2364 |   V2365 |   V2366 |   V2367 |   V2368 |   V2369 |   V2370 |   V2371 |   V2372 |   V2373 |   V2374 |   V2375 |   V2376 |   V2377 |   V2378 |   V2379 |   V2380 |   V2381 |   V2382 |   V2383 |   V2384 |   V2385 |   V2386 |   V2387 |   V2388 |   V2389 |   V2390 |   V2391 |   V2392 |   V2393 |   V2394 |   V2395 |   V2396 |   V2397 |   V2398 |   V2399 |   V2400 |   V2401 |   V2402 |   V2403 |   V2404 |   V2405 |   V2406 |   V2407 |   V2408 |   V2409 |   V2410 |   V2411 |   V2412 |   V2413 |   V2414 |   V2415 |   V2416 |   V2417 |   V2418 |   V2419 |   V2420 |   V2421 |   V2422 |   V2423 |   V2424 |   V2425 |   V2426 |   V2427 |   V2428 |   V2429 |   V2430 |   V2431 |   V2432 |   V2433 |   V2434 |   V2435 |   V2436 |   V2437 |   V2438 |   V2439 |   V2440 |   V2441 |   V2442 |   V2443 |   V2444 |   V2445 |   V2446 |   V2447 |   V2448 |   V2449 |   V2450 |   V2451 |   V2452 |   V2453 |   V2454 |   V2455 |   V2456 |   V2457 |   V2458 |   V2459 |   V2460 |   V2461 |   V2462 |   V2463 |   V2464 |   V2465 |   V2466 |   V2467 |   V2468 |   V2469 |   V2470 |   V2471 |   V2472 |   V2473 |   V2474 |   V2475 |   V2476 |   V2477 |   V2478 |   V2479 |   V2480 |   V2481 |   V2482 |   V2483 |   V2484 |   V2485 |   V2486 |   V2487 |   V2488 |   V2489 |   V2490 |   V2491 |   V2492 |   V2493 |   V2494 |   V2495 |   V2496 |   V2497 |   V2498 |   V2499 |   V2500 |   V2501 |   V2502 |   V2503 |   V2504 |   V2505 |   V2506 |   V2507 |   V2508 |   V2509 |   V2510 |   V2511 |   V2512 |   V2513 |   V2514 |   V2515 |   V2516 |   V2517 |   V2518 |   V2519 |   V2520 |   V2521 |   V2522 |   V2523 |   V2524 |   V2525 |   V2526 |   V2527 |   V2528 |   V2529 |   V2530 |   V2531 |   V2532 |   V2533 |   V2534 |   V2535 |   V2536 |   V2537 |   V2538 |   V2539 |   V2540 |   V2541 |   V2542 |   V2543 |   V2544 |   V2545 |   V2546 |   V2547 |   V2548 |   V2549 |   V2550 |   V2551 |   V2552 |   V2553 |   V2554 |   V2555 |   V2556 |   V2557 |   V2558 |   V2559 |   V2560 |   V2561 |   V2562 |   V2563 |   V2564 |   V2565 |   V2566 |   V2567 |   V2568 |   V2569 |   V2570 |   V2571 |   V2572 |   V2573 |   V2574 |   V2575 |   V2576 |   V2577 |   V2578 |   V2579 |   V2580 |   V2581 |   V2582 |   V2583 |   V2584 |   V2585 |   V2586 |   V2587 |   V2588 |   V2589 |   V2590 |   V2591 |   V2592 |   V2593 |   V2594 |   V2595 |   V2596 |   V2597 |   V2598 |\n",
       "|----+------+------+------+------+------+------+------+------+------+-------+-------+-------+-------+-------+-------+-------+-------+-------+-------+-------+-------+-------+-------+-------+-------+-------+-------+-------+-------+-------+-------+-------+-------+-------+-------+-------+-------+-------+-------+-------+-------+-------+-------+-------+-------+-------+-------+-------+-------+-------+-------+-------+-------+-------+-------+-------+-------+-------+-------+-------+-------+-------+-------+-------+-------+-------+-------+-------+-------+-------+-------+-------+-------+-------+-------+-------+-------+-------+-------+-------+-------+-------+-------+-------+-------+-------+-------+-------+-------+-------+-------+-------+-------+-------+-------+-------+-------+-------+-------+--------+--------+--------+--------+--------+--------+--------+--------+--------+--------+--------+--------+--------+--------+--------+--------+--------+--------+--------+--------+--------+--------+--------+--------+--------+--------+--------+--------+--------+--------+--------+--------+--------+--------+--------+--------+--------+--------+--------+--------+--------+--------+--------+--------+--------+--------+--------+--------+--------+--------+--------+--------+--------+--------+--------+--------+--------+--------+--------+--------+--------+--------+--------+--------+--------+--------+--------+--------+--------+--------+--------+--------+--------+--------+--------+--------+--------+--------+--------+--------+--------+--------+--------+--------+--------+--------+--------+--------+--------+--------+--------+--------+--------+--------+--------+--------+--------+--------+--------+--------+--------+--------+--------+--------+--------+--------+--------+--------+--------+--------+--------+--------+--------+--------+--------+--------+--------+--------+--------+--------+--------+--------+--------+--------+--------+--------+--------+--------+--------+--------+--------+--------+--------+--------+--------+--------+--------+--------+--------+--------+--------+--------+--------+--------+--------+--------+--------+--------+--------+--------+--------+--------+--------+--------+--------+--------+--------+--------+--------+--------+--------+--------+--------+--------+--------+--------+--------+--------+--------+--------+--------+--------+--------+--------+--------+--------+--------+--------+--------+--------+--------+--------+--------+--------+--------+--------+--------+--------+--------+--------+--------+--------+--------+--------+--------+--------+--------+--------+--------+--------+--------+--------+--------+--------+--------+--------+--------+--------+--------+--------+--------+--------+--------+--------+--------+--------+--------+--------+--------+--------+--------+--------+--------+--------+--------+--------+--------+--------+--------+--------+--------+--------+--------+--------+--------+--------+--------+--------+--------+--------+--------+--------+--------+--------+--------+--------+--------+--------+--------+--------+--------+--------+--------+--------+--------+--------+--------+--------+--------+--------+--------+--------+--------+--------+--------+--------+--------+--------+--------+--------+--------+--------+--------+--------+--------+--------+--------+--------+--------+--------+--------+--------+--------+--------+--------+--------+--------+--------+--------+--------+--------+--------+--------+--------+--------+--------+--------+--------+--------+--------+--------+--------+--------+--------+--------+--------+--------+--------+--------+--------+--------+--------+--------+--------+--------+--------+--------+--------+--------+--------+--------+--------+--------+--------+--------+--------+--------+--------+--------+--------+--------+--------+--------+--------+--------+--------+--------+--------+--------+--------+--------+--------+--------+--------+--------+--------+--------+--------+--------+--------+--------+--------+--------+--------+--------+--------+--------+--------+--------+--------+--------+--------+--------+--------+--------+--------+--------+--------+--------+--------+--------+--------+--------+--------+--------+--------+--------+--------+--------+--------+--------+--------+--------+--------+--------+--------+--------+--------+--------+--------+--------+--------+--------+--------+--------+--------+--------+--------+--------+--------+--------+--------+--------+--------+--------+--------+--------+--------+--------+--------+--------+--------+--------+--------+--------+--------+--------+--------+--------+--------+--------+--------+--------+--------+--------+--------+--------+--------+--------+--------+--------+--------+--------+--------+--------+--------+--------+--------+--------+--------+--------+--------+--------+--------+--------+--------+--------+--------+--------+--------+--------+--------+--------+--------+--------+--------+--------+--------+--------+--------+--------+--------+--------+--------+--------+--------+--------+--------+--------+--------+--------+--------+--------+--------+--------+--------+--------+--------+--------+--------+--------+--------+--------+--------+--------+--------+--------+--------+--------+--------+--------+--------+--------+--------+--------+--------+--------+--------+--------+--------+--------+--------+--------+--------+--------+--------+--------+--------+--------+--------+--------+--------+--------+--------+--------+--------+--------+--------+--------+--------+--------+--------+--------+--------+--------+--------+--------+--------+--------+--------+--------+--------+--------+--------+--------+--------+--------+--------+--------+--------+--------+--------+--------+--------+--------+--------+--------+--------+--------+--------+--------+--------+--------+--------+--------+--------+--------+--------+--------+--------+--------+--------+--------+--------+--------+--------+--------+--------+--------+--------+--------+--------+--------+--------+--------+--------+--------+--------+--------+--------+--------+--------+--------+--------+--------+--------+--------+--------+--------+--------+--------+--------+--------+--------+--------+--------+--------+--------+--------+--------+--------+--------+--------+--------+--------+--------+--------+--------+--------+--------+--------+--------+--------+--------+--------+--------+--------+--------+--------+--------+--------+--------+--------+--------+--------+--------+--------+--------+--------+--------+--------+--------+--------+--------+--------+--------+--------+--------+--------+--------+--------+--------+--------+--------+--------+--------+--------+--------+--------+--------+--------+--------+--------+--------+--------+--------+--------+--------+--------+--------+--------+--------+--------+--------+--------+--------+--------+--------+--------+--------+--------+--------+--------+--------+--------+--------+--------+--------+--------+--------+--------+--------+--------+--------+--------+--------+--------+--------+--------+--------+--------+--------+--------+--------+--------+--------+--------+--------+--------+--------+--------+--------+--------+--------+--------+--------+--------+--------+--------+--------+--------+--------+--------+--------+--------+--------+--------+--------+--------+--------+--------+--------+--------+--------+--------+--------+--------+--------+--------+--------+--------+--------+--------+--------+--------+--------+--------+--------+--------+--------+--------+--------+--------+--------+--------+--------+--------+--------+--------+--------+--------+--------+--------+--------+--------+--------+--------+--------+--------+--------+--------+--------+--------+--------+--------+--------+--------+--------+--------+--------+--------+--------+--------+--------+--------+--------+--------+--------+--------+--------+--------+--------+--------+--------+--------+--------+--------+--------+--------+--------+--------+--------+--------+--------+--------+--------+--------+--------+--------+--------+--------+--------+--------+--------+--------+--------+--------+--------+--------+--------+--------+--------+--------+--------+--------+--------+--------+--------+--------+--------+--------+--------+--------+--------+--------+--------+--------+--------+--------+--------+--------+--------+--------+--------+--------+--------+--------+--------+--------+--------+--------+--------+--------+--------+--------+--------+--------+--------+--------+--------+--------+--------+--------+--------+--------+--------+--------+--------+--------+--------+--------+--------+--------+--------+--------+--------+--------+--------+--------+--------+--------+--------+--------+--------+--------+--------+--------+--------+--------+--------+--------+--------+--------+--------+--------+--------+--------+--------+--------+--------+--------+--------+--------+--------+--------+--------+--------+--------+--------+--------+---------+---------+---------+---------+---------+---------+---------+---------+---------+---------+---------+---------+---------+---------+---------+---------+---------+---------+---------+---------+---------+---------+---------+---------+---------+---------+---------+---------+---------+---------+---------+---------+---------+---------+---------+---------+---------+---------+---------+---------+---------+---------+---------+---------+---------+---------+---------+---------+---------+---------+---------+---------+---------+---------+---------+---------+---------+---------+---------+---------+---------+---------+---------+---------+---------+---------+---------+---------+---------+---------+---------+---------+---------+---------+---------+---------+---------+---------+---------+---------+---------+---------+---------+---------+---------+---------+---------+---------+---------+---------+---------+---------+---------+---------+---------+---------+---------+---------+---------+---------+---------+---------+---------+---------+---------+---------+---------+---------+---------+---------+---------+---------+---------+---------+---------+---------+---------+---------+---------+---------+---------+---------+---------+---------+---------+---------+---------+---------+---------+---------+---------+---------+---------+---------+---------+---------+---------+---------+---------+---------+---------+---------+---------+---------+---------+---------+---------+---------+---------+---------+---------+---------+---------+---------+---------+---------+---------+---------+---------+---------+---------+---------+---------+---------+---------+---------+---------+---------+---------+---------+---------+---------+---------+---------+---------+---------+---------+---------+---------+---------+---------+---------+---------+---------+---------+---------+---------+---------+---------+---------+---------+---------+---------+---------+---------+---------+---------+---------+---------+---------+---------+---------+---------+---------+---------+---------+---------+---------+---------+---------+---------+---------+---------+---------+---------+---------+---------+---------+---------+---------+---------+---------+---------+---------+---------+---------+---------+---------+---------+---------+---------+---------+---------+---------+---------+---------+---------+---------+---------+---------+---------+---------+---------+---------+---------+---------+---------+---------+---------+---------+---------+---------+---------+---------+---------+---------+---------+---------+---------+---------+---------+---------+---------+---------+---------+---------+---------+---------+---------+---------+---------+---------+---------+---------+---------+---------+---------+---------+---------+---------+---------+---------+---------+---------+---------+---------+---------+---------+---------+---------+---------+---------+---------+---------+---------+---------+---------+---------+---------+---------+---------+---------+---------+---------+---------+---------+---------+---------+---------+---------+---------+---------+---------+---------+---------+---------+---------+---------+---------+---------+---------+---------+---------+---------+---------+---------+---------+---------+---------+---------+---------+---------+---------+---------+---------+---------+---------+---------+---------+---------+---------+---------+---------+---------+---------+---------+---------+---------+---------+---------+---------+---------+---------+---------+---------+---------+---------+---------+---------+---------+---------+---------+---------+---------+---------+---------+---------+---------+---------+---------+---------+---------+---------+---------+---------+---------+---------+---------+---------+---------+---------+---------+---------+---------+---------+---------+---------+---------+---------+---------+---------+---------+---------+---------+---------+---------+---------+---------+---------+---------+---------+---------+---------+---------+---------+---------+---------+---------+---------+---------+---------+---------+---------+---------+---------+---------+---------+---------+---------+---------+---------+---------+---------+---------+---------+---------+---------+---------+---------+---------+---------+---------+---------+---------+---------+---------+---------+---------+---------+---------+---------+---------+---------+---------+---------+---------+---------+---------+---------+---------+---------+---------+---------+---------+---------+---------+---------+---------+---------+---------+---------+---------+---------+---------+---------+---------+---------+---------+---------+---------+---------+---------+---------+---------+---------+---------+---------+---------+---------+---------+---------+---------+---------+---------+---------+---------+---------+---------+---------+---------+---------+---------+---------+---------+---------+---------+---------+---------+---------+---------+---------+---------+---------+---------+---------+---------+---------+---------+---------+---------+---------+---------+---------+---------+---------+---------+---------+---------+---------+---------+---------+---------+---------+---------+---------+---------+---------+---------+---------+---------+---------+---------+---------+---------+---------+---------+---------+---------+---------+---------+---------+---------+---------+---------+---------+---------+---------+---------+---------+---------+---------+---------+---------+---------+---------+---------+---------+---------+---------+---------+---------+---------+---------+---------+---------+---------+---------+---------+---------+---------+---------+---------+---------+---------+---------+---------+---------+---------+---------+---------+---------+---------+---------+---------+---------+---------+---------+---------+---------+---------+---------+---------+---------+---------+---------+---------+---------+---------+---------+---------+---------+---------+---------+---------+---------+---------+---------+---------+---------+---------+---------+---------+---------+---------+---------+---------+---------+---------+---------+---------+---------+---------+---------+---------+---------+---------+---------+---------+---------+---------+---------+---------+---------+---------+---------+---------+---------+---------+---------+---------+---------+---------+---------+---------+---------+---------+---------+---------+---------+---------+---------+---------+---------+---------+---------+---------+---------+---------+---------+---------+---------+---------+---------+---------+---------+---------+---------+---------+---------+---------+---------+---------+---------+---------+---------+---------+---------+---------+---------+---------+---------+---------+---------+---------+---------+---------+---------+---------+---------+---------+---------+---------+---------+---------+---------+---------+---------+---------+---------+---------+---------+---------+---------+---------+---------+---------+---------+---------+---------+---------+---------+---------+---------+---------+---------+---------+---------+---------+---------+---------+---------+---------+---------+---------+---------+---------+---------+---------+---------+---------+---------+---------+---------+---------+---------+---------+---------+---------+---------+---------+---------+---------+---------+---------+---------+---------+---------+---------+---------+---------+---------+---------+---------+---------+---------+---------+---------+---------+---------+---------+---------+---------+---------+---------+---------+---------+---------+---------+---------+---------+---------+---------+---------+---------+---------+---------+---------+---------+---------+---------+---------+---------+---------+---------+---------+---------+---------+---------+---------+---------+---------+---------+---------+---------+---------+---------+---------+---------+---------+---------+---------+---------+---------+---------+---------+---------+---------+---------+---------+---------+---------+---------+---------+---------+---------+---------+---------+---------+---------+---------+---------+---------+---------+---------+---------+---------+---------+---------+---------+---------+---------+---------+---------+---------+---------+---------+---------+---------+---------+---------+---------+---------+---------+---------+---------+---------+---------+---------+---------+---------+---------+---------+---------+---------+---------+---------+---------+---------+---------+---------+---------+---------+---------+---------+---------+---------+---------+---------+---------+---------+---------+---------+---------+---------+---------+---------+---------+---------+---------+---------+---------+---------+---------+---------+---------+---------+---------+---------+---------+---------+---------+---------+---------+---------+---------+---------+---------+---------+---------+---------+---------+---------+---------+---------+---------+---------+---------+---------+---------+---------+---------+---------+---------+---------+---------+---------+---------+---------+---------+---------+---------+---------+---------+---------+---------+---------+---------+---------+---------+---------+---------+---------+---------+---------+---------+---------+---------+---------+---------+---------+---------+---------+---------+---------+---------+---------+---------+---------+---------+---------+---------+---------+---------+---------+---------+---------+---------+---------+---------+---------+---------+---------+---------+---------+---------+---------+---------+---------+---------+---------+---------+---------+---------+---------+---------+---------+---------+---------+---------+---------+---------+---------+---------+---------+---------+---------+---------+---------+---------+---------+---------+---------+---------+---------+---------+---------+---------+---------+---------+---------+---------+---------+---------+---------+---------+---------+---------+---------+---------+---------+---------+---------+---------+---------+---------+---------+---------+---------+---------+---------+---------+---------+---------+---------+---------+---------+---------+---------+---------+---------+---------+---------+---------+---------+---------+---------+---------+---------+---------+---------+---------+---------+---------+---------+---------+---------+---------+---------+---------+---------+---------+---------+---------+---------+---------+---------+---------+---------+---------+---------+---------+---------+---------+---------+---------+---------+---------+---------+---------+---------+---------+---------+---------+---------+---------+---------+---------+---------+---------+---------+---------+---------+---------+---------+---------+---------+---------+---------+---------+---------+---------+---------+---------+---------+---------+---------+---------+---------+---------+---------+---------+---------+---------+---------+---------+---------+---------+---------+---------+---------+---------+---------+---------+---------+---------+---------+---------+---------+---------+---------+---------+---------+---------+---------+---------+---------+---------+---------+---------+---------+---------+---------+---------+---------+---------+---------+---------+---------+---------+---------+---------+---------+---------+---------+---------+---------+---------+---------+---------+---------+---------+---------+---------+---------+---------+---------+---------+---------+---------+---------+---------+---------+---------+---------+---------+---------+---------+---------+---------+---------+---------+---------+---------+---------+---------+---------+---------+---------+---------+---------+---------+---------+---------+---------+---------+---------+---------+---------+---------+---------+---------+---------+---------+---------+---------+---------+---------+---------+---------+---------+---------+---------+---------+---------+---------+---------+---------+---------+---------+---------+---------+---------+---------+---------+---------+---------+---------+---------+---------+---------+---------+---------+---------+---------+---------+---------+---------+---------+---------+---------+---------+---------+---------+---------+---------+---------+---------+---------+---------+---------+---------+---------+---------+---------+---------+---------+---------+---------+---------+---------+---------+---------+---------+---------+---------+---------+---------+---------+---------+---------+---------+---------+---------+---------+---------+---------+---------+---------+---------+---------+---------+---------+---------+---------+---------+---------+---------+---------+---------+---------+---------+---------+---------+---------+---------+---------+---------+---------+---------+---------+---------+---------+---------+---------+---------+---------+---------+---------+---------+---------+---------+---------+---------+---------+---------+---------+---------+---------+---------+---------+---------+---------+---------+---------+---------+---------+---------+---------+---------+---------+---------+---------+---------+---------+---------+---------+---------+---------+---------+---------+---------+---------+---------+---------+---------+---------+---------+---------+---------+---------+---------+---------+---------+---------+---------+---------+---------+---------+---------+---------+---------+---------+---------+---------+---------+---------+---------+---------+---------+---------+---------+---------+---------+---------+---------+---------+---------+---------+---------+---------+---------+---------+---------+---------+---------+---------+---------+---------+---------+---------+---------+---------+---------+---------+---------+---------+---------+---------+---------+---------+---------+---------+---------+---------+---------+---------+---------+---------+---------+---------+---------+---------+---------+---------+---------+---------+---------+---------+---------+---------+---------+---------+---------+---------+---------+---------+---------+---------+---------+---------+---------+---------+---------+---------+---------+---------+---------+---------+---------+---------+---------+---------+---------+---------+---------+---------+---------+---------+---------+---------+---------+---------+---------+---------+---------+---------+---------+---------+---------+---------+---------+---------+---------+---------+---------+---------+---------+---------+---------+---------+---------+---------+---------+---------+---------+---------+---------+---------+---------+---------+---------+---------+---------+---------+---------+---------+---------+---------+---------+---------+---------+---------+---------+---------+---------+---------+---------+---------+---------+---------+---------+---------+---------+---------+---------+---------+---------+---------+---------+---------+---------+---------+---------+---------+---------+---------+---------+---------+---------+---------+---------+---------+---------+---------+---------+---------+---------+---------+---------+---------+---------+---------+---------+---------+---------+---------+---------+---------+---------+---------+---------+---------+---------+---------+---------+---------+---------+---------+---------+---------+---------+---------+---------+---------+---------+---------+---------+---------+---------+---------+---------+---------+---------+---------+---------+---------+---------+---------+---------+---------+---------+---------+---------+---------+---------+---------+---------+---------+---------+---------+---------+---------+---------+---------+---------+---------+---------+---------+---------+---------+---------+---------+---------+---------+---------+---------+---------+---------+---------+---------+---------+---------+---------+---------+---------+---------+---------+---------+---------|\n",
       "|  0 | H1   |  605 |  586 |  586 |  559 |  511 |  443 |  422 |  395 |   382 |   370 |   383 |   397 |   420 |   455 |   493 |   554 |   610 |   666 |   715 |   755 |   778 |   794 |   806 |   808 |   776 |   723 |   709 |   660 |   585 |   527 |   462 |   437 |   413 |   407 |   404 |   420 |   441 |   471 |   526 |   571 |   612 |   635 |   613 |   608 |   614 |   637 |   669 |   683 |   687 |   660 |   661 |   632 |   573 |   521 |   481 |   452 |   447 |   425 |   427 |   441 |   438 |   472 |   528 |   596 |   661 |   708 |   754 |   781 |   808 |   819 |   820 |   801 |   770 |   717 |   697 |   655 |   607 |   552 |   512 |   475 |   452 |   436 |   429 |   433 |   430 |   472 |   536 |   611 |   662 |   705 |   707 |   718 |   733 |   741 |   737 |   710 |   647 |   593 |    564 |    528 |    507 |    466 |    428 |    396 |    382 |    371 |    374 |    372 |    373 |    406 |    451 |    480 |    487 |    487 |    494 |    505 |    519 |    535 |    560 |    570 |    551 |    541 |    552 |    521 |    477 |    426 |    395 |    370 |    357 |    349 |    362 |    374 |    402 |    427 |    456 |    500 |    558 |    608 |    661 |    704 |    736 |    763 |    782 |    782 |    775 |    730 |    716 |    657 |    590 |    518 |    469 |    438 |    418 |    406 |    405 |    418 |    440 |    467 |    526 |    588 |    660 |    713 |    767 |    800 |    828 |    837 |    851 |    836 |    813 |    776 |    753 |    695 |    620 |    542 |    494 |    459 |    439 |    417 |    423 |    429 |    450 |    482 |    539 |    613 |    677 |    736 |    777 |    820 |    828 |    838 |    824 |    805 |    774 |    736 |    718 |    666 |    601 |    532 |    485 |    449 |    427 |    415 |    418 |    438 |    445 |    487 |    535 |    598 |    669 |    730 |    776 |    801 |    824 |    826 |    819 |    802 |    771 |    740 |    722 |    676 |    603 |    546 |    488 |    458 |    438 |    421 |    419 |    426 |    450 |    487 |    550 |    612 |    683 |    739 |    785 |    818 |    837 |    847 |    848 |    834 |    810 |    764 |    746 |    698 |    634 |    584 |    519 |    490 |    463 |    446 |    439 |    436 |    442 |    483 |    566 |    643 |    723 |    773 |    822 |    849 |    865 |    881 |    882 |    872 |    840 |    797 |    773 |    724 |    661 |    593 |    547 |    512 |    484 |    463 |    452 |    442 |    447 |    506 |    598 |    692 |    756 |    804 |    836 |    866 |    886 |    890 |    878 |    863 |    830 |    770 |    756 |    704 |    629 |    566 |    518 |    484 |    461 |    450 |    446 |    467 |    485 |    525 |    585 |    670 |    747 |    805 |    839 |    857 |    844 |    834 |    828 |    834 |    815 |    781 |    762 |    710 |    641 |    571 |    527 |    498 |    475 |    466 |    472 |    478 |    506 |    542 |    594 |    661 |    728 |    786 |    828 |    846 |    854 |    852 |    862 |    859 |    853 |    815 |    802 |    749 |    679 |    604 |    569 |    529 |    513 |    500 |    495 |    511 |    525 |    557 |    605 |    676 |    737 |    791 |    837 |    856 |    886 |    901 |    916 |    905 |    871 |    823 |    798 |    738 |    666 |    593 |    553 |    515 |    494 |    487 |    482 |    498 |    515 |    540 |    584 |    633 |    705 |    754 |    801 |    833 |    863 |    872 |    867 |    845 |    819 |    787 |    762 |    717 |    651 |    575 |    537 |    500 |    470 |    457 |    465 |    467 |    488 |    525 |    581 |    654 |    732 |    789 |    826 |    852 |    870 |    859 |    853 |    820 |    789 |    741 |    731 |    683 |    620 |    566 |    514 |    478 |    462 |    435 |    432 |    434 |    441 |    483 |    563 |    644 |    729 |    798 |    847 |    874 |    890 |    908 |    902 |    895 |    860 |    815 |    792 |    732 |    672 |    605 |    554 |    517 |    492 |    473 |    452 |    458 |    452 |    506 |    607 |    691 |    761 |    820 |    860 |    867 |    852 |    820 |    768 |    729 |    689 |    661 |    652 |    612 |    559 |    503 |    468 |    441 |    423 |    412 |    424 |    441 |    460 |    494 |    548 |    609 |    694 |    758 |    817 |    863 |    881 |    900 |    909 |    900 |    875 |    830 |    812 |    758 |    688 |    607 |    570 |    536 |    504 |    487 |    495 |    503 |    521 |    554 |    612 |    680 |    753 |    817 |    863 |    889 |    883 |    867 |    840 |    810 |    779 |    744 |    722 |    668 |    613 |    550 |    509 |    481 |    460 |    458 |    456 |    474 |    488 |    527 |    583 |    652 |    723 |    796 |    846 |    877 |    881 |    884 |    857 |    835 |    809 |    766 |    755 |    703 |    635 |    577 |    533 |    504 |    485 |    473 |    474 |    494 |    507 |    545 |    599 |    672 |    740 |    790 |    823 |    822 |    817 |    801 |    792 |    775 |    735 |    723 |    699 |    658 |    598 |    547 |    503 |    474 |    459 |    450 |    450 |    469 |    488 |    520 |    566 |    640 |    705 |    762 |    808 |    838 |    820 |    784 |    753 |    739 |    720 |    690 |    678 |    634 |    587 |    537 |    492 |    464 |    443 |    427 |    424 |    430 |    424 |    473 |    537 |    616 |    684 |    761 |    793 |    826 |    833 |    835 |    838 |    823 |    795 |    750 |    739 |    679 |    622 |    558 |    513 |    476 |    449 |    437 |    422 |    423 |    415 |    475 |    553 |    624 |    680 |    720 |    769 |    805 |    828 |    836 |    849 |    844 |    808 |    757 |    730 |    670 |    594 |    528 |    474 |    447 |    423 |    412 |    413 |    431 |    449 |    489 |    544 |    610 |    696 |    765 |    813 |    851 |    872 |    883 |    899 |    897 |    871 |    831 |    813 |    749 |    664 |    550 |    544 |    505 |    483 |    469 |    466 |    487 |    492 |    531 |    583 |    659 |    743 |    811 |    863 |    898 |    914 |    920 |    926 |    919 |    887 |    862 |    829 |    769 |    691 |    618 |    563 |    529 |    504 |    489 |    487 |    508 |    513 |    555 |    606 |    676 |    761 |    837 |    878 |    890 |    879 |    847 |    820 |    790 |    784 |    752 |    739 |    684 |    nan |    nan |    nan |    nan |    nan |    nan |    nan |    nan |    nan |    nan |    nan |    nan |    nan |    nan |    nan |    nan |    nan |    nan |    nan |    nan |    nan |    nan |    nan |    nan |    nan |    nan |    nan |    nan |    nan |    nan |    nan |    nan |    nan |    nan |    nan |    nan |    nan |    nan |    nan |    nan |    nan |    nan |    nan |    nan |    nan |    nan |    nan |    nan |    nan |    nan |    nan |    nan |    nan |    nan |    nan |    nan |    nan |    nan |    nan |    nan |    nan |    nan |    nan |    nan |    nan |    nan |    nan |    nan |    nan |    nan |    nan |    nan |    nan |    nan |    nan |    nan |    nan |    nan |    nan |    nan |    nan |    nan |    nan |    nan |    nan |    nan |    nan |    nan |    nan |    nan |    nan |    nan |    nan |    nan |    nan |    nan |    nan |    nan |    nan |    nan |    nan |    nan |    nan |    nan |    nan |    nan |    nan |    nan |    nan |    nan |    nan |    nan |    nan |    nan |    nan |    nan |    nan |    nan |    nan |    nan |    nan |    nan |    nan |    nan |    nan |    nan |    nan |    nan |    nan |    nan |    nan |    nan |    nan |    nan |    nan |    nan |    nan |    nan |    nan |    nan |    nan |    nan |    nan |    nan |    nan |    nan |    nan |    nan |    nan |    nan |    nan |    nan |    nan |    nan |    nan |    nan |    nan |    nan |    nan |    nan |    nan |    nan |    nan |    nan |    nan |    nan |    nan |    nan |    nan |    nan |    nan |    nan |    nan |    nan |    nan |    nan |    nan |    nan |    nan |    nan |    nan |    nan |    nan |    nan |    nan |    nan |    nan |    nan |    nan |    nan |    nan |    nan |    nan |    nan |    nan |    nan |    nan |    nan |    nan |    nan |    nan |    nan |    nan |    nan |    nan |    nan |    nan |    nan |    nan |    nan |    nan |    nan |    nan |    nan |    nan |    nan |    nan |    nan |    nan |    nan |    nan |    nan |    nan |    nan |    nan |    nan |    nan |    nan |    nan |    nan |    nan |    nan |    nan |    nan |    nan |    nan |    nan |    nan |    nan |    nan |    nan |    nan |    nan |    nan |    nan |    nan |    nan |    nan |    nan |    nan |    nan |    nan |    nan |    nan |    nan |    nan |    nan |    nan |    nan |    nan |    nan |    nan |    nan |    nan |    nan |    nan |    nan |    nan |    nan |    nan |    nan |    nan |    nan |    nan |    nan |    nan |    nan |    nan |    nan |    nan |    nan |    nan |    nan |    nan |    nan |    nan |    nan |    nan |    nan |    nan |    nan |    nan |    nan |    nan |    nan |    nan |    nan |    nan |     nan |     nan |     nan |     nan |     nan |     nan |     nan |     nan |     nan |     nan |     nan |     nan |     nan |     nan |     nan |     nan |     nan |     nan |     nan |     nan |     nan |     nan |     nan |     nan |     nan |     nan |     nan |     nan |     nan |     nan |     nan |     nan |     nan |     nan |     nan |     nan |     nan |     nan |     nan |     nan |     nan |     nan |     nan |     nan |     nan |     nan |     nan |     nan |     nan |     nan |     nan |     nan |     nan |     nan |     nan |     nan |     nan |     nan |     nan |     nan |     nan |     nan |     nan |     nan |     nan |     nan |     nan |     nan |     nan |     nan |     nan |     nan |     nan |     nan |     nan |     nan |     nan |     nan |     nan |     nan |     nan |     nan |     nan |     nan |     nan |     nan |     nan |     nan |     nan |     nan |     nan |     nan |     nan |     nan |     nan |     nan |     nan |     nan |     nan |     nan |     nan |     nan |     nan |     nan |     nan |     nan |     nan |     nan |     nan |     nan |     nan |     nan |     nan |     nan |     nan |     nan |     nan |     nan |     nan |     nan |     nan |     nan |     nan |     nan |     nan |     nan |     nan |     nan |     nan |     nan |     nan |     nan |     nan |     nan |     nan |     nan |     nan |     nan |     nan |     nan |     nan |     nan |     nan |     nan |     nan |     nan |     nan |     nan |     nan |     nan |     nan |     nan |     nan |     nan |     nan |     nan |     nan |     nan |     nan |     nan |     nan |     nan |     nan |     nan |     nan |     nan |     nan |     nan |     nan |     nan |     nan |     nan |     nan |     nan |     nan |     nan |     nan |     nan |     nan |     nan |     nan |     nan |     nan |     nan |     nan |     nan |     nan |     nan |     nan |     nan |     nan |     nan |     nan |     nan |     nan |     nan |     nan |     nan |     nan |     nan |     nan |     nan |     nan |     nan |     nan |     nan |     nan |     nan |     nan |     nan |     nan |     nan |     nan |     nan |     nan |     nan |     nan |     nan |     nan |     nan |     nan |     nan |     nan |     nan |     nan |     nan |     nan |     nan |     nan |     nan |     nan |     nan |     nan |     nan |     nan |     nan |     nan |     nan |     nan |     nan |     nan |     nan |     nan |     nan |     nan |     nan |     nan |     nan |     nan |     nan |     nan |     nan |     nan |     nan |     nan |     nan |     nan |     nan |     nan |     nan |     nan |     nan |     nan |     nan |     nan |     nan |     nan |     nan |     nan |     nan |     nan |     nan |     nan |     nan |     nan |     nan |     nan |     nan |     nan |     nan |     nan |     nan |     nan |     nan |     nan |     nan |     nan |     nan |     nan |     nan |     nan |     nan |     nan |     nan |     nan |     nan |     nan |     nan |     nan |     nan |     nan |     nan |     nan |     nan |     nan |     nan |     nan |     nan |     nan |     nan |     nan |     nan |     nan |     nan |     nan |     nan |     nan |     nan |     nan |     nan |     nan |     nan |     nan |     nan |     nan |     nan |     nan |     nan |     nan |     nan |     nan |     nan |     nan |     nan |     nan |     nan |     nan |     nan |     nan |     nan |     nan |     nan |     nan |     nan |     nan |     nan |     nan |     nan |     nan |     nan |     nan |     nan |     nan |     nan |     nan |     nan |     nan |     nan |     nan |     nan |     nan |     nan |     nan |     nan |     nan |     nan |     nan |     nan |     nan |     nan |     nan |     nan |     nan |     nan |     nan |     nan |     nan |     nan |     nan |     nan |     nan |     nan |     nan |     nan |     nan |     nan |     nan |     nan |     nan |     nan |     nan |     nan |     nan |     nan |     nan |     nan |     nan |     nan |     nan |     nan |     nan |     nan |     nan |     nan |     nan |     nan |     nan |     nan |     nan |     nan |     nan |     nan |     nan |     nan |     nan |     nan |     nan |     nan |     nan |     nan |     nan |     nan |     nan |     nan |     nan |     nan |     nan |     nan |     nan |     nan |     nan |     nan |     nan |     nan |     nan |     nan |     nan |     nan |     nan |     nan |     nan |     nan |     nan |     nan |     nan |     nan |     nan |     nan |     nan |     nan |     nan |     nan |     nan |     nan |     nan |     nan |     nan |     nan |     nan |     nan |     nan |     nan |     nan |     nan |     nan |     nan |     nan |     nan |     nan |     nan |     nan |     nan |     nan |     nan |     nan |     nan |     nan |     nan |     nan |     nan |     nan |     nan |     nan |     nan |     nan |     nan |     nan |     nan |     nan |     nan |     nan |     nan |     nan |     nan |     nan |     nan |     nan |     nan |     nan |     nan |     nan |     nan |     nan |     nan |     nan |     nan |     nan |     nan |     nan |     nan |     nan |     nan |     nan |     nan |     nan |     nan |     nan |     nan |     nan |     nan |     nan |     nan |     nan |     nan |     nan |     nan |     nan |     nan |     nan |     nan |     nan |     nan |     nan |     nan |     nan |     nan |     nan |     nan |     nan |     nan |     nan |     nan |     nan |     nan |     nan |     nan |     nan |     nan |     nan |     nan |     nan |     nan |     nan |     nan |     nan |     nan |     nan |     nan |     nan |     nan |     nan |     nan |     nan |     nan |     nan |     nan |     nan |     nan |     nan |     nan |     nan |     nan |     nan |     nan |     nan |     nan |     nan |     nan |     nan |     nan |     nan |     nan |     nan |     nan |     nan |     nan |     nan |     nan |     nan |     nan |     nan |     nan |     nan |     nan |     nan |     nan |     nan |     nan |     nan |     nan |     nan |     nan |     nan |     nan |     nan |     nan |     nan |     nan |     nan |     nan |     nan |     nan |     nan |     nan |     nan |     nan |     nan |     nan |     nan |     nan |     nan |     nan |     nan |     nan |     nan |     nan |     nan |     nan |     nan |     nan |     nan |     nan |     nan |     nan |     nan |     nan |     nan |     nan |     nan |     nan |     nan |     nan |     nan |     nan |     nan |     nan |     nan |     nan |     nan |     nan |     nan |     nan |     nan |     nan |     nan |     nan |     nan |     nan |     nan |     nan |     nan |     nan |     nan |     nan |     nan |     nan |     nan |     nan |     nan |     nan |     nan |     nan |     nan |     nan |     nan |     nan |     nan |     nan |     nan |     nan |     nan |     nan |     nan |     nan |     nan |     nan |     nan |     nan |     nan |     nan |     nan |     nan |     nan |     nan |     nan |     nan |     nan |     nan |     nan |     nan |     nan |     nan |     nan |     nan |     nan |     nan |     nan |     nan |     nan |     nan |     nan |     nan |     nan |     nan |     nan |     nan |     nan |     nan |     nan |     nan |     nan |     nan |     nan |     nan |     nan |     nan |     nan |     nan |     nan |     nan |     nan |     nan |     nan |     nan |     nan |     nan |     nan |     nan |     nan |     nan |     nan |     nan |     nan |     nan |     nan |     nan |     nan |     nan |     nan |     nan |     nan |     nan |     nan |     nan |     nan |     nan |     nan |     nan |     nan |     nan |     nan |     nan |     nan |     nan |     nan |     nan |     nan |     nan |     nan |     nan |     nan |     nan |     nan |     nan |     nan |     nan |     nan |     nan |     nan |     nan |     nan |     nan |     nan |     nan |     nan |     nan |     nan |     nan |     nan |     nan |     nan |     nan |     nan |     nan |     nan |     nan |     nan |     nan |     nan |     nan |     nan |     nan |     nan |     nan |     nan |     nan |     nan |     nan |     nan |     nan |     nan |     nan |     nan |     nan |     nan |     nan |     nan |     nan |     nan |     nan |     nan |     nan |     nan |     nan |     nan |     nan |     nan |     nan |     nan |     nan |     nan |     nan |     nan |     nan |     nan |     nan |     nan |     nan |     nan |     nan |     nan |     nan |     nan |     nan |     nan |     nan |     nan |     nan |     nan |     nan |     nan |     nan |     nan |     nan |     nan |     nan |     nan |     nan |     nan |     nan |     nan |     nan |     nan |     nan |     nan |     nan |     nan |     nan |     nan |     nan |     nan |     nan |     nan |     nan |     nan |     nan |     nan |     nan |     nan |     nan |     nan |     nan |     nan |     nan |     nan |     nan |     nan |     nan |     nan |     nan |     nan |     nan |     nan |     nan |     nan |     nan |     nan |     nan |     nan |     nan |     nan |     nan |     nan |     nan |     nan |     nan |     nan |     nan |     nan |     nan |     nan |     nan |     nan |     nan |     nan |     nan |     nan |     nan |     nan |     nan |     nan |     nan |     nan |     nan |     nan |     nan |     nan |     nan |     nan |     nan |     nan |     nan |     nan |     nan |     nan |     nan |     nan |     nan |     nan |     nan |     nan |     nan |     nan |     nan |     nan |     nan |     nan |     nan |     nan |     nan |     nan |     nan |     nan |     nan |     nan |     nan |     nan |     nan |     nan |     nan |     nan |     nan |     nan |     nan |     nan |     nan |     nan |     nan |     nan |     nan |     nan |     nan |     nan |     nan |     nan |     nan |     nan |     nan |     nan |     nan |     nan |     nan |     nan |     nan |     nan |     nan |     nan |     nan |     nan |     nan |     nan |     nan |     nan |     nan |     nan |     nan |     nan |     nan |     nan |     nan |     nan |     nan |     nan |     nan |     nan |     nan |     nan |     nan |     nan |     nan |     nan |     nan |     nan |     nan |     nan |     nan |     nan |     nan |     nan |     nan |     nan |     nan |     nan |     nan |     nan |     nan |     nan |     nan |     nan |     nan |     nan |     nan |     nan |     nan |     nan |     nan |     nan |     nan |     nan |     nan |     nan |     nan |     nan |     nan |     nan |     nan |     nan |     nan |     nan |     nan |     nan |     nan |     nan |     nan |     nan |     nan |     nan |     nan |     nan |     nan |     nan |     nan |     nan |     nan |     nan |     nan |     nan |     nan |     nan |     nan |     nan |     nan |     nan |     nan |     nan |     nan |     nan |     nan |     nan |     nan |     nan |     nan |     nan |     nan |     nan |     nan |     nan |     nan |     nan |     nan |     nan |     nan |     nan |     nan |     nan |     nan |     nan |     nan |     nan |     nan |     nan |     nan |     nan |     nan |     nan |     nan |     nan |     nan |     nan |     nan |     nan |     nan |     nan |     nan |     nan |     nan |     nan |     nan |     nan |     nan |     nan |     nan |     nan |     nan |     nan |     nan |     nan |     nan |     nan |     nan |     nan |     nan |     nan |     nan |     nan |     nan |     nan |     nan |     nan |     nan |     nan |     nan |     nan |     nan |     nan |     nan |     nan |     nan |     nan |     nan |     nan |     nan |     nan |     nan |     nan |     nan |     nan |     nan |     nan |     nan |     nan |     nan |     nan |     nan |     nan |     nan |     nan |     nan |     nan |     nan |     nan |     nan |     nan |     nan |     nan |     nan |     nan |     nan |     nan |     nan |     nan |     nan |     nan |     nan |     nan |     nan |     nan |     nan |     nan |     nan |     nan |     nan |     nan |     nan |     nan |     nan |     nan |     nan |     nan |     nan |     nan |     nan |     nan |     nan |     nan |     nan |     nan |     nan |     nan |     nan |     nan |     nan |     nan |     nan |     nan |     nan |     nan |     nan |     nan |     nan |     nan |     nan |     nan |     nan |     nan |     nan |     nan |     nan |     nan |     nan |     nan |     nan |     nan |     nan |     nan |     nan |     nan |     nan |     nan |     nan |     nan |     nan |     nan |     nan |     nan |     nan |     nan |     nan |     nan |     nan |     nan |     nan |     nan |     nan |     nan |     nan |     nan |     nan |     nan |     nan |     nan |     nan |     nan |     nan |     nan |     nan |     nan |     nan |     nan |     nan |     nan |     nan |     nan |     nan |     nan |     nan |     nan |     nan |     nan |     nan |     nan |     nan |     nan |     nan |     nan |     nan |     nan |     nan |     nan |     nan |     nan |     nan |     nan |     nan |     nan |     nan |     nan |     nan |     nan |     nan |     nan |     nan |     nan |     nan |     nan |     nan |     nan |     nan |     nan |     nan |     nan |     nan |     nan |     nan |     nan |     nan |     nan |     nan |     nan |     nan |     nan |     nan |     nan |     nan |     nan |     nan |     nan |     nan |     nan |     nan |     nan |     nan |     nan |     nan |     nan |     nan |     nan |     nan |     nan |     nan |     nan |     nan |     nan |     nan |     nan |     nan |     nan |     nan |     nan |     nan |     nan |     nan |     nan |     nan |     nan |     nan |     nan |     nan |     nan |     nan |     nan |     nan |     nan |     nan |     nan |     nan |     nan |     nan |     nan |     nan |     nan |     nan |     nan |     nan |     nan |     nan |     nan |     nan |     nan |     nan |     nan |     nan |     nan |     nan |     nan |     nan |     nan |     nan |     nan |     nan |     nan |     nan |     nan |     nan |     nan |     nan |     nan |     nan |     nan |     nan |     nan |     nan |     nan |     nan |     nan |     nan |     nan |     nan |     nan |     nan |     nan |     nan |     nan |     nan |     nan |     nan |     nan |     nan |     nan |     nan |     nan |     nan |     nan |     nan |     nan |     nan |     nan |     nan |     nan |     nan |     nan |     nan |     nan |     nan |     nan |     nan |     nan |     nan |     nan |     nan |     nan |     nan |     nan |     nan |     nan |     nan |     nan |     nan |     nan |     nan |     nan |     nan |     nan |     nan |     nan |     nan |     nan |     nan |     nan |     nan |     nan |     nan |     nan |     nan |     nan |     nan |     nan |     nan |     nan |     nan |     nan |     nan |     nan |     nan |     nan |     nan |     nan |     nan |     nan |     nan |     nan |     nan |     nan |     nan |     nan |     nan |     nan |     nan |     nan |     nan |     nan |     nan |     nan |     nan |     nan |     nan |     nan |     nan |     nan |     nan |     nan |     nan |     nan |     nan |     nan |     nan |     nan |     nan |     nan |     nan |     nan |     nan |     nan |     nan |     nan |     nan |     nan |     nan |     nan |     nan |     nan |     nan |     nan |     nan |     nan |     nan |     nan |     nan |     nan |     nan |     nan |     nan |     nan |     nan |     nan |     nan |     nan |     nan |     nan |     nan |     nan |     nan |     nan |     nan |     nan |     nan |     nan |     nan |     nan |     nan |     nan |     nan |     nan |     nan |     nan |     nan |     nan |     nan |     nan |     nan |     nan |     nan |     nan |     nan |     nan |     nan |     nan |     nan |     nan |     nan |     nan |     nan |     nan |     nan |     nan |     nan |     nan |     nan |     nan |     nan |     nan |     nan |     nan |     nan |     nan |     nan |     nan |     nan |     nan |     nan |     nan |     nan |     nan |     nan |     nan |     nan |     nan |     nan |     nan |\n",
       "|  1 | H2   | 3124 | 2990 | 2862 | 2809 | 2544 | 2201 | 1996 | 1861 |  1735 |  1713 |  1724 |  1798 |  1891 |  2037 |  2102 |  2163 |  2269 |  2404 |  2515 |  2621 |  2745 |  2816 |  2938 |  3022 |  2976 |  2892 |  2784 |  2725 |  2530 |  2211 |  1995 |  1833 |  1768 |  1712 |  1707 |  1762 |  1880 |  1995 |  2134 |  2227 |  2376 |  2477 |  2597 |  2691 |  2751 |  2782 |  2810 |  2781 |  2693 |  2567 |  2490 |  2448 |  2277 |  1997 |  1785 |  1689 |  1562 |  1560 |  1505 |  1538 |  1641 |  1735 |  1950 |  2138 |  2303 |  2432 |  2528 |  2656 |  2740 |  2803 |  2855 |  2880 |  2778 |  2637 |  2479 |  2381 |  2228 |  2037 |  1758 |  1648 |  1560 |  1508 |  1486 |  1486 |  1515 |  1623 |  1919 |  2172 |  2416 |  2605 |  2755 |  2822 |  2917 |  2997 |  3060 |  3046 |  2942 |  2758 |   2487 |   2349 |   2299 |   2132 |   1950 |   1783 |   1768 |   1569 |   1581 |   1560 |   1562 |   1749 |   2005 |   2269 |   2488 |   2717 |   2919 |   3110 |   3158 |   3264 |   3301 |   3337 |   3247 |   3079 |   2935 |   2833 |   2598 |   2280 |   2041 |   1903 |   1735 |   1680 |   1721 |   1805 |   1908 |   2129 |   2249 |   2449 |   2625 |   2819 |   2939 |   3090 |   3161 |   3220 |   3270 |   3285 |   3218 |   3038 |   2961 |   2843 |   2603 |   2263 |   2070 |   1937 |   1869 |   1774 |   1808 |   1847 |   1985 |   2061 |   2096 |   2160 |   2257 |   2248 |   2207 |   2221 |   2224 |   2226 |   2225 |   2253 |   2243 |   2212 |   2221 |   2187 |   2043 |   1778 |   1653 |   1562 |   1490 |   1477 |   1503 |   1609 |   1722 |   1850 |   1980 |   2019 |   2094 |   2151 |   2150 |   2191 |   2188 |   2202 |   2266 |   2304 |   2304 |   2228 |   2198 |   2179 |   2014 |   1792 |   1656 |   1575 |   1505 |   1509 |   1466 |   1571 |   1689 |   1838 |   1903 |   1968 |   2044 |   2149 |   2233 |   2308 |   2353 |   2413 |   2439 |   2457 |   2444 |   2380 |   2331 |   2311 |   2096 |   1870 |   1709 |   1584 |   1529 |   1489 |   1489 |   1606 |   1723 |   1872 |   1999 |   2122 |   2262 |   2468 |   2620 |   2771 |   2889 |   2958 |   3016 |   3045 |   2980 |   2822 |   2723 |   2667 |   2463 |   2177 |   1976 |   1835 |   1724 |   1663 |   1671 |   1661 |   1710 |   1873 |   2153 |   2446 |   2709 |   2898 |   3076 |   3239 |   3344 |   3471 |   3516 |   3515 |   3448 |   3277 |   3100 |   2992 |   2772 |   2434 |   2184 |   2010 |   1846 |   1768 |   1687 |   1700 |   1742 |   1929 |   2304 |   2643 |   2869 |   3065 |   3271 |   3434 |   3551 |   3614 |   3667 |   3716 |   3670 |   3508 |   3341 |   3232 |   2908 |   2576 |   2319 |   2161 |   2018 |   1954 |   1923 |   1998 |   2139 |   2285 |   2521 |   2767 |   3053 |   3281 |   3474 |   3653 |   3762 |   3839 |   3883 |   3915 |   3866 |   3724 |   3544 |   3435 |   3103 |   2769 |   2514 |   2319 |   2179 |   2118 |   2076 |   2148 |   2212 |   2394 |   2593 |   2840 |   3097 |   3271 |   3331 |   3375 |   3419 |   3528 |   3570 |   3620 |   3621 |   3516 |   3320 |   3219 |   2885 |   2543 |   2265 |   2115 |   1970 |   1906 |   1855 |   1973 |   2039 |   2243 |   2430 |   2634 |   2864 |   3093 |   3270 |   3410 |   3458 |   3496 |   3501 |   3525 |   3493 |   3325 |   3162 |   3046 |   2756 |   2463 |   2222 |   2036 |   1907 |   1868 |   1832 |   1919 |   2016 |   2179 |   2392 |   2606 |   2908 |   3109 |   3299 |   3476 |   3597 |   3667 |   3769 |   3784 |   3719 |   3527 |   3354 |   3264 |   2973 |   2652 |   2389 |   2210 |   2145 |   2007 |   2031 |   2064 |   2181 |   2378 |   2614 |   2845 |   3072 |   3305 |   3516 |   3609 |   3786 |   3767 |   3792 |   3783 |   3731 |   3550 |   3396 |   3288 |   3034 |   2712 |   2497 |   2324 |   2208 |   2110 |   2007 |   2100 |   2052 |   2278 |   2523 |   2739 |   2938 |   3099 |   3256 |   3398 |   3486 |   3601 |   3697 |   3716 |   3668 |   3520 |   3348 |   3235 |   2942 |   2669 |   2404 |   2227 |   2108 |   1998 |   1985 |   1975 |   1972 |   2120 |   2384 |   2607 |   2769 |   2949 |   3138 |   3311 |   3422 |   3532 |   3575 |   3637 |   3599 |   3496 |   3342 |   3196 |   2894 |   2538 |   2322 |   2187 |   2030 |   1957 |   1976 |   2025 |   2133 |   2253 |   2381 |   2541 |   2649 |   2864 |   3044 |   3202 |   3346 |   3430 |   3472 |   3478 |   3425 |   3244 |   3086 |   2938 |   2666 |   2342 |   2132 |   1978 |   1901 |   1836 |   1815 |   1872 |   1976 |   2087 |   2166 |   2311 |   2436 |   2585 |   2688 |   2801 |   2852 |   2908 |   2925 |   2951 |   2904 |   2769 |   2671 |   2609 |   2364 |   2100 |   1910 |   1756 |   1678 |   1638 |   1652 |   1735 |   1838 |   1972 |   2051 |   2192 |   2356 |   2504 |   2629 |   2756 |   2855 |   2927 |   2972 |   3018 |   2986 |   2881 |   2817 |   2718 |   2504 |   2248 |   2062 |   1905 |   1793 |   1808 |   1788 |   1885 |   1985 |   2091 |   2170 |   2322 |   2505 |   2706 |   2886 |   3070 |   3205 |   3330 |   3423 |   3497 |   3439 |   3286 |   3114 |   2993 |   2741 |   2425 |   2188 |   1988 |   1875 |   1794 |   1767 |   1853 |   1903 |   2119 |   2314 |   2553 |   2817 |   3084 |   3313 |   3507 |   3625 |   3698 |   3771 |   3802 |   3699 |   3492 |   3293 |   3098 |   2824 |   2548 |   2278 |   2083 |   1970 |   1873 |   1819 |   1795 |   1845 |   1949 |   2193 |   2434 |   2686 |   2961 |   3195 |   3388 |   3519 |   3623 |   3703 |   3727 |   3639 |   3495 |   3317 |   3211 |   2962 |   2682 |   2426 |   2240 |   2140 |   2017 |   1927 |   1941 |   1923 |   2076 |   2330 |   2635 |   2809 |   3018 |   3219 |   3420 |   3569 |   3655 |   3733 |   3769 |   3699 |   3536 |   3363 |   3258 |   2933 |   2601 |   2367 |   2175 |   2031 |   1937 |   1956 |   1998 |   2112 |   2287 |   2524 |   2779 |   3150 |   3403 |   3627 |   3791 |   3815 |   3903 |   3901 |   3872 |   3794 |   3642 |   3474 |   3333 |   3008 |   2675 |   2414 |   2241 |   2125 |   2011 |   1978 |   2030 |   2138 |   2313 |   2561 |   2867 |   3133 |   3436 |   3634 |   3782 |   3864 |   3995 |   4000 |   4013 |   3963 |   3806 |   3636 |   3451 |   3077 |   2710 |   2449 |   2278 |   2114 |   2049 |   2043 |   2043 |   2197 |   2342 |   2523 |   2754 |   2980 |   3203 |   3362 |   3519 |   3624 |   3692 |   3698 |   3705 |   3652 |   3460 |   3248 |   3105 |    nan |    nan |    nan |    nan |    nan |    nan |    nan |    nan |    nan |    nan |    nan |    nan |    nan |    nan |    nan |    nan |    nan |    nan |    nan |    nan |    nan |    nan |    nan |    nan |    nan |    nan |    nan |    nan |    nan |    nan |    nan |    nan |    nan |    nan |    nan |    nan |    nan |    nan |    nan |    nan |    nan |    nan |    nan |    nan |    nan |    nan |    nan |    nan |    nan |    nan |    nan |    nan |    nan |    nan |    nan |    nan |    nan |    nan |    nan |    nan |    nan |    nan |    nan |    nan |    nan |    nan |    nan |    nan |    nan |    nan |    nan |    nan |    nan |    nan |    nan |    nan |    nan |    nan |    nan |    nan |    nan |    nan |    nan |    nan |    nan |    nan |    nan |    nan |    nan |    nan |    nan |    nan |    nan |    nan |    nan |    nan |    nan |    nan |    nan |    nan |    nan |    nan |    nan |    nan |    nan |    nan |    nan |    nan |    nan |    nan |    nan |    nan |    nan |    nan |    nan |    nan |    nan |    nan |    nan |    nan |    nan |    nan |    nan |    nan |    nan |    nan |    nan |    nan |    nan |    nan |    nan |    nan |    nan |    nan |    nan |    nan |    nan |    nan |    nan |    nan |    nan |    nan |    nan |    nan |    nan |    nan |    nan |    nan |    nan |    nan |    nan |    nan |    nan |    nan |    nan |    nan |    nan |    nan |    nan |    nan |    nan |    nan |    nan |    nan |    nan |    nan |    nan |    nan |    nan |    nan |    nan |    nan |    nan |    nan |    nan |    nan |    nan |    nan |    nan |    nan |    nan |    nan |    nan |    nan |    nan |    nan |    nan |    nan |    nan |    nan |    nan |    nan |    nan |    nan |    nan |    nan |    nan |    nan |    nan |    nan |    nan |    nan |    nan |    nan |    nan |    nan |    nan |    nan |    nan |    nan |    nan |    nan |    nan |    nan |    nan |    nan |    nan |    nan |    nan |    nan |    nan |    nan |    nan |    nan |    nan |    nan |    nan |    nan |    nan |    nan |    nan |    nan |    nan |    nan |    nan |    nan |    nan |    nan |    nan |    nan |    nan |    nan |    nan |    nan |    nan |    nan |    nan |    nan |    nan |    nan |    nan |    nan |    nan |    nan |    nan |    nan |    nan |    nan |    nan |    nan |    nan |    nan |    nan |    nan |    nan |    nan |    nan |    nan |    nan |    nan |    nan |    nan |    nan |    nan |    nan |    nan |    nan |    nan |    nan |    nan |    nan |    nan |    nan |    nan |    nan |    nan |    nan |    nan |    nan |    nan |    nan |    nan |    nan |    nan |    nan |    nan |    nan |    nan |     nan |     nan |     nan |     nan |     nan |     nan |     nan |     nan |     nan |     nan |     nan |     nan |     nan |     nan |     nan |     nan |     nan |     nan |     nan |     nan |     nan |     nan |     nan |     nan |     nan |     nan |     nan |     nan |     nan |     nan |     nan |     nan |     nan |     nan |     nan |     nan |     nan |     nan |     nan |     nan |     nan |     nan |     nan |     nan |     nan |     nan |     nan |     nan |     nan |     nan |     nan |     nan |     nan |     nan |     nan |     nan |     nan |     nan |     nan |     nan |     nan |     nan |     nan |     nan |     nan |     nan |     nan |     nan |     nan |     nan |     nan |     nan |     nan |     nan |     nan |     nan |     nan |     nan |     nan |     nan |     nan |     nan |     nan |     nan |     nan |     nan |     nan |     nan |     nan |     nan |     nan |     nan |     nan |     nan |     nan |     nan |     nan |     nan |     nan |     nan |     nan |     nan |     nan |     nan |     nan |     nan |     nan |     nan |     nan |     nan |     nan |     nan |     nan |     nan |     nan |     nan |     nan |     nan |     nan |     nan |     nan |     nan |     nan |     nan |     nan |     nan |     nan |     nan |     nan |     nan |     nan |     nan |     nan |     nan |     nan |     nan |     nan |     nan |     nan |     nan |     nan |     nan |     nan |     nan |     nan |     nan |     nan |     nan |     nan |     nan |     nan |     nan |     nan |     nan |     nan |     nan |     nan |     nan |     nan |     nan |     nan |     nan |     nan |     nan |     nan |     nan |     nan |     nan |     nan |     nan |     nan |     nan |     nan |     nan |     nan |     nan |     nan |     nan |     nan |     nan |     nan |     nan |     nan |     nan |     nan |     nan |     nan |     nan |     nan |     nan |     nan |     nan |     nan |     nan |     nan |     nan |     nan |     nan |     nan |     nan |     nan |     nan |     nan |     nan |     nan |     nan |     nan |     nan |     nan |     nan |     nan |     nan |     nan |     nan |     nan |     nan |     nan |     nan |     nan |     nan |     nan |     nan |     nan |     nan |     nan |     nan |     nan |     nan |     nan |     nan |     nan |     nan |     nan |     nan |     nan |     nan |     nan |     nan |     nan |     nan |     nan |     nan |     nan |     nan |     nan |     nan |     nan |     nan |     nan |     nan |     nan |     nan |     nan |     nan |     nan |     nan |     nan |     nan |     nan |     nan |     nan |     nan |     nan |     nan |     nan |     nan |     nan |     nan |     nan |     nan |     nan |     nan |     nan |     nan |     nan |     nan |     nan |     nan |     nan |     nan |     nan |     nan |     nan |     nan |     nan |     nan |     nan |     nan |     nan |     nan |     nan |     nan |     nan |     nan |     nan |     nan |     nan |     nan |     nan |     nan |     nan |     nan |     nan |     nan |     nan |     nan |     nan |     nan |     nan |     nan |     nan |     nan |     nan |     nan |     nan |     nan |     nan |     nan |     nan |     nan |     nan |     nan |     nan |     nan |     nan |     nan |     nan |     nan |     nan |     nan |     nan |     nan |     nan |     nan |     nan |     nan |     nan |     nan |     nan |     nan |     nan |     nan |     nan |     nan |     nan |     nan |     nan |     nan |     nan |     nan |     nan |     nan |     nan |     nan |     nan |     nan |     nan |     nan |     nan |     nan |     nan |     nan |     nan |     nan |     nan |     nan |     nan |     nan |     nan |     nan |     nan |     nan |     nan |     nan |     nan |     nan |     nan |     nan |     nan |     nan |     nan |     nan |     nan |     nan |     nan |     nan |     nan |     nan |     nan |     nan |     nan |     nan |     nan |     nan |     nan |     nan |     nan |     nan |     nan |     nan |     nan |     nan |     nan |     nan |     nan |     nan |     nan |     nan |     nan |     nan |     nan |     nan |     nan |     nan |     nan |     nan |     nan |     nan |     nan |     nan |     nan |     nan |     nan |     nan |     nan |     nan |     nan |     nan |     nan |     nan |     nan |     nan |     nan |     nan |     nan |     nan |     nan |     nan |     nan |     nan |     nan |     nan |     nan |     nan |     nan |     nan |     nan |     nan |     nan |     nan |     nan |     nan |     nan |     nan |     nan |     nan |     nan |     nan |     nan |     nan |     nan |     nan |     nan |     nan |     nan |     nan |     nan |     nan |     nan |     nan |     nan |     nan |     nan |     nan |     nan |     nan |     nan |     nan |     nan |     nan |     nan |     nan |     nan |     nan |     nan |     nan |     nan |     nan |     nan |     nan |     nan |     nan |     nan |     nan |     nan |     nan |     nan |     nan |     nan |     nan |     nan |     nan |     nan |     nan |     nan |     nan |     nan |     nan |     nan |     nan |     nan |     nan |     nan |     nan |     nan |     nan |     nan |     nan |     nan |     nan |     nan |     nan |     nan |     nan |     nan |     nan |     nan |     nan |     nan |     nan |     nan |     nan |     nan |     nan |     nan |     nan |     nan |     nan |     nan |     nan |     nan |     nan |     nan |     nan |     nan |     nan |     nan |     nan |     nan |     nan |     nan |     nan |     nan |     nan |     nan |     nan |     nan |     nan |     nan |     nan |     nan |     nan |     nan |     nan |     nan |     nan |     nan |     nan |     nan |     nan |     nan |     nan |     nan |     nan |     nan |     nan |     nan |     nan |     nan |     nan |     nan |     nan |     nan |     nan |     nan |     nan |     nan |     nan |     nan |     nan |     nan |     nan |     nan |     nan |     nan |     nan |     nan |     nan |     nan |     nan |     nan |     nan |     nan |     nan |     nan |     nan |     nan |     nan |     nan |     nan |     nan |     nan |     nan |     nan |     nan |     nan |     nan |     nan |     nan |     nan |     nan |     nan |     nan |     nan |     nan |     nan |     nan |     nan |     nan |     nan |     nan |     nan |     nan |     nan |     nan |     nan |     nan |     nan |     nan |     nan |     nan |     nan |     nan |     nan |     nan |     nan |     nan |     nan |     nan |     nan |     nan |     nan |     nan |     nan |     nan |     nan |     nan |     nan |     nan |     nan |     nan |     nan |     nan |     nan |     nan |     nan |     nan |     nan |     nan |     nan |     nan |     nan |     nan |     nan |     nan |     nan |     nan |     nan |     nan |     nan |     nan |     nan |     nan |     nan |     nan |     nan |     nan |     nan |     nan |     nan |     nan |     nan |     nan |     nan |     nan |     nan |     nan |     nan |     nan |     nan |     nan |     nan |     nan |     nan |     nan |     nan |     nan |     nan |     nan |     nan |     nan |     nan |     nan |     nan |     nan |     nan |     nan |     nan |     nan |     nan |     nan |     nan |     nan |     nan |     nan |     nan |     nan |     nan |     nan |     nan |     nan |     nan |     nan |     nan |     nan |     nan |     nan |     nan |     nan |     nan |     nan |     nan |     nan |     nan |     nan |     nan |     nan |     nan |     nan |     nan |     nan |     nan |     nan |     nan |     nan |     nan |     nan |     nan |     nan |     nan |     nan |     nan |     nan |     nan |     nan |     nan |     nan |     nan |     nan |     nan |     nan |     nan |     nan |     nan |     nan |     nan |     nan |     nan |     nan |     nan |     nan |     nan |     nan |     nan |     nan |     nan |     nan |     nan |     nan |     nan |     nan |     nan |     nan |     nan |     nan |     nan |     nan |     nan |     nan |     nan |     nan |     nan |     nan |     nan |     nan |     nan |     nan |     nan |     nan |     nan |     nan |     nan |     nan |     nan |     nan |     nan |     nan |     nan |     nan |     nan |     nan |     nan |     nan |     nan |     nan |     nan |     nan |     nan |     nan |     nan |     nan |     nan |     nan |     nan |     nan |     nan |     nan |     nan |     nan |     nan |     nan |     nan |     nan |     nan |     nan |     nan |     nan |     nan |     nan |     nan |     nan |     nan |     nan |     nan |     nan |     nan |     nan |     nan |     nan |     nan |     nan |     nan |     nan |     nan |     nan |     nan |     nan |     nan |     nan |     nan |     nan |     nan |     nan |     nan |     nan |     nan |     nan |     nan |     nan |     nan |     nan |     nan |     nan |     nan |     nan |     nan |     nan |     nan |     nan |     nan |     nan |     nan |     nan |     nan |     nan |     nan |     nan |     nan |     nan |     nan |     nan |     nan |     nan |     nan |     nan |     nan |     nan |     nan |     nan |     nan |     nan |     nan |     nan |     nan |     nan |     nan |     nan |     nan |     nan |     nan |     nan |     nan |     nan |     nan |     nan |     nan |     nan |     nan |     nan |     nan |     nan |     nan |     nan |     nan |     nan |     nan |     nan |     nan |     nan |     nan |     nan |     nan |     nan |     nan |     nan |     nan |     nan |     nan |     nan |     nan |     nan |     nan |     nan |     nan |     nan |     nan |     nan |     nan |     nan |     nan |     nan |     nan |     nan |     nan |     nan |     nan |     nan |     nan |     nan |     nan |     nan |     nan |     nan |     nan |     nan |     nan |     nan |     nan |     nan |     nan |     nan |     nan |     nan |     nan |     nan |     nan |     nan |     nan |     nan |     nan |     nan |     nan |     nan |     nan |     nan |     nan |     nan |     nan |     nan |     nan |     nan |     nan |     nan |     nan |     nan |     nan |     nan |     nan |     nan |     nan |     nan |     nan |     nan |     nan |     nan |     nan |     nan |     nan |     nan |     nan |     nan |     nan |     nan |     nan |     nan |     nan |     nan |     nan |     nan |     nan |     nan |     nan |     nan |     nan |     nan |     nan |     nan |     nan |     nan |     nan |     nan |     nan |     nan |     nan |     nan |     nan |     nan |     nan |     nan |     nan |     nan |     nan |     nan |     nan |     nan |     nan |     nan |     nan |     nan |     nan |     nan |     nan |     nan |     nan |     nan |     nan |     nan |     nan |     nan |     nan |     nan |     nan |     nan |     nan |     nan |     nan |     nan |     nan |     nan |     nan |     nan |     nan |     nan |     nan |     nan |     nan |     nan |     nan |     nan |     nan |     nan |     nan |     nan |     nan |     nan |     nan |     nan |     nan |     nan |     nan |     nan |     nan |     nan |     nan |     nan |     nan |     nan |     nan |     nan |     nan |     nan |     nan |     nan |     nan |     nan |     nan |     nan |     nan |     nan |     nan |     nan |     nan |     nan |     nan |     nan |     nan |     nan |     nan |     nan |     nan |     nan |     nan |     nan |     nan |     nan |     nan |     nan |     nan |     nan |     nan |     nan |     nan |     nan |     nan |     nan |     nan |     nan |     nan |     nan |     nan |     nan |     nan |     nan |     nan |     nan |     nan |     nan |     nan |     nan |     nan |     nan |     nan |     nan |     nan |     nan |     nan |     nan |     nan |     nan |     nan |     nan |     nan |     nan |     nan |     nan |     nan |     nan |     nan |     nan |     nan |     nan |     nan |     nan |     nan |     nan |     nan |     nan |     nan |     nan |     nan |     nan |     nan |     nan |     nan |     nan |     nan |     nan |     nan |     nan |     nan |     nan |     nan |     nan |     nan |     nan |     nan |     nan |     nan |     nan |     nan |     nan |     nan |     nan |     nan |     nan |     nan |     nan |     nan |     nan |     nan |     nan |     nan |     nan |     nan |     nan |     nan |     nan |     nan |     nan |     nan |     nan |     nan |     nan |     nan |     nan |     nan |     nan |     nan |     nan |     nan |     nan |     nan |     nan |     nan |     nan |     nan |     nan |     nan |     nan |     nan |     nan |     nan |     nan |     nan |     nan |     nan |     nan |     nan |     nan |     nan |     nan |     nan |     nan |     nan |     nan |     nan |     nan |     nan |     nan |     nan |     nan |     nan |     nan |     nan |     nan |     nan |     nan |     nan |     nan |     nan |     nan |     nan |     nan |     nan |     nan |     nan |     nan |     nan |     nan |     nan |     nan |     nan |     nan |     nan |     nan |     nan |     nan |     nan |     nan |     nan |     nan |     nan |     nan |     nan |     nan |     nan |     nan |     nan |     nan |     nan |     nan |     nan |     nan |     nan |     nan |     nan |     nan |     nan |     nan |     nan |     nan |     nan |     nan |     nan |     nan |     nan |     nan |     nan |     nan |     nan |     nan |     nan |     nan |     nan |     nan |     nan |     nan |     nan |     nan |     nan |     nan |     nan |     nan |     nan |     nan |     nan |     nan |     nan |     nan |     nan |     nan |     nan |     nan |     nan |     nan |     nan |     nan |     nan |     nan |     nan |     nan |     nan |     nan |     nan |     nan |     nan |     nan |     nan |     nan |     nan |     nan |     nan |     nan |     nan |     nan |     nan |     nan |     nan |     nan |     nan |     nan |     nan |     nan |     nan |     nan |     nan |     nan |     nan |     nan |     nan |     nan |     nan |     nan |     nan |     nan |     nan |     nan |     nan |     nan |     nan |     nan |     nan |     nan |     nan |     nan |     nan |     nan |     nan |     nan |     nan |     nan |     nan |     nan |     nan |     nan |     nan |     nan |     nan |     nan |     nan |     nan |     nan |     nan |     nan |     nan |     nan |     nan |     nan |     nan |     nan |     nan |     nan |     nan |     nan |     nan |     nan |     nan |     nan |     nan |     nan |     nan |     nan |     nan |     nan |     nan |     nan |     nan |     nan |     nan |     nan |     nan |     nan |     nan |     nan |     nan |     nan |     nan |     nan |     nan |     nan |     nan |     nan |     nan |     nan |     nan |     nan |     nan |     nan |     nan |     nan |     nan |     nan |     nan |     nan |     nan |     nan |     nan |     nan |     nan |     nan |     nan |     nan |     nan |     nan |     nan |     nan |     nan |     nan |     nan |     nan |     nan |     nan |     nan |     nan |     nan |     nan |     nan |     nan |     nan |     nan |     nan |     nan |     nan |     nan |     nan |     nan |     nan |     nan |     nan |     nan |     nan |     nan |     nan |     nan |     nan |     nan |     nan |     nan |     nan |     nan |     nan |     nan |     nan |     nan |     nan |     nan |     nan |     nan |     nan |     nan |     nan |     nan |     nan |     nan |     nan |     nan |     nan |     nan |     nan |     nan |     nan |     nan |     nan |     nan |     nan |     nan |     nan |     nan |     nan |     nan |     nan |     nan |     nan |     nan |     nan |     nan |     nan |     nan |     nan |     nan |     nan |     nan |     nan |     nan |     nan |     nan |     nan |     nan |     nan |     nan |     nan |     nan |     nan |     nan |     nan |     nan |     nan |     nan |     nan |     nan |     nan |     nan |     nan |     nan |     nan |     nan |     nan |     nan |     nan |     nan |     nan |     nan |     nan |     nan |     nan |     nan |     nan |     nan |     nan |\n",
       "|  2 | H3   | 1828 | 1806 | 1897 | 1750 | 1679 | 1620 | 1463 | 1342 |  1192 |  1108 |  1058 |  1024 |  1031 |  1091 |  1208 |  1337 |  1435 |  1515 |  1593 |  1667 |  1753 |  1768 |  1823 |  1813 |  1842 |  1838 |  1800 |  1761 |  1670 |  1609 |  1467 |  1309 |  1189 |  1102 |  1054 |  1017 |  1014 |  1063 |  1187 |  1314 |  1424 |  1497 |  1586 |  1659 |  1722 |  1781 |  1805 |  1831 |  1851 |  1831 |  1809 |  1755 |  1685 |  1618 |  1487 |  1311 |  1180 |  1087 |  1033 |  1002 |   991 |  1005 |  1071 |  1191 |  1307 |  1407 |  1495 |  1576 |  1635 |  1688 |  1711 |  1741 |  1768 |  1765 |  1738 |  1684 |  1605 |  1553 |  1433 |  1297 |  1177 |  1082 |  1028 |   987 |   970 |   959 |   993 |  1083 |  1215 |  1310 |  1415 |  1479 |  1525 |  1599 |  1623 |  1652 |  1671 |  1664 |   1637 |   1574 |   1511 |   1453 |   1342 |   1264 |   1154 |   1078 |   1021 |    999 |    984 |    961 |   1000 |   1087 |   1194 |   1284 |   1357 |   1415 |   1468 |   1511 |   1539 |   1570 |   1549 |   1560 |   1562 |   1531 |   1455 |   1418 |   1303 |   1159 |   1068 |   1009 |    968 |    956 |    972 |   1011 |   1123 |   1225 |   1307 |   1400 |   1470 |   1526 |   1596 |   1663 |   1695 |   1725 |   1736 |   1726 |   1731 |   1669 |   1598 |   1526 |   1390 |   1225 |   1124 |   1026 |    985 |    979 |   1000 |   1050 |   1158 |   1262 |   1355 |   1429 |   1509 |   1574 |   1643 |   1687 |   1725 |   1730 |   1732 |   1723 |   1676 |   1614 |   1588 |   1521 |   1394 |   1232 |   1136 |   1061 |   1015 |    995 |   1005 |   1058 |   1224 |   1351 |   1438 |   1546 |   1654 |   1719 |   1769 |   1756 |   1788 |   1816 |   1818 |   1802 |   1773 |   1712 |   1618 |   1561 |   1407 |   1246 |   1118 |   1058 |   1008 |    977 |    994 |   1047 |   1152 |   1259 |   1351 |   1439 |   1522 |   1626 |   1702 |   1771 |   1860 |   1883 |   1902 |   1886 |   1839 |   1778 |   1696 |   1628 |   1487 |   1334 |   1214 |   1148 |   1099 |   1082 |   1096 |   1136 |   1235 |   1340 |   1436 |   1514 |   1568 |   1613 |   1621 |   1638 |   1676 |   1693 |   1730 |   1701 |   1639 |   1556 |   1523 |   1486 |   1389 |   1270 |   1127 |   1055 |   1002 |   1008 |   1015 |   1019 |   1023 |   1062 |   1129 |   1188 |   1170 |   1203 |   1199 |   1186 |   1179 |   1204 |   1221 |   1251 |   1218 |   1163 |   1165 |   1162 |   1107 |   1017 |    943 |    888 |    851 |    834 |    849 |    842 |    862 |    925 |   1019 |   1081 |   1144 |   1190 |   1231 |   1274 |   1306 |   1317 |   1334 |   1357 |   1350 |   1318 |   1308 |   1272 |   1163 |   1036 |    939 |    883 |    873 |    870 |    911 |    963 |   1062 |   1169 |   1230 |   1282 |   1328 |   1385 |   1428 |   1405 |   1407 |   1403 |   1419 |   1428 |   1397 |   1349 |   1330 |   1291 |   1181 |   1063 |    965 |    913 |    883 |    871 |    896 |    953 |   1057 |   1165 |   1226 |   1302 |   1328 |   1335 |   1378 |   1410 |   1425 |   1457 |   1477 |   1476 |   1497 |   1442 |   1377 |   1288 |   1170 |   1027 |    932 |    877 |    855 |    862 |    902 |    949 |   1056 |   1172 |   1257 |   1314 |   1372 |   1426 |   1476 |   1515 |   1530 |   1511 |   1546 |   1551 |   1524 |   1457 |   1403 |   1349 |   1237 |   1107 |   1026 |    963 |    930 |    908 |    929 |    983 |   1075 |   1168 |   1228 |   1271 |   1314 |   1336 |   1339 |   1370 |   1379 |   1380 |   1403 |   1416 |   1396 |   1333 |   1297 |   1267 |   1159 |   1050 |    957 |    907 |    887 |    862 |    886 |    942 |   1032 |   1134 |   1205 |   1256 |   1292 |   1306 |   1336 |   1391 |   1412 |   1445 |   1460 |   1459 |   1437 |   1396 |   1346 |   1306 |   1191 |   1081 |    999 |    931 |    902 |    879 |    889 |    883 |    919 |   1006 |   1090 |   1181 |   1245 |   1308 |   1351 |   1396 |   1433 |   1463 |   1502 |   1525 |   1510 |   1462 |   1398 |   1408 |   1255 |   1106 |   1004 |    954 |    888 |    870 |    881 |    867 |    905 |    995 |   1096 |   1198 |   1285 |   1354 |   1436 |   1489 |   1544 |   1585 |   1630 |   1629 |   1638 |   1612 |   1550 |   1482 |   1343 |   1188 |   1078 |   1018 |    965 |    960 |    987 |   1045 |   1158 |   1288 |   1383 |   1477 |   1558 |   1637 |   1687 |   1728 |   1753 |   1765 |   1784 |   1770 |   1747 |   1661 |   1581 |   1507 |   1376 |   1222 |   1103 |   1032 |    988 |    957 |    972 |   1014 |   1129 |   1241 |   1325 |   1395 |   1447 |   1489 |   1530 |   1570 |   1603 |   1620 |   1635 |   1618 |   1570 |   1501 |   1432 |   1383 |   1244 |   1113 |   1015 |    976 |    927 |    918 |    932 |    980 |   1075 |   1160 |   1226 |   1285 |   1317 |   1364 |   1387 |   1424 |   1439 |   1456 |   1496 |   1488 |   1467 |   1418 |   1366 |   1321 |   1192 |   1072 |    983 |    936 |    906 |    884 |    913 |    967 |   1059 |   1164 |   1229 |   1280 |   1327 |   1354 |   1387 |   1437 |   1466 |   1487 |   1516 |   1496 |   1479 |   1420 |   1360 |   1326 |   1197 |   1083 |    958 |    908 |    873 |    864 |    884 |    930 |   1023 |   1110 |   1197 |   1247 |   1287 |   1317 |   1352 |   1377 |   1419 |   1474 |   1478 |   1474 |   1447 |   1374 |   1317 |   1283 |   1202 |   1085 |   1001 |    945 |    909 |    885 |    889 |    894 |    927 |    993 |   1071 |   1136 |   1199 |   1220 |   1235 |   1229 |   1232 |   1233 |   1228 |   1209 |   1168 |   1137 |   1137 |   1158 |   1059 |    985 |    919 |    863 |    843 |    827 |    833 |    825 |    850 |    917 |    992 |   1052 |   1087 |   1104 |   1122 |   1117 |   1089 |   1141 |   1158 |   1136 |   1131 |   1154 |   1154 |   1151 |   1054 |    959 |    899 |    866 |    849 |    839 |    872 |    949 |   1026 |   1121 |   1172 |   1220 |   1241 |   1268 |   1297 |   1230 |   1219 |   1217 |   1231 |   1260 |   1240 |   1218 |   1226 |   1187 |   1083 |    987 |    912 |    874 |    854 |    845 |    879 |    944 |   1026 |   1111 |   1159 |   1214 |   1234 |   1279 |   1304 |   1327 |   1345 |   1341 |   1338 |   1351 |   1342 |   1322 |   1312 |   1256 |   1142 |   1018 |    934 |    884 |    856 |    850 |    875 |    927 |   1040 |   1124 |   1198 |   1230 |   1291 |   1341 |   1398 |   1451 |   1505 |   1517 |   1570 |   1581 |   1570 |   1518 |    nan |    nan |    nan |    nan |    nan |    nan |    nan |    nan |    nan |    nan |    nan |    nan |    nan |    nan |    nan |    nan |    nan |    nan |    nan |    nan |    nan |    nan |    nan |    nan |    nan |    nan |    nan |    nan |    nan |    nan |    nan |    nan |    nan |    nan |    nan |    nan |    nan |    nan |    nan |    nan |    nan |    nan |    nan |    nan |    nan |    nan |    nan |    nan |    nan |    nan |    nan |    nan |    nan |    nan |    nan |    nan |    nan |    nan |    nan |    nan |    nan |    nan |    nan |    nan |    nan |    nan |    nan |    nan |    nan |    nan |    nan |    nan |    nan |    nan |    nan |    nan |    nan |    nan |    nan |    nan |    nan |    nan |    nan |    nan |    nan |    nan |    nan |    nan |    nan |    nan |    nan |    nan |    nan |    nan |    nan |    nan |    nan |    nan |    nan |    nan |    nan |    nan |    nan |    nan |    nan |    nan |    nan |    nan |    nan |    nan |    nan |    nan |    nan |    nan |    nan |    nan |    nan |    nan |    nan |    nan |    nan |    nan |    nan |    nan |    nan |    nan |    nan |    nan |    nan |    nan |    nan |    nan |    nan |    nan |    nan |    nan |    nan |    nan |    nan |    nan |    nan |    nan |    nan |    nan |    nan |    nan |    nan |    nan |    nan |    nan |    nan |    nan |    nan |    nan |    nan |    nan |    nan |    nan |    nan |    nan |    nan |    nan |    nan |    nan |    nan |    nan |    nan |    nan |    nan |    nan |    nan |    nan |    nan |    nan |    nan |    nan |    nan |    nan |    nan |    nan |    nan |    nan |    nan |    nan |    nan |    nan |    nan |    nan |    nan |    nan |    nan |    nan |    nan |    nan |    nan |    nan |    nan |    nan |    nan |    nan |    nan |    nan |    nan |    nan |    nan |    nan |    nan |    nan |    nan |    nan |    nan |    nan |    nan |    nan |    nan |    nan |    nan |    nan |    nan |    nan |    nan |    nan |    nan |    nan |    nan |    nan |    nan |    nan |    nan |    nan |    nan |    nan |    nan |    nan |    nan |    nan |    nan |    nan |    nan |    nan |    nan |    nan |    nan |    nan |    nan |    nan |    nan |    nan |    nan |    nan |    nan |    nan |    nan |    nan |    nan |    nan |    nan |    nan |    nan |    nan |    nan |    nan |    nan |    nan |    nan |    nan |    nan |    nan |    nan |    nan |    nan |    nan |    nan |    nan |    nan |    nan |    nan |    nan |    nan |    nan |    nan |    nan |    nan |    nan |    nan |    nan |    nan |    nan |    nan |    nan |    nan |    nan |    nan |    nan |    nan |    nan |    nan |    nan |     nan |     nan |     nan |     nan |     nan |     nan |     nan |     nan |     nan |     nan |     nan |     nan |     nan |     nan |     nan |     nan |     nan |     nan |     nan |     nan |     nan |     nan |     nan |     nan |     nan |     nan |     nan |     nan |     nan |     nan |     nan |     nan |     nan |     nan |     nan |     nan |     nan |     nan |     nan |     nan |     nan |     nan |     nan |     nan |     nan |     nan |     nan |     nan |     nan |     nan |     nan |     nan |     nan |     nan |     nan |     nan |     nan |     nan |     nan |     nan |     nan |     nan |     nan |     nan |     nan |     nan |     nan |     nan |     nan |     nan |     nan |     nan |     nan |     nan |     nan |     nan |     nan |     nan |     nan |     nan |     nan |     nan |     nan |     nan |     nan |     nan |     nan |     nan |     nan |     nan |     nan |     nan |     nan |     nan |     nan |     nan |     nan |     nan |     nan |     nan |     nan |     nan |     nan |     nan |     nan |     nan |     nan |     nan |     nan |     nan |     nan |     nan |     nan |     nan |     nan |     nan |     nan |     nan |     nan |     nan |     nan |     nan |     nan |     nan |     nan |     nan |     nan |     nan |     nan |     nan |     nan |     nan |     nan |     nan |     nan |     nan |     nan |     nan |     nan |     nan |     nan |     nan |     nan |     nan |     nan |     nan |     nan |     nan |     nan |     nan |     nan |     nan |     nan |     nan |     nan |     nan |     nan |     nan |     nan |     nan |     nan |     nan |     nan |     nan |     nan |     nan |     nan |     nan |     nan |     nan |     nan |     nan |     nan |     nan |     nan |     nan |     nan |     nan |     nan |     nan |     nan |     nan |     nan |     nan |     nan |     nan |     nan |     nan |     nan |     nan |     nan |     nan |     nan |     nan |     nan |     nan |     nan |     nan |     nan |     nan |     nan |     nan |     nan |     nan |     nan |     nan |     nan |     nan |     nan |     nan |     nan |     nan |     nan |     nan |     nan |     nan |     nan |     nan |     nan |     nan |     nan |     nan |     nan |     nan |     nan |     nan |     nan |     nan |     nan |     nan |     nan |     nan |     nan |     nan |     nan |     nan |     nan |     nan |     nan |     nan |     nan |     nan |     nan |     nan |     nan |     nan |     nan |     nan |     nan |     nan |     nan |     nan |     nan |     nan |     nan |     nan |     nan |     nan |     nan |     nan |     nan |     nan |     nan |     nan |     nan |     nan |     nan |     nan |     nan |     nan |     nan |     nan |     nan |     nan |     nan |     nan |     nan |     nan |     nan |     nan |     nan |     nan |     nan |     nan |     nan |     nan |     nan |     nan |     nan |     nan |     nan |     nan |     nan |     nan |     nan |     nan |     nan |     nan |     nan |     nan |     nan |     nan |     nan |     nan |     nan |     nan |     nan |     nan |     nan |     nan |     nan |     nan |     nan |     nan |     nan |     nan |     nan |     nan |     nan |     nan |     nan |     nan |     nan |     nan |     nan |     nan |     nan |     nan |     nan |     nan |     nan |     nan |     nan |     nan |     nan |     nan |     nan |     nan |     nan |     nan |     nan |     nan |     nan |     nan |     nan |     nan |     nan |     nan |     nan |     nan |     nan |     nan |     nan |     nan |     nan |     nan |     nan |     nan |     nan |     nan |     nan |     nan |     nan |     nan |     nan |     nan |     nan |     nan |     nan |     nan |     nan |     nan |     nan |     nan |     nan |     nan |     nan |     nan |     nan |     nan |     nan |     nan |     nan |     nan |     nan |     nan |     nan |     nan |     nan |     nan |     nan |     nan |     nan |     nan |     nan |     nan |     nan |     nan |     nan |     nan |     nan |     nan |     nan |     nan |     nan |     nan |     nan |     nan |     nan |     nan |     nan |     nan |     nan |     nan |     nan |     nan |     nan |     nan |     nan |     nan |     nan |     nan |     nan |     nan |     nan |     nan |     nan |     nan |     nan |     nan |     nan |     nan |     nan |     nan |     nan |     nan |     nan |     nan |     nan |     nan |     nan |     nan |     nan |     nan |     nan |     nan |     nan |     nan |     nan |     nan |     nan |     nan |     nan |     nan |     nan |     nan |     nan |     nan |     nan |     nan |     nan |     nan |     nan |     nan |     nan |     nan |     nan |     nan |     nan |     nan |     nan |     nan |     nan |     nan |     nan |     nan |     nan |     nan |     nan |     nan |     nan |     nan |     nan |     nan |     nan |     nan |     nan |     nan |     nan |     nan |     nan |     nan |     nan |     nan |     nan |     nan |     nan |     nan |     nan |     nan |     nan |     nan |     nan |     nan |     nan |     nan |     nan |     nan |     nan |     nan |     nan |     nan |     nan |     nan |     nan |     nan |     nan |     nan |     nan |     nan |     nan |     nan |     nan |     nan |     nan |     nan |     nan |     nan |     nan |     nan |     nan |     nan |     nan |     nan |     nan |     nan |     nan |     nan |     nan |     nan |     nan |     nan |     nan |     nan |     nan |     nan |     nan |     nan |     nan |     nan |     nan |     nan |     nan |     nan |     nan |     nan |     nan |     nan |     nan |     nan |     nan |     nan |     nan |     nan |     nan |     nan |     nan |     nan |     nan |     nan |     nan |     nan |     nan |     nan |     nan |     nan |     nan |     nan |     nan |     nan |     nan |     nan |     nan |     nan |     nan |     nan |     nan |     nan |     nan |     nan |     nan |     nan |     nan |     nan |     nan |     nan |     nan |     nan |     nan |     nan |     nan |     nan |     nan |     nan |     nan |     nan |     nan |     nan |     nan |     nan |     nan |     nan |     nan |     nan |     nan |     nan |     nan |     nan |     nan |     nan |     nan |     nan |     nan |     nan |     nan |     nan |     nan |     nan |     nan |     nan |     nan |     nan |     nan |     nan |     nan |     nan |     nan |     nan |     nan |     nan |     nan |     nan |     nan |     nan |     nan |     nan |     nan |     nan |     nan |     nan |     nan |     nan |     nan |     nan |     nan |     nan |     nan |     nan |     nan |     nan |     nan |     nan |     nan |     nan |     nan |     nan |     nan |     nan |     nan |     nan |     nan |     nan |     nan |     nan |     nan |     nan |     nan |     nan |     nan |     nan |     nan |     nan |     nan |     nan |     nan |     nan |     nan |     nan |     nan |     nan |     nan |     nan |     nan |     nan |     nan |     nan |     nan |     nan |     nan |     nan |     nan |     nan |     nan |     nan |     nan |     nan |     nan |     nan |     nan |     nan |     nan |     nan |     nan |     nan |     nan |     nan |     nan |     nan |     nan |     nan |     nan |     nan |     nan |     nan |     nan |     nan |     nan |     nan |     nan |     nan |     nan |     nan |     nan |     nan |     nan |     nan |     nan |     nan |     nan |     nan |     nan |     nan |     nan |     nan |     nan |     nan |     nan |     nan |     nan |     nan |     nan |     nan |     nan |     nan |     nan |     nan |     nan |     nan |     nan |     nan |     nan |     nan |     nan |     nan |     nan |     nan |     nan |     nan |     nan |     nan |     nan |     nan |     nan |     nan |     nan |     nan |     nan |     nan |     nan |     nan |     nan |     nan |     nan |     nan |     nan |     nan |     nan |     nan |     nan |     nan |     nan |     nan |     nan |     nan |     nan |     nan |     nan |     nan |     nan |     nan |     nan |     nan |     nan |     nan |     nan |     nan |     nan |     nan |     nan |     nan |     nan |     nan |     nan |     nan |     nan |     nan |     nan |     nan |     nan |     nan |     nan |     nan |     nan |     nan |     nan |     nan |     nan |     nan |     nan |     nan |     nan |     nan |     nan |     nan |     nan |     nan |     nan |     nan |     nan |     nan |     nan |     nan |     nan |     nan |     nan |     nan |     nan |     nan |     nan |     nan |     nan |     nan |     nan |     nan |     nan |     nan |     nan |     nan |     nan |     nan |     nan |     nan |     nan |     nan |     nan |     nan |     nan |     nan |     nan |     nan |     nan |     nan |     nan |     nan |     nan |     nan |     nan |     nan |     nan |     nan |     nan |     nan |     nan |     nan |     nan |     nan |     nan |     nan |     nan |     nan |     nan |     nan |     nan |     nan |     nan |     nan |     nan |     nan |     nan |     nan |     nan |     nan |     nan |     nan |     nan |     nan |     nan |     nan |     nan |     nan |     nan |     nan |     nan |     nan |     nan |     nan |     nan |     nan |     nan |     nan |     nan |     nan |     nan |     nan |     nan |     nan |     nan |     nan |     nan |     nan |     nan |     nan |     nan |     nan |     nan |     nan |     nan |     nan |     nan |     nan |     nan |     nan |     nan |     nan |     nan |     nan |     nan |     nan |     nan |     nan |     nan |     nan |     nan |     nan |     nan |     nan |     nan |     nan |     nan |     nan |     nan |     nan |     nan |     nan |     nan |     nan |     nan |     nan |     nan |     nan |     nan |     nan |     nan |     nan |     nan |     nan |     nan |     nan |     nan |     nan |     nan |     nan |     nan |     nan |     nan |     nan |     nan |     nan |     nan |     nan |     nan |     nan |     nan |     nan |     nan |     nan |     nan |     nan |     nan |     nan |     nan |     nan |     nan |     nan |     nan |     nan |     nan |     nan |     nan |     nan |     nan |     nan |     nan |     nan |     nan |     nan |     nan |     nan |     nan |     nan |     nan |     nan |     nan |     nan |     nan |     nan |     nan |     nan |     nan |     nan |     nan |     nan |     nan |     nan |     nan |     nan |     nan |     nan |     nan |     nan |     nan |     nan |     nan |     nan |     nan |     nan |     nan |     nan |     nan |     nan |     nan |     nan |     nan |     nan |     nan |     nan |     nan |     nan |     nan |     nan |     nan |     nan |     nan |     nan |     nan |     nan |     nan |     nan |     nan |     nan |     nan |     nan |     nan |     nan |     nan |     nan |     nan |     nan |     nan |     nan |     nan |     nan |     nan |     nan |     nan |     nan |     nan |     nan |     nan |     nan |     nan |     nan |     nan |     nan |     nan |     nan |     nan |     nan |     nan |     nan |     nan |     nan |     nan |     nan |     nan |     nan |     nan |     nan |     nan |     nan |     nan |     nan |     nan |     nan |     nan |     nan |     nan |     nan |     nan |     nan |     nan |     nan |     nan |     nan |     nan |     nan |     nan |     nan |     nan |     nan |     nan |     nan |     nan |     nan |     nan |     nan |     nan |     nan |     nan |     nan |     nan |     nan |     nan |     nan |     nan |     nan |     nan |     nan |     nan |     nan |     nan |     nan |     nan |     nan |     nan |     nan |     nan |     nan |     nan |     nan |     nan |     nan |     nan |     nan |     nan |     nan |     nan |     nan |     nan |     nan |     nan |     nan |     nan |     nan |     nan |     nan |     nan |     nan |     nan |     nan |     nan |     nan |     nan |     nan |     nan |     nan |     nan |     nan |     nan |     nan |     nan |     nan |     nan |     nan |     nan |     nan |     nan |     nan |     nan |     nan |     nan |     nan |     nan |     nan |     nan |     nan |     nan |     nan |     nan |     nan |     nan |     nan |     nan |     nan |     nan |     nan |     nan |     nan |     nan |     nan |     nan |     nan |     nan |     nan |     nan |     nan |     nan |     nan |     nan |     nan |     nan |     nan |     nan |     nan |     nan |     nan |     nan |     nan |     nan |     nan |     nan |     nan |     nan |     nan |     nan |     nan |     nan |     nan |     nan |     nan |     nan |     nan |     nan |     nan |     nan |     nan |     nan |     nan |     nan |     nan |     nan |     nan |     nan |     nan |     nan |     nan |     nan |     nan |     nan |     nan |     nan |     nan |     nan |     nan |     nan |     nan |     nan |     nan |     nan |     nan |     nan |     nan |     nan |     nan |     nan |     nan |     nan |     nan |     nan |     nan |     nan |     nan |     nan |     nan |     nan |     nan |     nan |     nan |     nan |     nan |     nan |     nan |     nan |     nan |     nan |     nan |     nan |     nan |     nan |     nan |     nan |     nan |     nan |     nan |     nan |     nan |     nan |     nan |     nan |     nan |     nan |     nan |     nan |     nan |     nan |     nan |     nan |     nan |     nan |     nan |     nan |     nan |     nan |     nan |     nan |     nan |     nan |     nan |     nan |     nan |     nan |     nan |     nan |     nan |     nan |     nan |     nan |     nan |     nan |     nan |     nan |     nan |     nan |     nan |     nan |     nan |     nan |     nan |     nan |     nan |     nan |     nan |     nan |     nan |     nan |     nan |     nan |     nan |     nan |     nan |     nan |     nan |     nan |     nan |     nan |     nan |     nan |     nan |     nan |     nan |     nan |     nan |     nan |     nan |     nan |     nan |     nan |     nan |     nan |     nan |     nan |     nan |     nan |     nan |     nan |     nan |     nan |     nan |     nan |     nan |     nan |     nan |     nan |     nan |     nan |     nan |     nan |     nan |     nan |     nan |     nan |     nan |     nan |     nan |     nan |     nan |     nan |     nan |     nan |     nan |     nan |     nan |     nan |     nan |     nan |     nan |     nan |     nan |     nan |     nan |     nan |     nan |     nan |     nan |     nan |     nan |     nan |     nan |     nan |     nan |     nan |     nan |     nan |     nan |     nan |     nan |     nan |     nan |     nan |     nan |     nan |     nan |     nan |     nan |     nan |     nan |     nan |     nan |     nan |     nan |     nan |     nan |     nan |     nan |     nan |     nan |     nan |     nan |     nan |     nan |     nan |     nan |     nan |     nan |     nan |     nan |     nan |     nan |     nan |     nan |     nan |     nan |     nan |     nan |     nan |     nan |     nan |     nan |     nan |     nan |     nan |     nan |     nan |     nan |     nan |     nan |     nan |     nan |     nan |     nan |     nan |     nan |     nan |     nan |     nan |     nan |     nan |     nan |     nan |     nan |     nan |     nan |     nan |     nan |     nan |     nan |     nan |     nan |     nan |     nan |     nan |     nan |     nan |     nan |     nan |     nan |     nan |     nan |     nan |     nan |     nan |     nan |     nan |     nan |     nan |     nan |     nan |     nan |     nan |     nan |     nan |     nan |     nan |     nan |     nan |     nan |     nan |     nan |     nan |     nan |     nan |     nan |     nan |     nan |     nan |     nan |     nan |     nan |     nan |     nan |     nan |     nan |     nan |     nan |     nan |     nan |     nan |     nan |     nan |     nan |     nan |     nan |     nan |     nan |     nan |     nan |     nan |     nan |     nan |     nan |     nan |     nan |     nan |     nan |     nan |     nan |     nan |     nan |     nan |     nan |     nan |     nan |     nan |     nan |     nan |     nan |     nan |     nan |     nan |\n",
       "|  3 | H4   | 6454 | 6324 | 6075 | 5949 | 5858 | 5579 | 5163 | 4790 |  4478 |  4227 |  4016 |  3879 |  3821 |  3823 |  3960 |  4169 |  4377 |  4597 |  4864 |  5183 |  5440 |  5707 |  5937 |  6089 |  6097 |  6018 |  5783 |  5655 |  5581 |  5320 |  4909 |  4509 |  4189 |  3964 |  3794 |  3680 |  3682 |  3693 |  3851 |  4108 |  4376 |  4675 |  4995 |  5310 |  5541 |  5810 |  6066 |  6282 |  6411 |  6396 |  6194 |  5962 |  5810 |  5525 |  5123 |  4767 |  4450 |  4205 |  4020 |  3891 |  3845 |  3855 |  3820 |  3851 |  3959 |  4121 |  4305 |  4493 |  4672 |  4846 |  5008 |  5050 |  5187 |  5353 |  5287 |  5123 |  5068 |  4886 |  4567 |  4272 |  4008 |  3804 |  3623 |  3495 |  3414 |  3343 |  3377 |  3629 |  3975 |  4347 |  4678 |  4922 |  5132 |  5270 |  5437 |  5552 |  5684 |  5663 |   5463 |   5236 |   5050 |   4804 |   4573 |   4291 |   4044 |   3833 |   3690 |   3574 |   3501 |   3440 |   3405 |   3548 |   3829 |   4191 |   4539 |   4837 |   5065 |   5257 |   5330 |   5355 |   5353 |   5337 |   5211 |   5006 |   4910 |   4663 |   4324 |   3992 |   3749 |   3592 |   3474 |   3431 |   3452 |   3509 |   3613 |   3763 |   4019 |   4271 |   4578 |   4856 |   5107 |   5386 |   5648 |   5875 |   6006 |   6056 |   5884 |   5630 |   5448 |   5125 |   4704 |   4304 |   4017 |   3804 |   3644 |   3527 |   3517 |   3557 |   3750 |   4026 |   4276 |   4524 |   4835 |   5110 |   5381 |   5655 |   5905 |   6075 |   6154 |   6163 |   6014 |   5809 |   5615 |   5269 |   4833 |   4376 |   4007 |   3765 |   3561 |   3451 |   3436 |   3476 |   3616 |   3880 |   4152 |   4431 |   4736 |   5007 |   5206 |   5452 |   5703 |   5900 |   6041 |   6095 |   5920 |   5650 |   5436 |   5082 |   4580 |   4098 |   3747 |   3489 |   3280 |   3168 |   3157 |   3193 |   3312 |   3481 |   3659 |   3876 |   4092 |   4289 |   4489 |   4725 |   4950 |   5124 |   5246 |   5290 |   5144 |   4962 |   4842 |   4559 |   4161 |   3764 |   3485 |   3243 |   3081 |   3003 |   3003 |   3047 |   3183 |   3425 |   3659 |   3859 |   4123 |   4356 |   4541 |   4806 |   5057 |   5269 |   5401 |   5446 |   5291 |   5111 |   4995 |   4761 |   4411 |   4051 |   3784 |   3589 |   3434 |   3338 |   3288 |   3216 |   3238 |   3438 |   3739 |   4042 |   4396 |   4725 |   4933 |   5113 |   5273 |   5433 |   5551 |   5590 |   5471 |   5178 |   5000 |   4715 |   4339 |   3975 |   3667 |   3438 |   3264 |   3125 |   3035 |   2962 |   2983 |   3195 |   3472 |   3774 |   4120 |   4508 |   4872 |   5189 |   5428 |   5620 |   5741 |   5746 |   5600 |   5430 |   5275 |   4954 |   4555 |   4200 |   3917 |   3710 |   3554 |   3464 |   3496 |   3574 |   3727 |   3962 |   4202 |   4427 |   4740 |   5111 |   5428 |   5753 |   6049 |   6275 |   6389 |   6350 |   6144 |   5910 |   5722 |   5362 |   4937 |   4568 |   4222 |   4022 |   3849 |   3757 |   3751 |   3790 |   3872 |   3997 |   4238 |   4538 |   4876 |   5201 |   5482 |   5776 |   6056 |   6299 |   6389 |   6367 |   6217 |   5984 |   5804 |   5472 |   5017 |   4580 |   4275 |   4030 |   3838 |   3745 |   3715 |   3740 |   3868 |   4090 |   4354 |   4581 |   4860 |   5116 |   5322 |   5616 |   5864 |   6091 |   6244 |   6278 |   6131 |   5918 |   5766 |   5454 |   5034 |   4599 |   4248 |   3982 |   3775 |   3655 |   3633 |   3669 |   3813 |   4089 |   4355 |   4603 |   4932 |   5216 |   5472 |   5760 |   6003 |   6228 |   6371 |   6400 |   6239 |   6013 |   5857 |   5511 |   5041 |   4681 |   4361 |   4102 |   3897 |   3761 |   3741 |   3774 |   3893 |   4075 |   4326 |   4588 |   4871 |   5145 |   5308 |   5517 |   5687 |   5843 |   5970 |   5842 |   5537 |   5410 |   5303 |   5010 |   4604 |   4225 |   3947 |   3733 |   3569 |   3462 |   3418 |   3391 |   3378 |   3588 |   3812 |   4069 |   4384 |   4658 |   4868 |   5094 |   5285 |   5256 |   4950 |   4687 |   4493 |   4396 |   4358 |   4164 |   3879 |   3628 |   3409 |   3239 |   3137 |   3037 |   3042 |   3005 |   2984 |   3162 |   3408 |   3655 |   3940 |   4212 |   4451 |   4672 |   4884 |   5064 |   5235 |   5277 |   5143 |   5035 |   4984 |   4744 |   4406 |   4056 |   3789 |   3582 |   3460 |   3384 |   3432 |   3537 |   3682 |   3850 |   4065 |   4324 |   4662 |   4916 |   5108 |   5314 |   5526 |   5718 |   5819 |   5846 |   5718 |   5541 |   5427 |   5122 |   4681 |   4270 |   3966 |   3750 |   3587 |   3485 |   3493 |   3556 |   3712 |   3992 |   4232 |   4507 |   4824 |   5145 |   5402 |   5666 |   5903 |   6058 |   6162 |   6185 |   6039 |   5811 |   5624 |   5292 |   4855 |   4453 |   4133 |   3857 |   3677 |   3531 |   3499 |   3541 |   3649 |   3868 |   4105 |   4315 |   4582 |   4849 |   5078 |   5327 |   5582 |   5810 |   5978 |   6035 |   5913 |   5718 |   5557 |   5261 |   4824 |   4390 |   4012 |   3765 |   3549 |   3418 |   3392 |   3441 |   3561 |   3787 |   4020 |   4273 |   4558 |   4801 |   5006 |   5275 |   5522 |   5764 |   5907 |   5980 |   5855 |   5680 |   5563 |   5291 |   4918 |   4513 |   4226 |   4009 |   3822 |   3736 |   3747 |   3834 |   3897 |   4051 |   4218 |   4466 |   4711 |   4946 |   5158 |   5380 |   5638 |   5852 |   6051 |   6053 |   5891 |   5657 |   5450 |   5145 |   4760 |   4377 |   4054 |   3779 |   3583 |   3449 |   3370 |   3327 |   3302 |   3469 |   3816 |   4171 |   4566 |   4925 |   5250 |   5576 |   5815 |   5998 |   6109 |   6126 |   5979 |   5674 |   5415 |   5040 |   4642 |   4265 |   3945 |   3678 |   3468 |   3327 |   3265 |   3212 |   3185 |   3355 |   3626 |   3921 |   4287 |   4656 |   5029 |   5390 |   5668 |   5906 |   6086 |   6139 |   6001 |   5737 |   5554 |   5218 |   4765 |   4358 |   4074 |   3869 |   3695 |   3576 |   3547 |   3612 |   3737 |   4022 |   4287 |   4553 |   4847 |   5136 |   5372 |   5689 |   5966 |   6184 |   6328 |   6369 |   6212 |   5995 |   5817 |   5467 |   5003 |   4617 |   4323 |   4066 |   3898 |   3794 |   3794 |   3870 |   3977 |   4140 |   4330 |   4558 |   4886 |   5156 |   5391 |   5684 |   5973 |   6230 |   6388 |   6315 |   6125 |   6029 |   5937 |   5646 |   5210 |   4787 |   4446 |   4178 |   3979 |   3876 |   3858 |   3931 |   4035 |   4179 |   4307 |   4460 |   4635 |   4831 |   4997 |   5167 |   5333 |   5563 |   5739 |   5760 |   5562 |   5481 |    nan |    nan |    nan |    nan |    nan |    nan |    nan |    nan |    nan |    nan |    nan |    nan |    nan |    nan |    nan |    nan |    nan |    nan |    nan |    nan |    nan |    nan |    nan |    nan |    nan |    nan |    nan |    nan |    nan |    nan |    nan |    nan |    nan |    nan |    nan |    nan |    nan |    nan |    nan |    nan |    nan |    nan |    nan |    nan |    nan |    nan |    nan |    nan |    nan |    nan |    nan |    nan |    nan |    nan |    nan |    nan |    nan |    nan |    nan |    nan |    nan |    nan |    nan |    nan |    nan |    nan |    nan |    nan |    nan |    nan |    nan |    nan |    nan |    nan |    nan |    nan |    nan |    nan |    nan |    nan |    nan |    nan |    nan |    nan |    nan |    nan |    nan |    nan |    nan |    nan |    nan |    nan |    nan |    nan |    nan |    nan |    nan |    nan |    nan |    nan |    nan |    nan |    nan |    nan |    nan |    nan |    nan |    nan |    nan |    nan |    nan |    nan |    nan |    nan |    nan |    nan |    nan |    nan |    nan |    nan |    nan |    nan |    nan |    nan |    nan |    nan |    nan |    nan |    nan |    nan |    nan |    nan |    nan |    nan |    nan |    nan |    nan |    nan |    nan |    nan |    nan |    nan |    nan |    nan |    nan |    nan |    nan |    nan |    nan |    nan |    nan |    nan |    nan |    nan |    nan |    nan |    nan |    nan |    nan |    nan |    nan |    nan |    nan |    nan |    nan |    nan |    nan |    nan |    nan |    nan |    nan |    nan |    nan |    nan |    nan |    nan |    nan |    nan |    nan |    nan |    nan |    nan |    nan |    nan |    nan |    nan |    nan |    nan |    nan |    nan |    nan |    nan |    nan |    nan |    nan |    nan |    nan |    nan |    nan |    nan |    nan |    nan |    nan |    nan |    nan |    nan |    nan |    nan |    nan |    nan |    nan |    nan |    nan |    nan |    nan |    nan |    nan |    nan |    nan |    nan |    nan |    nan |    nan |    nan |    nan |    nan |    nan |    nan |    nan |    nan |    nan |    nan |    nan |    nan |    nan |    nan |    nan |    nan |    nan |    nan |    nan |    nan |    nan |    nan |    nan |    nan |    nan |    nan |    nan |    nan |    nan |    nan |    nan |    nan |    nan |    nan |    nan |    nan |    nan |    nan |    nan |    nan |    nan |    nan |    nan |    nan |    nan |    nan |    nan |    nan |    nan |    nan |    nan |    nan |    nan |    nan |    nan |    nan |    nan |    nan |    nan |    nan |    nan |    nan |    nan |    nan |    nan |    nan |    nan |    nan |    nan |    nan |    nan |    nan |    nan |    nan |    nan |    nan |     nan |     nan |     nan |     nan |     nan |     nan |     nan |     nan |     nan |     nan |     nan |     nan |     nan |     nan |     nan |     nan |     nan |     nan |     nan |     nan |     nan |     nan |     nan |     nan |     nan |     nan |     nan |     nan |     nan |     nan |     nan |     nan |     nan |     nan |     nan |     nan |     nan |     nan |     nan |     nan |     nan |     nan |     nan |     nan |     nan |     nan |     nan |     nan |     nan |     nan |     nan |     nan |     nan |     nan |     nan |     nan |     nan |     nan |     nan |     nan |     nan |     nan |     nan |     nan |     nan |     nan |     nan |     nan |     nan |     nan |     nan |     nan |     nan |     nan |     nan |     nan |     nan |     nan |     nan |     nan |     nan |     nan |     nan |     nan |     nan |     nan |     nan |     nan |     nan |     nan |     nan |     nan |     nan |     nan |     nan |     nan |     nan |     nan |     nan |     nan |     nan |     nan |     nan |     nan |     nan |     nan |     nan |     nan |     nan |     nan |     nan |     nan |     nan |     nan |     nan |     nan |     nan |     nan |     nan |     nan |     nan |     nan |     nan |     nan |     nan |     nan |     nan |     nan |     nan |     nan |     nan |     nan |     nan |     nan |     nan |     nan |     nan |     nan |     nan |     nan |     nan |     nan |     nan |     nan |     nan |     nan |     nan |     nan |     nan |     nan |     nan |     nan |     nan |     nan |     nan |     nan |     nan |     nan |     nan |     nan |     nan |     nan |     nan |     nan |     nan |     nan |     nan |     nan |     nan |     nan |     nan |     nan |     nan |     nan |     nan |     nan |     nan |     nan |     nan |     nan |     nan |     nan |     nan |     nan |     nan |     nan |     nan |     nan |     nan |     nan |     nan |     nan |     nan |     nan |     nan |     nan |     nan |     nan |     nan |     nan |     nan |     nan |     nan |     nan |     nan |     nan |     nan |     nan |     nan |     nan |     nan |     nan |     nan |     nan |     nan |     nan |     nan |     nan |     nan |     nan |     nan |     nan |     nan |     nan |     nan |     nan |     nan |     nan |     nan |     nan |     nan |     nan |     nan |     nan |     nan |     nan |     nan |     nan |     nan |     nan |     nan |     nan |     nan |     nan |     nan |     nan |     nan |     nan |     nan |     nan |     nan |     nan |     nan |     nan |     nan |     nan |     nan |     nan |     nan |     nan |     nan |     nan |     nan |     nan |     nan |     nan |     nan |     nan |     nan |     nan |     nan |     nan |     nan |     nan |     nan |     nan |     nan |     nan |     nan |     nan |     nan |     nan |     nan |     nan |     nan |     nan |     nan |     nan |     nan |     nan |     nan |     nan |     nan |     nan |     nan |     nan |     nan |     nan |     nan |     nan |     nan |     nan |     nan |     nan |     nan |     nan |     nan |     nan |     nan |     nan |     nan |     nan |     nan |     nan |     nan |     nan |     nan |     nan |     nan |     nan |     nan |     nan |     nan |     nan |     nan |     nan |     nan |     nan |     nan |     nan |     nan |     nan |     nan |     nan |     nan |     nan |     nan |     nan |     nan |     nan |     nan |     nan |     nan |     nan |     nan |     nan |     nan |     nan |     nan |     nan |     nan |     nan |     nan |     nan |     nan |     nan |     nan |     nan |     nan |     nan |     nan |     nan |     nan |     nan |     nan |     nan |     nan |     nan |     nan |     nan |     nan |     nan |     nan |     nan |     nan |     nan |     nan |     nan |     nan |     nan |     nan |     nan |     nan |     nan |     nan |     nan |     nan |     nan |     nan |     nan |     nan |     nan |     nan |     nan |     nan |     nan |     nan |     nan |     nan |     nan |     nan |     nan |     nan |     nan |     nan |     nan |     nan |     nan |     nan |     nan |     nan |     nan |     nan |     nan |     nan |     nan |     nan |     nan |     nan |     nan |     nan |     nan |     nan |     nan |     nan |     nan |     nan |     nan |     nan |     nan |     nan |     nan |     nan |     nan |     nan |     nan |     nan |     nan |     nan |     nan |     nan |     nan |     nan |     nan |     nan |     nan |     nan |     nan |     nan |     nan |     nan |     nan |     nan |     nan |     nan |     nan |     nan |     nan |     nan |     nan |     nan |     nan |     nan |     nan |     nan |     nan |     nan |     nan |     nan |     nan |     nan |     nan |     nan |     nan |     nan |     nan |     nan |     nan |     nan |     nan |     nan |     nan |     nan |     nan |     nan |     nan |     nan |     nan |     nan |     nan |     nan |     nan |     nan |     nan |     nan |     nan |     nan |     nan |     nan |     nan |     nan |     nan |     nan |     nan |     nan |     nan |     nan |     nan |     nan |     nan |     nan |     nan |     nan |     nan |     nan |     nan |     nan |     nan |     nan |     nan |     nan |     nan |     nan |     nan |     nan |     nan |     nan |     nan |     nan |     nan |     nan |     nan |     nan |     nan |     nan |     nan |     nan |     nan |     nan |     nan |     nan |     nan |     nan |     nan |     nan |     nan |     nan |     nan |     nan |     nan |     nan |     nan |     nan |     nan |     nan |     nan |     nan |     nan |     nan |     nan |     nan |     nan |     nan |     nan |     nan |     nan |     nan |     nan |     nan |     nan |     nan |     nan |     nan |     nan |     nan |     nan |     nan |     nan |     nan |     nan |     nan |     nan |     nan |     nan |     nan |     nan |     nan |     nan |     nan |     nan |     nan |     nan |     nan |     nan |     nan |     nan |     nan |     nan |     nan |     nan |     nan |     nan |     nan |     nan |     nan |     nan |     nan |     nan |     nan |     nan |     nan |     nan |     nan |     nan |     nan |     nan |     nan |     nan |     nan |     nan |     nan |     nan |     nan |     nan |     nan |     nan |     nan |     nan |     nan |     nan |     nan |     nan |     nan |     nan |     nan |     nan |     nan |     nan |     nan |     nan |     nan |     nan |     nan |     nan |     nan |     nan |     nan |     nan |     nan |     nan |     nan |     nan |     nan |     nan |     nan |     nan |     nan |     nan |     nan |     nan |     nan |     nan |     nan |     nan |     nan |     nan |     nan |     nan |     nan |     nan |     nan |     nan |     nan |     nan |     nan |     nan |     nan |     nan |     nan |     nan |     nan |     nan |     nan |     nan |     nan |     nan |     nan |     nan |     nan |     nan |     nan |     nan |     nan |     nan |     nan |     nan |     nan |     nan |     nan |     nan |     nan |     nan |     nan |     nan |     nan |     nan |     nan |     nan |     nan |     nan |     nan |     nan |     nan |     nan |     nan |     nan |     nan |     nan |     nan |     nan |     nan |     nan |     nan |     nan |     nan |     nan |     nan |     nan |     nan |     nan |     nan |     nan |     nan |     nan |     nan |     nan |     nan |     nan |     nan |     nan |     nan |     nan |     nan |     nan |     nan |     nan |     nan |     nan |     nan |     nan |     nan |     nan |     nan |     nan |     nan |     nan |     nan |     nan |     nan |     nan |     nan |     nan |     nan |     nan |     nan |     nan |     nan |     nan |     nan |     nan |     nan |     nan |     nan |     nan |     nan |     nan |     nan |     nan |     nan |     nan |     nan |     nan |     nan |     nan |     nan |     nan |     nan |     nan |     nan |     nan |     nan |     nan |     nan |     nan |     nan |     nan |     nan |     nan |     nan |     nan |     nan |     nan |     nan |     nan |     nan |     nan |     nan |     nan |     nan |     nan |     nan |     nan |     nan |     nan |     nan |     nan |     nan |     nan |     nan |     nan |     nan |     nan |     nan |     nan |     nan |     nan |     nan |     nan |     nan |     nan |     nan |     nan |     nan |     nan |     nan |     nan |     nan |     nan |     nan |     nan |     nan |     nan |     nan |     nan |     nan |     nan |     nan |     nan |     nan |     nan |     nan |     nan |     nan |     nan |     nan |     nan |     nan |     nan |     nan |     nan |     nan |     nan |     nan |     nan |     nan |     nan |     nan |     nan |     nan |     nan |     nan |     nan |     nan |     nan |     nan |     nan |     nan |     nan |     nan |     nan |     nan |     nan |     nan |     nan |     nan |     nan |     nan |     nan |     nan |     nan |     nan |     nan |     nan |     nan |     nan |     nan |     nan |     nan |     nan |     nan |     nan |     nan |     nan |     nan |     nan |     nan |     nan |     nan |     nan |     nan |     nan |     nan |     nan |     nan |     nan |     nan |     nan |     nan |     nan |     nan |     nan |     nan |     nan |     nan |     nan |     nan |     nan |     nan |     nan |     nan |     nan |     nan |     nan |     nan |     nan |     nan |     nan |     nan |     nan |     nan |     nan |     nan |     nan |     nan |     nan |     nan |     nan |     nan |     nan |     nan |     nan |     nan |     nan |     nan |     nan |     nan |     nan |     nan |     nan |     nan |     nan |     nan |     nan |     nan |     nan |     nan |     nan |     nan |     nan |     nan |     nan |     nan |     nan |     nan |     nan |     nan |     nan |     nan |     nan |     nan |     nan |     nan |     nan |     nan |     nan |     nan |     nan |     nan |     nan |     nan |     nan |     nan |     nan |     nan |     nan |     nan |     nan |     nan |     nan |     nan |     nan |     nan |     nan |     nan |     nan |     nan |     nan |     nan |     nan |     nan |     nan |     nan |     nan |     nan |     nan |     nan |     nan |     nan |     nan |     nan |     nan |     nan |     nan |     nan |     nan |     nan |     nan |     nan |     nan |     nan |     nan |     nan |     nan |     nan |     nan |     nan |     nan |     nan |     nan |     nan |     nan |     nan |     nan |     nan |     nan |     nan |     nan |     nan |     nan |     nan |     nan |     nan |     nan |     nan |     nan |     nan |     nan |     nan |     nan |     nan |     nan |     nan |     nan |     nan |     nan |     nan |     nan |     nan |     nan |     nan |     nan |     nan |     nan |     nan |     nan |     nan |     nan |     nan |     nan |     nan |     nan |     nan |     nan |     nan |     nan |     nan |     nan |     nan |     nan |     nan |     nan |     nan |     nan |     nan |     nan |     nan |     nan |     nan |     nan |     nan |     nan |     nan |     nan |     nan |     nan |     nan |     nan |     nan |     nan |     nan |     nan |     nan |     nan |     nan |     nan |     nan |     nan |     nan |     nan |     nan |     nan |     nan |     nan |     nan |     nan |     nan |     nan |     nan |     nan |     nan |     nan |     nan |     nan |     nan |     nan |     nan |     nan |     nan |     nan |     nan |     nan |     nan |     nan |     nan |     nan |     nan |     nan |     nan |     nan |     nan |     nan |     nan |     nan |     nan |     nan |     nan |     nan |     nan |     nan |     nan |     nan |     nan |     nan |     nan |     nan |     nan |     nan |     nan |     nan |     nan |     nan |     nan |     nan |     nan |     nan |     nan |     nan |     nan |     nan |     nan |     nan |     nan |     nan |     nan |     nan |     nan |     nan |     nan |     nan |     nan |     nan |     nan |     nan |     nan |     nan |     nan |     nan |     nan |     nan |     nan |     nan |     nan |     nan |     nan |     nan |     nan |     nan |     nan |     nan |     nan |     nan |     nan |     nan |     nan |     nan |     nan |     nan |     nan |     nan |     nan |     nan |     nan |     nan |     nan |     nan |     nan |     nan |     nan |     nan |     nan |     nan |     nan |     nan |     nan |     nan |     nan |     nan |     nan |     nan |     nan |     nan |     nan |     nan |     nan |     nan |     nan |     nan |     nan |     nan |     nan |     nan |     nan |     nan |     nan |     nan |     nan |     nan |     nan |     nan |     nan |     nan |     nan |     nan |     nan |     nan |     nan |     nan |     nan |     nan |     nan |     nan |     nan |     nan |     nan |     nan |     nan |     nan |     nan |     nan |     nan |     nan |     nan |     nan |     nan |     nan |     nan |     nan |     nan |     nan |     nan |     nan |     nan |     nan |     nan |     nan |     nan |     nan |     nan |     nan |     nan |     nan |     nan |     nan |     nan |     nan |     nan |     nan |     nan |     nan |     nan |     nan |     nan |     nan |     nan |     nan |     nan |     nan |     nan |     nan |     nan |     nan |     nan |     nan |     nan |     nan |     nan |     nan |     nan |     nan |     nan |     nan |     nan |     nan |     nan |     nan |     nan |     nan |     nan |     nan |     nan |     nan |     nan |     nan |     nan |     nan |     nan |     nan |     nan |     nan |     nan |     nan |     nan |     nan |     nan |     nan |     nan |     nan |     nan |     nan |     nan |     nan |     nan |     nan |     nan |     nan |     nan |     nan |     nan |     nan |     nan |     nan |     nan |     nan |     nan |     nan |     nan |     nan |     nan |     nan |     nan |     nan |     nan |     nan |     nan |     nan |     nan |     nan |     nan |     nan |     nan |     nan |     nan |     nan |     nan |     nan |     nan |     nan |     nan |     nan |     nan |     nan |     nan |     nan |     nan |     nan |     nan |     nan |     nan |     nan |     nan |     nan |     nan |     nan |     nan |     nan |     nan |     nan |     nan |     nan |     nan |     nan |     nan |     nan |     nan |     nan |     nan |     nan |     nan |     nan |     nan |     nan |     nan |     nan |     nan |     nan |     nan |     nan |     nan |     nan |     nan |     nan |     nan |     nan |     nan |     nan |     nan |     nan |     nan |     nan |     nan |     nan |     nan |     nan |     nan |     nan |     nan |     nan |     nan |     nan |     nan |     nan |     nan |     nan |     nan |     nan |     nan |     nan |     nan |     nan |     nan |     nan |     nan |     nan |     nan |     nan |     nan |     nan |     nan |     nan |     nan |     nan |     nan |     nan |     nan |     nan |     nan |     nan |     nan |     nan |     nan |     nan |     nan |     nan |     nan |     nan |     nan |     nan |     nan |     nan |     nan |     nan |     nan |     nan |     nan |     nan |     nan |     nan |     nan |     nan |     nan |     nan |     nan |     nan |     nan |     nan |     nan |     nan |     nan |     nan |     nan |     nan |     nan |     nan |     nan |     nan |     nan |     nan |     nan |     nan |     nan |     nan |     nan |     nan |     nan |     nan |     nan |     nan |     nan |     nan |     nan |     nan |     nan |     nan |     nan |     nan |     nan |     nan |     nan |     nan |     nan |     nan |     nan |     nan |     nan |     nan |     nan |     nan |     nan |     nan |     nan |     nan |     nan |     nan |     nan |     nan |     nan |     nan |     nan |     nan |     nan |     nan |     nan |     nan |     nan |     nan |     nan |     nan |     nan |     nan |     nan |     nan |     nan |     nan |     nan |     nan |     nan |     nan |     nan |     nan |     nan |     nan |     nan |     nan |     nan |     nan |     nan |     nan |     nan |     nan |\n",
       "|  4 | H5   | 4263 | 4297 | 4236 | 4080 | 3883 | 3672 | 3248 | 2841 |  2513 |  2275 |  2104 |  1988 |  1958 |  2006 |  2076 |  2209 |  2372 |  2599 |  2880 |  3127 |  3297 |  3506 |  3667 |  3752 |  3842 |  3851 |  3728 |  3578 |  3421 |  3252 |  2910 |  2559 |  2293 |  2104 |  1974 |  1893 |  1896 |  1970 |  2053 |  2209 |  2342 |  2525 |  2745 |  2939 |  3111 |  3313 |  3490 |  3613 |  3679 |  3584 |  3324 |  3108 |  2946 |  2767 |  2495 |  2235 |  2052 |  1891 |  1781 |  1717 |  1701 |  1732 |  1749 |  1817 |  1923 |  2063 |  2127 |  2279 |  2470 |  2734 |  3030 |  3297 |  3520 |  3616 |  3543 |  3372 |  3131 |  2925 |  2632 |  2325 |  2110 |  1917 |  1781 |  1704 |  1652 |  1634 |  1603 |  1677 |  1791 |  1961 |  2196 |  2467 |  2784 |  3081 |  3344 |  3538 |  3617 |  3588 |   3495 |   3235 |   2939 |   2668 |   2438 |   2221 |   2009 |   1828 |   1711 |   1631 |   1591 |   1559 |   1533 |   1588 |   1680 |   1811 |   1945 |   2114 |   2299 |   2498 |   2715 |   2914 |   3091 |   3134 |   3041 |   2829 |   2603 |   2467 |   2209 |   1959 |   1786 |   1657 |   1590 |   1551 |   1577 |   1623 |   1711 |   1827 |   1930 |   2033 |   2163 |   2307 |   2459 |   2669 |   2875 |   3071 |   3256 |   3330 |   3254 |   3037 |   2798 |   2599 |   2303 |   2030 |   1851 |   1721 |   1640 |   1607 |   1620 |   1689 |   1761 |   1879 |   1977 |   2089 |   2201 |   2318 |   2442 |   2584 |   2784 |   2973 |   3110 |   3149 |   3011 |   2780 |   2584 |   2421 |   2183 |   1937 |   1779 |   1655 |   1599 |   1578 |   1584 |   1650 |   1715 |   1805 |   1902 |   1972 |   2099 |   2193 |   2293 |   2435 |   2571 |   2702 |   2755 |   2749 |   2585 |   2376 |   2243 |   2164 |   1996 |   1796 |   1670 |   1584 |   1526 |   1503 |   1532 |   1599 |   1680 |   1769 |   1830 |   1914 |   1973 |   2009 |   2052 |   2086 |   2158 |   2218 |   2258 |   2251 |   2158 |   2063 |   2079 |   2049 |   1901 |   1743 |   1641 |   1560 |   1503 |   1494 |   1524 |   1587 |   1678 |   1776 |   1829 |   1901 |   1979 |   2034 |   2104 |   2191 |   2252 |   2324 |   2393 |   2416 |   2364 |   2275 |   2214 |   2168 |   2008 |   1830 |   1705 |   1589 |   1522 |   1485 |   1486 |   1495 |   1491 |   1558 |   1625 |   1768 |   1882 |   1962 |   2066 |   2207 |   2345 |   2478 |   2593 |   2619 |   2546 |   2398 |   2281 |   2213 |   2032 |   1844 |   1699 |   1597 |   1522 |   1482 |   1467 |   1467 |   1455 |   1491 |   1569 |   1661 |   1762 |   1862 |   1965 |   2108 |   2287 |   2445 |   2571 |   2636 |   2610 |   2512 |   2414 |   2324 |   2088 |   1865 |   1706 |   1585 |   1536 |   1505 |   1532 |   1604 |   1689 |   1814 |   1918 |   2040 |   2180 |   2341 |   2510 |   2724 |   2926 |   3104 |   3261 |   3253 |   3139 |   2960 |   2790 |   2611 |   2317 |   2035 |   1841 |   1720 |   1636 |   1583 |   1606 |   1667 |   1742 |   1849 |   1946 |   2074 |   2200 |   2352 |   2526 |   2728 |   2930 |   3114 |   3237 |   3266 |   3140 |   2923 |   2682 |   2491 |   2198 |   1931 |   1777 |   1649 |   1585 |   1532 |   1564 |   1634 |   1716 |   1821 |   1928 |   2059 |   2196 |   2350 |   2551 |   2787 |   3044 |   3260 |   3467 |   3554 |   3517 |   3351 |   3120 |   2897 |   2539 |   2215 |   1978 |   1818 |   1713 |   1665 |   1665 |   1730 |   1797 |   1923 |   2036 |   2198 |   2374 |   2593 |   2842 |   3112 |   3380 |   3577 |   3700 |   3720 |   3578 |   3364 |   3119 |   2881 |   2540 |   2207 |   1970 |   1803 |   1707 |   1646 |   1636 |   1703 |   1762 |   1875 |   2013 |   2141 |   2313 |   2504 |   2738 |   3031 |   3309 |   3537 |   3661 |   3714 |   3577 |   3353 |   3095 |   2843 |   2489 |   2190 |   1967 |   1791 |   1680 |   1608 |   1581 |   1585 |   1566 |   1625 |   1709 |   1857 |   1989 |   2108 |   2264 |   2449 |   2643 |   2867 |   3026 |   3114 |   3073 |   2904 |   2679 |   2489 |   2241 |   2015 |   1862 |   1714 |   1625 |   1560 |   1544 |   1533 |   1524 |   1587 |   1711 |   1886 |   2089 |   2316 |   2577 |   2819 |   3042 |   3240 |   3383 |   3451 |   3374 |   3252 |   3145 |   2996 |   2679 |   2367 |   2135 |   1955 |   1840 |   1787 |   1797 |   1880 |   1972 |   2150 |   2334 |   2592 |   2868 |   3184 |   3482 |   3715 |   3908 |   4055 |   4141 |   4133 |   3972 |   3742 |   3495 |   3265 |   2876 |   2509 |   2263 |   2065 |   1916 |   1844 |   1828 |   1896 |   1961 |   2064 |   2139 |   2277 |   2454 |   2680 |   2948 |   3191 |   3430 |   3636 |   3767 |   3745 |   3531 |   3227 |   2946 |   2721 |   2390 |   2101 |   1925 |   1784 |   1692 |   1649 |   1658 |   1740 |   1803 |   1920 |   2014 |   2124 |   2235 |   2368 |   2507 |   2657 |   2799 |   2927 |   3001 |   2956 |   2807 |   2564 |   2421 |   2311 |   2086 |   1864 |   1716 |   1620 |   1565 |   1522 |   1550 |   1624 |   1701 |   1794 |   1874 |   1859 |   2064 |   2148 |   2266 |   2378 |   2505 |   2601 |   2700 |   2773 |   2720 |   2576 |   2430 |   2325 |   2092 |   1885 |   1736 |   1617 |   1565 |   1522 |   1554 |   1621 |   1678 |   1779 |   1868 |   1971 |   2082 |   2188 |   2337 |   2489 |   2656 |   2818 |   2964 |   3010 |   2937 |   2745 |   2581 |   2425 |   2177 |   1928 |   1778 |   1647 |   1574 |   1514 |   1515 |   1529 |   1515 |   1581 |   1666 |   1796 |   1922 |   2052 |   2204 |   2380 |   2559 |   2713 |   2843 |   2903 |   2840 |   2657 |   2490 |   2338 |   2107 |   1899 |   1732 |   1614 |   1537 |   1487 |   1470 |   1478 |   1453 |   1511 |   1592 |   1710 |   1855 |   1982 |   2161 |   2348 |   2577 |   2771 |   2923 |   3021 |   2973 |   2806 |   2620 |   2464 |   2186 |   1937 |   1761 |   1655 |   1584 |   1552 |   1568 |   1647 |   1738 |   1878 |   2000 |   2140 |   2301 |   2483 |   2699 |   2933 |   3171 |   3387 |   3519 |   3568 |   3501 |   3290 |   3109 |   2862 |   2488 |   2166 |   1956 |   1804 |   1699 |   1640 |   1652 |   1729 |   1817 |   1947 |   2069 |   2242 |   2448 |   2683 |   2954 |   3275 |   3567 |   3787 |   3951 |   4032 |   3965 |   3805 |   3563 |   3277 |   2845 |   2454 |   2168 |   1981 |   1857 |   1783 |   1777 |   1849 |   1922 |   2064 |   2219 |   2438 |   2701 |   3010 |   3346 |   3703 |   3997 |   4205 |   4303 |   4373 |   4270 |   4082 |    nan |    nan |    nan |    nan |    nan |    nan |    nan |    nan |    nan |    nan |    nan |    nan |    nan |    nan |    nan |    nan |    nan |    nan |    nan |    nan |    nan |    nan |    nan |    nan |    nan |    nan |    nan |    nan |    nan |    nan |    nan |    nan |    nan |    nan |    nan |    nan |    nan |    nan |    nan |    nan |    nan |    nan |    nan |    nan |    nan |    nan |    nan |    nan |    nan |    nan |    nan |    nan |    nan |    nan |    nan |    nan |    nan |    nan |    nan |    nan |    nan |    nan |    nan |    nan |    nan |    nan |    nan |    nan |    nan |    nan |    nan |    nan |    nan |    nan |    nan |    nan |    nan |    nan |    nan |    nan |    nan |    nan |    nan |    nan |    nan |    nan |    nan |    nan |    nan |    nan |    nan |    nan |    nan |    nan |    nan |    nan |    nan |    nan |    nan |    nan |    nan |    nan |    nan |    nan |    nan |    nan |    nan |    nan |    nan |    nan |    nan |    nan |    nan |    nan |    nan |    nan |    nan |    nan |    nan |    nan |    nan |    nan |    nan |    nan |    nan |    nan |    nan |    nan |    nan |    nan |    nan |    nan |    nan |    nan |    nan |    nan |    nan |    nan |    nan |    nan |    nan |    nan |    nan |    nan |    nan |    nan |    nan |    nan |    nan |    nan |    nan |    nan |    nan |    nan |    nan |    nan |    nan |    nan |    nan |    nan |    nan |    nan |    nan |    nan |    nan |    nan |    nan |    nan |    nan |    nan |    nan |    nan |    nan |    nan |    nan |    nan |    nan |    nan |    nan |    nan |    nan |    nan |    nan |    nan |    nan |    nan |    nan |    nan |    nan |    nan |    nan |    nan |    nan |    nan |    nan |    nan |    nan |    nan |    nan |    nan |    nan |    nan |    nan |    nan |    nan |    nan |    nan |    nan |    nan |    nan |    nan |    nan |    nan |    nan |    nan |    nan |    nan |    nan |    nan |    nan |    nan |    nan |    nan |    nan |    nan |    nan |    nan |    nan |    nan |    nan |    nan |    nan |    nan |    nan |    nan |    nan |    nan |    nan |    nan |    nan |    nan |    nan |    nan |    nan |    nan |    nan |    nan |    nan |    nan |    nan |    nan |    nan |    nan |    nan |    nan |    nan |    nan |    nan |    nan |    nan |    nan |    nan |    nan |    nan |    nan |    nan |    nan |    nan |    nan |    nan |    nan |    nan |    nan |    nan |    nan |    nan |    nan |    nan |    nan |    nan |    nan |    nan |    nan |    nan |    nan |    nan |    nan |    nan |    nan |    nan |    nan |    nan |    nan |    nan |    nan |    nan |    nan |    nan |     nan |     nan |     nan |     nan |     nan |     nan |     nan |     nan |     nan |     nan |     nan |     nan |     nan |     nan |     nan |     nan |     nan |     nan |     nan |     nan |     nan |     nan |     nan |     nan |     nan |     nan |     nan |     nan |     nan |     nan |     nan |     nan |     nan |     nan |     nan |     nan |     nan |     nan |     nan |     nan |     nan |     nan |     nan |     nan |     nan |     nan |     nan |     nan |     nan |     nan |     nan |     nan |     nan |     nan |     nan |     nan |     nan |     nan |     nan |     nan |     nan |     nan |     nan |     nan |     nan |     nan |     nan |     nan |     nan |     nan |     nan |     nan |     nan |     nan |     nan |     nan |     nan |     nan |     nan |     nan |     nan |     nan |     nan |     nan |     nan |     nan |     nan |     nan |     nan |     nan |     nan |     nan |     nan |     nan |     nan |     nan |     nan |     nan |     nan |     nan |     nan |     nan |     nan |     nan |     nan |     nan |     nan |     nan |     nan |     nan |     nan |     nan |     nan |     nan |     nan |     nan |     nan |     nan |     nan |     nan |     nan |     nan |     nan |     nan |     nan |     nan |     nan |     nan |     nan |     nan |     nan |     nan |     nan |     nan |     nan |     nan |     nan |     nan |     nan |     nan |     nan |     nan |     nan |     nan |     nan |     nan |     nan |     nan |     nan |     nan |     nan |     nan |     nan |     nan |     nan |     nan |     nan |     nan |     nan |     nan |     nan |     nan |     nan |     nan |     nan |     nan |     nan |     nan |     nan |     nan |     nan |     nan |     nan |     nan |     nan |     nan |     nan |     nan |     nan |     nan |     nan |     nan |     nan |     nan |     nan |     nan |     nan |     nan |     nan |     nan |     nan |     nan |     nan |     nan |     nan |     nan |     nan |     nan |     nan |     nan |     nan |     nan |     nan |     nan |     nan |     nan |     nan |     nan |     nan |     nan |     nan |     nan |     nan |     nan |     nan |     nan |     nan |     nan |     nan |     nan |     nan |     nan |     nan |     nan |     nan |     nan |     nan |     nan |     nan |     nan |     nan |     nan |     nan |     nan |     nan |     nan |     nan |     nan |     nan |     nan |     nan |     nan |     nan |     nan |     nan |     nan |     nan |     nan |     nan |     nan |     nan |     nan |     nan |     nan |     nan |     nan |     nan |     nan |     nan |     nan |     nan |     nan |     nan |     nan |     nan |     nan |     nan |     nan |     nan |     nan |     nan |     nan |     nan |     nan |     nan |     nan |     nan |     nan |     nan |     nan |     nan |     nan |     nan |     nan |     nan |     nan |     nan |     nan |     nan |     nan |     nan |     nan |     nan |     nan |     nan |     nan |     nan |     nan |     nan |     nan |     nan |     nan |     nan |     nan |     nan |     nan |     nan |     nan |     nan |     nan |     nan |     nan |     nan |     nan |     nan |     nan |     nan |     nan |     nan |     nan |     nan |     nan |     nan |     nan |     nan |     nan |     nan |     nan |     nan |     nan |     nan |     nan |     nan |     nan |     nan |     nan |     nan |     nan |     nan |     nan |     nan |     nan |     nan |     nan |     nan |     nan |     nan |     nan |     nan |     nan |     nan |     nan |     nan |     nan |     nan |     nan |     nan |     nan |     nan |     nan |     nan |     nan |     nan |     nan |     nan |     nan |     nan |     nan |     nan |     nan |     nan |     nan |     nan |     nan |     nan |     nan |     nan |     nan |     nan |     nan |     nan |     nan |     nan |     nan |     nan |     nan |     nan |     nan |     nan |     nan |     nan |     nan |     nan |     nan |     nan |     nan |     nan |     nan |     nan |     nan |     nan |     nan |     nan |     nan |     nan |     nan |     nan |     nan |     nan |     nan |     nan |     nan |     nan |     nan |     nan |     nan |     nan |     nan |     nan |     nan |     nan |     nan |     nan |     nan |     nan |     nan |     nan |     nan |     nan |     nan |     nan |     nan |     nan |     nan |     nan |     nan |     nan |     nan |     nan |     nan |     nan |     nan |     nan |     nan |     nan |     nan |     nan |     nan |     nan |     nan |     nan |     nan |     nan |     nan |     nan |     nan |     nan |     nan |     nan |     nan |     nan |     nan |     nan |     nan |     nan |     nan |     nan |     nan |     nan |     nan |     nan |     nan |     nan |     nan |     nan |     nan |     nan |     nan |     nan |     nan |     nan |     nan |     nan |     nan |     nan |     nan |     nan |     nan |     nan |     nan |     nan |     nan |     nan |     nan |     nan |     nan |     nan |     nan |     nan |     nan |     nan |     nan |     nan |     nan |     nan |     nan |     nan |     nan |     nan |     nan |     nan |     nan |     nan |     nan |     nan |     nan |     nan |     nan |     nan |     nan |     nan |     nan |     nan |     nan |     nan |     nan |     nan |     nan |     nan |     nan |     nan |     nan |     nan |     nan |     nan |     nan |     nan |     nan |     nan |     nan |     nan |     nan |     nan |     nan |     nan |     nan |     nan |     nan |     nan |     nan |     nan |     nan |     nan |     nan |     nan |     nan |     nan |     nan |     nan |     nan |     nan |     nan |     nan |     nan |     nan |     nan |     nan |     nan |     nan |     nan |     nan |     nan |     nan |     nan |     nan |     nan |     nan |     nan |     nan |     nan |     nan |     nan |     nan |     nan |     nan |     nan |     nan |     nan |     nan |     nan |     nan |     nan |     nan |     nan |     nan |     nan |     nan |     nan |     nan |     nan |     nan |     nan |     nan |     nan |     nan |     nan |     nan |     nan |     nan |     nan |     nan |     nan |     nan |     nan |     nan |     nan |     nan |     nan |     nan |     nan |     nan |     nan |     nan |     nan |     nan |     nan |     nan |     nan |     nan |     nan |     nan |     nan |     nan |     nan |     nan |     nan |     nan |     nan |     nan |     nan |     nan |     nan |     nan |     nan |     nan |     nan |     nan |     nan |     nan |     nan |     nan |     nan |     nan |     nan |     nan |     nan |     nan |     nan |     nan |     nan |     nan |     nan |     nan |     nan |     nan |     nan |     nan |     nan |     nan |     nan |     nan |     nan |     nan |     nan |     nan |     nan |     nan |     nan |     nan |     nan |     nan |     nan |     nan |     nan |     nan |     nan |     nan |     nan |     nan |     nan |     nan |     nan |     nan |     nan |     nan |     nan |     nan |     nan |     nan |     nan |     nan |     nan |     nan |     nan |     nan |     nan |     nan |     nan |     nan |     nan |     nan |     nan |     nan |     nan |     nan |     nan |     nan |     nan |     nan |     nan |     nan |     nan |     nan |     nan |     nan |     nan |     nan |     nan |     nan |     nan |     nan |     nan |     nan |     nan |     nan |     nan |     nan |     nan |     nan |     nan |     nan |     nan |     nan |     nan |     nan |     nan |     nan |     nan |     nan |     nan |     nan |     nan |     nan |     nan |     nan |     nan |     nan |     nan |     nan |     nan |     nan |     nan |     nan |     nan |     nan |     nan |     nan |     nan |     nan |     nan |     nan |     nan |     nan |     nan |     nan |     nan |     nan |     nan |     nan |     nan |     nan |     nan |     nan |     nan |     nan |     nan |     nan |     nan |     nan |     nan |     nan |     nan |     nan |     nan |     nan |     nan |     nan |     nan |     nan |     nan |     nan |     nan |     nan |     nan |     nan |     nan |     nan |     nan |     nan |     nan |     nan |     nan |     nan |     nan |     nan |     nan |     nan |     nan |     nan |     nan |     nan |     nan |     nan |     nan |     nan |     nan |     nan |     nan |     nan |     nan |     nan |     nan |     nan |     nan |     nan |     nan |     nan |     nan |     nan |     nan |     nan |     nan |     nan |     nan |     nan |     nan |     nan |     nan |     nan |     nan |     nan |     nan |     nan |     nan |     nan |     nan |     nan |     nan |     nan |     nan |     nan |     nan |     nan |     nan |     nan |     nan |     nan |     nan |     nan |     nan |     nan |     nan |     nan |     nan |     nan |     nan |     nan |     nan |     nan |     nan |     nan |     nan |     nan |     nan |     nan |     nan |     nan |     nan |     nan |     nan |     nan |     nan |     nan |     nan |     nan |     nan |     nan |     nan |     nan |     nan |     nan |     nan |     nan |     nan |     nan |     nan |     nan |     nan |     nan |     nan |     nan |     nan |     nan |     nan |     nan |     nan |     nan |     nan |     nan |     nan |     nan |     nan |     nan |     nan |     nan |     nan |     nan |     nan |     nan |     nan |     nan |     nan |     nan |     nan |     nan |     nan |     nan |     nan |     nan |     nan |     nan |     nan |     nan |     nan |     nan |     nan |     nan |     nan |     nan |     nan |     nan |     nan |     nan |     nan |     nan |     nan |     nan |     nan |     nan |     nan |     nan |     nan |     nan |     nan |     nan |     nan |     nan |     nan |     nan |     nan |     nan |     nan |     nan |     nan |     nan |     nan |     nan |     nan |     nan |     nan |     nan |     nan |     nan |     nan |     nan |     nan |     nan |     nan |     nan |     nan |     nan |     nan |     nan |     nan |     nan |     nan |     nan |     nan |     nan |     nan |     nan |     nan |     nan |     nan |     nan |     nan |     nan |     nan |     nan |     nan |     nan |     nan |     nan |     nan |     nan |     nan |     nan |     nan |     nan |     nan |     nan |     nan |     nan |     nan |     nan |     nan |     nan |     nan |     nan |     nan |     nan |     nan |     nan |     nan |     nan |     nan |     nan |     nan |     nan |     nan |     nan |     nan |     nan |     nan |     nan |     nan |     nan |     nan |     nan |     nan |     nan |     nan |     nan |     nan |     nan |     nan |     nan |     nan |     nan |     nan |     nan |     nan |     nan |     nan |     nan |     nan |     nan |     nan |     nan |     nan |     nan |     nan |     nan |     nan |     nan |     nan |     nan |     nan |     nan |     nan |     nan |     nan |     nan |     nan |     nan |     nan |     nan |     nan |     nan |     nan |     nan |     nan |     nan |     nan |     nan |     nan |     nan |     nan |     nan |     nan |     nan |     nan |     nan |     nan |     nan |     nan |     nan |     nan |     nan |     nan |     nan |     nan |     nan |     nan |     nan |     nan |     nan |     nan |     nan |     nan |     nan |     nan |     nan |     nan |     nan |     nan |     nan |     nan |     nan |     nan |     nan |     nan |     nan |     nan |     nan |     nan |     nan |     nan |     nan |     nan |     nan |     nan |     nan |     nan |     nan |     nan |     nan |     nan |     nan |     nan |     nan |     nan |     nan |     nan |     nan |     nan |     nan |     nan |     nan |     nan |     nan |     nan |     nan |     nan |     nan |     nan |     nan |     nan |     nan |     nan |     nan |     nan |     nan |     nan |     nan |     nan |     nan |     nan |     nan |     nan |     nan |     nan |     nan |     nan |     nan |     nan |     nan |     nan |     nan |     nan |     nan |     nan |     nan |     nan |     nan |     nan |     nan |     nan |     nan |     nan |     nan |     nan |     nan |     nan |     nan |     nan |     nan |     nan |     nan |     nan |     nan |     nan |     nan |     nan |     nan |     nan |     nan |     nan |     nan |     nan |     nan |     nan |     nan |     nan |     nan |     nan |     nan |     nan |     nan |     nan |     nan |     nan |     nan |     nan |     nan |     nan |     nan |     nan |     nan |     nan |     nan |     nan |     nan |     nan |     nan |     nan |     nan |     nan |     nan |     nan |     nan |     nan |     nan |     nan |     nan |     nan |     nan |     nan |     nan |     nan |     nan |     nan |     nan |     nan |     nan |     nan |     nan |     nan |     nan |     nan |     nan |     nan |     nan |     nan |     nan |     nan |     nan |     nan |     nan |     nan |     nan |     nan |     nan |     nan |     nan |     nan |     nan |     nan |     nan |     nan |     nan |     nan |     nan |     nan |     nan |     nan |     nan |     nan |     nan |     nan |     nan |     nan |     nan |     nan |     nan |     nan |     nan |     nan |     nan |     nan |     nan |     nan |     nan |     nan |     nan |     nan |     nan |     nan |     nan |     nan |     nan |     nan |     nan |     nan |     nan |     nan |     nan |     nan |     nan |     nan |     nan |     nan |     nan |     nan |     nan |     nan |     nan |     nan |     nan |     nan |     nan |     nan |     nan |     nan |     nan |     nan |     nan |     nan |     nan |     nan |     nan |     nan |     nan |     nan |     nan |     nan |     nan |     nan |     nan |     nan |     nan |     nan |     nan |     nan |     nan |     nan |     nan |     nan |     nan |     nan |     nan |     nan |     nan |     nan |     nan |     nan |     nan |     nan |     nan |     nan |     nan |     nan |     nan |     nan |     nan |     nan |     nan |     nan |     nan |     nan |     nan |     nan |     nan |     nan |     nan |     nan |     nan |     nan |     nan |     nan |     nan |     nan |     nan |     nan |     nan |     nan |     nan |     nan |     nan |     nan |     nan |     nan |     nan |     nan |     nan |     nan |     nan |     nan |     nan |     nan |     nan |     nan |     nan |     nan |     nan |     nan |     nan |     nan |     nan |     nan |     nan |     nan |     nan |     nan |     nan |     nan |     nan |     nan |     nan |     nan |     nan |     nan |     nan |     nan |     nan |     nan |     nan |     nan |     nan |     nan |     nan |     nan |     nan |     nan |     nan |     nan |     nan |     nan |     nan |     nan |     nan |     nan |     nan |     nan |     nan |     nan |     nan |     nan |     nan |     nan |     nan |     nan |     nan |     nan |     nan |     nan |     nan |     nan |     nan |     nan |     nan |     nan |     nan |     nan |     nan |     nan |     nan |     nan |     nan |     nan |     nan |     nan |     nan |     nan |     nan |     nan |     nan |     nan |     nan |     nan |     nan |     nan |     nan |     nan |     nan |     nan |     nan |     nan |     nan |     nan |     nan |     nan |     nan |     nan |     nan |     nan |     nan |     nan |     nan |     nan |     nan |     nan |     nan |     nan |     nan |     nan |     nan |     nan |     nan |     nan |     nan |     nan |     nan |     nan |     nan |     nan |     nan |     nan |     nan |     nan |     nan |     nan |     nan |     nan |     nan |     nan |     nan |     nan |     nan |     nan |     nan |     nan |     nan |     nan |     nan |     nan |     nan |     nan |     nan |     nan |     nan |     nan |     nan |     nan |     nan |     nan |     nan |     nan |     nan |     nan |     nan |     nan |     nan |     nan |     nan |     nan |     nan |     nan |     nan |     nan |     nan |     nan |     nan |     nan |     nan |     nan |     nan |     nan |     nan |     nan |     nan |     nan |     nan |     nan |     nan |     nan |     nan |     nan |     nan |"
      ],
      "text/plain": [
       "   V1      V2      V3      V4      V5      V6      V7      V8      V9     V10  \\\n",
       "0  H1   605.0   586.0   586.0   559.0   511.0   443.0   422.0   395.0   382.0   \n",
       "1  H2  3124.0  2990.0  2862.0  2809.0  2544.0  2201.0  1996.0  1861.0  1735.0   \n",
       "2  H3  1828.0  1806.0  1897.0  1750.0  1679.0  1620.0  1463.0  1342.0  1192.0   \n",
       "3  H4  6454.0  6324.0  6075.0  5949.0  5858.0  5579.0  5163.0  4790.0  4478.0   \n",
       "4  H5  4263.0  4297.0  4236.0  4080.0  3883.0  3672.0  3248.0  2841.0  2513.0   \n",
       "\n",
       "   ...  V2589  V2590  V2591  V2592  V2593  V2594  V2595  V2596  V2597  V2598  \n",
       "0  ...    NaN    NaN    NaN    NaN    NaN    NaN    NaN    NaN    NaN    NaN  \n",
       "1  ...    NaN    NaN    NaN    NaN    NaN    NaN    NaN    NaN    NaN    NaN  \n",
       "2  ...    NaN    NaN    NaN    NaN    NaN    NaN    NaN    NaN    NaN    NaN  \n",
       "3  ...    NaN    NaN    NaN    NaN    NaN    NaN    NaN    NaN    NaN    NaN  \n",
       "4  ...    NaN    NaN    NaN    NaN    NaN    NaN    NaN    NaN    NaN    NaN  \n",
       "\n",
       "[5 rows x 2598 columns]"
      ]
     },
     "execution_count": 28,
     "metadata": {},
     "output_type": "execute_result"
    }
   ],
   "source": [
    "df_all_m4.head()"
   ]
  },
  {
   "cell_type": "markdown",
   "id": "4ec03656-93cf-43e2-b733-78ace2b4f3ea",
   "metadata": {},
   "source": [
    "### set frequency ranges\n",
    "build a set of frequency ranges $ [10^{-4}, ..., 10^1] $ with a 0.01 step-size"
   ]
  },
  {
   "cell_type": "code",
   "execution_count": 205,
   "id": "b38efeaf-2fb7-4c02-abc7-047b58041dbb",
   "metadata": {},
   "outputs": [],
   "source": [
    "start = -4\n",
    "stop = 1\n",
    "steps = 501\n",
    "freq_ranges = 10**np.linspace(start,stop,steps)"
   ]
  },
  {
   "cell_type": "markdown",
   "id": "bc47361f-4d15-4949-97df-b00ba5d2e3f8",
   "metadata": {},
   "source": [
    "### Convert frequencies to frequency ranges and add statistics"
   ]
  },
  {
   "cell_type": "code",
   "execution_count": 219,
   "id": "21ec1bc1-3ddc-4b58-a52d-157a2bfd27d6",
   "metadata": {},
   "outputs": [],
   "source": [
    "def top_freqs_2_idx(s: pd.DataFrame) -> pd.Series:\n",
    "    \"\"\"convert the list of frequencies into order\"\"\"\n",
    "    ar_top_f = np.asarray(s.transpose().iloc[0,:].tolist())\n",
    "    ar_f_idx = np.digitize(ar_top_f, freq_ranges)\n",
    "    #print(f\"type: {str(s.iloc[0,1])}\\nfreqs: {top_f}\\n\\n\")\n",
    "    df_res = pd.DataFrame.from_dict({\"fft_type\": [str(s.iloc[0,1])],\n",
    "                 \"top_freq\": [ar_f_idx]})\n",
    "    return df_res"
   ]
  },
  {
   "cell_type": "code",
   "execution_count": null,
   "id": "b0901fbd-3354-4895-b360-78d36d3dab2f",
   "metadata": {},
   "outputs": [],
   "source": [
    "def get_trend(ar:np.ndarray, period:int=12)->Tuple[float,float]\n",
    "    \"\"\" time series decomposition \"\"\"\n",
    "    ### cont here"
   ]
  },
  {
   "cell_type": "code",
   "execution_count": 228,
   "id": "657832d5-6bb1-49e0-8fd4-9f7fa2635215",
   "metadata": {},
   "outputs": [],
   "source": [
    "def get_statistics(s:pd.Series)->pd.DataFrame:\n",
    "    \"\"\"compute simple statistics on time series\"\"\"\n",
    "    ar = s[1:].to_numpy()\n",
    "    print(ar)\n",
    "    count = ar.shape[0]\n",
    "    mean = np.mean(ar)\n",
    "    std = np.std(ar)\n",
    "    min_val = np.min(ar)\n",
    "    q25 = np.quantile(ar, .25)\n",
    "    q50 = np.median(ar)\n",
    "    q75 = np.quantile(ar, .75)\n",
    "    max_val = np.max(ar)\n",
    "    \n",
    "    period = 12\n",
    "    trend_ar = get_trend(ar, period)\n",
    "    m, b = fit_trend(trend_ar)\n",
    "    \n",
    "    idx = ['ts_name', 'no', 'class', 'm', 'b', 'count', 'mean', 'std', 'min', 'q25', 'q50', 'q75', 'max']\n",
    "    res = pd.Series([ts_name, no, type_cls, count, m, b, mean, std, min_val, q25, q50, q75, max_val], index=idx)\n",
    "    return res"
   ]
  },
  {
   "cell_type": "code",
   "execution_count": 229,
   "id": "e9d010b8-9024-4ec5-847b-f84be0343daa",
   "metadata": {},
   "outputs": [
    {
     "name": "stdout",
     "output_type": "stream",
     "text": [
      "[202.0 155.0 103.0 ... nan nan nan]\n"
     ]
    },
    {
     "ename": "NameError",
     "evalue": "name 'get_trend' is not defined",
     "output_type": "error",
     "traceback": [
      "\u001b[0;31m---------------------------------------------------------------------------\u001b[0m",
      "\u001b[0;31mNameError\u001b[0m                                 Traceback (most recent call last)",
      "\u001b[0;32m/var/folders/9b/qts_zvv52g90t2t7r2t45drw0000gn/T/ipykernel_1515/114443318.py\u001b[0m in \u001b[0;36m<module>\u001b[0;34m\u001b[0m\n\u001b[1;32m      1\u001b[0m \u001b[0mdf_test\u001b[0m \u001b[0;34m=\u001b[0m \u001b[0mdf_all_m4\u001b[0m\u001b[0;34m.\u001b[0m\u001b[0msample\u001b[0m\u001b[0;34m(\u001b[0m\u001b[0;36m1\u001b[0m\u001b[0;34m)\u001b[0m\u001b[0;34m.\u001b[0m\u001b[0msqueeze\u001b[0m\u001b[0;34m(\u001b[0m\u001b[0;34m)\u001b[0m\u001b[0;34m\u001b[0m\u001b[0;34m\u001b[0m\u001b[0m\n\u001b[1;32m      2\u001b[0m \u001b[0mdf_test_freq\u001b[0m \u001b[0;34m=\u001b[0m \u001b[0mget_freq_m4\u001b[0m\u001b[0;34m(\u001b[0m\u001b[0mdf_test\u001b[0m\u001b[0;34m)\u001b[0m\u001b[0;34m\u001b[0m\u001b[0;34m\u001b[0m\u001b[0m\n\u001b[0;32m----> 3\u001b[0;31m \u001b[0mprint\u001b[0m\u001b[0;34m(\u001b[0m\u001b[0mget_statistics\u001b[0m\u001b[0;34m(\u001b[0m\u001b[0mdf_test\u001b[0m\u001b[0;34m)\u001b[0m\u001b[0;34m)\u001b[0m\u001b[0;34m\u001b[0m\u001b[0;34m\u001b[0m\u001b[0m\n\u001b[0m\u001b[1;32m      4\u001b[0m \u001b[0mdf_test_freq\u001b[0m \u001b[0;34m=\u001b[0m \u001b[0mdf_test_freq\u001b[0m\u001b[0;34m.\u001b[0m\u001b[0mgroupby\u001b[0m\u001b[0;34m(\u001b[0m\u001b[0;34m[\u001b[0m\u001b[0;34m'type'\u001b[0m\u001b[0;34m]\u001b[0m\u001b[0;34m)\u001b[0m\u001b[0;34m.\u001b[0m\u001b[0mapply\u001b[0m\u001b[0;34m(\u001b[0m\u001b[0mtop_freqs_2_idx\u001b[0m\u001b[0;34m)\u001b[0m\u001b[0;34m\u001b[0m\u001b[0;34m\u001b[0m\u001b[0m\n\u001b[1;32m      5\u001b[0m \u001b[0mdf_test_freq\u001b[0m\u001b[0;34m.\u001b[0m\u001b[0mhead\u001b[0m\u001b[0;34m(\u001b[0m\u001b[0;34m)\u001b[0m\u001b[0;34m\u001b[0m\u001b[0;34m\u001b[0m\u001b[0m\n",
      "\u001b[0;32m/var/folders/9b/qts_zvv52g90t2t7r2t45drw0000gn/T/ipykernel_1515/1031838983.py\u001b[0m in \u001b[0;36mget_statistics\u001b[0;34m(s)\u001b[0m\n\u001b[1;32m     13\u001b[0m \u001b[0;34m\u001b[0m\u001b[0m\n\u001b[1;32m     14\u001b[0m     \u001b[0mperiod\u001b[0m \u001b[0;34m=\u001b[0m \u001b[0;36m12\u001b[0m\u001b[0;34m\u001b[0m\u001b[0;34m\u001b[0m\u001b[0m\n\u001b[0;32m---> 15\u001b[0;31m     \u001b[0mtrend_ar\u001b[0m \u001b[0;34m=\u001b[0m \u001b[0mget_trend\u001b[0m\u001b[0;34m(\u001b[0m\u001b[0mar\u001b[0m\u001b[0;34m,\u001b[0m \u001b[0mperiod\u001b[0m\u001b[0;34m)\u001b[0m\u001b[0;34m\u001b[0m\u001b[0;34m\u001b[0m\u001b[0m\n\u001b[0m\u001b[1;32m     16\u001b[0m     \u001b[0mm\u001b[0m\u001b[0;34m,\u001b[0m \u001b[0mb\u001b[0m \u001b[0;34m=\u001b[0m \u001b[0mfit_trend\u001b[0m\u001b[0;34m(\u001b[0m\u001b[0mtrend_ar\u001b[0m\u001b[0;34m)\u001b[0m\u001b[0;34m\u001b[0m\u001b[0;34m\u001b[0m\u001b[0m\n\u001b[1;32m     17\u001b[0m \u001b[0;34m\u001b[0m\u001b[0m\n",
      "\u001b[0;31mNameError\u001b[0m: name 'get_trend' is not defined"
     ]
    }
   ],
   "source": [
    "df_test = df_all_m4.sample(1).squeeze()\n",
    "df_test_freq = get_freq_m4(df_test)\n",
    "print(get_statistics(df_test))\n",
    "df_test_freq = df_test_freq.groupby(['type']).apply(top_freqs_2_idx)\n",
    "df_test_freq.head()"
   ]
  },
  {
   "cell_type": "code",
   "execution_count": null,
   "id": "ddc232de-04e0-4ef1-a0d1-2ebe431ff309",
   "metadata": {},
   "outputs": [],
   "source": []
  }
 ],
 "metadata": {
  "kernelspec": {
   "display_name": "Python 3 (ipykernel)",
   "language": "python",
   "name": "python3"
  },
  "language_info": {
   "codemirror_mode": {
    "name": "ipython",
    "version": 3
   },
   "file_extension": ".py",
   "mimetype": "text/x-python",
   "name": "python",
   "nbconvert_exporter": "python",
   "pygments_lexer": "ipython3",
   "version": "3.9.7"
  }
 },
 "nbformat": 4,
 "nbformat_minor": 5
}
