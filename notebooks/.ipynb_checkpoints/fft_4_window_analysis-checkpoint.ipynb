{
 "cells": [
  {
   "cell_type": "code",
   "execution_count": 241,
   "id": "9ff17adf-30b5-4146-8e54-001ab3c2b337",
   "metadata": {},
   "outputs": [
    {
     "name": "stdout",
     "output_type": "stream",
     "text": [
      "Importing the dtw module. When using in academic works please cite:\n",
      "  T. Giorgino. Computing and Visualizing Dynamic Time Warping Alignments in R: The dtw Package.\n",
      "  J. Stat. Soft., doi:10.18637/jss.v031.i07.\n",
      "\n"
     ]
    }
   ],
   "source": [
    "from random import choices\n",
    "\n",
    "from dtw import *\n",
    "import matplotlib.pyplot as plt\n",
    "import numpy as np\n",
    "import pandas as pd\n",
    "from tqdm.notebook import tqdm"
   ]
  },
  {
   "cell_type": "code",
   "execution_count": 242,
   "id": "2eac7b5e-623f-4548-8a1d-d57db4b49320",
   "metadata": {},
   "outputs": [
    {
     "data": {
      "text/plain": [
       "\u001b[0;31mSignature:\u001b[0m\n",
       "\u001b[0mdtw\u001b[0m\u001b[0;34m(\u001b[0m\u001b[0;34m\u001b[0m\n",
       "\u001b[0;34m\u001b[0m    \u001b[0mx\u001b[0m\u001b[0;34m,\u001b[0m\u001b[0;34m\u001b[0m\n",
       "\u001b[0;34m\u001b[0m    \u001b[0my\u001b[0m\u001b[0;34m=\u001b[0m\u001b[0;32mNone\u001b[0m\u001b[0;34m,\u001b[0m\u001b[0;34m\u001b[0m\n",
       "\u001b[0;34m\u001b[0m    \u001b[0mdist_method\u001b[0m\u001b[0;34m=\u001b[0m\u001b[0;34m'euclidean'\u001b[0m\u001b[0;34m,\u001b[0m\u001b[0;34m\u001b[0m\n",
       "\u001b[0;34m\u001b[0m    \u001b[0mstep_pattern\u001b[0m\u001b[0;34m=\u001b[0m\u001b[0;34m'symmetric2'\u001b[0m\u001b[0;34m,\u001b[0m\u001b[0;34m\u001b[0m\n",
       "\u001b[0;34m\u001b[0m    \u001b[0mwindow_type\u001b[0m\u001b[0;34m=\u001b[0m\u001b[0;32mNone\u001b[0m\u001b[0;34m,\u001b[0m\u001b[0;34m\u001b[0m\n",
       "\u001b[0;34m\u001b[0m    \u001b[0mwindow_args\u001b[0m\u001b[0;34m=\u001b[0m\u001b[0;34m{\u001b[0m\u001b[0;34m}\u001b[0m\u001b[0;34m,\u001b[0m\u001b[0;34m\u001b[0m\n",
       "\u001b[0;34m\u001b[0m    \u001b[0mkeep_internals\u001b[0m\u001b[0;34m=\u001b[0m\u001b[0;32mFalse\u001b[0m\u001b[0;34m,\u001b[0m\u001b[0;34m\u001b[0m\n",
       "\u001b[0;34m\u001b[0m    \u001b[0mdistance_only\u001b[0m\u001b[0;34m=\u001b[0m\u001b[0;32mFalse\u001b[0m\u001b[0;34m,\u001b[0m\u001b[0;34m\u001b[0m\n",
       "\u001b[0;34m\u001b[0m    \u001b[0mopen_end\u001b[0m\u001b[0;34m=\u001b[0m\u001b[0;32mFalse\u001b[0m\u001b[0;34m,\u001b[0m\u001b[0;34m\u001b[0m\n",
       "\u001b[0;34m\u001b[0m    \u001b[0mopen_begin\u001b[0m\u001b[0;34m=\u001b[0m\u001b[0;32mFalse\u001b[0m\u001b[0;34m,\u001b[0m\u001b[0;34m\u001b[0m\n",
       "\u001b[0;34m\u001b[0m\u001b[0;34m)\u001b[0m\u001b[0;34m\u001b[0m\u001b[0;34m\u001b[0m\u001b[0m\n",
       "\u001b[0;31mDocstring:\u001b[0m\n",
       "Compute Dynamic Time Warp and find optimal alignment between two time\n",
       "series.\n",
       "\n",
       "**Details**\n",
       "\n",
       "The function performs Dynamic Time Warp (DTW) and computes the optimal\n",
       "alignment between two time series ``x`` and ``y``, given as numeric\n",
       "vectors. The “optimal” alignment minimizes the sum of distances between\n",
       "aligned elements. Lengths of ``x`` and ``y`` may differ.\n",
       "\n",
       "The local distance between elements of ``x`` (query) and ``y``\n",
       "(reference) can be computed in one of the following ways:\n",
       "\n",
       "1. if ``dist_method`` is a string, ``x`` and ``y`` are passed to the\n",
       "   `scipy.spatial.distance.cdist` function with the method given;\n",
       "2. multivariate time series and arbitrary distance metrics can be\n",
       "   handled by supplying a local-distance matrix. Element ``[i,j]`` of\n",
       "   the local-distance matrix is understood as the distance between\n",
       "   element ``x[i]`` and ``y[j]``. The distance matrix has therefore\n",
       "   ``n=length(x)`` rows and ``m=length(y)`` columns (see note below).\n",
       "\n",
       "Several common variants of the DTW recursion are supported via the\n",
       "``step_pattern`` argument, which defaults to ``symmetric2``. Step\n",
       "patterns are commonly used to *locally* constrain the slope of the\n",
       "alignment function. See [stepPattern()] for details.\n",
       "\n",
       "Windowing enforces a *global* constraint on the envelope of the warping\n",
       "path. It is selected by passing a string or function to the\n",
       "``window_type`` argument. Commonly used windows are (abbreviations\n",
       "allowed):\n",
       "\n",
       "-  ``\"none\"`` No windowing (default)\n",
       "-  ``\"sakoechiba\"`` A band around main diagonal\n",
       "-  ``\"slantedband\"`` A band around slanted diagonal\n",
       "-  ``\"itakura\"`` So-called Itakura parallelogram\n",
       "\n",
       "``window_type`` can also be an user-defined windowing function. See\n",
       "[dtwWindowingFunctions()] for all available windowing functions, details\n",
       "on user-defined windowing, and a discussion of the (mis)naming of the\n",
       "“Itakura” parallelogram as a global constraint. Some windowing functions\n",
       "may require parameters, such as the ``window_size`` argument.\n",
       "\n",
       "Open-ended alignment, i_e. semi-unconstrained alignment, can be selected\n",
       "via the ``open_end`` switch. Open-end DTW computes the alignment which\n",
       "best matches all of the query with a *leading part* of the reference.\n",
       "This is proposed e_g. by Mori (2006), Sakoe (1979) and others.\n",
       "Similarly, open-begin is enabled via ``open_begin``; it makes sense when\n",
       "``open_end`` is also enabled (subsequence finding). Subsequence\n",
       "alignments are similar e_g. to UE2-1 algorithm by Rabiner (1978) and\n",
       "others. Please find a review in Tormene et al. (2009).\n",
       "\n",
       "If the warping function is not required, computation can be sped up\n",
       "enabling the ``distance_only=True`` switch, which skips the backtracking\n",
       "step. The output object will then lack the ``index{1,2,1s,2s}`` and\n",
       "``stepsTaken`` fields.\n",
       "\n",
       "\n",
       "Parameters\n",
       "----------\n",
       "x : \n",
       "    query vector *or* local cost matrix\n",
       "y : \n",
       "    reference vector, unused if `x` given as cost matrix\n",
       "dist_method : \n",
       "    pointwise (local) distance function to use. \n",
       "step_pattern : \n",
       "    a stepPattern object describing the local warping steps\n",
       "    allowed with their cost (see [stepPattern()])\n",
       "window_type : \n",
       "    windowing function. Character: \"none\", \"itakura\",\n",
       "    \"sakoechiba\", \"slantedband\", or a function (see details).\n",
       "open_begin,open_end : \n",
       "    perform open-ended alignments\n",
       "keep_internals : \n",
       "    preserve the cumulative cost matrix, inputs, and other\n",
       "    internal structures\n",
       "distance_only : \n",
       "    only compute distance (no backtrack, faster)\n",
       "window_args : \n",
       "    additional arguments, passed to the windowing function\n",
       "\n",
       "Returns\n",
       "-------\n",
       "\n",
       "An object of class ``DTW``. See docs for the corresponding properties. \n",
       "\n",
       "\n",
       "Notes\n",
       "-----\n",
       "\n",
       "Cost matrices (both input and output) have query elements arranged\n",
       "row-wise (first index), and reference elements column-wise (second\n",
       "index). They print according to the usual convention, with indexes\n",
       "increasing down- and rightwards. Many DTW papers and tutorials show\n",
       "matrices according to plot-like conventions, i_e. reference index\n",
       "growing upwards. This may be confusing.\n",
       "\n",
       "A fast compiled version of the function is normally used. Should it be\n",
       "unavailable, the interpreted equivalent will be used as a fall-back with\n",
       "a warning.\n",
       "\n",
       "References\n",
       "----------\n",
       "\n",
       "1. Toni Giorgino. *Computing and Visualizing Dynamic Time Warping\n",
       "   Alignments in R: The dtw Package.* Journal of Statistical Software,\n",
       "   31(7), 1-24. http://www.jstatsoft.org/v31/i07/\n",
       "2. Tormene, P.; Giorgino, T.; Quaglini, S. & Stefanelli, M. *Matching\n",
       "   incomplete time series with dynamic time warping: an algorithm and an\n",
       "   application to post-stroke rehabilitation.* Artif Intell Med, 2009,\n",
       "   45, 11-34. http://dx.doi.org/10.1016/j.artmed.2008.11.007\n",
       "3. Sakoe, H.; Chiba, S., *Dynamic programming algorithm optimization for\n",
       "   spoken word recognition,* Acoustics, Speech, and Signal Processing,\n",
       "   IEEE Transactions on , vol.26, no.1, pp. 43-49, Feb 1978.\n",
       "   http://ieeexplore.ieee.org/xpls/abs_all.jsp?arnumber=1163055\n",
       "4. Mori, A.; Uchida, S.; Kurazume, R.; Taniguchi, R.; Hasegawa, T. &\n",
       "   Sakoe, H. *Early Recognition and Prediction of Gestures* Proc. 18th\n",
       "   International Conference on Pattern Recognition ICPR 2006, 2006, 3,\n",
       "   560-563\n",
       "5. Sakoe, H. *Two-level DP-matching–A dynamic programming-based pattern\n",
       "   matching algorithm for connected word recognition* Acoustics, Speech,\n",
       "   and Signal Processing, IEEE Transactions on, 1979, 27, 588-595\n",
       "6. Rabiner L, Rosenberg A, Levinson S (1978). *Considerations in dynamic\n",
       "   time warping algorithms for discrete word recognition.* IEEE Trans.\n",
       "   Acoust., Speech, Signal Process., 26(6), 575-582. ISSN 0096-3518.\n",
       "7. Muller M. *Dynamic Time Warping* in *Information Retrieval for Music\n",
       "   and Motion*. Springer Berlin Heidelberg; 2007. p. 69-84.\n",
       "   http://link.springer.com/chapter/10.1007/978-3-540-74048-3_4\n",
       "\n",
       "Examples\n",
       "--------\n",
       "\n",
       "\n",
       "\n",
       ">>> import numpy as np\n",
       ">>> from dtw import *\n",
       "\n",
       "A noisy sine wave as query\n",
       "\n",
       ">>> idx = np.linspace(0,6.28,num=100)\n",
       ">>> query = np.sin(idx) + np.random.uniform(size=100)/10.0\n",
       "\n",
       "A cosine is for reference; sin and cos are offset by 25 samples\n",
       "\n",
       ">>> reference = np.cos(idx)\n",
       "\n",
       "Find the best match\n",
       "\n",
       ">>> alignment = dtw(query,reference)\n",
       "\n",
       "Display the mapping, AKA warping function - may be multiple-valued\n",
       "Equivalent to: plot(alignment,type=\"alignment\")\n",
       "\n",
       ">>> import matplotlib.pyplot as plt;\n",
       "... plt.plot(alignment.index1, alignment.index2)        # doctest: +SKIP\n",
       "\n",
       "\n",
       "Partial alignments are allowed.\n",
       "\n",
       ">>> alignmentOBE = dtw(query[44:88], reference,\n",
       "...                      keep_internals=True,\n",
       "...                      step_pattern=asymmetric,\n",
       "...                      open_end=True,open_begin=True)\n",
       "\n",
       ">>> alignmentOBE.plot(type=\"twoway\",offset=1)           # doctest: +SKIP\n",
       "\n",
       "\n",
       "Subsetting allows warping and unwarping of\n",
       "timeseries according to the warping curve. \n",
       "See first example below.\n",
       "\n",
       "Most useful: plot the warped query along with reference \n",
       "\n",
       ">>> plt.plot(reference);\n",
       "... plt.plot(alignment.index2,query[alignment.index1])  # doctest: +SKIP\n",
       "\n",
       "Plot the (unwarped) query and the inverse-warped reference\n",
       "\n",
       ">>> plt.plot(query)                                     # doctest: +SKIP\n",
       "... plt.plot(alignment.index1,reference[alignment.index2]) \n",
       "\n",
       "\n",
       "\n",
       "\n",
       "\n",
       "\n",
       "\n",
       "\n",
       "A hand-checkable example\n",
       "\n",
       ">>> ldist = np.ones((6,6))                    # Matrix of ones\n",
       ">>> ldist[1,:] = 0; ldist[:,4] = 0;           # Mark a clear path of zeroes\n",
       ">>> ldist[1,4] = .01;                         # Forcely cut the corner\n",
       "\n",
       ">>> ds = dtw(ldist);                          # DTW with user-supplied local\n",
       "\n",
       ">>> da = dtw(ldist,step_pattern=asymmetric)   # Also compute the asymmetric \n",
       "\n",
       "Symmetric: alignment follows the low-distance marked path\n",
       "\n",
       ">>> plt.plot(ds.index1,ds.index2)             # doctest: +SKIP\n",
       "\n",
       "Asymmetric: visiting 1 is required twice\n",
       "\n",
       ">>> plt.plot(da.index1,da.index2,'ro')        # doctest: +SKIP  \n",
       "\n",
       ">>> ds.distance\n",
       "2.0\n",
       ">>> da.distance\n",
       "2.0\n",
       "\u001b[0;31mFile:\u001b[0m      ~/anaconda3/envs/unic2/lib/python3.9/site-packages/dtw/dtw.py\n",
       "\u001b[0;31mType:\u001b[0m      function\n"
      ]
     },
     "metadata": {},
     "output_type": "display_data"
    }
   ],
   "source": [
    "?dtw"
   ]
  },
  {
   "cell_type": "code",
   "execution_count": 2,
   "id": "a8a236b5-b99f-429b-bc16-b406d57e5381",
   "metadata": {},
   "outputs": [],
   "source": [
    "df = pd.read_csv(\"../df_approx_windows.csv\")"
   ]
  },
  {
   "cell_type": "code",
   "execution_count": 3,
   "id": "0d7b8bce-452a-454a-99d1-1a7d991a6b25",
   "metadata": {},
   "outputs": [
    {
     "data": {
      "text/plain": [
       "(48675846, 7)"
      ]
     },
     "execution_count": 3,
     "metadata": {},
     "output_type": "execute_result"
    }
   ],
   "source": [
    "df.shape"
   ]
  },
  {
   "cell_type": "code",
   "execution_count": 4,
   "id": "db3d8a74-2e0b-42bc-bb66-3aa11f9ca1fb",
   "metadata": {},
   "outputs": [
    {
     "data": {
      "text/html": [
       "<div>\n",
       "<style scoped>\n",
       "    .dataframe tbody tr th:only-of-type {\n",
       "        vertical-align: middle;\n",
       "    }\n",
       "\n",
       "    .dataframe tbody tr th {\n",
       "        vertical-align: top;\n",
       "    }\n",
       "\n",
       "    .dataframe thead th {\n",
       "        text-align: right;\n",
       "    }\n",
       "</style>\n",
       "<table border=\"1\" class=\"dataframe\">\n",
       "  <thead>\n",
       "    <tr style=\"text-align: right;\">\n",
       "      <th></th>\n",
       "      <th>ts_name</th>\n",
       "      <th>type</th>\n",
       "      <th>fhat</th>\n",
       "      <th>PSD</th>\n",
       "      <th>freq</th>\n",
       "      <th>freq_apx_idx</th>\n",
       "      <th>freq_apx</th>\n",
       "    </tr>\n",
       "  </thead>\n",
       "  <tbody>\n",
       "    <tr>\n",
       "      <th>0</th>\n",
       "      <td>H101</td>\n",
       "      <td>fft</td>\n",
       "      <td>1.669116e+06</td>\n",
       "      <td>3.979926e+09</td>\n",
       "      <td>0.000000</td>\n",
       "      <td>0</td>\n",
       "      <td>0.000000</td>\n",
       "    </tr>\n",
       "    <tr>\n",
       "      <th>1</th>\n",
       "      <td>H101</td>\n",
       "      <td>fft</td>\n",
       "      <td>6.368073e+03</td>\n",
       "      <td>5.793194e+04</td>\n",
       "      <td>1.428571</td>\n",
       "      <td>119</td>\n",
       "      <td>1.458190</td>\n",
       "    </tr>\n",
       "    <tr>\n",
       "      <th>2</th>\n",
       "      <td>H101</td>\n",
       "      <td>fft</td>\n",
       "      <td>2.309107e+04</td>\n",
       "      <td>7.617110e+05</td>\n",
       "      <td>2.857143</td>\n",
       "      <td>149</td>\n",
       "      <td>2.865581</td>\n",
       "    </tr>\n",
       "    <tr>\n",
       "      <th>3</th>\n",
       "      <td>H101</td>\n",
       "      <td>fft</td>\n",
       "      <td>2.112334e+04</td>\n",
       "      <td>6.374224e+05</td>\n",
       "      <td>4.285714</td>\n",
       "      <td>167</td>\n",
       "      <td>4.297856</td>\n",
       "    </tr>\n",
       "    <tr>\n",
       "      <th>4</th>\n",
       "      <td>H101</td>\n",
       "      <td>fft</td>\n",
       "      <td>9.239087e+03</td>\n",
       "      <td>1.219439e+05</td>\n",
       "      <td>5.714286</td>\n",
       "      <td>180</td>\n",
       "      <td>5.759585</td>\n",
       "    </tr>\n",
       "  </tbody>\n",
       "</table>\n",
       "</div>"
      ],
      "text/org": [
       "|    | ts_name   | type   |            fhat |              PSD |    freq |   freq_apx_idx |   freq_apx |\n",
       "|----+-----------+--------+-----------------+------------------+---------+----------------+------------|\n",
       "|  0 | H101      | fft    |     1.66912e+06 |      3.97993e+09 | 0       |              0 |    0       |\n",
       "|  1 | H101      | fft    |  6368.07        |  57931.9         | 1.42857 |            119 |    1.45819 |\n",
       "|  2 | H101      | fft    | 23091.1         | 761711           | 2.85714 |            149 |    2.86558 |\n",
       "|  3 | H101      | fft    | 21123.3         | 637422           | 4.28571 |            167 |    4.29786 |\n",
       "|  4 | H101      | fft    |  9239.09        | 121944           | 5.71429 |            180 |    5.75959 |"
      ],
      "text/plain": [
       "  ts_name type          fhat           PSD      freq  freq_apx_idx  freq_apx\n",
       "0    H101  fft  1.669116e+06  3.979926e+09  0.000000             0  0.000000\n",
       "1    H101  fft  6.368073e+03  5.793194e+04  1.428571           119  1.458190\n",
       "2    H101  fft  2.309107e+04  7.617110e+05  2.857143           149  2.865581\n",
       "3    H101  fft  2.112334e+04  6.374224e+05  4.285714           167  4.297856\n",
       "4    H101  fft  9.239087e+03  1.219439e+05  5.714286           180  5.759585"
      ]
     },
     "execution_count": 4,
     "metadata": {},
     "output_type": "execute_result"
    }
   ],
   "source": [
    "df.head()"
   ]
  },
  {
   "cell_type": "code",
   "execution_count": 8,
   "id": "9230e6d0-0956-4dc0-8cfd-5e6bfe6c2994",
   "metadata": {},
   "outputs": [],
   "source": [
    "ts = choices(df['ts_name'].unique(), k=10)"
   ]
  },
  {
   "cell_type": "code",
   "execution_count": 9,
   "id": "e6044217-ecfa-41ea-83c4-d8fd10fff39b",
   "metadata": {},
   "outputs": [
    {
     "data": {
      "text/org": [
       "|    | 0   |   1 |   2 |   3 |   4 |   5 |\n",
       "|----+-----+-----+-----+-----+-----+-----|\n",
       "|  0 | M   |   3 |   6 |   2 |   0 |   3 |\n",
       "|  1 | M   |   3 |   0 |   9 |   6 |   4 |\n",
       "|  2 | Y   |   2 |   1 |   1 |   0 |   9 |\n",
       "|  3 | M   |   1 |   3 |   2 |   6 |   7 |\n",
       "|  4 | Q   |   1 |   9 |   8 |   0 |   3 |\n",
       "|  5 | M   |   1 |   0 |   5 |   4 |   0 |\n",
       "|  6 | M   |   1 |   6 |   0 |   4 |   1 |\n",
       "|  7 | M   |   2 |   5 |   9 |   1 |   7 |\n",
       "|  8 | M   |   6 |   4 |   7 |   9 |     |\n",
       "|  9 | M   |   7 |   0 |   1 |   9 |     |"
      ],
      "text/plain": [
       "['M36203',\n",
       " 'M30964',\n",
       " 'Y21109',\n",
       " 'M13267',\n",
       " 'Q19803',\n",
       " 'M10540',\n",
       " 'M16041',\n",
       " 'M25917',\n",
       " 'M6479',\n",
       " 'M7019']"
      ]
     },
     "execution_count": 9,
     "metadata": {},
     "output_type": "execute_result"
    }
   ],
   "source": [
    "ts"
   ]
  },
  {
   "cell_type": "code",
   "execution_count": 19,
   "id": "d8f98580-021b-4a18-a700-d2f1894c0f18",
   "metadata": {},
   "outputs": [],
   "source": [
    "df_tmp = df[(df['ts_name']=='M36203') &\n",
    "  (df['type']=='Welch')]"
   ]
  },
  {
   "cell_type": "code",
   "execution_count": 27,
   "id": "4f4a37ab-73b6-4027-b030-5323a022ec9b",
   "metadata": {},
   "outputs": [
    {
     "data": {
      "text/plain": [
       "[16, 0, 47, 65]"
      ]
     },
     "execution_count": 27,
     "metadata": {},
     "output_type": "execute_result"
    }
   ],
   "source": [
    "df_tmp.sort_values(by='PSD', ascending=False)[:4]['freq_apx_idx'].to_list()"
   ]
  },
  {
   "cell_type": "code",
   "execution_count": 5,
   "id": "219020c8-f122-489a-a30b-2f87f31440eb",
   "metadata": {},
   "outputs": [],
   "source": [
    "df_test = df[:10000]"
   ]
  },
  {
   "cell_type": "code",
   "execution_count": 22,
   "id": "0830a9b9-59d2-4972-b1a7-349c8363988e",
   "metadata": {},
   "outputs": [
    {
     "data": {
      "application/vnd.jupyter.widget-view+json": {
       "model_id": "3c946fadc8ae48e4b15fb0830a6889a7",
       "version_major": 2,
       "version_minor": 0
      },
      "text/plain": [
       "  0%|          | 0/300000 [00:00<?, ?it/s]"
      ]
     },
     "metadata": {},
     "output_type": "display_data"
    }
   ],
   "source": [
    "names = []\n",
    "types = []\n",
    "freqs = []\n",
    "\n",
    "\n",
    "for elm in tqdm(df.groupby(['ts_name', 'type'])):\n",
    "    names.append(elm[0][0])\n",
    "    types.append(elm[0][1])\n",
    "    \n",
    "    df_sub = elm[1]\n",
    "    df_sub.sort_values(\"PSD\", ascending=False, inplace=True)\n",
    "    freqs.append(df_sub[:5]['freq_apx_idx'].to_list())\n",
    "\n",
    "df_reduced = pd.DataFrame({\n",
    "    'ts_name': names,\n",
    "    'type': types,\n",
    "    'freqs': freqs\n",
    "})"
   ]
  },
  {
   "cell_type": "code",
   "execution_count": 24,
   "id": "c6b6288f-18c7-431e-9281-505f961e3015",
   "metadata": {},
   "outputs": [],
   "source": [
    "df_reduced.to_csv(\"../df_top_5_freq_windows.csv\")"
   ]
  },
  {
   "cell_type": "code",
   "execution_count": 61,
   "id": "22f39c54-0a29-490a-ab59-0ac1d529faa0",
   "metadata": {},
   "outputs": [],
   "source": [
    "df_test = df_reduced[:9]"
   ]
  },
  {
   "cell_type": "code",
   "execution_count": 60,
   "id": "a04b140e-d5dd-4dd6-aa2a-0edcf136db6b",
   "metadata": {},
   "outputs": [
    {
     "data": {
      "text/html": [
       "<div>\n",
       "<style scoped>\n",
       "    .dataframe tbody tr th:only-of-type {\n",
       "        vertical-align: middle;\n",
       "    }\n",
       "\n",
       "    .dataframe tbody tr th {\n",
       "        vertical-align: top;\n",
       "    }\n",
       "\n",
       "    .dataframe thead th {\n",
       "        text-align: right;\n",
       "    }\n",
       "</style>\n",
       "<table border=\"1\" class=\"dataframe\">\n",
       "  <thead>\n",
       "    <tr style=\"text-align: right;\">\n",
       "      <th></th>\n",
       "      <th>ts_name</th>\n",
       "      <th>type</th>\n",
       "      <th>freqs</th>\n",
       "    </tr>\n",
       "  </thead>\n",
       "  <tbody>\n",
       "    <tr>\n",
       "      <th>0</th>\n",
       "      <td>D1</td>\n",
       "      <td>Hamming</td>\n",
       "      <td>[0, 102, 409, 409, 133]</td>\n",
       "    </tr>\n",
       "    <tr>\n",
       "      <th>1</th>\n",
       "      <td>D1</td>\n",
       "      <td>Welch</td>\n",
       "      <td>[0, 0, 0, 0, 0]</td>\n",
       "    </tr>\n",
       "    <tr>\n",
       "      <th>2</th>\n",
       "      <td>D1</td>\n",
       "      <td>fft</td>\n",
       "      <td>[0, 102, 409, 133, 409]</td>\n",
       "    </tr>\n",
       "    <tr>\n",
       "      <th>3</th>\n",
       "      <td>D10</td>\n",
       "      <td>Hamming</td>\n",
       "      <td>[0, 120, 409, 151, 409]</td>\n",
       "    </tr>\n",
       "    <tr>\n",
       "      <th>4</th>\n",
       "      <td>D10</td>\n",
       "      <td>Welch</td>\n",
       "      <td>[0, 0, 0, 0, 9]</td>\n",
       "    </tr>\n",
       "    <tr>\n",
       "      <th>5</th>\n",
       "      <td>D10</td>\n",
       "      <td>fft</td>\n",
       "      <td>[0, 151, 409, 409, 182]</td>\n",
       "    </tr>\n",
       "    <tr>\n",
       "      <th>6</th>\n",
       "      <td>D100</td>\n",
       "      <td>Hamming</td>\n",
       "      <td>[0, 102, 409, 133, 409]</td>\n",
       "    </tr>\n",
       "    <tr>\n",
       "      <th>7</th>\n",
       "      <td>D100</td>\n",
       "      <td>Welch</td>\n",
       "      <td>[0, 0, 0, 0, 0]</td>\n",
       "    </tr>\n",
       "    <tr>\n",
       "      <th>8</th>\n",
       "      <td>D100</td>\n",
       "      <td>fft</td>\n",
       "      <td>[0, 102, 409, 151, 409]</td>\n",
       "    </tr>\n",
       "    <tr>\n",
       "      <th>9</th>\n",
       "      <td>D1000</td>\n",
       "      <td>Hamming</td>\n",
       "      <td>[0, 100, 409, 131, 409]</td>\n",
       "    </tr>\n",
       "  </tbody>\n",
       "</table>\n",
       "</div>"
      ],
      "text/org": [
       "|    | ts_name   | type    | freqs                   |\n",
       "|----+-----------+---------+-------------------------|\n",
       "|  0 | D1        | Hamming | [0, 102, 409, 409, 133] |\n",
       "|  1 | D1        | Welch   | [0, 0, 0, 0, 0]         |\n",
       "|  2 | D1        | fft     | [0, 102, 409, 133, 409] |\n",
       "|  3 | D10       | Hamming | [0, 120, 409, 151, 409] |\n",
       "|  4 | D10       | Welch   | [0, 0, 0, 0, 9]         |\n",
       "|  5 | D10       | fft     | [0, 151, 409, 409, 182] |\n",
       "|  6 | D100      | Hamming | [0, 102, 409, 133, 409] |\n",
       "|  7 | D100      | Welch   | [0, 0, 0, 0, 0]         |\n",
       "|  8 | D100      | fft     | [0, 102, 409, 151, 409] |\n",
       "|  9 | D1000     | Hamming | [0, 100, 409, 131, 409] |"
      ],
      "text/plain": [
       "  ts_name     type                    freqs\n",
       "0      D1  Hamming  [0, 102, 409, 409, 133]\n",
       "1      D1    Welch          [0, 0, 0, 0, 0]\n",
       "2      D1      fft  [0, 102, 409, 133, 409]\n",
       "3     D10  Hamming  [0, 120, 409, 151, 409]\n",
       "4     D10    Welch          [0, 0, 0, 0, 9]\n",
       "5     D10      fft  [0, 151, 409, 409, 182]\n",
       "6    D100  Hamming  [0, 102, 409, 133, 409]\n",
       "7    D100    Welch          [0, 0, 0, 0, 0]\n",
       "8    D100      fft  [0, 102, 409, 151, 409]\n",
       "9   D1000  Hamming  [0, 100, 409, 131, 409]"
      ]
     },
     "execution_count": 60,
     "metadata": {},
     "output_type": "execute_result"
    }
   ],
   "source": [
    "df_test"
   ]
  },
  {
   "cell_type": "code",
   "execution_count": 71,
   "id": "4b9107bb-b5fe-4d9e-8e98-a1d12a3fcc7d",
   "metadata": {},
   "outputs": [
    {
     "data": {
      "application/vnd.jupyter.widget-view+json": {
       "model_id": "2e975bec40444e038f1231e976d32553",
       "version_major": 2,
       "version_minor": 0
      },
      "text/plain": [
       "  0%|          | 0/100000 [00:00<?, ?it/s]"
      ]
     },
     "metadata": {},
     "output_type": "display_data"
    },
    {
     "name": "stderr",
     "output_type": "stream",
     "text": [
      "<ipython-input-71-274b01a6613f>:15: DeprecationWarning: elementwise comparison failed; this will raise an error in the future.\n",
      "  match_fft_welch = np.sum((freqs_fft == freqs_welch))/len(freqs_fft)\n",
      "<ipython-input-71-274b01a6613f>:16: DeprecationWarning: elementwise comparison failed; this will raise an error in the future.\n",
      "  match_hamming_welch = np.sum((freqs_hamming == freqs_welch))/len(freqs_hamming)\n"
     ]
    },
    {
     "data": {
      "text/html": [
       "<div>\n",
       "<style scoped>\n",
       "    .dataframe tbody tr th:only-of-type {\n",
       "        vertical-align: middle;\n",
       "    }\n",
       "\n",
       "    .dataframe tbody tr th {\n",
       "        vertical-align: top;\n",
       "    }\n",
       "\n",
       "    .dataframe thead th {\n",
       "        text-align: right;\n",
       "    }\n",
       "</style>\n",
       "<table border=\"1\" class=\"dataframe\">\n",
       "  <thead>\n",
       "    <tr style=\"text-align: right;\">\n",
       "      <th></th>\n",
       "      <th>ts_name</th>\n",
       "      <th>type</th>\n",
       "      <th>match_ratio</th>\n",
       "    </tr>\n",
       "  </thead>\n",
       "  <tbody>\n",
       "    <tr>\n",
       "      <th>0</th>\n",
       "      <td>D1</td>\n",
       "      <td>fft_hamming</td>\n",
       "      <td>0.6</td>\n",
       "    </tr>\n",
       "    <tr>\n",
       "      <th>1</th>\n",
       "      <td>D1</td>\n",
       "      <td>fft_welch</td>\n",
       "      <td>0.2</td>\n",
       "    </tr>\n",
       "    <tr>\n",
       "      <th>2</th>\n",
       "      <td>D1</td>\n",
       "      <td>hamming_welch</td>\n",
       "      <td>0.2</td>\n",
       "    </tr>\n",
       "    <tr>\n",
       "      <th>3</th>\n",
       "      <td>D10</td>\n",
       "      <td>fft_hamming</td>\n",
       "      <td>0.4</td>\n",
       "    </tr>\n",
       "    <tr>\n",
       "      <th>4</th>\n",
       "      <td>D10</td>\n",
       "      <td>fft_welch</td>\n",
       "      <td>0.2</td>\n",
       "    </tr>\n",
       "  </tbody>\n",
       "</table>\n",
       "</div>"
      ],
      "text/org": [
       "|    | ts_name   | type          |   match_ratio |\n",
       "|----+-----------+---------------+---------------|\n",
       "|  0 | D1        | fft_hamming   |           0.6 |\n",
       "|  1 | D1        | fft_welch     |           0.2 |\n",
       "|  2 | D1        | hamming_welch |           0.2 |\n",
       "|  3 | D10       | fft_hamming   |           0.4 |\n",
       "|  4 | D10       | fft_welch     |           0.2 |"
      ],
      "text/plain": [
       "  ts_name           type  match_ratio\n",
       "0      D1    fft_hamming          0.6\n",
       "1      D1      fft_welch          0.2\n",
       "2      D1  hamming_welch          0.2\n",
       "3     D10    fft_hamming          0.4\n",
       "4     D10      fft_welch          0.2"
      ]
     },
     "execution_count": 71,
     "metadata": {},
     "output_type": "execute_result"
    }
   ],
   "source": [
    "names = []\n",
    "types = []\n",
    "match_ratios = []\n",
    "\n",
    "for elm in tqdm(df_reduced.groupby(\"ts_name\")):\n",
    "    name=elm[0]\n",
    "    df_sub = elm[1]\n",
    "    # generate arrays for matching freqs\n",
    "    freqs_fft = np.array(df_sub.loc[df_sub['type']=='fft', 'freqs'].reset_index(drop=True)[0])\n",
    "    freqs_hamming = np.array(df_sub.loc[df_sub['type']=='Hamming', 'freqs'].reset_index(drop=True)[0])\n",
    "    freqs_welch = np.array(df_sub.loc[df_sub['type']=='Welch', 'freqs'].reset_index(drop=True)[0])  \n",
    "    \n",
    "    # create matching frequ\n",
    "    match_fft_hamming = np.sum((freqs_fft == freqs_hamming))/len(freqs_fft)\n",
    "    match_fft_welch = np.sum((freqs_fft == freqs_welch))/len(freqs_fft)\n",
    "    match_hamming_welch = np.sum((freqs_hamming == freqs_welch))/len(freqs_hamming)\n",
    "    \n",
    "    # generate data\n",
    "    names.extend([name]*3)\n",
    "    types.extend(['fft_hamming', 'fft_welch', 'hamming_welch'])\n",
    "    match_ratios.extend([match_fft_hamming, match_fft_welch, match_hamming_welch])\n",
    "\n",
    "df_match = pd.DataFrame({\n",
    "    'ts_name': names,\n",
    "    'type': types,\n",
    "    'match_ratio': match_ratios\n",
    "})\n",
    "df_match.head()"
   ]
  },
  {
   "cell_type": "code",
   "execution_count": 72,
   "id": "e5a4f03f-b3a9-4b4e-9ce2-499c9f634b96",
   "metadata": {},
   "outputs": [
    {
     "data": {
      "text/plain": [
       "(300000, 3)"
      ]
     },
     "execution_count": 72,
     "metadata": {},
     "output_type": "execute_result"
    }
   ],
   "source": [
    "df_match.shape"
   ]
  },
  {
   "cell_type": "code",
   "execution_count": 74,
   "id": "84a1e6fa-da65-4813-adf4-e41debe93c6f",
   "metadata": {},
   "outputs": [
    {
     "data": {
      "text/html": [
       "<div>\n",
       "<style scoped>\n",
       "    .dataframe tbody tr th:only-of-type {\n",
       "        vertical-align: middle;\n",
       "    }\n",
       "\n",
       "    .dataframe tbody tr th {\n",
       "        vertical-align: top;\n",
       "    }\n",
       "\n",
       "    .dataframe thead th {\n",
       "        text-align: right;\n",
       "    }\n",
       "</style>\n",
       "<table border=\"1\" class=\"dataframe\">\n",
       "  <thead>\n",
       "    <tr style=\"text-align: right;\">\n",
       "      <th></th>\n",
       "      <th>ts_name</th>\n",
       "      <th>type</th>\n",
       "      <th>match_ratio</th>\n",
       "    </tr>\n",
       "  </thead>\n",
       "  <tbody>\n",
       "    <tr>\n",
       "      <th>0</th>\n",
       "      <td>D1</td>\n",
       "      <td>fft_hamming</td>\n",
       "      <td>0.6</td>\n",
       "    </tr>\n",
       "    <tr>\n",
       "      <th>1</th>\n",
       "      <td>D1</td>\n",
       "      <td>fft_welch</td>\n",
       "      <td>0.2</td>\n",
       "    </tr>\n",
       "    <tr>\n",
       "      <th>2</th>\n",
       "      <td>D1</td>\n",
       "      <td>hamming_welch</td>\n",
       "      <td>0.2</td>\n",
       "    </tr>\n",
       "    <tr>\n",
       "      <th>3</th>\n",
       "      <td>D10</td>\n",
       "      <td>fft_hamming</td>\n",
       "      <td>0.4</td>\n",
       "    </tr>\n",
       "    <tr>\n",
       "      <th>4</th>\n",
       "      <td>D10</td>\n",
       "      <td>fft_welch</td>\n",
       "      <td>0.2</td>\n",
       "    </tr>\n",
       "  </tbody>\n",
       "</table>\n",
       "</div>"
      ],
      "text/org": [
       "|    | ts_name   | type          |   match_ratio |\n",
       "|----+-----------+---------------+---------------|\n",
       "|  0 | D1        | fft_hamming   |           0.6 |\n",
       "|  1 | D1        | fft_welch     |           0.2 |\n",
       "|  2 | D1        | hamming_welch |           0.2 |\n",
       "|  3 | D10       | fft_hamming   |           0.4 |\n",
       "|  4 | D10       | fft_welch     |           0.2 |"
      ],
      "text/plain": [
       "  ts_name           type  match_ratio\n",
       "0      D1    fft_hamming          0.6\n",
       "1      D1      fft_welch          0.2\n",
       "2      D1  hamming_welch          0.2\n",
       "3     D10    fft_hamming          0.4\n",
       "4     D10      fft_welch          0.2"
      ]
     },
     "execution_count": 74,
     "metadata": {},
     "output_type": "execute_result"
    }
   ],
   "source": [
    "df_match.head()"
   ]
  },
  {
   "cell_type": "code",
   "execution_count": 86,
   "id": "3085c660-6666-4e5b-860c-23f2d74d4dc9",
   "metadata": {},
   "outputs": [
    {
     "data": {
      "image/png": "[encoded data removed]",
      "text/plain": [
       "<Figure size 1008x648 with 4 Axes>"
      ]
     },
     "metadata": {
      "needs_background": "light"
     },
     "output_type": "display_data"
    }
   ],
   "source": [
    "fig, axs = plt.subplots(2, 2, figsize=(14,9))\n",
    "\n",
    "axs.flatten()[0].hist(df_match[df_match['type']=='fft_hamming']['match_ratio'], bins=6)\n",
    "axs.flatten()[0].title.set_text(\"FFT Hamming Match Scores\")\n",
    "axs.flatten()[1].hist(df_match[df_match['type']=='fft_welch']['match_ratio'], bins=6)\n",
    "axs.flatten()[1].title.set_text(\"FFT Welch Match Scores\")\n",
    "\n",
    "axs.flatten()[2].hist(df_match[df_match['type']=='hamming_welch']['match_ratio'], bins=6)\n",
    "axs.flatten()[2].title.set_text(\"Hamming Welch Match Scores\")\n"
   ]
  },
  {
   "cell_type": "markdown",
   "id": "debe0887-2ea4-47d4-a216-5dbc603c54fb",
   "metadata": {},
   "source": [
    "results show that the frequencies are not matching between Hamming, Welch and regular FFT method\n",
    "next step to verify which leads to better results"
   ]
  },
  {
   "cell_type": "markdown",
   "id": "5eb88fa9-88a5-4dfd-ba1c-b8e7540da68f",
   "metadata": {},
   "source": [
    "## Compute Match for different methods"
   ]
  },
  {
   "cell_type": "code",
   "execution_count": 205,
   "id": "3a23b413-22ff-4182-b84d-4fad3e4bf7a0",
   "metadata": {},
   "outputs": [
    {
     "data": {
      "text/html": [
       "<div>\n",
       "<style scoped>\n",
       "    .dataframe tbody tr th:only-of-type {\n",
       "        vertical-align: middle;\n",
       "    }\n",
       "\n",
       "    .dataframe tbody tr th {\n",
       "        vertical-align: top;\n",
       "    }\n",
       "\n",
       "    .dataframe thead th {\n",
       "        text-align: right;\n",
       "    }\n",
       "</style>\n",
       "<table border=\"1\" class=\"dataframe\">\n",
       "  <thead>\n",
       "    <tr style=\"text-align: right;\">\n",
       "      <th></th>\n",
       "      <th>ts_name</th>\n",
       "      <th>type</th>\n",
       "      <th>freqs</th>\n",
       "    </tr>\n",
       "  </thead>\n",
       "  <tbody>\n",
       "    <tr>\n",
       "      <th>0</th>\n",
       "      <td>D1</td>\n",
       "      <td>Hamming</td>\n",
       "      <td>[0, 102, 409, 409, 133]</td>\n",
       "    </tr>\n",
       "    <tr>\n",
       "      <th>1</th>\n",
       "      <td>D1</td>\n",
       "      <td>Welch</td>\n",
       "      <td>[0, 0, 0, 0, 0]</td>\n",
       "    </tr>\n",
       "    <tr>\n",
       "      <th>2</th>\n",
       "      <td>D1</td>\n",
       "      <td>fft</td>\n",
       "      <td>[0, 102, 409, 133, 409]</td>\n",
       "    </tr>\n",
       "    <tr>\n",
       "      <th>3</th>\n",
       "      <td>D10</td>\n",
       "      <td>Hamming</td>\n",
       "      <td>[0, 120, 409, 151, 409]</td>\n",
       "    </tr>\n",
       "    <tr>\n",
       "      <th>4</th>\n",
       "      <td>D10</td>\n",
       "      <td>Welch</td>\n",
       "      <td>[0, 0, 0, 0, 9]</td>\n",
       "    </tr>\n",
       "  </tbody>\n",
       "</table>\n",
       "</div>"
      ],
      "text/org": [
       "|    | ts_name   | type    | freqs                   |\n",
       "|----+-----------+---------+-------------------------|\n",
       "|  0 | D1        | Hamming | [0, 102, 409, 409, 133] |\n",
       "|  1 | D1        | Welch   | [0, 0, 0, 0, 0]         |\n",
       "|  2 | D1        | fft     | [0, 102, 409, 133, 409] |\n",
       "|  3 | D10       | Hamming | [0, 120, 409, 151, 409] |\n",
       "|  4 | D10       | Welch   | [0, 0, 0, 0, 9]         |"
      ],
      "text/plain": [
       "  ts_name     type                    freqs\n",
       "0      D1  Hamming  [0, 102, 409, 409, 133]\n",
       "1      D1    Welch          [0, 0, 0, 0, 0]\n",
       "2      D1      fft  [0, 102, 409, 133, 409]\n",
       "3     D10  Hamming  [0, 120, 409, 151, 409]\n",
       "4     D10    Welch          [0, 0, 0, 0, 9]"
      ]
     },
     "execution_count": 205,
     "metadata": {},
     "output_type": "execute_result"
    }
   ],
   "source": [
    "df_reduced.head()"
   ]
  },
  {
   "cell_type": "markdown",
   "id": "1c7944e4-9820-4f51-94a4-bb500e322021",
   "metadata": {},
   "source": [
    "Generate Sample for which the matching is going to be computed"
   ]
  },
  {
   "cell_type": "code",
   "execution_count": 90,
   "id": "229d69ae-0bf8-4fad-91ee-e99b4de1354e",
   "metadata": {},
   "outputs": [],
   "source": [
    "sample_ts = choices(df_reduced['ts_name'].unique(), k=3)"
   ]
  },
  {
   "cell_type": "code",
   "execution_count": 225,
   "id": "127a0597-f3b5-4700-8822-cccfcfa2f2aa",
   "metadata": {},
   "outputs": [],
   "source": [
    "def compare_freqs(tgt_fs: np.ndarray, **kwargs) -> int:\n",
    "    if \"src_fs\" in kwargs:\n",
    "        src_fs = kwargs['src_fs']\n",
    "    else:\n",
    "        raise Exception(\"source frequencies missing\")\n",
    "        \n",
    "    \n",
    "    # convert list to vector\n",
    "    \n",
    "    ## continue here - tgt_fs is all frequencies for each ts in a an array (99999, 5)\n",
    "    tgt_fs = np.array(tgt_fs)\n",
    "    src_fs = np.array(src_fs)\n",
    "    \n",
    "    # ensure length 5 for both vectors\n",
    "    src_fs = np.pad(src_fs, (0, 5-src_fs.shape[0]),\n",
    "                   constant_values=(-9999999,)) # use obscure value to avoid undesired match\n",
    "    tgt_fs = np.pad(tgt_fs, (0, 5-src_fs.shape[0]),\n",
    "                   constant_values=(-9999999,))\n",
    "    \n",
    "    match = (src_fs - tgt_fs)==0\n",
    "    \n",
    "    # flip vector to have least significant match first\n",
    "    match = match[::-1]\n",
    "    \n",
    "    # multiply matches of freqs with increasing exponent\n",
    "    # and sum results to allow for ranking\n",
    "    return np.sum(match*(10**np.array(range(1,6))))\n",
    "    \n",
    "    \n",
    "    \n",
    "    "
   ]
  },
  {
   "cell_type": "markdown",
   "id": "da7ec214-2482-4b36-bd3a-30644177a549",
   "metadata": {},
   "source": [
    "### loop through reduced ts to find relevant matches"
   ]
  },
  {
   "cell_type": "code",
   "execution_count": 233,
   "id": "a1945110-0304-45c4-ab5e-0b215d40484f",
   "metadata": {},
   "outputs": [
    {
     "data": {
      "application/vnd.jupyter.widget-view+json": {
       "model_id": "751c5db10eb0467d92fb97aa72fe9c51",
       "version_major": 2,
       "version_minor": 0
      },
      "text/plain": [
       "  0%|          | 0/3 [00:00<?, ?it/s]"
      ]
     },
     "metadata": {},
     "output_type": "display_data"
    }
   ],
   "source": [
    "ts_names = []\n",
    "types = []\n",
    "candidates = []\n",
    "\n",
    "for ts_src_name in tqdm(sample_ts):\n",
    "    # find frequencies for each window type\n",
    "    freqs_fft = df_reduced[(df_reduced['ts_name']==ts_src_name) &\n",
    "                              (df_reduced['type']==\"fft\")]['freqs'].reset_index(drop=True)[0]\n",
    "    freqs_hamming = df_reduced[(df_reduced['ts_name']==ts_src_name) &\n",
    "                              (df_reduced['type']==\"Hamming\")]['freqs'].reset_index(drop=True)[0]\n",
    "    freqs_welch = df_reduced[(df_reduced['ts_name']==ts_src_name) &\n",
    "                              (df_reduced['type']==\"Welch\")]['freqs'].reset_index(drop=True)[0]\n",
    "    \n",
    "    map_window_d = {'fft': freqs_fft,\n",
    "            'Hamming': freqs_hamming,\n",
    "            'Welch': freqs_welch}\n",
    "    # search most matching ts in each subset\n",
    "    \n",
    "    for k, r in df_reduced.groupby('type'):\n",
    "        window_type = elm[0]\n",
    "        df_sub = elm[1]\n",
    "        # match correct frequency for group\n",
    "        ts_src_fs = map_window_d[window_type]\n",
    "        # removing the time series under investigation\n",
    "        df_sub = df_sub[df_sub['ts_name']!=ts_src_name]\n",
    "        \n",
    "        # convert freqs column to array\n",
    "        ar = np.array(df_sub['freqs'].to_list())\n",
    "        \n",
    "        # apply along axis\n",
    "        res = np.apply_along_axis(compare_freqs,1, ar, src_fs=ts_src_fs)\n",
    "        \n",
    "        # get largest n (15) indexes\n",
    "        ind = np.argsort(res)[::-1][:15]\n",
    "        \n",
    "        # retrieve names for largest n indexes\n",
    "        ts_candidates = df_reduced.loc[ind,'ts_name'].to_list()\n",
    "        \n",
    "        # extend lists with candidates\n",
    "        ts_names.extend([ts_src_name]*len(ts_candidates))\n",
    "        types.extend([window_type]*len(ts_candidates))\n",
    "        candidates.extend(ts_candidates)\n",
    "        \n",
    "df_candidates = pd.DataFrame({\n",
    "    'ts_name': ts_names,\n",
    "    'type': types,\n",
    "    'candidate': candidates\n",
    "})\n",
    "        "
   ]
  },
  {
   "cell_type": "code",
   "execution_count": 249,
   "id": "f6dee73b-b4b5-4335-8127-4746b22ae397",
   "metadata": {},
   "outputs": [
    {
     "data": {
      "text/html": [
       "<div>\n",
       "<style scoped>\n",
       "    .dataframe tbody tr th:only-of-type {\n",
       "        vertical-align: middle;\n",
       "    }\n",
       "\n",
       "    .dataframe tbody tr th {\n",
       "        vertical-align: top;\n",
       "    }\n",
       "\n",
       "    .dataframe thead th {\n",
       "        text-align: right;\n",
       "    }\n",
       "</style>\n",
       "<table border=\"1\" class=\"dataframe\">\n",
       "  <thead>\n",
       "    <tr style=\"text-align: right;\">\n",
       "      <th></th>\n",
       "      <th>ts_name</th>\n",
       "      <th>type</th>\n",
       "      <th>candidate</th>\n",
       "      <th>dtw_dist</th>\n",
       "    </tr>\n",
       "  </thead>\n",
       "  <tbody>\n",
       "    <tr>\n",
       "      <th>0</th>\n",
       "      <td>Q3845</td>\n",
       "      <td>fft</td>\n",
       "      <td>M2654</td>\n",
       "      <td>NaN</td>\n",
       "    </tr>\n",
       "    <tr>\n",
       "      <th>1</th>\n",
       "      <td>Q3845</td>\n",
       "      <td>fft</td>\n",
       "      <td>M2536</td>\n",
       "      <td>NaN</td>\n",
       "    </tr>\n",
       "    <tr>\n",
       "      <th>2</th>\n",
       "      <td>Q3845</td>\n",
       "      <td>fft</td>\n",
       "      <td>M26077</td>\n",
       "      <td>NaN</td>\n",
       "    </tr>\n",
       "    <tr>\n",
       "      <th>3</th>\n",
       "      <td>Q3845</td>\n",
       "      <td>fft</td>\n",
       "      <td>D2012</td>\n",
       "      <td>NaN</td>\n",
       "    </tr>\n",
       "    <tr>\n",
       "      <th>4</th>\n",
       "      <td>Q3845</td>\n",
       "      <td>fft</td>\n",
       "      <td>M26463</td>\n",
       "      <td>NaN</td>\n",
       "    </tr>\n",
       "  </tbody>\n",
       "</table>\n",
       "</div>"
      ],
      "text/org": [
       "|    | ts_name   | type   | candidate   |   dtw_dist |\n",
       "|----+-----------+--------+-------------+------------|\n",
       "|  0 | Q3845     | fft    | M2654       |        nan |\n",
       "|  1 | Q3845     | fft    | M2536       |        nan |\n",
       "|  2 | Q3845     | fft    | M26077      |        nan |\n",
       "|  3 | Q3845     | fft    | D2012       |        nan |\n",
       "|  4 | Q3845     | fft    | M26463      |        nan |"
      ],
      "text/plain": [
       "  ts_name type candidate dtw_dist\n",
       "0   Q3845  fft     M2654      NaN\n",
       "1   Q3845  fft     M2536      NaN\n",
       "2   Q3845  fft    M26077      NaN\n",
       "3   Q3845  fft     D2012      NaN\n",
       "4   Q3845  fft    M26463      NaN"
      ]
     },
     "execution_count": 249,
     "metadata": {},
     "output_type": "execute_result"
    }
   ],
   "source": [
    "df_candidates.head()"
   ]
  },
  {
   "cell_type": "markdown",
   "id": "adb7717c-daf3-463f-a851-9b79107ff1e2",
   "metadata": {},
   "source": [
    "### Compute distances for all identified series and choose smallest distances as winner"
   ]
  },
  {
   "cell_type": "code",
   "execution_count": null,
   "id": "5b52496e-bccc-4aa6-804e-5ec3241673c4",
   "metadata": {},
   "outputs": [],
   "source": [
    "src_ts = 'H1'\n",
    "tgt_ts = ['H161', 'H115', 'H59', 'H13', 'H21',\n",
    "         'H70', 'H142', 'H72', 'H53', 'H75',\n",
    "         'H77', 'H79', 'H23', 'H168', 'H42']\n",
    "\n",
    "\n",
    "\n",
    "fig, axes = plt.subplots(3, 5, figsize=(13,9))\n",
    "ar_src = np.array(df_hourly[df_hourly['V1']==src_ts].iloc[:,1:].dropna(axis=1))[0]\n",
    "error = []\n",
    "for i in tqdm(range(len(tgt_ts))):\n",
    "    ts_name = tgt_ts[i]\n",
    "    ar_tgt = np.array(df_hourly[df_hourly['V1']==ts_name].iloc[:,1:].dropna(axis=1))[0]\n",
    "    \n",
    "    # compute distance b/w src and target\n",
    "    error.append(np.square(np.abs(ar_src) - np.abs(ar_tgt)).sum())\n",
    "    \n",
    "    # create plots\n",
    "    axes.flatten()[i].plot(ar_src, \"-\", linewidth=2, label=src_ts)\n",
    "    axes.flatten()[i].plot(ar_tgt, \"--\", linewidth=2, label=ts_name)\n",
    "    title = src_ts + \" and \" + ts_name\n",
    "    axes.flatten()[i].title.set_text(title)\n",
    "    fig.suptitle(\"Matching of Hourly time series\")\n",
    "plt.show()"
   ]
  },
  {
   "cell_type": "code",
   "execution_count": 246,
   "id": "137dab88-c025-4c8b-9130-6b843722cc1f",
   "metadata": {},
   "outputs": [],
   "source": [
    "def compute_distance(s: pd.Series) -> pd.Series:\n",
    "    ar_src = np.array(df_all[df_all['V1']==s['ts_name']].iloc[:,1:].dropna(axis=1))[0]\n",
    "    ar_tgt = np.array(df_all[df_all['V1']==s['candidate']].iloc[:,1:].dropna(axis=1))[0]\n",
    "    \n",
    "    aln = dtw(ar_src, ar_tgt, keep_internals=True, distance_only=True)\n",
    "    \n",
    "    return aln.distance\n",
    "        "
   ]
  },
  {
   "cell_type": "code",
   "execution_count": 250,
   "id": "a818ed4b-363e-41ac-ae72-5ad9f2b6c040",
   "metadata": {},
   "outputs": [
    {
     "ename": "KeyError",
     "evalue": "'ts_name'",
     "output_type": "error",
     "traceback": [
      "\u001b[0;31m---------------------------------------------------------------------------\u001b[0m",
      "\u001b[0;31mKeyError\u001b[0m                                  Traceback (most recent call last)",
      "\u001b[0;32m<ipython-input-250-7ab1e2db7c89>\u001b[0m in \u001b[0;36m<module>\u001b[0;34m\u001b[0m\n\u001b[0;32m----> 1\u001b[0;31m \u001b[0mdf_candidates\u001b[0m\u001b[0;34m[\u001b[0m\u001b[0;34m'dtw_dist'\u001b[0m\u001b[0;34m]\u001b[0m \u001b[0;34m=\u001b[0m \u001b[0mdf_candidates\u001b[0m\u001b[0;34m.\u001b[0m\u001b[0mapply\u001b[0m\u001b[0;34m(\u001b[0m\u001b[0mcompute_distance\u001b[0m\u001b[0;34m)\u001b[0m\u001b[0;34m\u001b[0m\u001b[0;34m\u001b[0m\u001b[0m\n\u001b[0m",
      "\u001b[0;32m~/anaconda3/envs/unic2/lib/python3.9/site-packages/pandas/core/frame.py\u001b[0m in \u001b[0;36mapply\u001b[0;34m(self, func, axis, raw, result_type, args, **kwds)\u001b[0m\n\u001b[1;32m   7766\u001b[0m             \u001b[0mkwds\u001b[0m\u001b[0;34m=\u001b[0m\u001b[0mkwds\u001b[0m\u001b[0;34m,\u001b[0m\u001b[0;34m\u001b[0m\u001b[0;34m\u001b[0m\u001b[0m\n\u001b[1;32m   7767\u001b[0m         )\n\u001b[0;32m-> 7768\u001b[0;31m         \u001b[0;32mreturn\u001b[0m \u001b[0mop\u001b[0m\u001b[0;34m.\u001b[0m\u001b[0mget_result\u001b[0m\u001b[0;34m(\u001b[0m\u001b[0;34m)\u001b[0m\u001b[0;34m\u001b[0m\u001b[0;34m\u001b[0m\u001b[0m\n\u001b[0m\u001b[1;32m   7769\u001b[0m \u001b[0;34m\u001b[0m\u001b[0m\n\u001b[1;32m   7770\u001b[0m     \u001b[0;32mdef\u001b[0m \u001b[0mapplymap\u001b[0m\u001b[0;34m(\u001b[0m\u001b[0mself\u001b[0m\u001b[0;34m,\u001b[0m \u001b[0mfunc\u001b[0m\u001b[0;34m,\u001b[0m \u001b[0mna_action\u001b[0m\u001b[0;34m:\u001b[0m \u001b[0mOptional\u001b[0m\u001b[0;34m[\u001b[0m\u001b[0mstr\u001b[0m\u001b[0;34m]\u001b[0m \u001b[0;34m=\u001b[0m \u001b[0;32mNone\u001b[0m\u001b[0;34m)\u001b[0m \u001b[0;34m->\u001b[0m \u001b[0mDataFrame\u001b[0m\u001b[0;34m:\u001b[0m\u001b[0;34m\u001b[0m\u001b[0;34m\u001b[0m\u001b[0m\n",
      "\u001b[0;32m~/anaconda3/envs/unic2/lib/python3.9/site-packages/pandas/core/apply.py\u001b[0m in \u001b[0;36mget_result\u001b[0;34m(self)\u001b[0m\n\u001b[1;32m    183\u001b[0m             \u001b[0;32mreturn\u001b[0m \u001b[0mself\u001b[0m\u001b[0;34m.\u001b[0m\u001b[0mapply_raw\u001b[0m\u001b[0;34m(\u001b[0m\u001b[0;34m)\u001b[0m\u001b[0;34m\u001b[0m\u001b[0;34m\u001b[0m\u001b[0m\n\u001b[1;32m    184\u001b[0m \u001b[0;34m\u001b[0m\u001b[0m\n\u001b[0;32m--> 185\u001b[0;31m         \u001b[0;32mreturn\u001b[0m \u001b[0mself\u001b[0m\u001b[0;34m.\u001b[0m\u001b[0mapply_standard\u001b[0m\u001b[0;34m(\u001b[0m\u001b[0;34m)\u001b[0m\u001b[0;34m\u001b[0m\u001b[0;34m\u001b[0m\u001b[0m\n\u001b[0m\u001b[1;32m    186\u001b[0m \u001b[0;34m\u001b[0m\u001b[0m\n\u001b[1;32m    187\u001b[0m     \u001b[0;32mdef\u001b[0m \u001b[0mapply_empty_result\u001b[0m\u001b[0;34m(\u001b[0m\u001b[0mself\u001b[0m\u001b[0;34m)\u001b[0m\u001b[0;34m:\u001b[0m\u001b[0;34m\u001b[0m\u001b[0;34m\u001b[0m\u001b[0m\n",
      "\u001b[0;32m~/anaconda3/envs/unic2/lib/python3.9/site-packages/pandas/core/apply.py\u001b[0m in \u001b[0;36mapply_standard\u001b[0;34m(self)\u001b[0m\n\u001b[1;32m    274\u001b[0m \u001b[0;34m\u001b[0m\u001b[0m\n\u001b[1;32m    275\u001b[0m     \u001b[0;32mdef\u001b[0m \u001b[0mapply_standard\u001b[0m\u001b[0;34m(\u001b[0m\u001b[0mself\u001b[0m\u001b[0;34m)\u001b[0m\u001b[0;34m:\u001b[0m\u001b[0;34m\u001b[0m\u001b[0;34m\u001b[0m\u001b[0m\n\u001b[0;32m--> 276\u001b[0;31m         \u001b[0mresults\u001b[0m\u001b[0;34m,\u001b[0m \u001b[0mres_index\u001b[0m \u001b[0;34m=\u001b[0m \u001b[0mself\u001b[0m\u001b[0;34m.\u001b[0m\u001b[0mapply_series_generator\u001b[0m\u001b[0;34m(\u001b[0m\u001b[0;34m)\u001b[0m\u001b[0;34m\u001b[0m\u001b[0;34m\u001b[0m\u001b[0m\n\u001b[0m\u001b[1;32m    277\u001b[0m \u001b[0;34m\u001b[0m\u001b[0m\n\u001b[1;32m    278\u001b[0m         \u001b[0;31m# wrap results\u001b[0m\u001b[0;34m\u001b[0m\u001b[0;34m\u001b[0m\u001b[0;34m\u001b[0m\u001b[0m\n",
      "\u001b[0;32m~/anaconda3/envs/unic2/lib/python3.9/site-packages/pandas/core/apply.py\u001b[0m in \u001b[0;36mapply_series_generator\u001b[0;34m(self)\u001b[0m\n\u001b[1;32m    288\u001b[0m             \u001b[0;32mfor\u001b[0m \u001b[0mi\u001b[0m\u001b[0;34m,\u001b[0m \u001b[0mv\u001b[0m \u001b[0;32min\u001b[0m \u001b[0menumerate\u001b[0m\u001b[0;34m(\u001b[0m\u001b[0mseries_gen\u001b[0m\u001b[0;34m)\u001b[0m\u001b[0;34m:\u001b[0m\u001b[0;34m\u001b[0m\u001b[0;34m\u001b[0m\u001b[0m\n\u001b[1;32m    289\u001b[0m                 \u001b[0;31m# ignore SettingWithCopy here in case the user mutates\u001b[0m\u001b[0;34m\u001b[0m\u001b[0;34m\u001b[0m\u001b[0;34m\u001b[0m\u001b[0m\n\u001b[0;32m--> 290\u001b[0;31m                 \u001b[0mresults\u001b[0m\u001b[0;34m[\u001b[0m\u001b[0mi\u001b[0m\u001b[0;34m]\u001b[0m \u001b[0;34m=\u001b[0m \u001b[0mself\u001b[0m\u001b[0;34m.\u001b[0m\u001b[0mf\u001b[0m\u001b[0;34m(\u001b[0m\u001b[0mv\u001b[0m\u001b[0;34m)\u001b[0m\u001b[0;34m\u001b[0m\u001b[0;34m\u001b[0m\u001b[0m\n\u001b[0m\u001b[1;32m    291\u001b[0m                 \u001b[0;32mif\u001b[0m \u001b[0misinstance\u001b[0m\u001b[0;34m(\u001b[0m\u001b[0mresults\u001b[0m\u001b[0;34m[\u001b[0m\u001b[0mi\u001b[0m\u001b[0;34m]\u001b[0m\u001b[0;34m,\u001b[0m \u001b[0mABCSeries\u001b[0m\u001b[0;34m)\u001b[0m\u001b[0;34m:\u001b[0m\u001b[0;34m\u001b[0m\u001b[0;34m\u001b[0m\u001b[0m\n\u001b[1;32m    292\u001b[0m                     \u001b[0;31m# If we have a view on v, we need to make a copy because\u001b[0m\u001b[0;34m\u001b[0m\u001b[0;34m\u001b[0m\u001b[0;34m\u001b[0m\u001b[0m\n",
      "\u001b[0;32m<ipython-input-246-d5cd4891d4cb>\u001b[0m in \u001b[0;36mcompute_distance\u001b[0;34m(s)\u001b[0m\n\u001b[1;32m      1\u001b[0m \u001b[0;32mdef\u001b[0m \u001b[0mcompute_distance\u001b[0m\u001b[0;34m(\u001b[0m\u001b[0ms\u001b[0m\u001b[0;34m:\u001b[0m \u001b[0mpd\u001b[0m\u001b[0;34m.\u001b[0m\u001b[0mSeries\u001b[0m\u001b[0;34m)\u001b[0m \u001b[0;34m->\u001b[0m \u001b[0mpd\u001b[0m\u001b[0;34m.\u001b[0m\u001b[0mSeries\u001b[0m\u001b[0;34m:\u001b[0m\u001b[0;34m\u001b[0m\u001b[0;34m\u001b[0m\u001b[0m\n\u001b[0;32m----> 2\u001b[0;31m     \u001b[0mar_src\u001b[0m \u001b[0;34m=\u001b[0m \u001b[0mnp\u001b[0m\u001b[0;34m.\u001b[0m\u001b[0marray\u001b[0m\u001b[0;34m(\u001b[0m\u001b[0mdf_all\u001b[0m\u001b[0;34m[\u001b[0m\u001b[0mdf_all\u001b[0m\u001b[0;34m[\u001b[0m\u001b[0;34m'V1'\u001b[0m\u001b[0;34m]\u001b[0m\u001b[0;34m==\u001b[0m\u001b[0ms\u001b[0m\u001b[0;34m[\u001b[0m\u001b[0;34m'ts_name'\u001b[0m\u001b[0;34m]\u001b[0m\u001b[0;34m]\u001b[0m\u001b[0;34m.\u001b[0m\u001b[0miloc\u001b[0m\u001b[0;34m[\u001b[0m\u001b[0;34m:\u001b[0m\u001b[0;34m,\u001b[0m\u001b[0;36m1\u001b[0m\u001b[0;34m:\u001b[0m\u001b[0;34m]\u001b[0m\u001b[0;34m.\u001b[0m\u001b[0mdropna\u001b[0m\u001b[0;34m(\u001b[0m\u001b[0maxis\u001b[0m\u001b[0;34m=\u001b[0m\u001b[0;36m1\u001b[0m\u001b[0;34m)\u001b[0m\u001b[0;34m)\u001b[0m\u001b[0;34m[\u001b[0m\u001b[0;36m0\u001b[0m\u001b[0;34m]\u001b[0m\u001b[0;34m\u001b[0m\u001b[0;34m\u001b[0m\u001b[0m\n\u001b[0m\u001b[1;32m      3\u001b[0m     \u001b[0mar_tgt\u001b[0m \u001b[0;34m=\u001b[0m \u001b[0mnp\u001b[0m\u001b[0;34m.\u001b[0m\u001b[0marray\u001b[0m\u001b[0;34m(\u001b[0m\u001b[0mdf_all\u001b[0m\u001b[0;34m[\u001b[0m\u001b[0mdf_all\u001b[0m\u001b[0;34m[\u001b[0m\u001b[0;34m'V1'\u001b[0m\u001b[0;34m]\u001b[0m\u001b[0;34m==\u001b[0m\u001b[0ms\u001b[0m\u001b[0;34m[\u001b[0m\u001b[0;34m'candidate'\u001b[0m\u001b[0;34m]\u001b[0m\u001b[0;34m]\u001b[0m\u001b[0;34m.\u001b[0m\u001b[0miloc\u001b[0m\u001b[0;34m[\u001b[0m\u001b[0;34m:\u001b[0m\u001b[0;34m,\u001b[0m\u001b[0;36m1\u001b[0m\u001b[0;34m:\u001b[0m\u001b[0;34m]\u001b[0m\u001b[0;34m.\u001b[0m\u001b[0mdropna\u001b[0m\u001b[0;34m(\u001b[0m\u001b[0maxis\u001b[0m\u001b[0;34m=\u001b[0m\u001b[0;36m1\u001b[0m\u001b[0;34m)\u001b[0m\u001b[0;34m)\u001b[0m\u001b[0;34m[\u001b[0m\u001b[0;36m0\u001b[0m\u001b[0;34m]\u001b[0m\u001b[0;34m\u001b[0m\u001b[0;34m\u001b[0m\u001b[0m\n\u001b[1;32m      4\u001b[0m \u001b[0;34m\u001b[0m\u001b[0m\n\u001b[1;32m      5\u001b[0m     \u001b[0maln\u001b[0m \u001b[0;34m=\u001b[0m \u001b[0mdtw\u001b[0m\u001b[0;34m(\u001b[0m\u001b[0mar_src\u001b[0m\u001b[0;34m,\u001b[0m \u001b[0mar_tgt\u001b[0m\u001b[0;34m,\u001b[0m \u001b[0mkeep_internals\u001b[0m\u001b[0;34m=\u001b[0m\u001b[0;32mTrue\u001b[0m\u001b[0;34m,\u001b[0m \u001b[0mdistance_only\u001b[0m\u001b[0;34m=\u001b[0m\u001b[0;32mTrue\u001b[0m\u001b[0;34m)\u001b[0m\u001b[0;34m\u001b[0m\u001b[0;34m\u001b[0m\u001b[0m\n",
      "\u001b[0;32m~/anaconda3/envs/unic2/lib/python3.9/site-packages/pandas/core/series.py\u001b[0m in \u001b[0;36m__getitem__\u001b[0;34m(self, key)\u001b[0m\n\u001b[1;32m    851\u001b[0m \u001b[0;34m\u001b[0m\u001b[0m\n\u001b[1;32m    852\u001b[0m         \u001b[0;32melif\u001b[0m \u001b[0mkey_is_scalar\u001b[0m\u001b[0;34m:\u001b[0m\u001b[0;34m\u001b[0m\u001b[0;34m\u001b[0m\u001b[0m\n\u001b[0;32m--> 853\u001b[0;31m             \u001b[0;32mreturn\u001b[0m \u001b[0mself\u001b[0m\u001b[0;34m.\u001b[0m\u001b[0m_get_value\u001b[0m\u001b[0;34m(\u001b[0m\u001b[0mkey\u001b[0m\u001b[0;34m)\u001b[0m\u001b[0;34m\u001b[0m\u001b[0;34m\u001b[0m\u001b[0m\n\u001b[0m\u001b[1;32m    854\u001b[0m \u001b[0;34m\u001b[0m\u001b[0m\n\u001b[1;32m    855\u001b[0m         \u001b[0;32mif\u001b[0m \u001b[0mis_hashable\u001b[0m\u001b[0;34m(\u001b[0m\u001b[0mkey\u001b[0m\u001b[0;34m)\u001b[0m\u001b[0;34m:\u001b[0m\u001b[0;34m\u001b[0m\u001b[0;34m\u001b[0m\u001b[0m\n",
      "\u001b[0;32m~/anaconda3/envs/unic2/lib/python3.9/site-packages/pandas/core/series.py\u001b[0m in \u001b[0;36m_get_value\u001b[0;34m(self, label, takeable)\u001b[0m\n\u001b[1;32m    959\u001b[0m \u001b[0;34m\u001b[0m\u001b[0m\n\u001b[1;32m    960\u001b[0m         \u001b[0;31m# Similar to Index.get_value, but we do not fall back to positional\u001b[0m\u001b[0;34m\u001b[0m\u001b[0;34m\u001b[0m\u001b[0;34m\u001b[0m\u001b[0m\n\u001b[0;32m--> 961\u001b[0;31m         \u001b[0mloc\u001b[0m \u001b[0;34m=\u001b[0m \u001b[0mself\u001b[0m\u001b[0;34m.\u001b[0m\u001b[0mindex\u001b[0m\u001b[0;34m.\u001b[0m\u001b[0mget_loc\u001b[0m\u001b[0;34m(\u001b[0m\u001b[0mlabel\u001b[0m\u001b[0;34m)\u001b[0m\u001b[0;34m\u001b[0m\u001b[0;34m\u001b[0m\u001b[0m\n\u001b[0m\u001b[1;32m    962\u001b[0m         \u001b[0;32mreturn\u001b[0m \u001b[0mself\u001b[0m\u001b[0;34m.\u001b[0m\u001b[0mindex\u001b[0m\u001b[0;34m.\u001b[0m\u001b[0m_get_values_for_loc\u001b[0m\u001b[0;34m(\u001b[0m\u001b[0mself\u001b[0m\u001b[0;34m,\u001b[0m \u001b[0mloc\u001b[0m\u001b[0;34m,\u001b[0m \u001b[0mlabel\u001b[0m\u001b[0;34m)\u001b[0m\u001b[0;34m\u001b[0m\u001b[0;34m\u001b[0m\u001b[0m\n\u001b[1;32m    963\u001b[0m \u001b[0;34m\u001b[0m\u001b[0m\n",
      "\u001b[0;32m~/anaconda3/envs/unic2/lib/python3.9/site-packages/pandas/core/indexes/range.py\u001b[0m in \u001b[0;36mget_loc\u001b[0;34m(self, key, method, tolerance)\u001b[0m\n\u001b[1;32m    352\u001b[0m                 \u001b[0;32mexcept\u001b[0m \u001b[0mValueError\u001b[0m \u001b[0;32mas\u001b[0m \u001b[0merr\u001b[0m\u001b[0;34m:\u001b[0m\u001b[0;34m\u001b[0m\u001b[0;34m\u001b[0m\u001b[0m\n\u001b[1;32m    353\u001b[0m                     \u001b[0;32mraise\u001b[0m \u001b[0mKeyError\u001b[0m\u001b[0;34m(\u001b[0m\u001b[0mkey\u001b[0m\u001b[0;34m)\u001b[0m \u001b[0;32mfrom\u001b[0m \u001b[0merr\u001b[0m\u001b[0;34m\u001b[0m\u001b[0;34m\u001b[0m\u001b[0m\n\u001b[0;32m--> 354\u001b[0;31m             \u001b[0;32mraise\u001b[0m \u001b[0mKeyError\u001b[0m\u001b[0;34m(\u001b[0m\u001b[0mkey\u001b[0m\u001b[0;34m)\u001b[0m\u001b[0;34m\u001b[0m\u001b[0;34m\u001b[0m\u001b[0m\n\u001b[0m\u001b[1;32m    355\u001b[0m         \u001b[0;32mreturn\u001b[0m \u001b[0msuper\u001b[0m\u001b[0;34m(\u001b[0m\u001b[0;34m)\u001b[0m\u001b[0;34m.\u001b[0m\u001b[0mget_loc\u001b[0m\u001b[0;34m(\u001b[0m\u001b[0mkey\u001b[0m\u001b[0;34m,\u001b[0m \u001b[0mmethod\u001b[0m\u001b[0;34m=\u001b[0m\u001b[0mmethod\u001b[0m\u001b[0;34m,\u001b[0m \u001b[0mtolerance\u001b[0m\u001b[0;34m=\u001b[0m\u001b[0mtolerance\u001b[0m\u001b[0;34m)\u001b[0m\u001b[0;34m\u001b[0m\u001b[0;34m\u001b[0m\u001b[0m\n\u001b[1;32m    356\u001b[0m \u001b[0;34m\u001b[0m\u001b[0m\n",
      "\u001b[0;31mKeyError\u001b[0m: 'ts_name'"
     ]
    }
   ],
   "source": [
    "))"
   ]
  },
  {
   "cell_type": "markdown",
   "id": "b90652dd-2a74-4fe0-9b91-3186a963ce69",
   "metadata": {},
   "source": [
    "### read all time series"
   ]
  },
  {
   "cell_type": "code",
   "execution_count": 235,
   "id": "e1aa4c7e-f5de-406d-a0ae-e532ea5b1cd6",
   "metadata": {},
   "outputs": [
    {
     "name": "stdout",
     "output_type": "stream",
     "text": [
      "hourly: (414, 961)\n",
      "daily: (4227, 9920)\n",
      "weekly: (359, 2598)\n",
      "monthly: (48000, 2795)\n",
      "quarterly: (24000, 867)\n",
      "yearly: (23000, 836)\n"
     ]
    }
   ],
   "source": [
    "df_hourly = pd.read_csv(\"../m4_data/Hourly-train.csv\")\n",
    "print(\"hourly: {}\".format(df_hourly.shape))\n",
    "df_daily = pd.read_csv(\"../m4_data/Daily-train.csv\")\n",
    "print(\"daily: {}\".format(df_daily.shape))\n",
    "df_weekly = pd.read_csv(\"../m4_data/Weekly-train.csv\")\n",
    "print(\"weekly: {}\".format(df_weekly.shape))\n",
    "df_monthly = pd.read_csv(\"../m4_data/Monthly-train.csv\")\n",
    "print(\"monthly: {}\".format(df_monthly.shape))\n",
    "df_quarterly = pd.read_csv(\"../m4_data/Quarterly-train.csv\")\n",
    "print(\"quarterly: {}\".format(df_quarterly.shape))\n",
    "df_yearly = pd.read_csv(\"../m4_data/Yearly-train.csv\")\n",
    "print(\"yearly: {}\".format(df_yearly.shape))"
   ]
  },
  {
   "cell_type": "code",
   "execution_count": 236,
   "id": "5578e112-6a24-481c-b42a-0937cf0c03f3",
   "metadata": {},
   "outputs": [],
   "source": [
    "df_all = pd.concat([df_hourly,\n",
    "                   df_daily,\n",
    "                   df_weekly,\n",
    "                    df_monthly,\n",
    "                   df_quarterly,\n",
    "                   df_yearly])"
   ]
  },
  {
   "cell_type": "code",
   "execution_count": 237,
   "id": "59c294be-6d37-43a0-8586-e150b9a56e1d",
   "metadata": {},
   "outputs": [],
   "source": [
    "df_hourly = None\n",
    "df_daily = None\n",
    "df_weekly = None\n",
    "df_monthly = None\n",
    "df_quarterly = None\n",
    "df_yearly = None"
   ]
  },
  {
   "cell_type": "code",
   "execution_count": null,
   "id": "fcef5221-0a2e-415e-915c-c9db08ba02f9",
   "metadata": {},
   "outputs": [],
   "source": []
  }
 ],
 "metadata": {
  "kernelspec": {
   "display_name": "Python 3",
   "language": "python",
   "name": "python3"
  },
  "language_info": {
   "codemirror_mode": {
    "name": "ipython",
    "version": 3
   },
   "file_extension": ".py",
   "mimetype": "text/x-python",
   "name": "python",
   "nbconvert_exporter": "python",
   "pygments_lexer": "ipython3",
   "version": "3.9.4"
  }
 },
 "nbformat": 4,
 "nbformat_minor": 5
}
