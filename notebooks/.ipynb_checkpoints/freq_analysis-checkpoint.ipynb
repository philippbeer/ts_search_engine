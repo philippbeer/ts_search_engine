{
 "cells": [
  {
   "cell_type": "code",
   "execution_count": 31,
   "id": "e8ed0e78",
   "metadata": {},
   "outputs": [],
   "source": [
    "import numpy as np\n",
    "import pandas as pd\n",
    "from tqdm.notebook import tqdm"
   ]
  },
  {
   "cell_type": "code",
   "execution_count": 2,
   "id": "96440a07",
   "metadata": {},
   "outputs": [
    {
     "data": {
      "text/html": [
       "<div>\n",
       "<style scoped>\n",
       "    .dataframe tbody tr th:only-of-type {\n",
       "        vertical-align: middle;\n",
       "    }\n",
       "\n",
       "    .dataframe tbody tr th {\n",
       "        vertical-align: top;\n",
       "    }\n",
       "\n",
       "    .dataframe thead th {\n",
       "        text-align: right;\n",
       "    }\n",
       "</style>\n",
       "<table border=\"1\" class=\"dataframe\">\n",
       "  <thead>\n",
       "    <tr style=\"text-align: right;\">\n",
       "      <th></th>\n",
       "      <th>ts_name</th>\n",
       "      <th>fhat</th>\n",
       "      <th>PSD</th>\n",
       "      <th>freq</th>\n",
       "      <th>freq_approx_idx</th>\n",
       "      <th>freq_approx</th>\n",
       "    </tr>\n",
       "  </thead>\n",
       "  <tbody>\n",
       "    <tr>\n",
       "      <th>0</th>\n",
       "      <td>H3</td>\n",
       "      <td>897560.000000</td>\n",
       "      <td>1.150877e+09</td>\n",
       "      <td>0.000000</td>\n",
       "      <td>0</td>\n",
       "      <td>0.000000</td>\n",
       "    </tr>\n",
       "    <tr>\n",
       "      <th>1</th>\n",
       "      <td>H3</td>\n",
       "      <td>32313.212902</td>\n",
       "      <td>1.491634e+06</td>\n",
       "      <td>1.428571</td>\n",
       "      <td>119</td>\n",
       "      <td>1.458190</td>\n",
       "    </tr>\n",
       "    <tr>\n",
       "      <th>2</th>\n",
       "      <td>H3</td>\n",
       "      <td>34207.839091</td>\n",
       "      <td>1.671680e+06</td>\n",
       "      <td>2.857143</td>\n",
       "      <td>149</td>\n",
       "      <td>2.865581</td>\n",
       "    </tr>\n",
       "    <tr>\n",
       "      <th>3</th>\n",
       "      <td>H3</td>\n",
       "      <td>25100.066233</td>\n",
       "      <td>9.000190e+05</td>\n",
       "      <td>4.285714</td>\n",
       "      <td>167</td>\n",
       "      <td>4.297856</td>\n",
       "    </tr>\n",
       "    <tr>\n",
       "      <th>4</th>\n",
       "      <td>H3</td>\n",
       "      <td>28363.946012</td>\n",
       "      <td>1.149305e+06</td>\n",
       "      <td>5.714286</td>\n",
       "      <td>180</td>\n",
       "      <td>5.759585</td>\n",
       "    </tr>\n",
       "  </tbody>\n",
       "</table>\n",
       "</div>"
      ],
      "text/org": [
       "|    | ts_name   |     fhat |              PSD |    freq |   freq_approx_idx |   freq_approx |\n",
       "|----+-----------+----------+------------------+---------+-------------------+---------------|\n",
       "|  0 | H3        | 897560   |      1.15088e+09 | 0       |                 0 |       0       |\n",
       "|  1 | H3        |  32313.2 |      1.49163e+06 | 1.42857 |               119 |       1.45819 |\n",
       "|  2 | H3        |  34207.8 |      1.67168e+06 | 2.85714 |               149 |       2.86558 |\n",
       "|  3 | H3        |  25100.1 | 900019           | 4.28571 |               167 |       4.29786 |\n",
       "|  4 | H3        |  28363.9 |      1.1493e+06  | 5.71429 |               180 |       5.75959 |"
      ],
      "text/plain": [
       "  ts_name           fhat           PSD      freq  freq_approx_idx  freq_approx\n",
       "0      H3  897560.000000  1.150877e+09  0.000000                0     0.000000\n",
       "1      H3   32313.212902  1.491634e+06  1.428571              119     1.458190\n",
       "2      H3   34207.839091  1.671680e+06  2.857143              149     2.865581\n",
       "3      H3   25100.066233  9.000190e+05  4.285714              167     4.297856\n",
       "4      H3   28363.946012  1.149305e+06  5.714286              180     5.759585"
      ]
     },
     "execution_count": 2,
     "metadata": {},
     "output_type": "execute_result"
    }
   ],
   "source": [
    "df = pd.read_csv(\"../df_approx.csv\")\n",
    "df.head()"
   ]
  },
  {
   "cell_type": "code",
   "execution_count": 40,
   "id": "4d5b16d5",
   "metadata": {},
   "outputs": [
    {
     "data": {
      "application/vnd.jupyter.widget-view+json": {
       "model_id": "7edac8eb37d64e50a81d9de186db7a2b",
       "version_major": 2,
       "version_minor": 0
      },
      "text/plain": [
       "  0%|          | 0/100000 [00:00<?, ?it/s]"
      ]
     },
     "metadata": {},
     "output_type": "display_data"
    },
    {
     "name": "stdout",
     "output_type": "stream",
     "text": [
      "54\n",
      "24\n"
     ]
    },
    {
     "ename": "ValueError",
     "evalue": "If using all scalar values, you must pass an index",
     "output_type": "error",
     "traceback": [
      "\u001b[0;31m---------------------------------------------------------------------------\u001b[0m",
      "\u001b[0;31mValueError\u001b[0m                                Traceback (most recent call last)",
      "\u001b[0;32m<ipython-input-40-08f8016acfc4>\u001b[0m in \u001b[0;36m<module>\u001b[0;34m\u001b[0m\n\u001b[1;32m     24\u001b[0m         \u001b[0mprint\u001b[0m\u001b[0;34m(\u001b[0m\u001b[0mno_intersection\u001b[0m\u001b[0;34m)\u001b[0m\u001b[0;34m\u001b[0m\u001b[0;34m\u001b[0m\u001b[0m\n\u001b[1;32m     25\u001b[0m         row = pd.DataFrame({'ts_1': ts_name, 'ts_2': ts_name_sub,\n\u001b[0;32m---> 26\u001b[0;31m                             'f_intersec': no_intersection})\n\u001b[0m\u001b[1;32m     27\u001b[0m         \u001b[0mdf_f_sub\u001b[0m \u001b[0;34m=\u001b[0m \u001b[0mdf_f_sub\u001b[0m\u001b[0;34m.\u001b[0m\u001b[0mappend\u001b[0m\u001b[0;34m(\u001b[0m\u001b[0mrow\u001b[0m\u001b[0;34m)\u001b[0m\u001b[0;34m\u001b[0m\u001b[0;34m\u001b[0m\u001b[0m\n\u001b[1;32m     28\u001b[0m     df_f_sub.sort_values(by=\"f_intersec\", descending=True,\n",
      "\u001b[0;32m~/anaconda3/lib/python3.7/site-packages/pandas/core/frame.py\u001b[0m in \u001b[0;36m__init__\u001b[0;34m(self, data, index, columns, dtype, copy)\u001b[0m\n\u001b[1;32m    527\u001b[0m \u001b[0;34m\u001b[0m\u001b[0m\n\u001b[1;32m    528\u001b[0m         \u001b[0;32melif\u001b[0m \u001b[0misinstance\u001b[0m\u001b[0;34m(\u001b[0m\u001b[0mdata\u001b[0m\u001b[0;34m,\u001b[0m \u001b[0mdict\u001b[0m\u001b[0;34m)\u001b[0m\u001b[0;34m:\u001b[0m\u001b[0;34m\u001b[0m\u001b[0;34m\u001b[0m\u001b[0m\n\u001b[0;32m--> 529\u001b[0;31m             \u001b[0mmgr\u001b[0m \u001b[0;34m=\u001b[0m \u001b[0minit_dict\u001b[0m\u001b[0;34m(\u001b[0m\u001b[0mdata\u001b[0m\u001b[0;34m,\u001b[0m \u001b[0mindex\u001b[0m\u001b[0;34m,\u001b[0m \u001b[0mcolumns\u001b[0m\u001b[0;34m,\u001b[0m \u001b[0mdtype\u001b[0m\u001b[0;34m=\u001b[0m\u001b[0mdtype\u001b[0m\u001b[0;34m)\u001b[0m\u001b[0;34m\u001b[0m\u001b[0;34m\u001b[0m\u001b[0m\n\u001b[0m\u001b[1;32m    530\u001b[0m         \u001b[0;32melif\u001b[0m \u001b[0misinstance\u001b[0m\u001b[0;34m(\u001b[0m\u001b[0mdata\u001b[0m\u001b[0;34m,\u001b[0m \u001b[0mma\u001b[0m\u001b[0;34m.\u001b[0m\u001b[0mMaskedArray\u001b[0m\u001b[0;34m)\u001b[0m\u001b[0;34m:\u001b[0m\u001b[0;34m\u001b[0m\u001b[0;34m\u001b[0m\u001b[0m\n\u001b[1;32m    531\u001b[0m             \u001b[0;32mimport\u001b[0m \u001b[0mnumpy\u001b[0m\u001b[0;34m.\u001b[0m\u001b[0mma\u001b[0m\u001b[0;34m.\u001b[0m\u001b[0mmrecords\u001b[0m \u001b[0;32mas\u001b[0m \u001b[0mmrecords\u001b[0m\u001b[0;34m\u001b[0m\u001b[0;34m\u001b[0m\u001b[0m\n",
      "\u001b[0;32m~/anaconda3/lib/python3.7/site-packages/pandas/core/internals/construction.py\u001b[0m in \u001b[0;36minit_dict\u001b[0;34m(data, index, columns, dtype)\u001b[0m\n\u001b[1;32m    285\u001b[0m             \u001b[0marr\u001b[0m \u001b[0;32mif\u001b[0m \u001b[0;32mnot\u001b[0m \u001b[0mis_datetime64tz_dtype\u001b[0m\u001b[0;34m(\u001b[0m\u001b[0marr\u001b[0m\u001b[0;34m)\u001b[0m \u001b[0;32melse\u001b[0m \u001b[0marr\u001b[0m\u001b[0;34m.\u001b[0m\u001b[0mcopy\u001b[0m\u001b[0;34m(\u001b[0m\u001b[0;34m)\u001b[0m \u001b[0;32mfor\u001b[0m \u001b[0marr\u001b[0m \u001b[0;32min\u001b[0m \u001b[0marrays\u001b[0m\u001b[0;34m\u001b[0m\u001b[0;34m\u001b[0m\u001b[0m\n\u001b[1;32m    286\u001b[0m         ]\n\u001b[0;32m--> 287\u001b[0;31m     \u001b[0;32mreturn\u001b[0m \u001b[0marrays_to_mgr\u001b[0m\u001b[0;34m(\u001b[0m\u001b[0marrays\u001b[0m\u001b[0;34m,\u001b[0m \u001b[0mdata_names\u001b[0m\u001b[0;34m,\u001b[0m \u001b[0mindex\u001b[0m\u001b[0;34m,\u001b[0m \u001b[0mcolumns\u001b[0m\u001b[0;34m,\u001b[0m \u001b[0mdtype\u001b[0m\u001b[0;34m=\u001b[0m\u001b[0mdtype\u001b[0m\u001b[0;34m)\u001b[0m\u001b[0;34m\u001b[0m\u001b[0;34m\u001b[0m\u001b[0m\n\u001b[0m\u001b[1;32m    288\u001b[0m \u001b[0;34m\u001b[0m\u001b[0m\n\u001b[1;32m    289\u001b[0m \u001b[0;34m\u001b[0m\u001b[0m\n",
      "\u001b[0;32m~/anaconda3/lib/python3.7/site-packages/pandas/core/internals/construction.py\u001b[0m in \u001b[0;36marrays_to_mgr\u001b[0;34m(arrays, arr_names, index, columns, dtype, verify_integrity)\u001b[0m\n\u001b[1;32m     78\u001b[0m         \u001b[0;31m# figure out the index, if necessary\u001b[0m\u001b[0;34m\u001b[0m\u001b[0;34m\u001b[0m\u001b[0;34m\u001b[0m\u001b[0m\n\u001b[1;32m     79\u001b[0m         \u001b[0;32mif\u001b[0m \u001b[0mindex\u001b[0m \u001b[0;32mis\u001b[0m \u001b[0;32mNone\u001b[0m\u001b[0;34m:\u001b[0m\u001b[0;34m\u001b[0m\u001b[0;34m\u001b[0m\u001b[0m\n\u001b[0;32m---> 80\u001b[0;31m             \u001b[0mindex\u001b[0m \u001b[0;34m=\u001b[0m \u001b[0mextract_index\u001b[0m\u001b[0;34m(\u001b[0m\u001b[0marrays\u001b[0m\u001b[0;34m)\u001b[0m\u001b[0;34m\u001b[0m\u001b[0;34m\u001b[0m\u001b[0m\n\u001b[0m\u001b[1;32m     81\u001b[0m         \u001b[0;32melse\u001b[0m\u001b[0;34m:\u001b[0m\u001b[0;34m\u001b[0m\u001b[0;34m\u001b[0m\u001b[0m\n\u001b[1;32m     82\u001b[0m             \u001b[0mindex\u001b[0m \u001b[0;34m=\u001b[0m \u001b[0mensure_index\u001b[0m\u001b[0;34m(\u001b[0m\u001b[0mindex\u001b[0m\u001b[0;34m)\u001b[0m\u001b[0;34m\u001b[0m\u001b[0;34m\u001b[0m\u001b[0m\n",
      "\u001b[0;32m~/anaconda3/lib/python3.7/site-packages/pandas/core/internals/construction.py\u001b[0m in \u001b[0;36mextract_index\u001b[0;34m(data)\u001b[0m\n\u001b[1;32m    389\u001b[0m \u001b[0;34m\u001b[0m\u001b[0m\n\u001b[1;32m    390\u001b[0m         \u001b[0;32mif\u001b[0m \u001b[0;32mnot\u001b[0m \u001b[0mindexes\u001b[0m \u001b[0;32mand\u001b[0m \u001b[0;32mnot\u001b[0m \u001b[0mraw_lengths\u001b[0m\u001b[0;34m:\u001b[0m\u001b[0;34m\u001b[0m\u001b[0;34m\u001b[0m\u001b[0m\n\u001b[0;32m--> 391\u001b[0;31m             \u001b[0;32mraise\u001b[0m \u001b[0mValueError\u001b[0m\u001b[0;34m(\u001b[0m\u001b[0;34m\"If using all scalar values, you must pass an index\"\u001b[0m\u001b[0;34m)\u001b[0m\u001b[0;34m\u001b[0m\u001b[0;34m\u001b[0m\u001b[0m\n\u001b[0m\u001b[1;32m    392\u001b[0m \u001b[0;34m\u001b[0m\u001b[0m\n\u001b[1;32m    393\u001b[0m         \u001b[0;32mif\u001b[0m \u001b[0mhave_series\u001b[0m\u001b[0;34m:\u001b[0m\u001b[0;34m\u001b[0m\u001b[0;34m\u001b[0m\u001b[0m\n",
      "\u001b[0;31mValueError\u001b[0m: If using all scalar values, you must pass an index"
     ]
    }
   ],
   "source": [
    "q_thresh = 0.9\n",
    "cols = ['ts_1', 'ts_2', 'f_intersec']\n",
    "df_f_overlap = pd.DataFrame(columns=cols)\n",
    "for ts in tqdm(df.groupby(\"ts_name\")):\n",
    "    ts_name = ts[0]\n",
    "    ts_df = ts[1]\n",
    "    df_sub = df[df['ts_name']!=ts_name]\n",
    "    \n",
    "    thresh = np.quantile(ts_df['PSD'], q_thresh)\n",
    "    core_df = ts_df[ts_df['PSD'] > thresh]\n",
    "    fappr_idx_s = set(core_df['freq_approx_idx'])\n",
    "    f_no = len(fappr_idx_s)\n",
    "    print(f_no)\n",
    "    \n",
    "    df_f_sub = pd.DataFrame(columns=cols)\n",
    "    ts_1 = ts_2 = f_intersec = []\n",
    "    \n",
    "    for ts_sub in df_sub.groupby(\"ts_name\"):\n",
    "        ts_name_sub = ts_sub[0]\n",
    "        ts_df_sub = ts_sub[1]\n",
    "        thresh_sub = np.quantile(ts_df_sub['PSD'], (f_no/ts_df_sub.shape[0]))\n",
    "        core_df_sub = ts_df_sub[ts_df_sub['PSD']>thresh_sub]\n",
    "        fappr_idx_sub_s = set(core_df_sub['freq_approx_idx'])\n",
    "        no_intersection = len(fappr_idx_s & fappr_idx_sub_s)\n",
    "        print(no_intersection)\n",
    "        ts_1.append(ts_name)\n",
    "        ts_2.append(ts_name_sub)\n",
    "        f_intersec.append(no_intersection)\n",
    "    data = [ts1, ts_2, f_intersec]\n",
    "    df_f_sub = pd.DataFrame(data, columns=cols)\\\n",
    "    .sort_values(by=\"f_intersec\", ascending=False,\n",
    "                        inplace=True)\n",
    "    df_f_overlap = df_f_overlap.append(df_f_sub.iloc[:10,:]) # keep top 10 results\n"
   ]
  },
  {
   "cell_type": "code",
   "execution_count": null,
   "id": "f919ebfc",
   "metadata": {},
   "outputs": [],
   "source": [
    "df[df['PSD']> 1000000]"
   ]
  },
  {
   "cell_type": "code",
   "execution_count": null,
   "id": "aae3c08c",
   "metadata": {},
   "outputs": [],
   "source": [
    "fappr_idx_s"
   ]
  }
 ],
 "metadata": {
  "kernelspec": {
   "display_name": "Python 3",
   "language": "python",
   "name": "python3"
  },
  "language_info": {
   "codemirror_mode": {
    "name": "ipython",
    "version": 3
   },
   "file_extension": ".py",
   "mimetype": "text/x-python",
   "name": "python",
   "nbconvert_exporter": "python",
   "pygments_lexer": "ipython3",
   "version": "3.7.9"
  }
 },
 "nbformat": 4,
 "nbformat_minor": 5
}
