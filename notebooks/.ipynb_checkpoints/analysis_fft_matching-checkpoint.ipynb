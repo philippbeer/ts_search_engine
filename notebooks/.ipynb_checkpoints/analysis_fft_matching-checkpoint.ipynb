{
 "cells": [
  {
   "cell_type": "code",
   "execution_count": 1,
   "id": "57d1f14a-ffd7-46fb-9e70-14d18d9edfe0",
   "metadata": {},
   "outputs": [],
   "source": [
    "import matplotlib.pyplot as plt\n",
    "import pandas as pd\n"
   ]
  },
  {
   "cell_type": "code",
   "execution_count": 3,
   "id": "00fb2b7d-eaa3-4380-b903-3b74c9577a4f",
   "metadata": {},
   "outputs": [
    {
     "data": {
      "text/org": [
       "|    |    |    |    | test   |\n",
       "|----+----+----+----+--------|\n",
       "|  0 | t  | e  | s  | t      |"
      ],
      "text/plain": [
       "0    test\n",
       "dtype: object"
      ]
     },
     "execution_count": 3,
     "metadata": {},
     "output_type": "execute_result"
    }
   ],
   "source": [
    "s = pd.Series('test')\n",
    "s"
   ]
  },
  {
   "cell_type": "code",
   "execution_count": null,
   "id": "c2f18d0d-6254-4b97-b09c-7cd02cc0c991",
   "metadata": {},
   "outputs": [],
   "source": [
    "df_matches = pd.read_csv(\"../df_matching_scores.csv\")\n",
    "print(\"matches read: {}\".format(df_matches.shape))\n",
    "df_hourly = pd.read_csv(\"../m4_data/Hourly-train.csv\")\n",
    "print(\"hourly read: {}\".format(df_hourly.shape))\n",
    "df_daily = pd.read_csv(\"../m4_data/Daily-train.csv\")\n",
    "print(\"daily read: {}\".format(df_daily.shape))\n",
    "df_weekly = pd.read_csv(\"../m4_data/Weekly-train.csv\")\n",
    "print(\"weekly: {}\".format(df_weekly.shape))\n",
    "df_monthly = pd.read_csv(\"../m4_data/Monthly-train.csv\")\n",
    "print(\"monthly: {}\".format(df_monthly.shape))\n",
    "df_quarterly = pd.read_csv(\"../m4_data/Quarterly-train.csv\")\n",
    "print(\"quarterly: {}\".format(df_quarterly.shape))\n",
    "df_yearly = "
   ]
  }
 ],
 "metadata": {
  "kernelspec": {
   "display_name": "Python 3",
   "language": "python",
   "name": "python3"
  },
  "language_info": {
   "codemirror_mode": {
    "name": "ipython",
    "version": 3
   },
   "file_extension": ".py",
   "mimetype": "text/x-python",
   "name": "python",
   "nbconvert_exporter": "python",
   "pygments_lexer": "ipython3",
   "version": "3.9.4"
  }
 },
 "nbformat": 4,
 "nbformat_minor": 5
}
