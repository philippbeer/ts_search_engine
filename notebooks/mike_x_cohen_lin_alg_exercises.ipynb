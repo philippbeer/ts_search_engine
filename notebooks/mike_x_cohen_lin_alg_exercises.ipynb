{
 "cells": [
  {
   "cell_type": "code",
   "execution_count": 30,
   "id": "39481de6-6393-4e80-950f-b57229198b4e",
   "metadata": {},
   "outputs": [],
   "source": [
    "import random\n",
    "\n",
    "import numpy as np\n",
    "from numpy.random import default_rng\n",
    "import matplotlib.pyplot as plt"
   ]
  },
  {
   "cell_type": "code",
   "execution_count": 3,
   "id": "c77b541f-ae2f-4368-ac63-a559f6e93b61",
   "metadata": {},
   "outputs": [
    {
     "data": {
      "text/plain": [
       "(-3.0, 3.0, -3.0, 3.0)"
      ]
     },
     "execution_count": 3,
     "metadata": {},
     "output_type": "execute_result"
    },
    {
     "data": {
      "image/png": "[encoded data removed]",
      "text/plain": [
       "<Figure size 432x288 with 1 Axes>"
      ]
     },
     "metadata": {
      "needs_background": "light"
     },
     "output_type": "display_data"
    }
   ],
   "source": [
    "v = np.array([2,-1])\n",
    "plt.plot([0,v[0]],[0,v[1]])\n",
    "plt.axis([-3,3,-3,3])"
   ]
  },
  {
   "cell_type": "code",
   "execution_count": 4,
   "id": "264bc494-aacd-460d-8891-4ecedfe9aa40",
   "metadata": {},
   "outputs": [
    {
     "name": "stdout",
     "output_type": "stream",
     "text": [
      "v1: [2, 5, 4, 7]\n",
      "v2: [2 5 4 7]\n",
      "v3: [[2]\n",
      " [5]\n",
      " [4]\n",
      " [7]]\n",
      "v4: [[2 5 4 7]]\n"
     ]
    }
   ],
   "source": [
    "v1 = [2,5,4,7]\n",
    "v2 = np.array([2,5,4,7])\n",
    "v3 = np.array([[2],[5],[4],[7]]) # col. vector\n",
    "v4 = np.array([[2,5,4,7]]) # row vector\n",
    "print(f\"v1: {v1}\\nv2: {v2}\\nv3: {v3}\\nv4: {v4}\")\n",
    "              "
   ]
  },
  {
   "cell_type": "markdown",
   "id": "21728bae-bade-48b6-a4e3-2bfd1afaafc6",
   "metadata": {},
   "source": [
    "## Transpose"
   ]
  },
  {
   "cell_type": "code",
   "execution_count": 5,
   "id": "a9dfa816-11d3-4126-af6c-193d78119540",
   "metadata": {},
   "outputs": [
    {
     "name": "stdout",
     "output_type": "stream",
     "text": [
      "v1: [[2 5 4 7]]\n",
      "v2: [[2]\n",
      " [5]\n",
      " [4]\n",
      " [7]]\n"
     ]
    }
   ],
   "source": [
    "v1 = np.array([ [ 2,5, 4, 7]])# row vector\n",
    "v2 = v1.T # col. vector\n",
    "print(f\"v1: {v1}\\nv2: {v2}\")"
   ]
  },
  {
   "cell_type": "code",
   "execution_count": 21,
   "id": "f81d7304-c3d0-4828-8034-e009d47bda93",
   "metadata": {},
   "outputs": [
    {
     "data": {
      "text/plain": [
       "(-20.0, 20.0, -20.0, 20.0)"
      ]
     },
     "execution_count": 21,
     "metadata": {},
     "output_type": "execute_result"
    },
    {
     "data": {
      "image/png": "[encoded data removed]",
      "text/plain": [
       "<Figure size 432x288 with 1 Axes>"
      ]
     },
     "metadata": {
      "needs_background": "light"
     },
     "output_type": "display_data"
    }
   ],
   "source": [
    "rand_scalar = np.random.randint(4, 10, 10)\n",
    "\n",
    "v = np.array([1, 2])\n",
    "for scalar in rand_scalar:\n",
    "    v_scaled = scalar * v\n",
    "    plt.plot([0,v_scaled[0]],[0,v_scaled[1]])\n",
    "plt.axis([-20,20,-20,20])"
   ]
  },
  {
   "cell_type": "markdown",
   "id": "10e5f0bf-57ed-4fe7-be00-038287f950b1",
   "metadata": {},
   "source": [
    "## Dot product"
   ]
  },
  {
   "cell_type": "code",
   "execution_count": 23,
   "id": "6ac9e0c0-405d-437c-9fe9-9fa242d9fbc4",
   "metadata": {},
   "outputs": [
    {
     "data": {
      "text/plain": [
       "27"
      ]
     },
     "execution_count": 23,
     "metadata": {},
     "output_type": "execute_result"
    }
   ],
   "source": [
    "v1 = np.array([2, 5, 4, 7]);\n",
    "v2 = np.array([4, 1, 0, 2]);\n",
    "dp = np.dot(v1, v2)\n",
    "dp"
   ]
  },
  {
   "cell_type": "markdown",
   "id": "074d385a-9ea5-4f31-a17a-a1272249c04a",
   "metadata": {},
   "source": [
    "## Linear Weighted Combination"
   ]
  },
  {
   "cell_type": "code",
   "execution_count": 24,
   "id": "742390f8-baa7-4107-8b36-eef546ffdd2c",
   "metadata": {},
   "outputs": [
    {
     "data": {
      "text/plain": [
       "array([-7, -4,  3])"
      ]
     },
     "execution_count": 24,
     "metadata": {},
     "output_type": "execute_result"
    }
   ],
   "source": [
    "l1 = 1\n",
    "l2 = 2\n",
    "l3 = -3\n",
    "\n",
    "v1= np.array([4, 5,1])\n",
    "v2 = np.array([-4, 0, 4])\n",
    "v3 = np.array([1,3,2])\n",
    "\n",
    "l1*v1 + l2*v2 + l3*v3"
   ]
  },
  {
   "cell_type": "markdown",
   "id": "af8e0a16-5b0b-4d4f-9048-659d5146a383",
   "metadata": {},
   "source": [
    "### Outer Product"
   ]
  },
  {
   "cell_type": "code",
   "execution_count": 25,
   "id": "1cb56cf8-4f27-4c7a-9cae-eff9790d77d9",
   "metadata": {},
   "outputs": [
    {
     "data": {
      "text/org": [
       "|    |   0 |   1 |   2 |   3 |\n",
       "|----+-----+-----+-----+-----|\n",
       "|  0 |   8 |   2 |   0 |   4 |\n",
       "|  1 |  20 |   5 |   0 |  10 |\n",
       "|  2 |  16 |   4 |   0 |   8 |\n",
       "|  3 |  28 |   7 |   0 |  14 |"
      ],
      "text/plain": [
       "array([[ 8,  2,  0,  4],\n",
       "       [20,  5,  0, 10],\n",
       "       [16,  4,  0,  8],\n",
       "       [28,  7,  0, 14]])"
      ]
     },
     "execution_count": 25,
     "metadata": {},
     "output_type": "execute_result"
    }
   ],
   "source": [
    "v1 = np.array([2, 5, 4, 7])\n",
    "v2 = np.array([4, 1, 0 ,2 ])\n",
    "op = np.outer(v1, v2)\n",
    "op"
   ]
  },
  {
   "cell_type": "markdown",
   "id": "395e00c9-3036-4bcd-a750-9545fe920f8e",
   "metadata": {},
   "source": [
    "### Hadamard Vector Product"
   ]
  },
  {
   "cell_type": "code",
   "execution_count": 26,
   "id": "590400ab-9ceb-4776-9948-3bd0fbbd8441",
   "metadata": {},
   "outputs": [
    {
     "data": {
      "text/plain": [
       "array([ 8,  5,  0, 14])"
      ]
     },
     "execution_count": 26,
     "metadata": {},
     "output_type": "execute_result"
    }
   ],
   "source": [
    "v1 = np.array([2, 5, 4, 7])\n",
    "v2 = np.array([4, 1, 0, 2])\n",
    "v3 = v1 * v2\n",
    "v3"
   ]
  },
  {
   "cell_type": "markdown",
   "id": "58e930d7-da3a-4743-ae35-e54204a74bc7",
   "metadata": {},
   "source": [
    "### Unit Vector"
   ]
  },
  {
   "cell_type": "code",
   "execution_count": 28,
   "id": "03c8220f-f36e-4602-949e-2f73870abfc2",
   "metadata": {},
   "outputs": [
    {
     "data": {
      "text/plain": [
       "array([0.20628425, 0.51571062, 0.4125685 , 0.72199487])"
      ]
     },
     "execution_count": 28,
     "metadata": {},
     "output_type": "execute_result"
    }
   ],
   "source": [
    "v = np.array([2, 5, 4, 7])\n",
    "vMag = np.linalg.norm(v)\n",
    "v_unit = v / vMag\n",
    "v_unit"
   ]
  },
  {
   "cell_type": "code",
   "execution_count": 31,
   "id": "6191c4e9-aed3-4dc2-9189-cec870be4419",
   "metadata": {},
   "outputs": [],
   "source": [
    "rng = default_rng()\n"
   ]
  },
  {
   "cell_type": "code",
   "execution_count": 34,
   "id": "2a5411a2-5c89-450f-8586-093cf33901da",
   "metadata": {},
   "outputs": [
    {
     "data": {
      "text/plain": [
       "rng.__class__\n",
       "rng.__delattr__\n",
       "rng.__dir__\n",
       "rng.__doc__\n",
       "rng.__eq__\n",
       "rng.__format__\n",
       "rng.__ge__\n",
       "rng.__getattribute__\n",
       "rng.__getstate__\n",
       "rng.__gt__\n",
       "rng.__hash__\n",
       "rng.__init__\n",
       "rng.__init_subclass__\n",
       "rng.__le__\n",
       "rng.__lt__\n",
       "rng.__ne__\n",
       "rng.__new__\n",
       "rng.__reduce__\n",
       "rng.__reduce_ex__\n",
       "rng.__repr__\n",
       "rng.__setattr__\n",
       "rng.__setstate__\n",
       "rng.__sizeof__\n",
       "rng.__str__\n",
       "rng.__subclasshook__\n",
       "rng.beta\n",
       "rng.binomial\n",
       "rng.bit_generator\n",
       "rng.bytes\n",
       "rng.chisquare\n",
       "rng.choice\n",
       "rng.dirichlet\n",
       "rng.exponential\n",
       "rng.f\n",
       "rng.gamma\n",
       "rng.geometric\n",
       "rng.gumbel\n",
       "rng.hypergeometric\n",
       "rng.integers\n",
       "rng.laplace\n",
       "rng.logistic\n",
       "rng.lognormal\n",
       "rng.logseries\n",
       "rng.multinomial\n",
       "rng.multivariate_hypergeometric\n",
       "rng.multivariate_normal\n",
       "rng.negative_binomial\n",
       "rng.noncentral_chisquare\n",
       "rng.noncentral_f\n",
       "rng.normal\n",
       "rng.pareto\n",
       "rng.permutation\n",
       "rng.permuted\n",
       "rng.poisson\n",
       "rng.power\n",
       "rng.random\n",
       "rng.rayleigh\n",
       "rng.shuffle\n",
       "rng.standard_cauchy\n",
       "rng.standard_exponential\n",
       "rng.standard_gamma\n",
       "rng.standard_normal\n",
       "rng.standard_t\n",
       "rng.triangular\n",
       "rng.uniform\n",
       "rng.vonmises\n",
       "rng.wald\n",
       "rng.weibull\n",
       "rng.zipf"
      ]
     },
     "metadata": {},
     "output_type": "display_data"
    }
   ],
   "source": [
    "?rng.*"
   ]
  },
  {
   "cell_type": "code",
   "execution_count": null,
   "id": "ebbf23e1-53bf-492a-8012-712c6537c26e",
   "metadata": {},
   "outputs": [],
   "source": []
  }
 ],
 "metadata": {
  "kernelspec": {
   "display_name": "Python 3 (ipykernel)",
   "language": "python",
   "name": "python3"
  },
  "language_info": {
   "codemirror_mode": {
    "name": "ipython",
    "version": 3
   },
   "file_extension": ".py",
   "mimetype": "text/x-python",
   "name": "python",
   "nbconvert_exporter": "python",
   "pygments_lexer": "ipython3",
   "version": "3.9.7"
  }
 },
 "nbformat": 4,
 "nbformat_minor": 5
}
