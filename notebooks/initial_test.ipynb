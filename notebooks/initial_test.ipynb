{
 "cells": [
  {
   "cell_type": "code",
   "execution_count": 10,
   "id": "d8d9011b",
   "metadata": {},
   "outputs": [],
   "source": [
    "import matplotlib.pyplot as plt\n",
    "import numpy as np\n",
    "import pandas as pd"
   ]
  },
  {
   "cell_type": "code",
   "execution_count": 3,
   "id": "b200dd9d",
   "metadata": {},
   "outputs": [],
   "source": [
    "df = pd.read_csv(\"../r_ts_analysis/analytics/df_res_hourly.csv\")"
   ]
  },
  {
   "cell_type": "code",
   "execution_count": 4,
   "id": "7c8e7f29",
   "metadata": {},
   "outputs": [
    {
     "data": {
      "text/html": [
       "<div>\n",
       "<style scoped>\n",
       "    .dataframe tbody tr th:only-of-type {\n",
       "        vertical-align: middle;\n",
       "    }\n",
       "\n",
       "    .dataframe tbody tr th {\n",
       "        vertical-align: top;\n",
       "    }\n",
       "\n",
       "    .dataframe thead th {\n",
       "        text-align: right;\n",
       "    }\n",
       "</style>\n",
       "<table border=\"1\" class=\"dataframe\">\n",
       "  <thead>\n",
       "    <tr style=\"text-align: right;\">\n",
       "      <th></th>\n",
       "      <th>Unnamed: 0</th>\n",
       "      <th>qry</th>\n",
       "      <th>tmpl</th>\n",
       "      <th>qry_len</th>\n",
       "      <th>tmpl_len</th>\n",
       "      <th>dist</th>\n",
       "      <th>ndist</th>\n",
       "    </tr>\n",
       "  </thead>\n",
       "  <tbody>\n",
       "    <tr>\n",
       "      <th>0</th>\n",
       "      <td>1</td>\n",
       "      <td>H1</td>\n",
       "      <td>H2</td>\n",
       "      <td>700</td>\n",
       "      <td>700</td>\n",
       "      <td>1793268.0</td>\n",
       "      <td>1280.905714</td>\n",
       "    </tr>\n",
       "    <tr>\n",
       "      <th>1</th>\n",
       "      <td>2</td>\n",
       "      <td>H1</td>\n",
       "      <td>H3</td>\n",
       "      <td>700</td>\n",
       "      <td>700</td>\n",
       "      <td>440842.0</td>\n",
       "      <td>314.887143</td>\n",
       "    </tr>\n",
       "    <tr>\n",
       "      <th>2</th>\n",
       "      <td>3</td>\n",
       "      <td>H1</td>\n",
       "      <td>H4</td>\n",
       "      <td>700</td>\n",
       "      <td>700</td>\n",
       "      <td>4314830.0</td>\n",
       "      <td>3082.021429</td>\n",
       "    </tr>\n",
       "    <tr>\n",
       "      <th>3</th>\n",
       "      <td>4</td>\n",
       "      <td>H1</td>\n",
       "      <td>H5</td>\n",
       "      <td>700</td>\n",
       "      <td>700</td>\n",
       "      <td>1633353.0</td>\n",
       "      <td>1166.680714</td>\n",
       "    </tr>\n",
       "    <tr>\n",
       "      <th>4</th>\n",
       "      <td>5</td>\n",
       "      <td>H1</td>\n",
       "      <td>H6</td>\n",
       "      <td>700</td>\n",
       "      <td>700</td>\n",
       "      <td>6416489.0</td>\n",
       "      <td>4583.206429</td>\n",
       "    </tr>\n",
       "  </tbody>\n",
       "</table>\n",
       "</div>"
      ],
      "text/org": [
       "|    |   Unnamed: 0 | qry   | tmpl   |   qry_len |   tmpl_len |             dist |    ndist |\n",
       "|----+--------------+-------+--------+-----------+------------+------------------+----------|\n",
       "|  0 |            1 | H1    | H2     |       700 |        700 |      1.79327e+06 | 1280.91  |\n",
       "|  1 |            2 | H1    | H3     |       700 |        700 | 440842           |  314.887 |\n",
       "|  2 |            3 | H1    | H4     |       700 |        700 |      4.31483e+06 | 3082.02  |\n",
       "|  3 |            4 | H1    | H5     |       700 |        700 |      1.63335e+06 | 1166.68  |\n",
       "|  4 |            5 | H1    | H6     |       700 |        700 |      6.41649e+06 | 4583.21  |"
      ],
      "text/plain": [
       "   Unnamed: 0 qry tmpl  qry_len  tmpl_len       dist        ndist\n",
       "0           1  H1   H2      700       700  1793268.0  1280.905714\n",
       "1           2  H1   H3      700       700   440842.0   314.887143\n",
       "2           3  H1   H4      700       700  4314830.0  3082.021429\n",
       "3           4  H1   H5      700       700  1633353.0  1166.680714\n",
       "4           5  H1   H6      700       700  6416489.0  4583.206429"
      ]
     },
     "execution_count": 4,
     "metadata": {},
     "output_type": "execute_result"
    }
   ],
   "source": [
    "df.head()"
   ]
  },
  {
   "cell_type": "code",
   "execution_count": 9,
   "id": "356f3589",
   "metadata": {},
   "outputs": [
    {
     "data": {
      "text/org": [
       "|    | 0                                                                        | 1                                                                              | 2                                                                              | 3                                                                             | 4                                                                              | 5                                                                              | 6                                                                    | 7                                                                    | 8                                                                    | 9                                                                   | 10                                                                   | 11                                                                   | 12                                                                   | 13                                                                   | 14                                                                   | 15                                                                   | 16                                                                   | 17                                                                   | 18                                                                             | 19                                                                             | 20                                                                             | 21                                                                   | 22                                                                            | 23                                                                             | 24                                                                             | 25                                                                             | 26                                                                             | 27                                                                   | 28                                                                   | 29                                                                             |\n",
       "|----+--------------------------------------------------------------------------+--------------------------------------------------------------------------------+--------------------------------------------------------------------------------+-------------------------------------------------------------------------------+--------------------------------------------------------------------------------+--------------------------------------------------------------------------------+----------------------------------------------------------------------+----------------------------------------------------------------------+----------------------------------------------------------------------+---------------------------------------------------------------------+----------------------------------------------------------------------+----------------------------------------------------------------------+----------------------------------------------------------------------+----------------------------------------------------------------------+----------------------------------------------------------------------+----------------------------------------------------------------------+----------------------------------------------------------------------+----------------------------------------------------------------------+--------------------------------------------------------------------------------+--------------------------------------------------------------------------------+--------------------------------------------------------------------------------+----------------------------------------------------------------------+-------------------------------------------------------------------------------+--------------------------------------------------------------------------------+--------------------------------------------------------------------------------+--------------------------------------------------------------------------------+--------------------------------------------------------------------------------+----------------------------------------------------------------------+----------------------------------------------------------------------+--------------------------------------------------------------------------------|\n",
       "|  0 | 3.641115017656872e-08                                                    | 3.4329803392942207e-09                                                         | 8.817161195553819e-10                                                          | 1.0828964172567502e-10                                                        | 7.366676086200736e-10                                                          | 4.868066462897318e-10                                                          | 0.0                                                                  | 0.0                                                                  | 0.0                                                                  | 0.0                                                                 | 0.0                                                                  | 0.0                                                                  | 0.0                                                                  | 0.0                                                                  | 0.0                                                                  | 0.0                                                                  | 0.0                                                                  | 0.0                                                                  | 1.4902244274175462e-12                                                         | 3.9739318064467905e-12                                                         | 1.4902244274175462e-12                                                         | 0.0                                                                  | 2.9804488548350848e-12                                                        | 1.3908761322563801e-11                                                         | 1.1921795419340399e-11                                                         | 9.09036900724701e-11                                                           | 3.924257658866195e-11                                                          | 0.0                                                                  | 0.0                                                                  | 2.4340332314486527e-10                                                         |\n",
       "|  1 | 196.599999999999                                                         | 23547933.763333                                                                | 47095670.926666                                                                | 70643408.08999899                                                             | 94191145.25333199                                                              | 117738882.41666499                                                             | 141286619.579998                                                     | 164834356.743331                                                     | 188382093.90666398                                                   | 211929831.06999698                                                  | 235477568.23332998                                                   | 259025305.39666298                                                   | 282573042.559996                                                     | 306120779.723329                                                     | 329668516.886662                                                     | 353216254.049995                                                     | 376763991.213328                                                     | 400311728.376661                                                     | 423859465.539994                                                               | 447407202.703327                                                               | 470954939.86666                                                                | 494502677.029993                                                     | 518050414.193326                                                              | 541598151.356659                                                               | 565145888.519992                                                               | 588693625.6833249                                                              | 612241362.846658                                                               | 635789100.009991                                                     | 659336837.173324                                                     | 682884574.3366569                                                              |\n",
       "|  2 | Rectangle(xy=(196.6, 0), width=2.35477e+07, height=3.64112e-08, angle=0) | Rectangle(xy=(2.35479e+07, 0), width=2.35477e+07, height=3.43298e-09, angle=0) | Rectangle(xy=(4.70957e+07, 0), width=2.35477e+07, height=8.81716e-10, angle=0) | Rectangle(xy=(7.06434e+07, 0), width=2.35477e+07, height=1.0829e-10, angle=0) | Rectangle(xy=(9.41911e+07, 0), width=2.35477e+07, height=7.36668e-10, angle=0) | Rectangle(xy=(1.17739e+08, 0), width=2.35477e+07, height=4.86807e-10, angle=0) | Rectangle(xy=(1.41287e+08, 0), width=2.35477e+07, height=0, angle=0) | Rectangle(xy=(1.64834e+08, 0), width=2.35477e+07, height=0, angle=0) | Rectangle(xy=(1.88382e+08, 0), width=2.35477e+07, height=0, angle=0) | Rectangle(xy=(2.1193e+08, 0), width=2.35477e+07, height=0, angle=0) | Rectangle(xy=(2.35478e+08, 0), width=2.35477e+07, height=0, angle=0) | Rectangle(xy=(2.59025e+08, 0), width=2.35477e+07, height=0, angle=0) | Rectangle(xy=(2.82573e+08, 0), width=2.35477e+07, height=0, angle=0) | Rectangle(xy=(3.06121e+08, 0), width=2.35477e+07, height=0, angle=0) | Rectangle(xy=(3.29669e+08, 0), width=2.35477e+07, height=0, angle=0) | Rectangle(xy=(3.53216e+08, 0), width=2.35477e+07, height=0, angle=0) | Rectangle(xy=(3.76764e+08, 0), width=2.35477e+07, height=0, angle=0) | Rectangle(xy=(4.00312e+08, 0), width=2.35477e+07, height=0, angle=0) | Rectangle(xy=(4.23859e+08, 0), width=2.35477e+07, height=1.49022e-12, angle=0) | Rectangle(xy=(4.47407e+08, 0), width=2.35477e+07, height=3.97393e-12, angle=0) | Rectangle(xy=(4.70955e+08, 0), width=2.35477e+07, height=1.49022e-12, angle=0) | Rectangle(xy=(4.94503e+08, 0), width=2.35477e+07, height=0, angle=0) | Rectangle(xy=(5.1805e+08, 0), width=2.35477e+07, height=2.98045e-12, angle=0) | Rectangle(xy=(5.41598e+08, 0), width=2.35477e+07, height=1.39088e-11, angle=0) | Rectangle(xy=(5.65146e+08, 0), width=2.35477e+07, height=1.19218e-11, angle=0) | Rectangle(xy=(5.88694e+08, 0), width=2.35477e+07, height=9.09037e-11, angle=0) | Rectangle(xy=(6.12241e+08, 0), width=2.35477e+07, height=3.92426e-11, angle=0) | Rectangle(xy=(6.35789e+08, 0), width=2.35477e+07, height=0, angle=0) | Rectangle(xy=(6.59337e+08, 0), width=2.35477e+07, height=0, angle=0) | Rectangle(xy=(6.82885e+08, 0), width=2.35477e+07, height=2.43403e-10, angle=0) |"
      ],
      "text/plain": [
       "(array([3.64111502e-08, 3.43298034e-09, 8.81716120e-10, 1.08289642e-10,\n",
       "        7.36667609e-10, 4.86806646e-10, 0.00000000e+00, 0.00000000e+00,\n",
       "        0.00000000e+00, 0.00000000e+00, 0.00000000e+00, 0.00000000e+00,\n",
       "        0.00000000e+00, 0.00000000e+00, 0.00000000e+00, 0.00000000e+00,\n",
       "        0.00000000e+00, 0.00000000e+00, 1.49022443e-12, 3.97393181e-12,\n",
       "        1.49022443e-12, 0.00000000e+00, 2.98044885e-12, 1.39087613e-11,\n",
       "        1.19217954e-11, 9.09036901e-11, 3.92425766e-11, 0.00000000e+00,\n",
       "        0.00000000e+00, 2.43403323e-10]),\n",
       " array([1.96600000e+02, 2.35479338e+07, 4.70956709e+07, 7.06434081e+07,\n",
       "        9.41911453e+07, 1.17738882e+08, 1.41286620e+08, 1.64834357e+08,\n",
       "        1.88382094e+08, 2.11929831e+08, 2.35477568e+08, 2.59025305e+08,\n",
       "        2.82573043e+08, 3.06120780e+08, 3.29668517e+08, 3.53216254e+08,\n",
       "        3.76763991e+08, 4.00311728e+08, 4.23859466e+08, 4.47407203e+08,\n",
       "        4.70954940e+08, 4.94502677e+08, 5.18050414e+08, 5.41598151e+08,\n",
       "        5.65145889e+08, 5.88693626e+08, 6.12241363e+08, 6.35789100e+08,\n",
       "        6.59336837e+08, 6.82884574e+08, 7.06432311e+08]),\n",
       " <BarContainer object of 30 artists>)"
      ]
     },
     "execution_count": 9,
     "metadata": {},
     "output_type": "execute_result"
    },
    {
     "data": {
      "image/png": "[encoded data removed]",
      "text/plain": [
       "<Figure size 432x288 with 1 Axes>"
      ]
     },
     "metadata": {
      "needs_background": "light"
     },
     "output_type": "display_data"
    }
   ],
   "source": [
    "plt.hist(df['dist'], density=True, bins=30)"
   ]
  },
  {
   "cell_type": "code",
   "execution_count": 34,
   "id": "021afe67",
   "metadata": {},
   "outputs": [
    {
     "data": {
      "text/html": [
       "<div>\n",
       "<style scoped>\n",
       "    .dataframe tbody tr th:only-of-type {\n",
       "        vertical-align: middle;\n",
       "    }\n",
       "\n",
       "    .dataframe tbody tr th {\n",
       "        vertical-align: top;\n",
       "    }\n",
       "\n",
       "    .dataframe thead th {\n",
       "        text-align: right;\n",
       "    }\n",
       "</style>\n",
       "<table border=\"1\" class=\"dataframe\">\n",
       "  <thead>\n",
       "    <tr style=\"text-align: right;\">\n",
       "      <th></th>\n",
       "      <th>Unnamed: 0</th>\n",
       "      <th>qry</th>\n",
       "      <th>tmpl</th>\n",
       "      <th>qry_len</th>\n",
       "      <th>tmpl_len</th>\n",
       "      <th>dist</th>\n",
       "      <th>ndist</th>\n",
       "    </tr>\n",
       "  </thead>\n",
       "  <tbody>\n",
       "    <tr>\n",
       "      <th>0</th>\n",
       "      <td>1</td>\n",
       "      <td>H1</td>\n",
       "      <td>H2</td>\n",
       "      <td>700</td>\n",
       "      <td>700</td>\n",
       "      <td>1793268.0</td>\n",
       "      <td>1280.905714</td>\n",
       "    </tr>\n",
       "    <tr>\n",
       "      <th>1</th>\n",
       "      <td>2</td>\n",
       "      <td>H1</td>\n",
       "      <td>H3</td>\n",
       "      <td>700</td>\n",
       "      <td>700</td>\n",
       "      <td>440842.0</td>\n",
       "      <td>314.887143</td>\n",
       "    </tr>\n",
       "    <tr>\n",
       "      <th>2</th>\n",
       "      <td>3</td>\n",
       "      <td>H1</td>\n",
       "      <td>H4</td>\n",
       "      <td>700</td>\n",
       "      <td>700</td>\n",
       "      <td>4314830.0</td>\n",
       "      <td>3082.021429</td>\n",
       "    </tr>\n",
       "    <tr>\n",
       "      <th>3</th>\n",
       "      <td>4</td>\n",
       "      <td>H1</td>\n",
       "      <td>H5</td>\n",
       "      <td>700</td>\n",
       "      <td>700</td>\n",
       "      <td>1633353.0</td>\n",
       "      <td>1166.680714</td>\n",
       "    </tr>\n",
       "    <tr>\n",
       "      <th>4</th>\n",
       "      <td>5</td>\n",
       "      <td>H1</td>\n",
       "      <td>H6</td>\n",
       "      <td>700</td>\n",
       "      <td>700</td>\n",
       "      <td>6416489.0</td>\n",
       "      <td>4583.206429</td>\n",
       "    </tr>\n",
       "  </tbody>\n",
       "</table>\n",
       "</div>"
      ],
      "text/org": [
       "|    |   Unnamed: 0 | qry   | tmpl   |   qry_len |   tmpl_len |             dist |    ndist |\n",
       "|----+--------------+-------+--------+-----------+------------+------------------+----------|\n",
       "|  0 |            1 | H1    | H2     |       700 |        700 |      1.79327e+06 | 1280.91  |\n",
       "|  1 |            2 | H1    | H3     |       700 |        700 | 440842           |  314.887 |\n",
       "|  2 |            3 | H1    | H4     |       700 |        700 |      4.31483e+06 | 3082.02  |\n",
       "|  3 |            4 | H1    | H5     |       700 |        700 |      1.63335e+06 | 1166.68  |\n",
       "|  4 |            5 | H1    | H6     |       700 |        700 |      6.41649e+06 | 4583.21  |"
      ],
      "text/plain": [
       "   Unnamed: 0 qry tmpl  qry_len  tmpl_len       dist        ndist\n",
       "0           1  H1   H2      700       700  1793268.0  1280.905714\n",
       "1           2  H1   H3      700       700   440842.0   314.887143\n",
       "2           3  H1   H4      700       700  4314830.0  3082.021429\n",
       "3           4  H1   H5      700       700  1633353.0  1166.680714\n",
       "4           5  H1   H6      700       700  6416489.0  4583.206429"
      ]
     },
     "execution_count": 34,
     "metadata": {},
     "output_type": "execute_result"
    }
   ],
   "source": [
    "df.head()"
   ]
  },
  {
   "cell_type": "code",
   "execution_count": 35,
   "id": "66c50d93",
   "metadata": {},
   "outputs": [],
   "source": [
    "df_h1 = df[df['qry']=='H1']"
   ]
  },
  {
   "cell_type": "code",
   "execution_count": 38,
   "id": "8f3993c8",
   "metadata": {},
   "outputs": [
    {
     "data": {
      "text/html": [
       "<div>\n",
       "<style scoped>\n",
       "    .dataframe tbody tr th:only-of-type {\n",
       "        vertical-align: middle;\n",
       "    }\n",
       "\n",
       "    .dataframe tbody tr th {\n",
       "        vertical-align: top;\n",
       "    }\n",
       "\n",
       "    .dataframe thead th {\n",
       "        text-align: right;\n",
       "    }\n",
       "</style>\n",
       "<table border=\"1\" class=\"dataframe\">\n",
       "  <thead>\n",
       "    <tr style=\"text-align: right;\">\n",
       "      <th></th>\n",
       "      <th>Unnamed: 0</th>\n",
       "      <th>qry</th>\n",
       "      <th>tmpl</th>\n",
       "      <th>qry_len</th>\n",
       "      <th>tmpl_len</th>\n",
       "      <th>dist</th>\n",
       "      <th>ndist</th>\n",
       "    </tr>\n",
       "  </thead>\n",
       "  <tbody>\n",
       "    <tr>\n",
       "      <th>408</th>\n",
       "      <td>409</td>\n",
       "      <td>H1</td>\n",
       "      <td>H410</td>\n",
       "      <td>700</td>\n",
       "      <td>960</td>\n",
       "      <td>526520.0</td>\n",
       "      <td>317.180723</td>\n",
       "    </tr>\n",
       "    <tr>\n",
       "      <th>409</th>\n",
       "      <td>410</td>\n",
       "      <td>H1</td>\n",
       "      <td>H411</td>\n",
       "      <td>700</td>\n",
       "      <td>960</td>\n",
       "      <td>504372.0</td>\n",
       "      <td>303.838554</td>\n",
       "    </tr>\n",
       "    <tr>\n",
       "      <th>410</th>\n",
       "      <td>411</td>\n",
       "      <td>H1</td>\n",
       "      <td>H412</td>\n",
       "      <td>700</td>\n",
       "      <td>960</td>\n",
       "      <td>509125.0</td>\n",
       "      <td>306.701807</td>\n",
       "    </tr>\n",
       "    <tr>\n",
       "      <th>411</th>\n",
       "      <td>412</td>\n",
       "      <td>H1</td>\n",
       "      <td>H413</td>\n",
       "      <td>700</td>\n",
       "      <td>960</td>\n",
       "      <td>685679.0</td>\n",
       "      <td>413.059639</td>\n",
       "    </tr>\n",
       "    <tr>\n",
       "      <th>412</th>\n",
       "      <td>413</td>\n",
       "      <td>H1</td>\n",
       "      <td>H414</td>\n",
       "      <td>700</td>\n",
       "      <td>960</td>\n",
       "      <td>430657.0</td>\n",
       "      <td>259.431928</td>\n",
       "    </tr>\n",
       "  </tbody>\n",
       "</table>\n",
       "</div>"
      ],
      "text/org": [
       "|     |   Unnamed: 0 | qry   | tmpl   |   qry_len |   tmpl_len |   dist |   ndist |\n",
       "|-----+--------------+-------+--------+-----------+------------+--------+---------|\n",
       "| 408 |          409 | H1    | H410   |       700 |        960 | 526520 | 317.181 |\n",
       "| 409 |          410 | H1    | H411   |       700 |        960 | 504372 | 303.839 |\n",
       "| 410 |          411 | H1    | H412   |       700 |        960 | 509125 | 306.702 |\n",
       "| 411 |          412 | H1    | H413   |       700 |        960 | 685679 | 413.06  |\n",
       "| 412 |          413 | H1    | H414   |       700 |        960 | 430657 | 259.432 |"
      ],
      "text/plain": [
       "     Unnamed: 0 qry  tmpl  qry_len  tmpl_len      dist       ndist\n",
       "408         409  H1  H410      700       960  526520.0  317.180723\n",
       "409         410  H1  H411      700       960  504372.0  303.838554\n",
       "410         411  H1  H412      700       960  509125.0  306.701807\n",
       "411         412  H1  H413      700       960  685679.0  413.059639\n",
       "412         413  H1  H414      700       960  430657.0  259.431928"
      ]
     },
     "execution_count": 38,
     "metadata": {},
     "output_type": "execute_result"
    }
   ],
   "source": [
    "df_h1.tail()"
   ]
  },
  {
   "cell_type": "code",
   "execution_count": 39,
   "id": "222b3775",
   "metadata": {},
   "outputs": [
    {
     "data": {
      "text/org": [
       "|    | 0                                                                       | 1                                                                             | 2                                                                              | 3                                                                    | 4                                                                             | 5                                                                              | 6                                                                    | 7                                                                    | 8                                                                    | 9                                                                    | 10                                                                   | 11                                                                   | 12                                                                   | 13                                                                   | 14                                                                   | 15                                                                   | 16                                                                   | 17                                                                   | 18                                                                   | 19                                                                   | 20                                                                   | 21                                                                   | 22                                                                   | 23                                                                   | 24                                                                   | 25                                                                   | 26                                                                   | 27                                                                   | 28                                                                   | 29                                                                             |\n",
       "|----+-------------------------------------------------------------------------+-------------------------------------------------------------------------------+--------------------------------------------------------------------------------+----------------------------------------------------------------------+-------------------------------------------------------------------------------+--------------------------------------------------------------------------------+----------------------------------------------------------------------+----------------------------------------------------------------------+----------------------------------------------------------------------+----------------------------------------------------------------------+----------------------------------------------------------------------+----------------------------------------------------------------------+----------------------------------------------------------------------+----------------------------------------------------------------------+----------------------------------------------------------------------+----------------------------------------------------------------------+----------------------------------------------------------------------+----------------------------------------------------------------------+----------------------------------------------------------------------+----------------------------------------------------------------------+----------------------------------------------------------------------+----------------------------------------------------------------------+----------------------------------------------------------------------+----------------------------------------------------------------------+----------------------------------------------------------------------+----------------------------------------------------------------------+----------------------------------------------------------------------+----------------------------------------------------------------------+----------------------------------------------------------------------+--------------------------------------------------------------------------------|\n",
       "|  0 | 4.4986971667818357e-08                                                  | 2.249348583390918e-09                                                         | 5.919338377344521e-10                                                          | 0.0                                                                  | 3.5516030264067136e-10                                                        | 4.735470701875614e-10                                                          | 0.0                                                                  | 0.0                                                                  | 0.0                                                                  | 0.0                                                                  | 0.0                                                                  | 0.0                                                                  | 0.0                                                                  | 0.0                                                                  | 0.0                                                                  | 0.0                                                                  | 0.0                                                                  | 0.0                                                                  | 0.0                                                                  | 0.0                                                                  | 0.0                                                                  | 0.0                                                                  | 0.0                                                                  | 0.0                                                                  | 0.0                                                                  | 0.0                                                                  | 0.0                                                                  | 0.0                                                                  | 0.0                                                                  | 2.3677353509378194e-10                                                         |\n",
       "|  1 | 38529.0                                                                 | 20491047.1                                                                    | 40943565.2                                                                     | 61396083.300000004                                                   | 81848601.4                                                                    | 102301119.5                                                                    | 122753637.60000001                                                   | 143206155.70000002                                                   | 163658673.8                                                          | 184111191.9                                                          | 204563710.0                                                          | 225016228.10000002                                                   | 245468746.20000002                                                   | 265921264.3                                                          | 286373782.40000004                                                   | 306826300.5                                                          | 327278818.6                                                          | 347731336.70000005                                                   | 368183854.8                                                          | 388636372.90000004                                                   | 409088891.0                                                          | 429541409.1                                                          | 449993927.20000005                                                   | 470446445.3                                                          | 490898963.40000004                                                   | 511351481.50000006                                                   | 531803999.6                                                          | 552256517.7                                                          | 572709035.8000001                                                    | 593161553.9000001                                                              |\n",
       "|  2 | Rectangle(xy=(38529, 0), width=2.04525e+07, height=4.4987e-08, angle=0) | Rectangle(xy=(2.0491e+07, 0), width=2.04525e+07, height=2.24935e-09, angle=0) | Rectangle(xy=(4.09436e+07, 0), width=2.04525e+07, height=5.91934e-10, angle=0) | Rectangle(xy=(6.13961e+07, 0), width=2.04525e+07, height=0, angle=0) | Rectangle(xy=(8.18486e+07, 0), width=2.04525e+07, height=3.5516e-10, angle=0) | Rectangle(xy=(1.02301e+08, 0), width=2.04525e+07, height=4.73547e-10, angle=0) | Rectangle(xy=(1.22754e+08, 0), width=2.04525e+07, height=0, angle=0) | Rectangle(xy=(1.43206e+08, 0), width=2.04525e+07, height=0, angle=0) | Rectangle(xy=(1.63659e+08, 0), width=2.04525e+07, height=0, angle=0) | Rectangle(xy=(1.84111e+08, 0), width=2.04525e+07, height=0, angle=0) | Rectangle(xy=(2.04564e+08, 0), width=2.04525e+07, height=0, angle=0) | Rectangle(xy=(2.25016e+08, 0), width=2.04525e+07, height=0, angle=0) | Rectangle(xy=(2.45469e+08, 0), width=2.04525e+07, height=0, angle=0) | Rectangle(xy=(2.65921e+08, 0), width=2.04525e+07, height=0, angle=0) | Rectangle(xy=(2.86374e+08, 0), width=2.04525e+07, height=0, angle=0) | Rectangle(xy=(3.06826e+08, 0), width=2.04525e+07, height=0, angle=0) | Rectangle(xy=(3.27279e+08, 0), width=2.04525e+07, height=0, angle=0) | Rectangle(xy=(3.47731e+08, 0), width=2.04525e+07, height=0, angle=0) | Rectangle(xy=(3.68184e+08, 0), width=2.04525e+07, height=0, angle=0) | Rectangle(xy=(3.88636e+08, 0), width=2.04525e+07, height=0, angle=0) | Rectangle(xy=(4.09089e+08, 0), width=2.04525e+07, height=0, angle=0) | Rectangle(xy=(4.29541e+08, 0), width=2.04525e+07, height=0, angle=0) | Rectangle(xy=(4.49994e+08, 0), width=2.04525e+07, height=0, angle=0) | Rectangle(xy=(4.70446e+08, 0), width=2.04525e+07, height=0, angle=0) | Rectangle(xy=(4.90899e+08, 0), width=2.04525e+07, height=0, angle=0) | Rectangle(xy=(5.11351e+08, 0), width=2.04525e+07, height=0, angle=0) | Rectangle(xy=(5.31804e+08, 0), width=2.04525e+07, height=0, angle=0) | Rectangle(xy=(5.52257e+08, 0), width=2.04525e+07, height=0, angle=0) | Rectangle(xy=(5.72709e+08, 0), width=2.04525e+07, height=0, angle=0) | Rectangle(xy=(5.93162e+08, 0), width=2.04525e+07, height=2.36774e-10, angle=0) |"
      ],
      "text/plain": [
       "(array([4.49869717e-08, 2.24934858e-09, 5.91933838e-10, 0.00000000e+00,\n",
       "        3.55160303e-10, 4.73547070e-10, 0.00000000e+00, 0.00000000e+00,\n",
       "        0.00000000e+00, 0.00000000e+00, 0.00000000e+00, 0.00000000e+00,\n",
       "        0.00000000e+00, 0.00000000e+00, 0.00000000e+00, 0.00000000e+00,\n",
       "        0.00000000e+00, 0.00000000e+00, 0.00000000e+00, 0.00000000e+00,\n",
       "        0.00000000e+00, 0.00000000e+00, 0.00000000e+00, 0.00000000e+00,\n",
       "        0.00000000e+00, 0.00000000e+00, 0.00000000e+00, 0.00000000e+00,\n",
       "        0.00000000e+00, 2.36773535e-10]),\n",
       " array([3.85290000e+04, 2.04910471e+07, 4.09435652e+07, 6.13960833e+07,\n",
       "        8.18486014e+07, 1.02301120e+08, 1.22753638e+08, 1.43206156e+08,\n",
       "        1.63658674e+08, 1.84111192e+08, 2.04563710e+08, 2.25016228e+08,\n",
       "        2.45468746e+08, 2.65921264e+08, 2.86373782e+08, 3.06826300e+08,\n",
       "        3.27278819e+08, 3.47731337e+08, 3.68183855e+08, 3.88636373e+08,\n",
       "        4.09088891e+08, 4.29541409e+08, 4.49993927e+08, 4.70446445e+08,\n",
       "        4.90898963e+08, 5.11351482e+08, 5.31804000e+08, 5.52256518e+08,\n",
       "        5.72709036e+08, 5.93161554e+08, 6.13614072e+08]),\n",
       " <BarContainer object of 30 artists>)"
      ]
     },
     "execution_count": 39,
     "metadata": {},
     "output_type": "execute_result"
    },
    {
     "data": {
      "image/png": "[encoded data removed]",
      "text/plain": [
       "<Figure size 432x288 with 1 Axes>"
      ]
     },
     "metadata": {
      "needs_background": "light"
     },
     "output_type": "display_data"
    }
   ],
   "source": [
    "plt.hist(df_h1['dist'], density=True, bins=30)"
   ]
  },
  {
   "cell_type": "code",
   "execution_count": 40,
   "id": "9385fc13",
   "metadata": {},
   "outputs": [
    {
     "data": {
      "text/plain": [
       "Unnamed: 0       207.000000\n",
       "qry_len          700.000000\n",
       "tmpl_len         960.000000\n",
       "dist          746432.400000\n",
       "ndist            450.017349\n",
       "dtype: float64"
      ]
     },
     "execution_count": 40,
     "metadata": {},
     "output_type": "execute_result"
    }
   ],
   "source": [
    "df_h1.median()"
   ]
  },
  {
   "cell_type": "code",
   "execution_count": 41,
   "id": "c871bdb7",
   "metadata": {},
   "outputs": [
    {
     "data": {
      "text/plain": [
       "Unnamed: 0              413\n",
       "qry                      H1\n",
       "tmpl                    H99\n",
       "qry_len                 700\n",
       "tmpl_len                960\n",
       "dist            613614072.0\n",
       "ndist         438295.765714\n",
       "dtype: object"
      ]
     },
     "execution_count": 41,
     "metadata": {},
     "output_type": "execute_result"
    }
   ],
   "source": [
    "df_h1.max()"
   ]
  },
  {
   "cell_type": "code",
   "execution_count": 44,
   "id": "f880beef",
   "metadata": {},
   "outputs": [
    {
     "data": {
      "text/plain": [
       "613614072.0"
      ]
     },
     "execution_count": 44,
     "metadata": {},
     "output_type": "execute_result"
    }
   ],
   "source": [
    "6.13614072*1e8"
   ]
  },
  {
   "cell_type": "code",
   "execution_count": null,
   "id": "548eaa3b",
   "metadata": {},
   "outputs": [],
   "source": []
  }
 ],
 "metadata": {
  "kernelspec": {
   "display_name": "Python 3",
   "language": "python",
   "name": "python3"
  },
  "language_info": {
   "codemirror_mode": {
    "name": "ipython",
    "version": 3
   },
   "file_extension": ".py",
   "mimetype": "text/x-python",
   "name": "python",
   "nbconvert_exporter": "python",
   "pygments_lexer": "ipython3",
   "version": "3.7.9"
  }
 },
 "nbformat": 4,
 "nbformat_minor": 5
}
