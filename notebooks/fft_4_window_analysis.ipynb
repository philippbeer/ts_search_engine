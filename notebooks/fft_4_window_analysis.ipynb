{
 "cells": [
  {
   "cell_type": "code",
   "execution_count": 1,
   "id": "c5ed894d",
   "metadata": {},
   "outputs": [
    {
     "name": "stdout",
     "output_type": "stream",
     "text": [
      "Importing the dtw module. When using in academic works please cite:\n",
      "  T. Giorgino. Computing and Visualizing Dynamic Time Warping Alignments in R: The dtw Package.\n",
      "  J. Stat. Soft., doi:10.18637/jss.v031.i07.\n",
      "\n"
     ]
    }
   ],
   "source": [
    "from math import ceil\n",
    "from random import choices\n",
    "\n",
    "from dtw import *\n",
    "import matplotlib.pyplot as plt\n",
    "import numpy as np\n",
    "import pandas as pd\n",
    "from tqdm.notebook import tqdm"
   ]
  },
  {
   "cell_type": "code",
   "execution_count": 31,
   "id": "ee6d142c",
   "metadata": {},
   "outputs": [],
   "source": [
    "df = pd.read_csv(\"../data/df_approx_windows.csv\")"
   ]
  },
  {
   "cell_type": "code",
   "execution_count": 4,
   "id": "02e94135",
   "metadata": {},
   "outputs": [
    {
     "data": {
      "text/html": [
       "<div>\n",
       "<style scoped>\n",
       "    .dataframe tbody tr th:only-of-type {\n",
       "        vertical-align: middle;\n",
       "    }\n",
       "\n",
       "    .dataframe tbody tr th {\n",
       "        vertical-align: top;\n",
       "    }\n",
       "\n",
       "    .dataframe thead th {\n",
       "        text-align: right;\n",
       "    }\n",
       "</style>\n",
       "<table border=\"1\" class=\"dataframe\">\n",
       "  <thead>\n",
       "    <tr style=\"text-align: right;\">\n",
       "      <th></th>\n",
       "      <th>ts_name</th>\n",
       "      <th>type</th>\n",
       "      <th>fhat</th>\n",
       "      <th>PSD</th>\n",
       "      <th>freq</th>\n",
       "      <th>freq_apx_idx</th>\n",
       "      <th>freq_apx</th>\n",
       "    </tr>\n",
       "  </thead>\n",
       "  <tbody>\n",
       "    <tr>\n",
       "      <th>0</th>\n",
       "      <td>H101</td>\n",
       "      <td>fft</td>\n",
       "      <td>1.669116e+06</td>\n",
       "      <td>3.979926e+09</td>\n",
       "      <td>0.000000</td>\n",
       "      <td>0</td>\n",
       "      <td>0.000000</td>\n",
       "    </tr>\n",
       "    <tr>\n",
       "      <th>1</th>\n",
       "      <td>H101</td>\n",
       "      <td>fft</td>\n",
       "      <td>6.368073e+03</td>\n",
       "      <td>5.793194e+04</td>\n",
       "      <td>1.428571</td>\n",
       "      <td>119</td>\n",
       "      <td>1.458190</td>\n",
       "    </tr>\n",
       "    <tr>\n",
       "      <th>2</th>\n",
       "      <td>H101</td>\n",
       "      <td>fft</td>\n",
       "      <td>2.309107e+04</td>\n",
       "      <td>7.617110e+05</td>\n",
       "      <td>2.857143</td>\n",
       "      <td>149</td>\n",
       "      <td>2.865581</td>\n",
       "    </tr>\n",
       "    <tr>\n",
       "      <th>3</th>\n",
       "      <td>H101</td>\n",
       "      <td>fft</td>\n",
       "      <td>2.112334e+04</td>\n",
       "      <td>6.374224e+05</td>\n",
       "      <td>4.285714</td>\n",
       "      <td>167</td>\n",
       "      <td>4.297856</td>\n",
       "    </tr>\n",
       "    <tr>\n",
       "      <th>4</th>\n",
       "      <td>H101</td>\n",
       "      <td>fft</td>\n",
       "      <td>9.239087e+03</td>\n",
       "      <td>1.219439e+05</td>\n",
       "      <td>5.714286</td>\n",
       "      <td>180</td>\n",
       "      <td>5.759585</td>\n",
       "    </tr>\n",
       "  </tbody>\n",
       "</table>\n",
       "</div>"
      ],
      "text/org": [
       "|    | ts_name   | type   |            fhat |              PSD |    freq |   freq_apx_idx |   freq_apx |\n",
       "|----+-----------+--------+-----------------+------------------+---------+----------------+------------|\n",
       "|  0 | H101      | fft    |     1.66912e+06 |      3.97993e+09 | 0       |              0 |    0       |\n",
       "|  1 | H101      | fft    |  6368.07        |  57931.9         | 1.42857 |            119 |    1.45819 |\n",
       "|  2 | H101      | fft    | 23091.1         | 761711           | 2.85714 |            149 |    2.86558 |\n",
       "|  3 | H101      | fft    | 21123.3         | 637422           | 4.28571 |            167 |    4.29786 |\n",
       "|  4 | H101      | fft    |  9239.09        | 121944           | 5.71429 |            180 |    5.75959 |"
      ],
      "text/plain": [
       "  ts_name type          fhat           PSD      freq  freq_apx_idx  freq_apx\n",
       "0    H101  fft  1.669116e+06  3.979926e+09  0.000000             0  0.000000\n",
       "1    H101  fft  6.368073e+03  5.793194e+04  1.428571           119  1.458190\n",
       "2    H101  fft  2.309107e+04  7.617110e+05  2.857143           149  2.865581\n",
       "3    H101  fft  2.112334e+04  6.374224e+05  4.285714           167  4.297856\n",
       "4    H101  fft  9.239087e+03  1.219439e+05  5.714286           180  5.759585"
      ]
     },
     "execution_count": 4,
     "metadata": {},
     "output_type": "execute_result"
    }
   ],
   "source": [
    "df.head()"
   ]
  },
  {
   "cell_type": "code",
   "execution_count": 32,
   "id": "4afb84f1",
   "metadata": {},
   "outputs": [
    {
     "data": {
      "application/vnd.jupyter.widget-view+json": {
       "model_id": "2a174a4477c44d5eab42fcfb90b300fd",
       "version_major": 2,
       "version_minor": 0
      },
      "text/plain": [
       "  0%|          | 0/300000 [00:00<?, ?it/s]"
      ]
     },
     "metadata": {},
     "output_type": "display_data"
    }
   ],
   "source": [
    "names = []\n",
    "types = []\n",
    "freqs = []\n",
    "\n",
    "\n",
    "for elm in tqdm(df.groupby(['ts_name', 'type'])):\n",
    "    names.append(elm[0][0])\n",
    "    types.append(elm[0][1])\n",
    "    \n",
    "    df_sub = elm[1]\n",
    "    df_sub.sort_values(\"PSD\", ascending=False, inplace=True)\n",
    "    freqs.append(df_sub[:5]['freq_apx_idx'].to_list())\n",
    "\n",
    "df_reduced = pd.DataFrame({\n",
    "    'ts_name': names,\n",
    "    'type': types,\n",
    "    'freqs': freqs\n",
    "})"
   ]
  },
  {
   "cell_type": "code",
   "execution_count": 33,
   "id": "c430bff8",
   "metadata": {},
   "outputs": [],
   "source": [
    "df_reduced.to_csv(\"../df_top_5_freq_windows.csv\", index=False)"
   ]
  },
  {
   "cell_type": "code",
   "execution_count": 34,
   "id": "40fb392e",
   "metadata": {},
   "outputs": [
    {
     "data": {
      "text/html": [
       "<div>\n",
       "<style scoped>\n",
       "    .dataframe tbody tr th:only-of-type {\n",
       "        vertical-align: middle;\n",
       "    }\n",
       "\n",
       "    .dataframe tbody tr th {\n",
       "        vertical-align: top;\n",
       "    }\n",
       "\n",
       "    .dataframe thead th {\n",
       "        text-align: right;\n",
       "    }\n",
       "</style>\n",
       "<table border=\"1\" class=\"dataframe\">\n",
       "  <thead>\n",
       "    <tr style=\"text-align: right;\">\n",
       "      <th></th>\n",
       "      <th>ts_name</th>\n",
       "      <th>type</th>\n",
       "      <th>freqs</th>\n",
       "    </tr>\n",
       "  </thead>\n",
       "  <tbody>\n",
       "    <tr>\n",
       "      <th>1</th>\n",
       "      <td>D1</td>\n",
       "      <td>Welch</td>\n",
       "      <td>[0, 0, 0, 0, 0]</td>\n",
       "    </tr>\n",
       "    <tr>\n",
       "      <th>4</th>\n",
       "      <td>D10</td>\n",
       "      <td>Welch</td>\n",
       "      <td>[0, 0, 0, 0, 9]</td>\n",
       "    </tr>\n",
       "    <tr>\n",
       "      <th>7</th>\n",
       "      <td>D100</td>\n",
       "      <td>Welch</td>\n",
       "      <td>[0, 0, 0, 0, 0]</td>\n",
       "    </tr>\n",
       "    <tr>\n",
       "      <th>10</th>\n",
       "      <td>D1000</td>\n",
       "      <td>Welch</td>\n",
       "      <td>[0, 0, 0, 0, 0]</td>\n",
       "    </tr>\n",
       "    <tr>\n",
       "      <th>13</th>\n",
       "      <td>D1001</td>\n",
       "      <td>Welch</td>\n",
       "      <td>[0, 0, 0, 0, 0]</td>\n",
       "    </tr>\n",
       "    <tr>\n",
       "      <th>...</th>\n",
       "      <td>...</td>\n",
       "      <td>...</td>\n",
       "      <td>...</td>\n",
       "    </tr>\n",
       "    <tr>\n",
       "      <th>436</th>\n",
       "      <td>D1129</td>\n",
       "      <td>Welch</td>\n",
       "      <td>[0, 0, 0, 0, 0]</td>\n",
       "    </tr>\n",
       "    <tr>\n",
       "      <th>439</th>\n",
       "      <td>D113</td>\n",
       "      <td>Welch</td>\n",
       "      <td>[0, 0, 0, 0, 0]</td>\n",
       "    </tr>\n",
       "    <tr>\n",
       "      <th>442</th>\n",
       "      <td>D1130</td>\n",
       "      <td>Welch</td>\n",
       "      <td>[0, 0, 0, 0, 0]</td>\n",
       "    </tr>\n",
       "    <tr>\n",
       "      <th>445</th>\n",
       "      <td>D1131</td>\n",
       "      <td>Welch</td>\n",
       "      <td>[0, 0, 0, 0, 0]</td>\n",
       "    </tr>\n",
       "    <tr>\n",
       "      <th>448</th>\n",
       "      <td>D1132</td>\n",
       "      <td>Welch</td>\n",
       "      <td>[0, 0, 0, 0, 0]</td>\n",
       "    </tr>\n",
       "  </tbody>\n",
       "</table>\n",
       "<p>150 rows × 3 columns</p>\n",
       "</div>"
      ],
      "text/org": [
       "|     | ts_name   | type   | freqs           |\n",
       "|-----+-----------+--------+-----------------|\n",
       "|   1 | D1        | Welch  | [0, 0, 0, 0, 0] |\n",
       "|   4 | D10       | Welch  | [0, 0, 0, 0, 9] |\n",
       "|   7 | D100      | Welch  | [0, 0, 0, 0, 0] |\n",
       "|  10 | D1000     | Welch  | [0, 0, 0, 0, 0] |\n",
       "|  13 | D1001     | Welch  | [0, 0, 0, 0, 0] |\n",
       "|  16 | D1002     | Welch  | [0, 0, 0, 0, 0] |\n",
       "|  19 | D1003     | Welch  | [0, 0, 0, 0, 0] |\n",
       "|  22 | D1004     | Welch  | [0, 0, 0, 0, 0] |\n",
       "|  25 | D1005     | Welch  | [0, 0, 0, 0, 0] |\n",
       "|  28 | D1006     | Welch  | [0, 0, 0, 0, 0] |\n",
       "|  31 | D1007     | Welch  | [0, 0, 0, 0, 0] |\n",
       "|  34 | D1008     | Welch  | [0, 0, 0, 0, 0] |\n",
       "|  37 | D1009     | Welch  | [0, 0, 0, 0, 0] |\n",
       "|  40 | D101      | Welch  | [0, 0, 0, 0, 0] |\n",
       "|  43 | D1010     | Welch  | [0, 0, 0, 0, 0] |\n",
       "|  46 | D1011     | Welch  | [0, 0, 0, 0, 0] |\n",
       "|  49 | D1012     | Welch  | [0, 0, 0, 0, 0] |\n",
       "|  52 | D1013     | Welch  | [0, 0, 0, 0, 0] |\n",
       "|  55 | D1014     | Welch  | [0, 0, 0, 0, 0] |\n",
       "|  58 | D1015     | Welch  | [0, 0, 0, 0, 0] |\n",
       "|  61 | D1016     | Welch  | [0, 0, 0, 0, 0] |\n",
       "|  64 | D1017     | Welch  | [0, 0, 0, 0, 0] |\n",
       "|  67 | D1018     | Welch  | [0, 0, 0, 0, 0] |\n",
       "|  70 | D1019     | Welch  | [0, 0, 0, 0, 0] |\n",
       "|  73 | D102      | Welch  | [0, 0, 0, 0, 0] |\n",
       "|  76 | D1020     | Welch  | [0, 0, 0, 0, 0] |\n",
       "|  79 | D1021     | Welch  | [0, 0, 0, 0, 0] |\n",
       "|  82 | D1022     | Welch  | [0, 0, 0, 0, 0] |\n",
       "|  85 | D1023     | Welch  | [0, 0, 0, 0, 0] |\n",
       "|  88 | D1024     | Welch  | [0, 0, 0, 0, 0] |\n",
       "|  91 | D1025     | Welch  | [0, 0, 0, 0, 0] |\n",
       "|  94 | D1026     | Welch  | [0, 0, 0, 0, 0] |\n",
       "|  97 | D1027     | Welch  | [0, 0, 0, 0, 0] |\n",
       "| 100 | D1028     | Welch  | [0, 0, 0, 0, 0] |\n",
       "| 103 | D1029     | Welch  | [0, 0, 0, 0, 0] |\n",
       "| 106 | D103      | Welch  | [0, 0, 0, 0, 0] |\n",
       "| 109 | D1030     | Welch  | [0, 0, 0, 0, 0] |\n",
       "| 112 | D1031     | Welch  | [0, 0, 0, 0, 0] |\n",
       "| 115 | D1032     | Welch  | [0, 0, 0, 0, 0] |\n",
       "| 118 | D1033     | Welch  | [0, 0, 0, 0, 0] |\n",
       "| 121 | D1034     | Welch  | [0, 0, 0, 0, 0] |\n",
       "| 124 | D1035     | Welch  | [0, 0, 0, 0, 0] |\n",
       "| 127 | D1036     | Welch  | [0, 0, 0, 0, 0] |\n",
       "| 130 | D1037     | Welch  | [0, 0, 0, 0, 0] |\n",
       "| 133 | D1038     | Welch  | [0, 0, 0, 0, 0] |\n",
       "| 136 | D1039     | Welch  | [0, 0, 0, 0, 0] |\n",
       "| 139 | D104      | Welch  | [0, 0, 0, 0, 0] |\n",
       "| 142 | D1040     | Welch  | [0, 0, 0, 0, 0] |\n",
       "| 145 | D1041     | Welch  | [0, 0, 0, 0, 0] |\n",
       "| 148 | D1042     | Welch  | [0, 0, 0, 0, 0] |\n",
       "| 151 | D1043     | Welch  | [0, 0, 0, 0, 0] |\n",
       "| 154 | D1044     | Welch  | [0, 0, 0, 0, 0] |\n",
       "| 157 | D1045     | Welch  | [0, 0, 0, 0, 0] |\n",
       "| 160 | D1046     | Welch  | [0, 0, 0, 0, 0] |\n",
       "| 163 | D1047     | Welch  | [0, 0, 0, 0, 0] |\n",
       "| 166 | D1048     | Welch  | [0, 0, 0, 0, 0] |\n",
       "| 169 | D1049     | Welch  | [0, 0, 0, 0, 0] |\n",
       "| 172 | D105      | Welch  | [0, 0, 0, 0, 0] |\n",
       "| 175 | D1050     | Welch  | [0, 0, 0, 0, 0] |\n",
       "| 178 | D1051     | Welch  | [0, 0, 0, 0, 0] |\n",
       "| 181 | D1052     | Welch  | [0, 0, 0, 0, 0] |\n",
       "| 184 | D1053     | Welch  | [0, 0, 0, 0, 0] |\n",
       "| 187 | D1054     | Welch  | [0, 0, 0, 0, 0] |\n",
       "| 190 | D1055     | Welch  | [0, 0, 0, 0, 0] |\n",
       "| 193 | D1056     | Welch  | [0, 0, 0, 0, 0] |\n",
       "| 196 | D1057     | Welch  | [0, 0, 0, 0, 0] |\n",
       "| 199 | D1058     | Welch  | [0, 0, 0, 0, 0] |\n",
       "| 202 | D1059     | Welch  | [0, 0, 0, 0, 0] |\n",
       "| 205 | D106      | Welch  | [0, 0, 0, 0, 0] |\n",
       "| 208 | D1060     | Welch  | [0, 0, 0, 0, 0] |\n",
       "| 211 | D1061     | Welch  | [0, 0, 0, 0, 0] |\n",
       "| 214 | D1062     | Welch  | [0, 0, 0, 0, 0] |\n",
       "| 217 | D1063     | Welch  | [0, 0, 0, 0, 0] |\n",
       "| 220 | D1064     | Welch  | [0, 0, 0, 0, 0] |\n",
       "| 223 | D1065     | Welch  | [0, 0, 0, 0, 0] |\n",
       "| 226 | D1066     | Welch  | [0, 0, 0, 0, 0] |\n",
       "| 229 | D1067     | Welch  | [0, 0, 0, 0, 0] |\n",
       "| 232 | D1068     | Welch  | [0, 0, 0, 0, 0] |\n",
       "| 235 | D1069     | Welch  | [0, 0, 0, 0, 0] |\n",
       "| 238 | D107      | Welch  | [0, 0, 0, 0, 0] |\n",
       "| 241 | D1070     | Welch  | [0, 0, 0, 0, 0] |\n",
       "| 244 | D1071     | Welch  | [0, 0, 0, 0, 0] |\n",
       "| 247 | D1072     | Welch  | [0, 0, 0, 0, 0] |\n",
       "| 250 | D1073     | Welch  | [0, 0, 0, 0, 0] |\n",
       "| 253 | D1074     | Welch  | [0, 0, 0, 0, 0] |\n",
       "| 256 | D1075     | Welch  | [0, 0, 0, 0, 0] |\n",
       "| 259 | D1076     | Welch  | [0, 0, 0, 0, 0] |\n",
       "| 262 | D1077     | Welch  | [0, 0, 0, 0, 0] |\n",
       "| 265 | D1078     | Welch  | [0, 0, 0, 0, 0] |\n",
       "| 268 | D1079     | Welch  | [0, 0, 0, 0, 0] |\n",
       "| 271 | D108      | Welch  | [0, 0, 0, 0, 0] |\n",
       "| 274 | D1080     | Welch  | [0, 0, 0, 0, 0] |\n",
       "| 277 | D1081     | Welch  | [0, 0, 0, 0, 0] |\n",
       "| 280 | D1082     | Welch  | [0, 0, 0, 0, 0] |\n",
       "| 283 | D1083     | Welch  | [0, 0, 0, 0, 0] |\n",
       "| 286 | D1084     | Welch  | [0, 0, 0, 0, 0] |\n",
       "| 289 | D1085     | Welch  | [0, 0, 0, 0, 0] |\n",
       "| 292 | D1086     | Welch  | [0, 0, 0, 0, 0] |\n",
       "| 295 | D1087     | Welch  | [0, 0, 0, 0, 0] |\n",
       "| 298 | D1088     | Welch  | [0, 0, 0, 0, 0] |\n",
       "| 301 | D1089     | Welch  | [0, 0, 0, 0, 0] |\n",
       "| 304 | D109      | Welch  | [0, 0, 0, 0, 0] |\n",
       "| 307 | D1090     | Welch  | [0, 0, 0, 0, 0] |\n",
       "| 310 | D1091     | Welch  | [0, 0, 0, 0, 0] |\n",
       "| 313 | D1092     | Welch  | [0, 0, 0, 0, 0] |\n",
       "| 316 | D1093     | Welch  | [0, 0, 0, 0, 0] |\n",
       "| 319 | D1094     | Welch  | [0, 0, 0, 0, 0] |\n",
       "| 322 | D1095     | Welch  | [0, 0, 0, 0, 0] |\n",
       "| 325 | D1096     | Welch  | [0, 0, 0, 0, 0] |\n",
       "| 328 | D1097     | Welch  | [0, 0, 0, 0, 0] |\n",
       "| 331 | D1098     | Welch  | [0, 0, 0, 0, 0] |\n",
       "| 334 | D1099     | Welch  | [0, 0, 0, 0, 0] |\n",
       "| 337 | D11       | Welch  | [0, 0, 0, 0, 0] |\n",
       "| 340 | D110      | Welch  | [0, 0, 0, 0, 0] |\n",
       "| 343 | D1100     | Welch  | [0, 0, 0, 0, 0] |\n",
       "| 346 | D1101     | Welch  | [0, 0, 0, 0, 0] |\n",
       "| 349 | D1102     | Welch  | [0, 0, 0, 0, 0] |\n",
       "| 352 | D1103     | Welch  | [0, 0, 0, 0, 0] |\n",
       "| 355 | D1104     | Welch  | [0, 0, 0, 0, 0] |\n",
       "| 358 | D1105     | Welch  | [0, 0, 0, 0, 0] |\n",
       "| 361 | D1106     | Welch  | [0, 0, 0, 0, 0] |\n",
       "| 364 | D1107     | Welch  | [0, 0, 0, 0, 0] |\n",
       "| 367 | D1108     | Welch  | [0, 0, 0, 0, 0] |\n",
       "| 370 | D1109     | Welch  | [0, 0, 0, 0, 0] |\n",
       "| 373 | D111      | Welch  | [0, 0, 0, 0, 0] |\n",
       "| 376 | D1110     | Welch  | [0, 0, 0, 0, 0] |\n",
       "| 379 | D1111     | Welch  | [0, 0, 0, 0, 0] |\n",
       "| 382 | D1112     | Welch  | [0, 0, 0, 0, 0] |\n",
       "| 385 | D1113     | Welch  | [0, 0, 0, 0, 0] |\n",
       "| 388 | D1114     | Welch  | [0, 0, 0, 0, 0] |\n",
       "| 391 | D1115     | Welch  | [0, 0, 0, 0, 0] |\n",
       "| 394 | D1116     | Welch  | [0, 0, 0, 0, 0] |\n",
       "| 397 | D1117     | Welch  | [0, 0, 0, 0, 0] |\n",
       "| 400 | D1118     | Welch  | [0, 0, 0, 0, 0] |\n",
       "| 403 | D1119     | Welch  | [0, 0, 0, 0, 0] |\n",
       "| 406 | D112      | Welch  | [0, 0, 0, 0, 0] |\n",
       "| 409 | D1120     | Welch  | [0, 0, 0, 0, 0] |\n",
       "| 412 | D1121     | Welch  | [0, 0, 0, 0, 0] |\n",
       "| 415 | D1122     | Welch  | [0, 0, 0, 0, 0] |\n",
       "| 418 | D1123     | Welch  | [0, 0, 0, 0, 0] |\n",
       "| 421 | D1124     | Welch  | [0, 0, 0, 0, 0] |\n",
       "| 424 | D1125     | Welch  | [0, 0, 0, 0, 0] |\n",
       "| 427 | D1126     | Welch  | [0, 0, 0, 0, 0] |\n",
       "| 430 | D1127     | Welch  | [0, 0, 0, 0, 0] |\n",
       "| 433 | D1128     | Welch  | [0, 0, 0, 0, 0] |\n",
       "| 436 | D1129     | Welch  | [0, 0, 0, 0, 0] |\n",
       "| 439 | D113      | Welch  | [0, 0, 0, 0, 0] |\n",
       "| 442 | D1130     | Welch  | [0, 0, 0, 0, 0] |\n",
       "| 445 | D1131     | Welch  | [0, 0, 0, 0, 0] |\n",
       "| 448 | D1132     | Welch  | [0, 0, 0, 0, 0] |"
      ],
      "text/plain": [
       "    ts_name   type            freqs\n",
       "1        D1  Welch  [0, 0, 0, 0, 0]\n",
       "4       D10  Welch  [0, 0, 0, 0, 9]\n",
       "7      D100  Welch  [0, 0, 0, 0, 0]\n",
       "10    D1000  Welch  [0, 0, 0, 0, 0]\n",
       "13    D1001  Welch  [0, 0, 0, 0, 0]\n",
       "..      ...    ...              ...\n",
       "436   D1129  Welch  [0, 0, 0, 0, 0]\n",
       "439    D113  Welch  [0, 0, 0, 0, 0]\n",
       "442   D1130  Welch  [0, 0, 0, 0, 0]\n",
       "445   D1131  Welch  [0, 0, 0, 0, 0]\n",
       "448   D1132  Welch  [0, 0, 0, 0, 0]\n",
       "\n",
       "[150 rows x 3 columns]"
      ]
     },
     "execution_count": 34,
     "metadata": {},
     "output_type": "execute_result"
    }
   ],
   "source": [
    "df_reduced[df_reduced['type']=='Welch'][:150]"
   ]
  },
  {
   "cell_type": "markdown",
   "id": "b95f78ff",
   "metadata": {},
   "source": [
    "### Compute frequency matches b/w methods"
   ]
  },
  {
   "cell_type": "code",
   "execution_count": 35,
   "id": "f5f83fab",
   "metadata": {},
   "outputs": [
    {
     "data": {
      "application/vnd.jupyter.widget-view+json": {
       "model_id": "c7eccd2fdcd04729aee83ab382f9aa23",
       "version_major": 2,
       "version_minor": 0
      },
      "text/plain": [
       "  0%|          | 0/100000 [00:00<?, ?it/s]"
      ]
     },
     "metadata": {},
     "output_type": "display_data"
    },
    {
     "name": "stderr",
     "output_type": "stream",
     "text": [
      "<ipython-input-35-274b01a6613f>:15: DeprecationWarning: elementwise comparison failed; this will raise an error in the future.\n",
      "  match_fft_welch = np.sum((freqs_fft == freqs_welch))/len(freqs_fft)\n",
      "<ipython-input-35-274b01a6613f>:16: DeprecationWarning: elementwise comparison failed; this will raise an error in the future.\n",
      "  match_hamming_welch = np.sum((freqs_hamming == freqs_welch))/len(freqs_hamming)\n"
     ]
    },
    {
     "data": {
      "text/html": [
       "<div>\n",
       "<style scoped>\n",
       "    .dataframe tbody tr th:only-of-type {\n",
       "        vertical-align: middle;\n",
       "    }\n",
       "\n",
       "    .dataframe tbody tr th {\n",
       "        vertical-align: top;\n",
       "    }\n",
       "\n",
       "    .dataframe thead th {\n",
       "        text-align: right;\n",
       "    }\n",
       "</style>\n",
       "<table border=\"1\" class=\"dataframe\">\n",
       "  <thead>\n",
       "    <tr style=\"text-align: right;\">\n",
       "      <th></th>\n",
       "      <th>ts_name</th>\n",
       "      <th>type</th>\n",
       "      <th>match_ratio</th>\n",
       "    </tr>\n",
       "  </thead>\n",
       "  <tbody>\n",
       "    <tr>\n",
       "      <th>0</th>\n",
       "      <td>D1</td>\n",
       "      <td>fft_hamming</td>\n",
       "      <td>0.6</td>\n",
       "    </tr>\n",
       "    <tr>\n",
       "      <th>1</th>\n",
       "      <td>D1</td>\n",
       "      <td>fft_welch</td>\n",
       "      <td>0.2</td>\n",
       "    </tr>\n",
       "    <tr>\n",
       "      <th>2</th>\n",
       "      <td>D1</td>\n",
       "      <td>hamming_welch</td>\n",
       "      <td>0.2</td>\n",
       "    </tr>\n",
       "    <tr>\n",
       "      <th>3</th>\n",
       "      <td>D10</td>\n",
       "      <td>fft_hamming</td>\n",
       "      <td>0.4</td>\n",
       "    </tr>\n",
       "    <tr>\n",
       "      <th>4</th>\n",
       "      <td>D10</td>\n",
       "      <td>fft_welch</td>\n",
       "      <td>0.2</td>\n",
       "    </tr>\n",
       "  </tbody>\n",
       "</table>\n",
       "</div>"
      ],
      "text/org": [
       "|    | ts_name   | type          |   match_ratio |\n",
       "|----+-----------+---------------+---------------|\n",
       "|  0 | D1        | fft_hamming   |           0.6 |\n",
       "|  1 | D1        | fft_welch     |           0.2 |\n",
       "|  2 | D1        | hamming_welch |           0.2 |\n",
       "|  3 | D10       | fft_hamming   |           0.4 |\n",
       "|  4 | D10       | fft_welch     |           0.2 |"
      ],
      "text/plain": [
       "  ts_name           type  match_ratio\n",
       "0      D1    fft_hamming          0.6\n",
       "1      D1      fft_welch          0.2\n",
       "2      D1  hamming_welch          0.2\n",
       "3     D10    fft_hamming          0.4\n",
       "4     D10      fft_welch          0.2"
      ]
     },
     "execution_count": 35,
     "metadata": {},
     "output_type": "execute_result"
    }
   ],
   "source": [
    "names = []\n",
    "types = []\n",
    "match_ratios = []\n",
    "\n",
    "for elm in tqdm(df_reduced.groupby(\"ts_name\")):\n",
    "    name=elm[0]\n",
    "    df_sub = elm[1]\n",
    "    # generate arrays for matching freqs\n",
    "    freqs_fft = np.array(df_sub.loc[df_sub['type']=='fft', 'freqs'].reset_index(drop=True)[0])\n",
    "    freqs_hamming = np.array(df_sub.loc[df_sub['type']=='Hamming', 'freqs'].reset_index(drop=True)[0])\n",
    "    freqs_welch = np.array(df_sub.loc[df_sub['type']=='Welch', 'freqs'].reset_index(drop=True)[0])  \n",
    "    \n",
    "    # create matching frequ\n",
    "    match_fft_hamming = np.sum((freqs_fft == freqs_hamming))/len(freqs_fft)\n",
    "    match_fft_welch = np.sum((freqs_fft == freqs_welch))/len(freqs_fft)\n",
    "    match_hamming_welch = np.sum((freqs_hamming == freqs_welch))/len(freqs_hamming)\n",
    "    \n",
    "    # generate data\n",
    "    names.extend([name]*3)\n",
    "    types.extend(['fft_hamming', 'fft_welch', 'hamming_welch'])\n",
    "    match_ratios.extend([match_fft_hamming, match_fft_welch, match_hamming_welch])\n",
    "\n",
    "df_match = pd.DataFrame({\n",
    "    'ts_name': names,\n",
    "    'type': types,\n",
    "    'match_ratio': match_ratios\n",
    "})\n",
    "df_match.head()"
   ]
  },
  {
   "cell_type": "code",
   "execution_count": 36,
   "id": "33dc9690",
   "metadata": {},
   "outputs": [
    {
     "data": {
      "text/plain": [
       "(300000, 3)"
      ]
     },
     "execution_count": 36,
     "metadata": {},
     "output_type": "execute_result"
    }
   ],
   "source": [
    "df_match.shape"
   ]
  },
  {
   "cell_type": "code",
   "execution_count": 37,
   "id": "8484d9c3",
   "metadata": {},
   "outputs": [
    {
     "data": {
      "text/html": [
       "<div>\n",
       "<style scoped>\n",
       "    .dataframe tbody tr th:only-of-type {\n",
       "        vertical-align: middle;\n",
       "    }\n",
       "\n",
       "    .dataframe tbody tr th {\n",
       "        vertical-align: top;\n",
       "    }\n",
       "\n",
       "    .dataframe thead th {\n",
       "        text-align: right;\n",
       "    }\n",
       "</style>\n",
       "<table border=\"1\" class=\"dataframe\">\n",
       "  <thead>\n",
       "    <tr style=\"text-align: right;\">\n",
       "      <th></th>\n",
       "      <th>ts_name</th>\n",
       "      <th>type</th>\n",
       "      <th>match_ratio</th>\n",
       "    </tr>\n",
       "  </thead>\n",
       "  <tbody>\n",
       "    <tr>\n",
       "      <th>0</th>\n",
       "      <td>D1</td>\n",
       "      <td>fft_hamming</td>\n",
       "      <td>0.6</td>\n",
       "    </tr>\n",
       "    <tr>\n",
       "      <th>1</th>\n",
       "      <td>D1</td>\n",
       "      <td>fft_welch</td>\n",
       "      <td>0.2</td>\n",
       "    </tr>\n",
       "    <tr>\n",
       "      <th>2</th>\n",
       "      <td>D1</td>\n",
       "      <td>hamming_welch</td>\n",
       "      <td>0.2</td>\n",
       "    </tr>\n",
       "    <tr>\n",
       "      <th>3</th>\n",
       "      <td>D10</td>\n",
       "      <td>fft_hamming</td>\n",
       "      <td>0.4</td>\n",
       "    </tr>\n",
       "    <tr>\n",
       "      <th>4</th>\n",
       "      <td>D10</td>\n",
       "      <td>fft_welch</td>\n",
       "      <td>0.2</td>\n",
       "    </tr>\n",
       "  </tbody>\n",
       "</table>\n",
       "</div>"
      ],
      "text/org": [
       "|    | ts_name   | type          |   match_ratio |\n",
       "|----+-----------+---------------+---------------|\n",
       "|  0 | D1        | fft_hamming   |           0.6 |\n",
       "|  1 | D1        | fft_welch     |           0.2 |\n",
       "|  2 | D1        | hamming_welch |           0.2 |\n",
       "|  3 | D10       | fft_hamming   |           0.4 |\n",
       "|  4 | D10       | fft_welch     |           0.2 |"
      ],
      "text/plain": [
       "  ts_name           type  match_ratio\n",
       "0      D1    fft_hamming          0.6\n",
       "1      D1      fft_welch          0.2\n",
       "2      D1  hamming_welch          0.2\n",
       "3     D10    fft_hamming          0.4\n",
       "4     D10      fft_welch          0.2"
      ]
     },
     "execution_count": 37,
     "metadata": {},
     "output_type": "execute_result"
    }
   ],
   "source": [
    "df_match.head()"
   ]
  },
  {
   "cell_type": "code",
   "execution_count": 86,
   "id": "e3c894b8",
   "metadata": {},
   "outputs": [
    {
     "data": {
      "image/png": "[encoded data removed]",
      "text/plain": [
       "<Figure size 1008x648 with 4 Axes>"
      ]
     },
     "metadata": {
      "needs_background": "light"
     },
     "output_type": "display_data"
    }
   ],
   "source": [
    "fig, axs = plt.subplots(2, 2, figsize=(14,9))\n",
    "\n",
    "axs.flatten()[0].hist(df_match[df_match['type']=='fft_hamming']['match_ratio'], bins=6)\n",
    "axs.flatten()[0].title.set_text(\"FFT Hamming Match Scores\")\n",
    "axs.flatten()[1].hist(df_match[df_match['type']=='fft_welch']['match_ratio'], bins=6)\n",
    "axs.flatten()[1].title.set_text(\"FFT Welch Match Scores\")\n",
    "\n",
    "axs.flatten()[2].hist(df_match[df_match['type']=='hamming_welch']['match_ratio'], bins=6)\n",
    "axs.flatten()[2].title.set_text(\"Hamming Welch Match Scores\")\n"
   ]
  },
  {
   "cell_type": "markdown",
   "id": "17ca8d00",
   "metadata": {},
   "source": [
    "results show that the frequencies are not matching between Hamming, Welch and regular FFT method\n",
    "next step to verify which leads to better results"
   ]
  },
  {
   "cell_type": "markdown",
   "id": "e9a220f8",
   "metadata": {},
   "source": [
    "## Compute Match for different methods"
   ]
  },
  {
   "cell_type": "code",
   "execution_count": 205,
   "id": "90151199",
   "metadata": {},
   "outputs": [
    {
     "data": {
      "text/html": [
       "<div>\n",
       "<style scoped>\n",
       "    .dataframe tbody tr th:only-of-type {\n",
       "        vertical-align: middle;\n",
       "    }\n",
       "\n",
       "    .dataframe tbody tr th {\n",
       "        vertical-align: top;\n",
       "    }\n",
       "\n",
       "    .dataframe thead th {\n",
       "        text-align: right;\n",
       "    }\n",
       "</style>\n",
       "<table border=\"1\" class=\"dataframe\">\n",
       "  <thead>\n",
       "    <tr style=\"text-align: right;\">\n",
       "      <th></th>\n",
       "      <th>ts_name</th>\n",
       "      <th>type</th>\n",
       "      <th>freqs</th>\n",
       "    </tr>\n",
       "  </thead>\n",
       "  <tbody>\n",
       "    <tr>\n",
       "      <th>0</th>\n",
       "      <td>D1</td>\n",
       "      <td>Hamming</td>\n",
       "      <td>[0, 102, 409, 409, 133]</td>\n",
       "    </tr>\n",
       "    <tr>\n",
       "      <th>1</th>\n",
       "      <td>D1</td>\n",
       "      <td>Welch</td>\n",
       "      <td>[0, 0, 0, 0, 0]</td>\n",
       "    </tr>\n",
       "    <tr>\n",
       "      <th>2</th>\n",
       "      <td>D1</td>\n",
       "      <td>fft</td>\n",
       "      <td>[0, 102, 409, 133, 409]</td>\n",
       "    </tr>\n",
       "    <tr>\n",
       "      <th>3</th>\n",
       "      <td>D10</td>\n",
       "      <td>Hamming</td>\n",
       "      <td>[0, 120, 409, 151, 409]</td>\n",
       "    </tr>\n",
       "    <tr>\n",
       "      <th>4</th>\n",
       "      <td>D10</td>\n",
       "      <td>Welch</td>\n",
       "      <td>[0, 0, 0, 0, 9]</td>\n",
       "    </tr>\n",
       "  </tbody>\n",
       "</table>\n",
       "</div>"
      ],
      "text/org": [
       "|    | ts_name   | type    | freqs                   |\n",
       "|----+-----------+---------+-------------------------|\n",
       "|  0 | D1        | Hamming | [0, 102, 409, 409, 133] |\n",
       "|  1 | D1        | Welch   | [0, 0, 0, 0, 0]         |\n",
       "|  2 | D1        | fft     | [0, 102, 409, 133, 409] |\n",
       "|  3 | D10       | Hamming | [0, 120, 409, 151, 409] |\n",
       "|  4 | D10       | Welch   | [0, 0, 0, 0, 9]         |"
      ],
      "text/plain": [
       "  ts_name     type                    freqs\n",
       "0      D1  Hamming  [0, 102, 409, 409, 133]\n",
       "1      D1    Welch          [0, 0, 0, 0, 0]\n",
       "2      D1      fft  [0, 102, 409, 133, 409]\n",
       "3     D10  Hamming  [0, 120, 409, 151, 409]\n",
       "4     D10    Welch          [0, 0, 0, 0, 9]"
      ]
     },
     "execution_count": 205,
     "metadata": {},
     "output_type": "execute_result"
    }
   ],
   "source": [
    "df_reduced[df]"
   ]
  },
  {
   "cell_type": "markdown",
   "id": "27758027",
   "metadata": {},
   "source": [
    "Generate Sample for which the matching is going to be computed"
   ]
  },
  {
   "cell_type": "code",
   "execution_count": 51,
   "id": "6b164555",
   "metadata": {},
   "outputs": [],
   "source": [
    "sample_ts = choices(df_reduced['ts_name'].unique(), k=1000)"
   ]
  },
  {
   "cell_type": "code",
   "execution_count": 52,
   "id": "b6791f9b",
   "metadata": {},
   "outputs": [
    {
     "data": {
      "text/plain": [
       "1000"
      ]
     },
     "execution_count": 52,
     "metadata": {},
     "output_type": "execute_result"
    }
   ],
   "source": [
    "len(sample_ts)"
   ]
  },
  {
   "cell_type": "code",
   "execution_count": 40,
   "id": "a8b04cd2",
   "metadata": {},
   "outputs": [],
   "source": [
    "def compare_freqs(tgt_fs: np.ndarray, **kwargs) -> int:\n",
    "    if \"src_fs\" in kwargs:\n",
    "        src_fs = kwargs['src_fs']\n",
    "    else:\n",
    "        raise Exception(\"source frequencies missing\")\n",
    "        \n",
    "    \n",
    "    # convert list to vector\n",
    "    \n",
    "    ## continue here - tgt_fs is all frequencies for each ts in a an array (99999, 5)\n",
    "    tgt_fs = np.array(tgt_fs)\n",
    "    src_fs = np.array(src_fs)\n",
    "    \n",
    "    # ensure length 5 for both vectors\n",
    "    src_fs = np.pad(src_fs, (0, 5-src_fs.shape[0]),\n",
    "                   constant_values=(-9999999,)) # use obscure value to avoid undesired match\n",
    "    tgt_fs = np.pad(tgt_fs, (0, 5-src_fs.shape[0]),\n",
    "                   constant_values=(-9999999,))\n",
    "    \n",
    "    match = (src_fs - tgt_fs)==0\n",
    "    \n",
    "    # flip vector to have least significant match first\n",
    "    match = match[::-1]\n",
    "    \n",
    "    # multiply matches of freqs with increasing exponent\n",
    "    # and sum results to allow for ranking\n",
    "    return np.sum(match*(10**np.array(range(1,6))))\n",
    "    \n",
    "    \n",
    "    \n",
    "    "
   ]
  },
  {
   "cell_type": "markdown",
   "id": "1818a4d3",
   "metadata": {},
   "source": [
    "### ensure length of 5 for each freq list"
   ]
  },
  {
   "cell_type": "code",
   "execution_count": 41,
   "id": "930c322c",
   "metadata": {},
   "outputs": [],
   "source": [
    "def convert_to_ar(s: pd.Series) -> pd.Series:\n",
    "    ar = np.array(s['freqs'])\n",
    "    ar = np.pad(ar, (0, 5-ar.shape[0]),\n",
    "                   constant_values=(-9999999,)) # use obscure value to avoid undesired match\n",
    "    return ar"
   ]
  },
  {
   "cell_type": "code",
   "execution_count": 42,
   "id": "8f6c2d51",
   "metadata": {},
   "outputs": [],
   "source": [
    "df_reduced['freqs'] = df_reduced.apply(convert_to_ar, axis=1)"
   ]
  },
  {
   "cell_type": "markdown",
   "id": "3f5df44c",
   "metadata": {},
   "source": [
    "### loop through reduced ts to find relevant matches"
   ]
  },
  {
   "cell_type": "code",
   "execution_count": 53,
   "id": "31ae90f8",
   "metadata": {},
   "outputs": [
    {
     "data": {
      "application/vnd.jupyter.widget-view+json": {
       "model_id": "e0d989c02fe9481baec1b14a1ebfcb7e",
       "version_major": 2,
       "version_minor": 0
      },
      "text/plain": [
       "  0%|          | 0/1000 [00:00<?, ?it/s]"
      ]
     },
     "metadata": {},
     "output_type": "display_data"
    }
   ],
   "source": [
    "ts_names = []\n",
    "types = []\n",
    "candidates = []\n",
    "\n",
    "for ts_src_name in tqdm(sample_ts):\n",
    "    # find frequencies for each window type\n",
    "    freqs_fft = df_reduced[(df_reduced['ts_name']==ts_src_name) &\n",
    "                              (df_reduced['type']==\"fft\")]['freqs'].reset_index(drop=True)[0]\n",
    "    freqs_hamming = df_reduced[(df_reduced['ts_name']==ts_src_name) &\n",
    "                              (df_reduced['type']==\"Hamming\")]['freqs'].reset_index(drop=True)[0]\n",
    "    freqs_welch = df_reduced[(df_reduced['ts_name']==ts_src_name) &\n",
    "                              (df_reduced['type']==\"Welch\")]['freqs'].reset_index(drop=True)[0]\n",
    "    \n",
    "    map_window_d = {'fft': freqs_fft,\n",
    "            'Hamming': freqs_hamming,\n",
    "            'Welch': freqs_welch}\n",
    "    # search most matching ts in each subset\n",
    "    \n",
    "    for elm in df_reduced.groupby('type'):\n",
    "        window_type = elm[0]\n",
    "        df_sub = elm[1]\n",
    "        # match correct frequency for group\n",
    "        ts_src_fs = map_window_d[window_type]\n",
    "        # removing the time series under investigation\n",
    "        df_sub = df_sub[df_sub['ts_name']!=ts_src_name]\n",
    "        \n",
    "        # convert freqs column to array\n",
    "        ar = np.array(df_sub['freqs'].to_list())\n",
    "        \n",
    "        # apply along axis\n",
    "        res = np.apply_along_axis(compare_freqs,1, ar, src_fs=ts_src_fs)\n",
    "        \n",
    "        # get largest n (15) indexes\n",
    "        ind = np.argsort(res)[::-1][:15]\n",
    "        \n",
    "        # retrieve names for largest n indexes\n",
    "        ts_candidates = df_reduced.loc[ind,'ts_name'].to_list()\n",
    "        \n",
    "        # extend lists with candidates\n",
    "        ts_names.extend([ts_src_name]*len(ts_candidates))\n",
    "        types.extend([window_type]*len(ts_candidates))\n",
    "        candidates.extend(ts_candidates)\n",
    "    \n",
    "df_candidates = pd.DataFrame({\n",
    "    'ts_name': ts_names,\n",
    "    'type': types,\n",
    "    'candidate': candidates\n",
    "})\n",
    "        "
   ]
  },
  {
   "cell_type": "code",
   "execution_count": 50,
   "id": "21c069bd",
   "metadata": {},
   "outputs": [],
   "source": [
    "df_candidates.to_csv('../data/df_candidates_1000.csv', index=False)"
   ]
  },
  {
   "cell_type": "markdown",
   "id": "5d977b12",
   "metadata": {},
   "source": [
    "### Compute distances for all identified series and choose smallest distances as winner"
   ]
  },
  {
   "cell_type": "code",
   "execution_count": 54,
   "id": "dda37b8a",
   "metadata": {},
   "outputs": [],
   "source": [
    "def compute_distance(s: pd.Series) -> pd.Series:\n",
    "    ar_src = np.array(df_all[df_all['V1']==s['ts_name']].iloc[:,1:].dropna(axis=1))[0]\n",
    "    ar_tgt = np.array(df_all[df_all['V1']==s['candidate']].iloc[:,1:].dropna(axis=1))[0]\n",
    "    \n",
    "    aln = dtw(ar_src, ar_tgt, keep_internals=True, distance_only=True)\n",
    "    \n",
    "    return aln.distance\n",
    "        "
   ]
  },
  {
   "cell_type": "code",
   "execution_count": 55,
   "id": "9e543f74",
   "metadata": {},
   "outputs": [],
   "source": [
    "df_candidates['dtw_dist'] = df_candidates.apply(compute_distance, axis=1)"
   ]
  },
  {
   "cell_type": "code",
   "execution_count": 56,
   "id": "dfc3104e",
   "metadata": {},
   "outputs": [
    {
     "data": {
      "text/org": [
       "|    | 0   | 1   | 2   | 3   | 4   | 5   | 6   |\n",
       "|----+-----+-----+-----+-----+-----+-----+-----|\n",
       "|  0 | H   | a   | m   | m   | i   | n   | g   |\n",
       "|  1 | W   | e   | l   | c   | h   |     |     |\n",
       "|  2 | f   | f   | t   |     |     |     |     |"
      ],
      "text/plain": [
       "array(['Hamming', 'Welch', 'fft'], dtype=object)"
      ]
     },
     "execution_count": 56,
     "metadata": {},
     "output_type": "execute_result"
    }
   ],
   "source": [
    "df_candidates['type'].unique()"
   ]
  },
  {
   "cell_type": "markdown",
   "id": "fe702f0a",
   "metadata": {},
   "source": [
    "### keep for each type the series with the lowest distance"
   ]
  },
  {
   "cell_type": "code",
   "execution_count": 57,
   "id": "66a407bd",
   "metadata": {},
   "outputs": [],
   "source": [
    "df_winners = df_candidates.loc[df_candidates.groupby(['ts_name','type'], sort=False)['dtw_dist'].idxmin(axis=0)]"
   ]
  },
  {
   "cell_type": "code",
   "execution_count": 58,
   "id": "8651a257",
   "metadata": {},
   "outputs": [],
   "source": [
    "df_winners.to_csv(\"../data/df_winners_1000.csv\")"
   ]
  },
  {
   "cell_type": "markdown",
   "id": "69ee16bf",
   "metadata": {},
   "source": [
    "### Plot the winners"
   ]
  },
  {
   "cell_type": "code",
   "execution_count": 5,
   "id": "217fbba6",
   "metadata": {},
   "outputs": [],
   "source": [
    "df_winners = pd.read_csv(\"../data/df_winners.csv\")"
   ]
  },
  {
   "cell_type": "code",
   "execution_count": 6,
   "id": "b5e77c61",
   "metadata": {},
   "outputs": [],
   "source": [
    "df_all.reset_index(drop=True, inplace=True)"
   ]
  },
  {
   "cell_type": "code",
   "execution_count": 7,
   "id": "05839d8d",
   "metadata": {},
   "outputs": [],
   "source": [
    "df_winners = df_winners[:9]"
   ]
  },
  {
   "cell_type": "code",
   "execution_count": 11,
   "id": "7fe8a42d",
   "metadata": {},
   "outputs": [
    {
     "data": {
      "text/html": [
       "<div>\n",
       "<style scoped>\n",
       "    .dataframe tbody tr th:only-of-type {\n",
       "        vertical-align: middle;\n",
       "    }\n",
       "\n",
       "    .dataframe tbody tr th {\n",
       "        vertical-align: top;\n",
       "    }\n",
       "\n",
       "    .dataframe thead th {\n",
       "        text-align: right;\n",
       "    }\n",
       "</style>\n",
       "<table border=\"1\" class=\"dataframe\">\n",
       "  <thead>\n",
       "    <tr style=\"text-align: right;\">\n",
       "      <th></th>\n",
       "      <th>Unnamed: 0</th>\n",
       "      <th>ts_name</th>\n",
       "      <th>type</th>\n",
       "      <th>candidate</th>\n",
       "      <th>dtw_dist</th>\n",
       "    </tr>\n",
       "  </thead>\n",
       "  <tbody>\n",
       "    <tr>\n",
       "      <th>0</th>\n",
       "      <td>14</td>\n",
       "      <td>M31076</td>\n",
       "      <td>Hamming</td>\n",
       "      <td>M15637</td>\n",
       "      <td>182891.500</td>\n",
       "    </tr>\n",
       "    <tr>\n",
       "      <th>1</th>\n",
       "      <td>16</td>\n",
       "      <td>M31076</td>\n",
       "      <td>Welch</td>\n",
       "      <td>M14234</td>\n",
       "      <td>91859.800</td>\n",
       "    </tr>\n",
       "    <tr>\n",
       "      <th>2</th>\n",
       "      <td>40</td>\n",
       "      <td>M31076</td>\n",
       "      <td>fft</td>\n",
       "      <td>M15628</td>\n",
       "      <td>194149.800</td>\n",
       "    </tr>\n",
       "    <tr>\n",
       "      <th>3</th>\n",
       "      <td>59</td>\n",
       "      <td>Q20663</td>\n",
       "      <td>Hamming</td>\n",
       "      <td>M26835</td>\n",
       "      <td>32803.424</td>\n",
       "    </tr>\n",
       "    <tr>\n",
       "      <th>4</th>\n",
       "      <td>65</td>\n",
       "      <td>Q20663</td>\n",
       "      <td>Welch</td>\n",
       "      <td>M22536</td>\n",
       "      <td>943546.000</td>\n",
       "    </tr>\n",
       "  </tbody>\n",
       "</table>\n",
       "</div>"
      ],
      "text/org": [
       "|    |   Unnamed: 0 | ts_name   | type    | candidate   |   dtw_dist |\n",
       "|----+--------------+-----------+---------+-------------+------------|\n",
       "|  0 |           14 | M31076    | Hamming | M15637      |   182891   |\n",
       "|  1 |           16 | M31076    | Welch   | M14234      |    91859.8 |\n",
       "|  2 |           40 | M31076    | fft     | M15628      |   194150   |\n",
       "|  3 |           59 | Q20663    | Hamming | M26835      |    32803.4 |\n",
       "|  4 |           65 | Q20663    | Welch   | M22536      |   943546   |"
      ],
      "text/plain": [
       "   Unnamed: 0 ts_name     type candidate    dtw_dist\n",
       "0          14  M31076  Hamming    M15637  182891.500\n",
       "1          16  M31076    Welch    M14234   91859.800\n",
       "2          40  M31076      fft    M15628  194149.800\n",
       "3          59  Q20663  Hamming    M26835   32803.424\n",
       "4          65  Q20663    Welch    M22536  943546.000"
      ]
     },
     "execution_count": 11,
     "metadata": {},
     "output_type": "execute_result"
    }
   ],
   "source": [
    "df_winners.head()"
   ]
  },
  {
   "cell_type": "code",
   "execution_count": 29,
   "id": "b4456257",
   "metadata": {},
   "outputs": [
    {
     "data": {
      "image/png": "[encoded data removed]",
      "text/plain": [
       "<Figure size 432x288 with 1 Axes>"
      ]
     },
     "metadata": {
      "needs_background": "light"
     },
     "output_type": "display_data"
    },
    {
     "data": {
      "image/png": "[encoded data removed]",
      "text/plain": [
       "<Figure size 432x288 with 1 Axes>"
      ]
     },
     "metadata": {
      "needs_background": "light"
     },
     "output_type": "display_data"
    },
    {
     "data": {
      "image/png": "[encoded data removed]",
      "text/plain": [
       "<Figure size 432x288 with 1 Axes>"
      ]
     },
     "metadata": {
      "needs_background": "light"
     },
     "output_type": "display_data"
    }
   ],
   "source": [
    "for elm in df_winners.groupby(\"ts_name\"):\n",
    "    src_name = elm[0]\n",
    "    df_sub = elm[1]\n",
    "    \n",
    "    fft_name = df_sub[df_sub['type']=='fft']['candidate'].values[0]\n",
    "    ham_name = df_sub[df_sub['type']=='Hamming']['candidate'].values[0]\n",
    "    wel_name = df_sub[df_sub['type']=='Welch']['candidate'].values[0]\n",
    "\n",
    "    \n",
    "    ar_src = np.array(df_all[df_all['V1']==src_name].iloc[:,1:].dropna(axis=1))[0]\n",
    "    ar_fft = np.array(df_all[df_all['V1']==fft_name].iloc[:,1:].dropna(axis=1))[0]\n",
    "    ar_ham = np.array(df_all[df_all['V1']==ham_name].iloc[:,1:].dropna(axis=1))[0]\n",
    "    ar_wel = np.array(df_all[df_all['V1']==wel_name].iloc[:,1:].dropna(axis=1))[0]\n",
    "\n",
    "    \n",
    "    plt.plot(ar_src, '-', label=\"Src: \" + src_name)\n",
    "    plt.plot(ar_fft, label=\"FFT: \" + fft_name)\n",
    "    plt.plot(ar_ham, label=\"Hamming: \"+ ham_name)\n",
    "    label_wel = \"Welch: \" + wel_name\n",
    "    plt.plot(ar_wel, label=label_wel)\n",
    "    plt.legend()\n",
    "    plt.title(\"Match per Window Type for: \" + src_name)\n",
    "    #plt.savefig(\"../img/src_name+\".png\")\n",
    "    plt.show()\n",
    "    plt.close()"
   ]
  },
  {
   "cell_type": "code",
   "execution_count": 1,
   "id": "f560d8b2",
   "metadata": {},
   "outputs": [
    {
     "ename": "NameError",
     "evalue": "name 'df_winners' is not defined",
     "output_type": "error",
     "traceback": [
      "\u001b[0;31m---------------------------------------------------------------------------\u001b[0m",
      "\u001b[0;31mNameError\u001b[0m                                 Traceback (most recent call last)",
      "\u001b[0;32m<ipython-input-1-ff95fb1be72c>\u001b[0m in \u001b[0;36m<module>\u001b[0;34m\u001b[0m\n\u001b[0;32m----> 1\u001b[0;31m \u001b[0;32mfor\u001b[0m \u001b[0midx\u001b[0m\u001b[0;34m,\u001b[0m\u001b[0mrow\u001b[0m \u001b[0;32min\u001b[0m \u001b[0mdf_winners\u001b[0m\u001b[0;34m.\u001b[0m\u001b[0miterrows\u001b[0m\u001b[0;34m(\u001b[0m\u001b[0;34m)\u001b[0m\u001b[0;34m:\u001b[0m\u001b[0;34m\u001b[0m\u001b[0;34m\u001b[0m\u001b[0m\n\u001b[0m\u001b[1;32m      2\u001b[0m     \u001b[0mar_src\u001b[0m \u001b[0;34m=\u001b[0m \u001b[0mnp\u001b[0m\u001b[0;34m.\u001b[0m\u001b[0marray\u001b[0m\u001b[0;34m(\u001b[0m\u001b[0mdf_all\u001b[0m\u001b[0;34m[\u001b[0m\u001b[0mdf_all\u001b[0m\u001b[0;34m[\u001b[0m\u001b[0;34m'V1'\u001b[0m\u001b[0;34m]\u001b[0m\u001b[0;34m==\u001b[0m\u001b[0mrow\u001b[0m\u001b[0;34m[\u001b[0m\u001b[0;34m'ts_name'\u001b[0m\u001b[0;34m]\u001b[0m\u001b[0;34m]\u001b[0m\u001b[0;34m.\u001b[0m\u001b[0miloc\u001b[0m\u001b[0;34m[\u001b[0m\u001b[0;34m:\u001b[0m\u001b[0;34m,\u001b[0m\u001b[0;36m1\u001b[0m\u001b[0;34m:\u001b[0m\u001b[0;34m]\u001b[0m\u001b[0;34m.\u001b[0m\u001b[0mdropna\u001b[0m\u001b[0;34m(\u001b[0m\u001b[0maxis\u001b[0m\u001b[0;34m=\u001b[0m\u001b[0;36m1\u001b[0m\u001b[0;34m)\u001b[0m\u001b[0;34m)\u001b[0m\u001b[0;34m[\u001b[0m\u001b[0;36m0\u001b[0m\u001b[0;34m]\u001b[0m\u001b[0;34m\u001b[0m\u001b[0;34m\u001b[0m\u001b[0m\n\u001b[1;32m      3\u001b[0m     \u001b[0mar_tgt\u001b[0m \u001b[0;34m=\u001b[0m \u001b[0mnp\u001b[0m\u001b[0;34m.\u001b[0m\u001b[0marray\u001b[0m\u001b[0;34m(\u001b[0m\u001b[0mdf_all\u001b[0m\u001b[0;34m[\u001b[0m\u001b[0mdf_all\u001b[0m\u001b[0;34m[\u001b[0m\u001b[0;34m'V1'\u001b[0m\u001b[0;34m]\u001b[0m\u001b[0;34m==\u001b[0m\u001b[0mrow\u001b[0m\u001b[0;34m[\u001b[0m\u001b[0;34m'candidate'\u001b[0m\u001b[0;34m]\u001b[0m\u001b[0;34m]\u001b[0m\u001b[0;34m.\u001b[0m\u001b[0miloc\u001b[0m\u001b[0;34m[\u001b[0m\u001b[0;34m:\u001b[0m\u001b[0;34m,\u001b[0m\u001b[0;36m1\u001b[0m\u001b[0;34m:\u001b[0m\u001b[0;34m]\u001b[0m\u001b[0;34m.\u001b[0m\u001b[0mdropna\u001b[0m\u001b[0;34m(\u001b[0m\u001b[0maxis\u001b[0m\u001b[0;34m=\u001b[0m\u001b[0;36m1\u001b[0m\u001b[0;34m)\u001b[0m\u001b[0;34m)\u001b[0m\u001b[0;34m[\u001b[0m\u001b[0;36m0\u001b[0m\u001b[0;34m]\u001b[0m\u001b[0;34m\u001b[0m\u001b[0;34m\u001b[0m\u001b[0m\n\u001b[1;32m      4\u001b[0m \u001b[0;34m\u001b[0m\u001b[0m\n\u001b[1;32m      5\u001b[0m     \u001b[0mplt\u001b[0m\u001b[0;34m.\u001b[0m\u001b[0mplot\u001b[0m\u001b[0;34m(\u001b[0m\u001b[0mar_src\u001b[0m\u001b[0;34m,\u001b[0m \u001b[0;34m\"-\"\u001b[0m\u001b[0;34m,\u001b[0m \u001b[0mlabel\u001b[0m\u001b[0;34m=\u001b[0m\u001b[0mrow\u001b[0m\u001b[0;34m[\u001b[0m\u001b[0;34m'ts_name'\u001b[0m\u001b[0;34m]\u001b[0m\u001b[0;34m)\u001b[0m\u001b[0;34m\u001b[0m\u001b[0;34m\u001b[0m\u001b[0m\n",
      "\u001b[0;31mNameError\u001b[0m: name 'df_winners' is not defined"
     ]
    }
   ],
   "source": [
    "for idx,row in df_winners.iterrows():\n",
    "    ar_src = np.array(df_all[df_all['V1']==row['ts_name']].iloc[:,1:].dropna(axis=1))[0]\n",
    "    ar_tgt = np.array(df_all[df_all['V1']==row['candidate']].iloc[:,1:].dropna(axis=1))[0]\n",
    "    \n",
    "    plt.plot(ar_src, \"-\", label=row['ts_name'])\n",
    "    plt.plot(ar_tgt, \"--\", label=row['candidate'])\n",
    "    plt.legend()\n",
    "    plt.title(row['type'])\n",
    "    plt.show()\n",
    "    plt.close()"
   ]
  },
  {
   "cell_type": "code",
   "execution_count": null,
   "id": "7cf0e7ab",
   "metadata": {},
   "outputs": [],
   "source": []
  },
  {
   "cell_type": "code",
   "execution_count": null,
   "id": "0071c81d",
   "metadata": {},
   "outputs": [],
   "source": [
    "src_ts = 'H1'\n",
    "tgt_ts = ['H161', 'H115', 'H59', 'H13', 'H21',\n",
    "         'H70', 'H142', 'H72', 'H53', 'H75',\n",
    "         'H77', 'H79', 'H23', 'H168', 'H42']\n",
    "\n",
    "\n",
    "\n",
    "fig, axes = plt.subplots(3, 5, figsize=(13,9))\n",
    "ar_src = np.array(df_hourly[df_hourly['V1']==src_ts].iloc[:,1:].dropna(axis=1))[0]\n",
    "error = []\n",
    "for i in tqdm(range(len(tgt_ts))):\n",
    "    ts_name = tgt_ts[i]\n",
    "    ar_tgt = np.array(df_hourly[df_hourly['V1']==ts_name].iloc[:,1:].dropna(axis=1))[0]\n",
    "    \n",
    "    # compute distance b/w src and target\n",
    "    error.append(np.square(np.abs(ar_src) - np.abs(ar_tgt)).sum())\n",
    "    \n",
    "    # create plots\n",
    "    axes.flatten()[i].plot(ar_src, \"-\", linewidth=2, label=src_ts)\n",
    "    axes.flatten()[i].plot(ar_tgt, \"--\", linewidth=2, label=ts_name)\n",
    "    title = src_ts + \" and \" + ts_name\n",
    "    axes.flatten()[i].title.set_text(title)\n",
    "    fig.suptitle(\"Matching of Hourly time series\")\n",
    "plt.show()"
   ]
  },
  {
   "cell_type": "markdown",
   "id": "ac698a79",
   "metadata": {},
   "source": [
    "### loading the time series data"
   ]
  },
  {
   "cell_type": "code",
   "execution_count": 2,
   "id": "0f6e15e5",
   "metadata": {},
   "outputs": [
    {
     "name": "stdout",
     "output_type": "stream",
     "text": [
      "hourly: (414, 961)\n",
      "daily: (4227, 9920)\n",
      "weekly: (359, 2598)\n",
      "monthly: (48000, 2795)\n",
      "quarterly: (24000, 867)\n",
      "yearly: (23000, 836)\n"
     ]
    }
   ],
   "source": [
    "df_hourly = pd.read_csv(\"../m4_data/Hourly-train.csv\")\n",
    "print(\"hourly: {}\".format(df_hourly.shape))\n",
    "df_daily = pd.read_csv(\"../m4_data/Daily-train.csv\")\n",
    "print(\"daily: {}\".format(df_daily.shape))\n",
    "df_weekly = pd.read_csv(\"../m4_data/Weekly-train.csv\")\n",
    "print(\"weekly: {}\".format(df_weekly.shape))\n",
    "df_monthly = pd.read_csv(\"../m4_data/Monthly-train.csv\")\n",
    "print(\"monthly: {}\".format(df_monthly.shape))\n",
    "df_quarterly = pd.read_csv(\"../m4_data/Quarterly-train.csv\")\n",
    "print(\"quarterly: {}\".format(df_quarterly.shape))\n",
    "df_yearly = pd.read_csv(\"../m4_data/Yearly-train.csv\")\n",
    "print(\"yearly: {}\".format(df_yearly.shape))"
   ]
  },
  {
   "cell_type": "code",
   "execution_count": 3,
   "id": "fcab0c5b",
   "metadata": {},
   "outputs": [],
   "source": [
    "df_all = pd.concat([df_hourly,\n",
    "                   df_daily,\n",
    "                   df_weekly,\n",
    "                    df_monthly,\n",
    "                   df_quarterly,\n",
    "                   df_yearly])"
   ]
  },
  {
   "cell_type": "code",
   "execution_count": 4,
   "id": "0b008434",
   "metadata": {},
   "outputs": [],
   "source": [
    "df_hourly = None\n",
    "df_daily = None\n",
    "df_weekly = None\n",
    "df_monthly = None\n",
    "df_quarterly = None\n",
    "df_yearly = None"
   ]
  },
  {
   "cell_type": "code",
   "execution_count": null,
   "id": "c5308fcf",
   "metadata": {},
   "outputs": [],
   "source": []
  }
 ],
 "metadata": {
  "kernelspec": {
   "display_name": "Python 3 (ipykernel)",
   "language": "python",
   "name": "python3"
  },
  "language_info": {
   "codemirror_mode": {
    "name": "ipython",
    "version": 3
   },
   "file_extension": ".py",
   "mimetype": "text/x-python",
   "name": "python",
   "nbconvert_exporter": "python",
   "pygments_lexer": "ipython3",
   "version": "3.9.7"
  }
 },
 "nbformat": 4,
 "nbformat_minor": 5
}
