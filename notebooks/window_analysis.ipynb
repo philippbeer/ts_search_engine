{
 "cells": [
  {
   "cell_type": "code",
   "execution_count": 75,
   "id": "9ff17adf-30b5-4146-8e54-001ab3c2b337",
   "metadata": {},
   "outputs": [],
   "source": [
    "from random import choices\n",
    "\n",
    "import matplotlib.pyplot as plt\n",
    "import numpy as np\n",
    "import pandas as pd\n",
    "from tqdm.notebook import tqdm"
   ]
  },
  {
   "cell_type": "code",
   "execution_count": 2,
   "id": "a8a236b5-b99f-429b-bc16-b406d57e5381",
   "metadata": {},
   "outputs": [],
   "source": [
    "df = pd.read_csv(\"../df_approx_windows.csv\")"
   ]
  },
  {
   "cell_type": "code",
   "execution_count": 3,
   "id": "0d7b8bce-452a-454a-99d1-1a7d991a6b25",
   "metadata": {},
   "outputs": [
    {
     "data": {
      "text/plain": [
       "(48675846, 7)"
      ]
     },
     "execution_count": 3,
     "metadata": {},
     "output_type": "execute_result"
    }
   ],
   "source": [
    "df.shape"
   ]
  },
  {
   "cell_type": "code",
   "execution_count": 4,
   "id": "db3d8a74-2e0b-42bc-bb66-3aa11f9ca1fb",
   "metadata": {},
   "outputs": [
    {
     "data": {
      "text/html": [
       "<div>\n",
       "<style scoped>\n",
       "    .dataframe tbody tr th:only-of-type {\n",
       "        vertical-align: middle;\n",
       "    }\n",
       "\n",
       "    .dataframe tbody tr th {\n",
       "        vertical-align: top;\n",
       "    }\n",
       "\n",
       "    .dataframe thead th {\n",
       "        text-align: right;\n",
       "    }\n",
       "</style>\n",
       "<table border=\"1\" class=\"dataframe\">\n",
       "  <thead>\n",
       "    <tr style=\"text-align: right;\">\n",
       "      <th></th>\n",
       "      <th>ts_name</th>\n",
       "      <th>type</th>\n",
       "      <th>fhat</th>\n",
       "      <th>PSD</th>\n",
       "      <th>freq</th>\n",
       "      <th>freq_apx_idx</th>\n",
       "      <th>freq_apx</th>\n",
       "    </tr>\n",
       "  </thead>\n",
       "  <tbody>\n",
       "    <tr>\n",
       "      <th>0</th>\n",
       "      <td>H101</td>\n",
       "      <td>fft</td>\n",
       "      <td>1.669116e+06</td>\n",
       "      <td>3.979926e+09</td>\n",
       "      <td>0.000000</td>\n",
       "      <td>0</td>\n",
       "      <td>0.000000</td>\n",
       "    </tr>\n",
       "    <tr>\n",
       "      <th>1</th>\n",
       "      <td>H101</td>\n",
       "      <td>fft</td>\n",
       "      <td>6.368073e+03</td>\n",
       "      <td>5.793194e+04</td>\n",
       "      <td>1.428571</td>\n",
       "      <td>119</td>\n",
       "      <td>1.458190</td>\n",
       "    </tr>\n",
       "    <tr>\n",
       "      <th>2</th>\n",
       "      <td>H101</td>\n",
       "      <td>fft</td>\n",
       "      <td>2.309107e+04</td>\n",
       "      <td>7.617110e+05</td>\n",
       "      <td>2.857143</td>\n",
       "      <td>149</td>\n",
       "      <td>2.865581</td>\n",
       "    </tr>\n",
       "    <tr>\n",
       "      <th>3</th>\n",
       "      <td>H101</td>\n",
       "      <td>fft</td>\n",
       "      <td>2.112334e+04</td>\n",
       "      <td>6.374224e+05</td>\n",
       "      <td>4.285714</td>\n",
       "      <td>167</td>\n",
       "      <td>4.297856</td>\n",
       "    </tr>\n",
       "    <tr>\n",
       "      <th>4</th>\n",
       "      <td>H101</td>\n",
       "      <td>fft</td>\n",
       "      <td>9.239087e+03</td>\n",
       "      <td>1.219439e+05</td>\n",
       "      <td>5.714286</td>\n",
       "      <td>180</td>\n",
       "      <td>5.759585</td>\n",
       "    </tr>\n",
       "  </tbody>\n",
       "</table>\n",
       "</div>"
      ],
      "text/org": [
       "|    | ts_name   | type   |            fhat |              PSD |    freq |   freq_apx_idx |   freq_apx |\n",
       "|----+-----------+--------+-----------------+------------------+---------+----------------+------------|\n",
       "|  0 | H101      | fft    |     1.66912e+06 |      3.97993e+09 | 0       |              0 |    0       |\n",
       "|  1 | H101      | fft    |  6368.07        |  57931.9         | 1.42857 |            119 |    1.45819 |\n",
       "|  2 | H101      | fft    | 23091.1         | 761711           | 2.85714 |            149 |    2.86558 |\n",
       "|  3 | H101      | fft    | 21123.3         | 637422           | 4.28571 |            167 |    4.29786 |\n",
       "|  4 | H101      | fft    |  9239.09        | 121944           | 5.71429 |            180 |    5.75959 |"
      ],
      "text/plain": [
       "  ts_name type          fhat           PSD      freq  freq_apx_idx  freq_apx\n",
       "0    H101  fft  1.669116e+06  3.979926e+09  0.000000             0  0.000000\n",
       "1    H101  fft  6.368073e+03  5.793194e+04  1.428571           119  1.458190\n",
       "2    H101  fft  2.309107e+04  7.617110e+05  2.857143           149  2.865581\n",
       "3    H101  fft  2.112334e+04  6.374224e+05  4.285714           167  4.297856\n",
       "4    H101  fft  9.239087e+03  1.219439e+05  5.714286           180  5.759585"
      ]
     },
     "execution_count": 4,
     "metadata": {},
     "output_type": "execute_result"
    }
   ],
   "source": [
    "df.head()"
   ]
  },
  {
   "cell_type": "code",
   "execution_count": 8,
   "id": "9230e6d0-0956-4dc0-8cfd-5e6bfe6c2994",
   "metadata": {},
   "outputs": [],
   "source": [
    "ts = choices(df['ts_name'].unique(), k=10)"
   ]
  },
  {
   "cell_type": "code",
   "execution_count": 9,
   "id": "e6044217-ecfa-41ea-83c4-d8fd10fff39b",
   "metadata": {},
   "outputs": [
    {
     "data": {
      "text/org": [
       "|    | 0   |   1 |   2 |   3 |   4 |   5 |\n",
       "|----+-----+-----+-----+-----+-----+-----|\n",
       "|  0 | M   |   3 |   6 |   2 |   0 |   3 |\n",
       "|  1 | M   |   3 |   0 |   9 |   6 |   4 |\n",
       "|  2 | Y   |   2 |   1 |   1 |   0 |   9 |\n",
       "|  3 | M   |   1 |   3 |   2 |   6 |   7 |\n",
       "|  4 | Q   |   1 |   9 |   8 |   0 |   3 |\n",
       "|  5 | M   |   1 |   0 |   5 |   4 |   0 |\n",
       "|  6 | M   |   1 |   6 |   0 |   4 |   1 |\n",
       "|  7 | M   |   2 |   5 |   9 |   1 |   7 |\n",
       "|  8 | M   |   6 |   4 |   7 |   9 |     |\n",
       "|  9 | M   |   7 |   0 |   1 |   9 |     |"
      ],
      "text/plain": [
       "['M36203',\n",
       " 'M30964',\n",
       " 'Y21109',\n",
       " 'M13267',\n",
       " 'Q19803',\n",
       " 'M10540',\n",
       " 'M16041',\n",
       " 'M25917',\n",
       " 'M6479',\n",
       " 'M7019']"
      ]
     },
     "execution_count": 9,
     "metadata": {},
     "output_type": "execute_result"
    }
   ],
   "source": [
    "ts"
   ]
  },
  {
   "cell_type": "code",
   "execution_count": 19,
   "id": "d8f98580-021b-4a18-a700-d2f1894c0f18",
   "metadata": {},
   "outputs": [],
   "source": [
    "df_tmp = df[(df['ts_name']=='M36203') &\n",
    "  (df['type']=='Welch')]"
   ]
  },
  {
   "cell_type": "code",
   "execution_count": 27,
   "id": "4f4a37ab-73b6-4027-b030-5323a022ec9b",
   "metadata": {},
   "outputs": [
    {
     "data": {
      "text/plain": [
       "[16, 0, 47, 65]"
      ]
     },
     "execution_count": 27,
     "metadata": {},
     "output_type": "execute_result"
    }
   ],
   "source": [
    "df_tmp.sort_values(by='PSD', ascending=False)[:4]['freq_apx_idx'].to_list()"
   ]
  },
  {
   "cell_type": "code",
   "execution_count": 5,
   "id": "219020c8-f122-489a-a30b-2f87f31440eb",
   "metadata": {},
   "outputs": [],
   "source": [
    "df_test = df[:10000]"
   ]
  },
  {
   "cell_type": "code",
   "execution_count": 22,
   "id": "0830a9b9-59d2-4972-b1a7-349c8363988e",
   "metadata": {},
   "outputs": [
    {
     "data": {
      "application/vnd.jupyter.widget-view+json": {
       "model_id": "3c946fadc8ae48e4b15fb0830a6889a7",
       "version_major": 2,
       "version_minor": 0
      },
      "text/plain": [
       "  0%|          | 0/300000 [00:00<?, ?it/s]"
      ]
     },
     "metadata": {},
     "output_type": "display_data"
    }
   ],
   "source": [
    "names = []\n",
    "types = []\n",
    "freqs = []\n",
    "\n",
    "\n",
    "for elm in tqdm(df.groupby(['ts_name', 'type'])):\n",
    "    names.append(elm[0][0])\n",
    "    types.append(elm[0][1])\n",
    "    \n",
    "    df_sub = elm[1]\n",
    "    df_sub.sort_values(\"PSD\", ascending=False, inplace=True)\n",
    "    freqs.append(df_sub[:5]['freq_apx_idx'].to_list())\n",
    "\n",
    "df_reduced = pd.DataFrame({\n",
    "    'ts_name': names,\n",
    "    'type': types,\n",
    "    'freqs': freqs\n",
    "})"
   ]
  },
  {
   "cell_type": "code",
   "execution_count": 24,
   "id": "c6b6288f-18c7-431e-9281-505f961e3015",
   "metadata": {},
   "outputs": [],
   "source": [
    "df_reduced.to_csv(\"../df_top_5_freq_windows.csv\")"
   ]
  },
  {
   "cell_type": "code",
   "execution_count": 61,
   "id": "22f39c54-0a29-490a-ab59-0ac1d529faa0",
   "metadata": {},
   "outputs": [],
   "source": [
    "df_test = df_reduced[:9]"
   ]
  },
  {
   "cell_type": "code",
   "execution_count": 60,
   "id": "a04b140e-d5dd-4dd6-aa2a-0edcf136db6b",
   "metadata": {},
   "outputs": [
    {
     "data": {
      "text/html": [
       "<div>\n",
       "<style scoped>\n",
       "    .dataframe tbody tr th:only-of-type {\n",
       "        vertical-align: middle;\n",
       "    }\n",
       "\n",
       "    .dataframe tbody tr th {\n",
       "        vertical-align: top;\n",
       "    }\n",
       "\n",
       "    .dataframe thead th {\n",
       "        text-align: right;\n",
       "    }\n",
       "</style>\n",
       "<table border=\"1\" class=\"dataframe\">\n",
       "  <thead>\n",
       "    <tr style=\"text-align: right;\">\n",
       "      <th></th>\n",
       "      <th>ts_name</th>\n",
       "      <th>type</th>\n",
       "      <th>freqs</th>\n",
       "    </tr>\n",
       "  </thead>\n",
       "  <tbody>\n",
       "    <tr>\n",
       "      <th>0</th>\n",
       "      <td>D1</td>\n",
       "      <td>Hamming</td>\n",
       "      <td>[0, 102, 409, 409, 133]</td>\n",
       "    </tr>\n",
       "    <tr>\n",
       "      <th>1</th>\n",
       "      <td>D1</td>\n",
       "      <td>Welch</td>\n",
       "      <td>[0, 0, 0, 0, 0]</td>\n",
       "    </tr>\n",
       "    <tr>\n",
       "      <th>2</th>\n",
       "      <td>D1</td>\n",
       "      <td>fft</td>\n",
       "      <td>[0, 102, 409, 133, 409]</td>\n",
       "    </tr>\n",
       "    <tr>\n",
       "      <th>3</th>\n",
       "      <td>D10</td>\n",
       "      <td>Hamming</td>\n",
       "      <td>[0, 120, 409, 151, 409]</td>\n",
       "    </tr>\n",
       "    <tr>\n",
       "      <th>4</th>\n",
       "      <td>D10</td>\n",
       "      <td>Welch</td>\n",
       "      <td>[0, 0, 0, 0, 9]</td>\n",
       "    </tr>\n",
       "    <tr>\n",
       "      <th>5</th>\n",
       "      <td>D10</td>\n",
       "      <td>fft</td>\n",
       "      <td>[0, 151, 409, 409, 182]</td>\n",
       "    </tr>\n",
       "    <tr>\n",
       "      <th>6</th>\n",
       "      <td>D100</td>\n",
       "      <td>Hamming</td>\n",
       "      <td>[0, 102, 409, 133, 409]</td>\n",
       "    </tr>\n",
       "    <tr>\n",
       "      <th>7</th>\n",
       "      <td>D100</td>\n",
       "      <td>Welch</td>\n",
       "      <td>[0, 0, 0, 0, 0]</td>\n",
       "    </tr>\n",
       "    <tr>\n",
       "      <th>8</th>\n",
       "      <td>D100</td>\n",
       "      <td>fft</td>\n",
       "      <td>[0, 102, 409, 151, 409]</td>\n",
       "    </tr>\n",
       "    <tr>\n",
       "      <th>9</th>\n",
       "      <td>D1000</td>\n",
       "      <td>Hamming</td>\n",
       "      <td>[0, 100, 409, 131, 409]</td>\n",
       "    </tr>\n",
       "  </tbody>\n",
       "</table>\n",
       "</div>"
      ],
      "text/org": [
       "|    | ts_name   | type    | freqs                   |\n",
       "|----+-----------+---------+-------------------------|\n",
       "|  0 | D1        | Hamming | [0, 102, 409, 409, 133] |\n",
       "|  1 | D1        | Welch   | [0, 0, 0, 0, 0]         |\n",
       "|  2 | D1        | fft     | [0, 102, 409, 133, 409] |\n",
       "|  3 | D10       | Hamming | [0, 120, 409, 151, 409] |\n",
       "|  4 | D10       | Welch   | [0, 0, 0, 0, 9]         |\n",
       "|  5 | D10       | fft     | [0, 151, 409, 409, 182] |\n",
       "|  6 | D100      | Hamming | [0, 102, 409, 133, 409] |\n",
       "|  7 | D100      | Welch   | [0, 0, 0, 0, 0]         |\n",
       "|  8 | D100      | fft     | [0, 102, 409, 151, 409] |\n",
       "|  9 | D1000     | Hamming | [0, 100, 409, 131, 409] |"
      ],
      "text/plain": [
       "  ts_name     type                    freqs\n",
       "0      D1  Hamming  [0, 102, 409, 409, 133]\n",
       "1      D1    Welch          [0, 0, 0, 0, 0]\n",
       "2      D1      fft  [0, 102, 409, 133, 409]\n",
       "3     D10  Hamming  [0, 120, 409, 151, 409]\n",
       "4     D10    Welch          [0, 0, 0, 0, 9]\n",
       "5     D10      fft  [0, 151, 409, 409, 182]\n",
       "6    D100  Hamming  [0, 102, 409, 133, 409]\n",
       "7    D100    Welch          [0, 0, 0, 0, 0]\n",
       "8    D100      fft  [0, 102, 409, 151, 409]\n",
       "9   D1000  Hamming  [0, 100, 409, 131, 409]"
      ]
     },
     "execution_count": 60,
     "metadata": {},
     "output_type": "execute_result"
    }
   ],
   "source": [
    "df_test"
   ]
  },
  {
   "cell_type": "code",
   "execution_count": 71,
   "id": "4b9107bb-b5fe-4d9e-8e98-a1d12a3fcc7d",
   "metadata": {},
   "outputs": [
    {
     "data": {
      "application/vnd.jupyter.widget-view+json": {
       "model_id": "2e975bec40444e038f1231e976d32553",
       "version_major": 2,
       "version_minor": 0
      },
      "text/plain": [
       "  0%|          | 0/100000 [00:00<?, ?it/s]"
      ]
     },
     "metadata": {},
     "output_type": "display_data"
    },
    {
     "name": "stderr",
     "output_type": "stream",
     "text": [
      "<ipython-input-71-274b01a6613f>:15: DeprecationWarning: elementwise comparison failed; this will raise an error in the future.\n",
      "  match_fft_welch = np.sum((freqs_fft == freqs_welch))/len(freqs_fft)\n",
      "<ipython-input-71-274b01a6613f>:16: DeprecationWarning: elementwise comparison failed; this will raise an error in the future.\n",
      "  match_hamming_welch = np.sum((freqs_hamming == freqs_welch))/len(freqs_hamming)\n"
     ]
    },
    {
     "data": {
      "text/html": [
       "<div>\n",
       "<style scoped>\n",
       "    .dataframe tbody tr th:only-of-type {\n",
       "        vertical-align: middle;\n",
       "    }\n",
       "\n",
       "    .dataframe tbody tr th {\n",
       "        vertical-align: top;\n",
       "    }\n",
       "\n",
       "    .dataframe thead th {\n",
       "        text-align: right;\n",
       "    }\n",
       "</style>\n",
       "<table border=\"1\" class=\"dataframe\">\n",
       "  <thead>\n",
       "    <tr style=\"text-align: right;\">\n",
       "      <th></th>\n",
       "      <th>ts_name</th>\n",
       "      <th>type</th>\n",
       "      <th>match_ratio</th>\n",
       "    </tr>\n",
       "  </thead>\n",
       "  <tbody>\n",
       "    <tr>\n",
       "      <th>0</th>\n",
       "      <td>D1</td>\n",
       "      <td>fft_hamming</td>\n",
       "      <td>0.6</td>\n",
       "    </tr>\n",
       "    <tr>\n",
       "      <th>1</th>\n",
       "      <td>D1</td>\n",
       "      <td>fft_welch</td>\n",
       "      <td>0.2</td>\n",
       "    </tr>\n",
       "    <tr>\n",
       "      <th>2</th>\n",
       "      <td>D1</td>\n",
       "      <td>hamming_welch</td>\n",
       "      <td>0.2</td>\n",
       "    </tr>\n",
       "    <tr>\n",
       "      <th>3</th>\n",
       "      <td>D10</td>\n",
       "      <td>fft_hamming</td>\n",
       "      <td>0.4</td>\n",
       "    </tr>\n",
       "    <tr>\n",
       "      <th>4</th>\n",
       "      <td>D10</td>\n",
       "      <td>fft_welch</td>\n",
       "      <td>0.2</td>\n",
       "    </tr>\n",
       "  </tbody>\n",
       "</table>\n",
       "</div>"
      ],
      "text/org": [
       "|    | ts_name   | type          |   match_ratio |\n",
       "|----+-----------+---------------+---------------|\n",
       "|  0 | D1        | fft_hamming   |           0.6 |\n",
       "|  1 | D1        | fft_welch     |           0.2 |\n",
       "|  2 | D1        | hamming_welch |           0.2 |\n",
       "|  3 | D10       | fft_hamming   |           0.4 |\n",
       "|  4 | D10       | fft_welch     |           0.2 |"
      ],
      "text/plain": [
       "  ts_name           type  match_ratio\n",
       "0      D1    fft_hamming          0.6\n",
       "1      D1      fft_welch          0.2\n",
       "2      D1  hamming_welch          0.2\n",
       "3     D10    fft_hamming          0.4\n",
       "4     D10      fft_welch          0.2"
      ]
     },
     "execution_count": 71,
     "metadata": {},
     "output_type": "execute_result"
    }
   ],
   "source": [
    "names = []\n",
    "types = []\n",
    "match_ratios = []\n",
    "\n",
    "for elm in tqdm(df_reduced.groupby(\"ts_name\")):\n",
    "    name=elm[0]\n",
    "    df_sub = elm[1]\n",
    "    # generate arrays for matching freqs\n",
    "    freqs_fft = np.array(df_sub.loc[df_sub['type']=='fft', 'freqs'].reset_index(drop=True)[0])\n",
    "    freqs_hamming = np.array(df_sub.loc[df_sub['type']=='Hamming', 'freqs'].reset_index(drop=True)[0])\n",
    "    freqs_welch = np.array(df_sub.loc[df_sub['type']=='Welch', 'freqs'].reset_index(drop=True)[0])  \n",
    "    \n",
    "    # create matching frequ\n",
    "    match_fft_hamming = np.sum((freqs_fft == freqs_hamming))/len(freqs_fft)\n",
    "    match_fft_welch = np.sum((freqs_fft == freqs_welch))/len(freqs_fft)\n",
    "    match_hamming_welch = np.sum((freqs_hamming == freqs_welch))/len(freqs_hamming)\n",
    "    \n",
    "    # generate data\n",
    "    names.extend([name]*3)\n",
    "    types.extend(['fft_hamming', 'fft_welch', 'hamming_welch'])\n",
    "    match_ratios.extend([match_fft_hamming, match_fft_welch, match_hamming_welch])\n",
    "\n",
    "df_match = pd.DataFrame({\n",
    "    'ts_name': names,\n",
    "    'type': types,\n",
    "    'match_ratio': match_ratios\n",
    "})\n",
    "df_match.head()"
   ]
  },
  {
   "cell_type": "code",
   "execution_count": 72,
   "id": "e5a4f03f-b3a9-4b4e-9ce2-499c9f634b96",
   "metadata": {},
   "outputs": [
    {
     "data": {
      "text/plain": [
       "(300000, 3)"
      ]
     },
     "execution_count": 72,
     "metadata": {},
     "output_type": "execute_result"
    }
   ],
   "source": [
    "df_match.shape"
   ]
  },
  {
   "cell_type": "code",
   "execution_count": 74,
   "id": "84a1e6fa-da65-4813-adf4-e41debe93c6f",
   "metadata": {},
   "outputs": [
    {
     "data": {
      "text/html": [
       "<div>\n",
       "<style scoped>\n",
       "    .dataframe tbody tr th:only-of-type {\n",
       "        vertical-align: middle;\n",
       "    }\n",
       "\n",
       "    .dataframe tbody tr th {\n",
       "        vertical-align: top;\n",
       "    }\n",
       "\n",
       "    .dataframe thead th {\n",
       "        text-align: right;\n",
       "    }\n",
       "</style>\n",
       "<table border=\"1\" class=\"dataframe\">\n",
       "  <thead>\n",
       "    <tr style=\"text-align: right;\">\n",
       "      <th></th>\n",
       "      <th>ts_name</th>\n",
       "      <th>type</th>\n",
       "      <th>match_ratio</th>\n",
       "    </tr>\n",
       "  </thead>\n",
       "  <tbody>\n",
       "    <tr>\n",
       "      <th>0</th>\n",
       "      <td>D1</td>\n",
       "      <td>fft_hamming</td>\n",
       "      <td>0.6</td>\n",
       "    </tr>\n",
       "    <tr>\n",
       "      <th>1</th>\n",
       "      <td>D1</td>\n",
       "      <td>fft_welch</td>\n",
       "      <td>0.2</td>\n",
       "    </tr>\n",
       "    <tr>\n",
       "      <th>2</th>\n",
       "      <td>D1</td>\n",
       "      <td>hamming_welch</td>\n",
       "      <td>0.2</td>\n",
       "    </tr>\n",
       "    <tr>\n",
       "      <th>3</th>\n",
       "      <td>D10</td>\n",
       "      <td>fft_hamming</td>\n",
       "      <td>0.4</td>\n",
       "    </tr>\n",
       "    <tr>\n",
       "      <th>4</th>\n",
       "      <td>D10</td>\n",
       "      <td>fft_welch</td>\n",
       "      <td>0.2</td>\n",
       "    </tr>\n",
       "  </tbody>\n",
       "</table>\n",
       "</div>"
      ],
      "text/org": [
       "|    | ts_name   | type          |   match_ratio |\n",
       "|----+-----------+---------------+---------------|\n",
       "|  0 | D1        | fft_hamming   |           0.6 |\n",
       "|  1 | D1        | fft_welch     |           0.2 |\n",
       "|  2 | D1        | hamming_welch |           0.2 |\n",
       "|  3 | D10       | fft_hamming   |           0.4 |\n",
       "|  4 | D10       | fft_welch     |           0.2 |"
      ],
      "text/plain": [
       "  ts_name           type  match_ratio\n",
       "0      D1    fft_hamming          0.6\n",
       "1      D1      fft_welch          0.2\n",
       "2      D1  hamming_welch          0.2\n",
       "3     D10    fft_hamming          0.4\n",
       "4     D10      fft_welch          0.2"
      ]
     },
     "execution_count": 74,
     "metadata": {},
     "output_type": "execute_result"
    }
   ],
   "source": [
    "df_match.head()"
   ]
  },
  {
   "cell_type": "code",
   "execution_count": 77,
   "id": "e1efc5ab-6855-437d-a070-c05036141d18",
   "metadata": {},
   "outputs": [
    {
     "data": {
      "text/plain": [
       "0         0.6\n",
       "3         0.4\n",
       "6         0.8\n",
       "9         0.8\n",
       "12        0.4\n",
       "         ... \n",
       "299985    0.2\n",
       "299988    0.6\n",
       "299991    0.6\n",
       "299994    0.6\n",
       "299997    0.6\n",
       "Name: match_ratio, Length: 100000, dtype: float64"
      ]
     },
     "execution_count": 77,
     "metadata": {},
     "output_type": "execute_result"
    }
   ],
   "source": [
    "df_match[df_match['type']=='fft_hamming']['match_ratio']"
   ]
  },
  {
   "cell_type": "code",
   "execution_count": 86,
   "id": "3085c660-6666-4e5b-860c-23f2d74d4dc9",
   "metadata": {},
   "outputs": [
    {
     "data": {
      "image/png": "[encoded data removed]",
      "text/plain": [
       "<Figure size 1008x648 with 4 Axes>"
      ]
     },
     "metadata": {
      "needs_background": "light"
     },
     "output_type": "display_data"
    }
   ],
   "source": [
    "fig, axs = plt.subplots(2, 2, figsize=(14,9))\n",
    "\n",
    "axs.flatten()[0].hist(df_match[df_match['type']=='fft_hamming']['match_ratio'], bins=6)\n",
    "axs.flatten()[0].title.set_text(\"FFT Hamming Match Scores\")\n",
    "axs.flatten()[1].hist(df_match[df_match['type']=='fft_welch']['match_ratio'], bins=6)\n",
    "axs.flatten()[1].title.set_text(\"FFT Welch Match Scores\")\n",
    "\n",
    "axs.flatten()[2].hist(df_match[df_match['type']=='hamming_welch']['match_ratio'], bins=6)\n",
    "axs.flatten()[2].title.set_text(\"Hamming Welch Match Scores\")\n"
   ]
  },
  {
   "cell_type": "code",
   "execution_count": null,
   "id": "6ab80dd8-78f2-40c7-9bb9-eebe4fee5f13",
   "metadata": {},
   "outputs": [],
   "source": []
  }
 ],
 "metadata": {
  "kernelspec": {
   "display_name": "Python 3",
   "language": "python",
   "name": "python3"
  },
  "language_info": {
   "codemirror_mode": {
    "name": "ipython",
    "version": 3
   },
   "file_extension": ".py",
   "mimetype": "text/x-python",
   "name": "python",
   "nbconvert_exporter": "python",
   "pygments_lexer": "ipython3",
   "version": "3.9.4"
  }
 },
 "nbformat": 4,
 "nbformat_minor": 5
}
