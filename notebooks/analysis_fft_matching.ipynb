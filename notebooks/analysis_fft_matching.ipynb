{
 "cells": [
  {
   "cell_type": "code",
   "execution_count": 148,
   "id": "57d1f14a-ffd7-46fb-9e70-14d18d9edfe0",
   "metadata": {},
   "outputs": [],
   "source": [
    "from typing import List\n",
    "\n",
    "import random\n",
    "\n",
    "import dtw as dtw\n",
    "import matplotlib.pyplot as plt\n",
    "import numpy as np\n",
    "import pandas as pd\n",
    "from tqdm.notebook import tqdm\n"
   ]
  },
  {
   "cell_type": "code",
   "execution_count": 60,
   "id": "2a03cb06-3d16-4b25-9411-840e94d6d2cb",
   "metadata": {},
   "outputs": [
    {
     "name": "stdout",
     "output_type": "stream",
     "text": [
      "matches read: (1500000, 3)\n",
      "hourly read: (414, 961)\n",
      "daily read: (4227, 9920)\n",
      "weekly: (359, 2598)\n",
      "monthly: (48000, 2795)\n",
      "quarterly: (24000, 867)\n"
     ]
    }
   ],
   "source": [
    "df_matches = pd.read_csv(\"../df_matching_scores.csv\")\n",
    "print(\"matches read: {}\".format(df_matches.shape))\n",
    "df_hourly = pd.read_csv(\"../m4_data/Hourly-train.csv\")\n",
    "print(\"hourly read: {}\".format(df_hourly.shape))\n",
    "df_daily = pd.read_csv(\"../m4_data/Daily-train.csv\")\n",
    "print(\"daily read: {}\".format(df_daily.shape))\n",
    "df_weekly = pd.read_csv(\"../m4_data/Weekly-train.csv\")\n",
    "print(\"weekly: {}\".format(df_weekly.shape))\n",
    "df_monthly = pd.read_csv(\"../m4_data/Monthly-train.csv\")\n",
    "print(\"monthly: {}\".format(df_monthly.shape))\n",
    "df_quarterly = pd.read_csv(\"../m4_data/Quarterly-train.csv\")\n",
    "print(\"quarterly: {}\".format(df_quarterly.shape))\n",
    "df_yearly = pd.read_csv(\"../m4_data/Yearly-train.csv\")\n",
    "print(\"yearly: {}\".format(df_yearly.shape))"
   ]
  },
  {
   "cell_type": "code",
   "execution_count": 61,
   "id": "922ba95a-7df9-48df-b68b-867b8fc27dc1",
   "metadata": {},
   "outputs": [],
   "source": [
    "df_all = pd.concat([df_hourly,\n",
    "                   df_daily,\n",
    "                   df_weekly,\n",
    "                    df_monthly,\n",
    "                   df_quarterly,\n",
    "                   df_yearly])"
   ]
  },
  {
   "cell_type": "code",
   "execution_count": 62,
   "id": "ceaf560a-84b8-4552-84f1-7d70ac5d2c33",
   "metadata": {},
   "outputs": [],
   "source": [
    "df_hourly = None\n",
    "df_daily = None\n",
    "df_weekly = None\n",
    "df_monthly = None\n",
    "df_quarterly = None\n",
    "df_yearly = None"
   ]
  },
  {
   "cell_type": "code",
   "execution_count": 145,
   "id": "5597d2d2-58ba-4425-8976-574c7797d0e7",
   "metadata": {},
   "outputs": [],
   "source": [
    "sample = random.choices(df_matches['ts_1'].unique(), k=10)"
   ]
  },
  {
   "cell_type": "code",
   "execution_count": 149,
   "id": "648b7097-831f-4c49-b2fd-294c288b774c",
   "metadata": {},
   "outputs": [],
   "source": [
    "def compute_error_df(ts_names: List[str]) -> pd.DataFrame:\n",
    "    ts_src_l = []\n",
    "    ts_tgt_l = []\n",
    "    mae_l = []\n",
    "    rmse_l = []\n",
    "    dtw_dist_l =  []\n",
    "    for ts_src_name in tqdm(sample):\n",
    "        df_tmp = df_matches[df_matches['ts_1']==ts_src_name]\n",
    "        ts_src = np.array(df_all[df_all['V1']==ts_src_name].iloc[:,1:].dropna(axis=1))[0]\n",
    "        ts_tgt_names = df_tmp['ts_2'].unique()\n",
    "\n",
    "        for ts_tgt_name in ts_tgt_names:\n",
    "\n",
    "            ts_tgt = np.array(df_all[df_all['V1']==ts_tgt_name].iloc[:,1:].dropna(axis=1))[0]\n",
    "            # compute different lengths of series\n",
    "            diff = ts_src.shape[0]-ts_tgt.shape[0]\n",
    "            if diff>0:\n",
    "                # src is longer than tgt\n",
    "                ts_tgt = np.pad(ts_tgt, (0,diff))\n",
    "            elif diff<0:\n",
    "                # tgt is longer than src\n",
    "                ts_src = np.pad(ts_src, (0,np.abs(diff)))\n",
    "            else:\n",
    "                # both series are equal in length\n",
    "                pass\n",
    "            n = np.maximum(len(ts_src), len(ts_tgt))\n",
    "            mae = np.mean(np.abs(np.abs(ts_src)-np.abs(ts_tgt)))\n",
    "            rmse = np.sqrt(np.mean(np.square(ts_src-ts_tgt)))\n",
    "            aln = dtw.dtw(ts_src, ts_tgt, keep_internals=True)\n",
    "\n",
    "            ts_src_l.append(ts_src_name)\n",
    "            ts_tgt_l.append(ts_tgt_name)\n",
    "            mae_l.append(mae)\n",
    "            rmse_l.append(rmse)\n",
    "            dtw_dist_l.append(aln.distance)\n",
    "\n",
    "    data = {'ts_src': ts_src_l,\n",
    "           'ts_tgt': ts_tgt_l,\n",
    "           'mae': mae_l,\n",
    "           'rmse': rmse_l,\n",
    "            'dtw_dist': dtw_dist_l}\n",
    "    return pd.DataFrame(data)\n",
    "    "
   ]
  },
  {
   "cell_type": "code",
   "execution_count": 150,
   "id": "cde73448-67d0-4a6f-ac0d-e5d7bdbb5205",
   "metadata": {},
   "outputs": [],
   "source": [
    "def generate_plots(df_err: pd.DataFrame) -> None:\n",
    "    for ts_group in df_err.groupby('ts_src'):\n",
    "        ts_src_name = ts_group[0]\n",
    "        df_err_tmp = ts_group[1]\n",
    "        df_err_tmp =  df_err_tmp.sort_values(\"mae\").reset_index()\n",
    "        ts_tgt_name = df_err_tmp.loc[0, 'ts_tgt']\n",
    "\n",
    "        # getting data\n",
    "        src_ar = np.array(df_all[df_all['V1']==ts_src_name].iloc[:,1:].dropna(axis=1))[0]\n",
    "        tgt_ar = np.array(df_all[df_all['V1']==ts_tgt_name].iloc[:,1:].dropna(axis=1))[0]\n",
    "\n",
    "        # aligning length of arrays\n",
    "        diff = src_ar.shape[0] - tgt_ar.shape[0]\n",
    "        if diff>0:\n",
    "            # src is longer than tgt\n",
    "            tgt_ar = np.pad(tgt_ar, (0, diff))\n",
    "        elif diff<0:\n",
    "            src_ar = np.pad(src_ar, (0, np.abs(diff)))\n",
    "        else:\n",
    "            pass\n",
    "\n",
    "        # plotting\n",
    "        n = np.maximum(len(src_ar), len(tgt_ar))\n",
    "        x = np.array(range(n))\n",
    "        plt.plot(x, src_ar, label=ts_src_name)\n",
    "        plt.plot(x, tgt_ar, linestyle='--', label=ts_tgt_name)\n",
    "        plt.legend()\n",
    "        title = ts_src_name + \" and \" + ts_tgt_name\n",
    "        plt.title(title)\n",
    "        plt.show()"
   ]
  },
  {
   "cell_type": "code",
   "execution_count": null,
   "id": "44606c70-1101-48e9-947f-7b5b221702ad",
   "metadata": {},
   "outputs": [
    {
     "data": {
      "application/vnd.jupyter.widget-view+json": {
       "model_id": "f1db7e3dc1b144fb983fb9fd59911f54",
       "version_major": 2,
       "version_minor": 0
      },
      "text/plain": [
       "  0%|          | 0/10 [00:00<?, ?it/s]"
      ]
     },
     "metadata": {},
     "output_type": "display_data"
    }
   ],
   "source": [
    "sample = random.choices(df_matches['ts_1'].unique(), k=10)\n",
    "\n",
    "df_err = compute_error_df(sample)\n",
    "generate_plots(df_err)"
   ]
  },
  {
   "cell_type": "code",
   "execution_count": null,
   "id": "c0ddcf59-329d-439d-a1d8-e0b4f91eaeea",
   "metadata": {},
   "outputs": [],
   "source": []
  }
 ],
 "metadata": {
  "kernelspec": {
   "display_name": "Python 3",
   "language": "python",
   "name": "python3"
  },
  "language_info": {
   "codemirror_mode": {
    "name": "ipython",
    "version": 3
   },
   "file_extension": ".py",
   "mimetype": "text/x-python",
   "name": "python",
   "nbconvert_exporter": "python",
   "pygments_lexer": "ipython3",
   "version": "3.9.4"
  }
 },
 "nbformat": 4,
 "nbformat_minor": 5
}
