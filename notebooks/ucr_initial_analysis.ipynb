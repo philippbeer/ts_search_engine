{
 "cells": [
  {
   "cell_type": "code",
   "execution_count": 93,
   "id": "bac1ebca",
   "metadata": {},
   "outputs": [],
   "source": [
    "import os\n",
    "import random\n",
    "import re\n",
    "\n",
    "import numpy as np\n",
    "import pandas as pd\n",
    "from tqdm.notebook import tqdm\n"
   ]
  },
  {
   "cell_type": "code",
   "execution_count": 15,
   "id": "93640c18",
   "metadata": {},
   "outputs": [],
   "source": [
    "df = pd.read_csv(\"../data/ucr_data/UCRArchive_2018/ItalyPowerDemand/ItalyPowerDemand_TRAIN.tsv\",\n",
    "                sep='\\t', header=None)"
   ]
  },
  {
   "cell_type": "code",
   "execution_count": 9,
   "id": "efcd1630",
   "metadata": {},
   "outputs": [
    {
     "name": "stdout",
     "output_type": "stream",
     "text": [
      "# ItalyPowerDemand\n",
      "\n",
      "The data were derived from twelve monthly electrical power demand time series of Italy and first used in [1]. The classification task is to distinguish days from Oct to March (inclusive) and from April to September.\n",
      "\n",
      "Train size: 67\n",
      "\n",
      "Test size: 1029\n",
      "\n",
      "Missing value: No\n",
      "\n",
      "Number of classses: 2\n",
      "\n",
      "Time series length: 24\n",
      "\n",
      "Data donated by Eamonn Keogh and Li Wei (see [1], [2]).\n",
      "\n",
      "[1] Keogh, Eamonn, et al. \"Intelligent icons: Integrating lite-weight data mining and visualization into GUI operating systems.\" Data Mining, 2006. ICDM'06. Sixth International Conference on. IEEE, 2006.\n",
      "\n",
      "[2] http://www.timeseriesclassification.com/description.php?Dataset=ItalyPowerDemand"
     ]
    }
   ],
   "source": [
    "!cat ../data/ucr_data/UCRArchive_2018/ItalyPowerDemand/README.md"
   ]
  },
  {
   "cell_type": "code",
   "execution_count": 16,
   "id": "a89de782",
   "metadata": {},
   "outputs": [
    {
     "data": {
      "text/html": [
       "<div>\n",
       "<style scoped>\n",
       "    .dataframe tbody tr th:only-of-type {\n",
       "        vertical-align: middle;\n",
       "    }\n",
       "\n",
       "    .dataframe tbody tr th {\n",
       "        vertical-align: top;\n",
       "    }\n",
       "\n",
       "    .dataframe thead th {\n",
       "        text-align: right;\n",
       "    }\n",
       "</style>\n",
       "<table border=\"1\" class=\"dataframe\">\n",
       "  <thead>\n",
       "    <tr style=\"text-align: right;\">\n",
       "      <th></th>\n",
       "      <th>0</th>\n",
       "      <th>1</th>\n",
       "      <th>2</th>\n",
       "      <th>3</th>\n",
       "      <th>4</th>\n",
       "      <th>5</th>\n",
       "      <th>6</th>\n",
       "      <th>7</th>\n",
       "      <th>8</th>\n",
       "      <th>9</th>\n",
       "      <th>...</th>\n",
       "      <th>15</th>\n",
       "      <th>16</th>\n",
       "      <th>17</th>\n",
       "      <th>18</th>\n",
       "      <th>19</th>\n",
       "      <th>20</th>\n",
       "      <th>21</th>\n",
       "      <th>22</th>\n",
       "      <th>23</th>\n",
       "      <th>24</th>\n",
       "    </tr>\n",
       "  </thead>\n",
       "  <tbody>\n",
       "    <tr>\n",
       "      <th>0</th>\n",
       "      <td>1</td>\n",
       "      <td>-0.710518</td>\n",
       "      <td>-1.183320</td>\n",
       "      <td>-1.372442</td>\n",
       "      <td>-1.593083</td>\n",
       "      <td>-1.467002</td>\n",
       "      <td>-1.372442</td>\n",
       "      <td>-1.088760</td>\n",
       "      <td>0.045967</td>\n",
       "      <td>0.928532</td>\n",
       "      <td>...</td>\n",
       "      <td>-0.647477</td>\n",
       "      <td>-0.269235</td>\n",
       "      <td>-0.206195</td>\n",
       "      <td>0.613330</td>\n",
       "      <td>1.369815</td>\n",
       "      <td>1.464375</td>\n",
       "      <td>1.054613</td>\n",
       "      <td>0.581810</td>\n",
       "      <td>0.172048</td>\n",
       "      <td>-0.269235</td>\n",
       "    </tr>\n",
       "    <tr>\n",
       "      <th>1</th>\n",
       "      <td>1</td>\n",
       "      <td>-0.993009</td>\n",
       "      <td>-1.426786</td>\n",
       "      <td>-1.579884</td>\n",
       "      <td>-1.605401</td>\n",
       "      <td>-1.630917</td>\n",
       "      <td>-1.375754</td>\n",
       "      <td>-1.018526</td>\n",
       "      <td>-0.355102</td>\n",
       "      <td>0.716583</td>\n",
       "      <td>...</td>\n",
       "      <td>0.486936</td>\n",
       "      <td>0.563485</td>\n",
       "      <td>0.614518</td>\n",
       "      <td>0.308322</td>\n",
       "      <td>0.257289</td>\n",
       "      <td>1.099327</td>\n",
       "      <td>1.048295</td>\n",
       "      <td>0.691066</td>\n",
       "      <td>-0.048906</td>\n",
       "      <td>-0.380618</td>\n",
       "    </tr>\n",
       "    <tr>\n",
       "      <th>2</th>\n",
       "      <td>2</td>\n",
       "      <td>1.319067</td>\n",
       "      <td>0.569774</td>\n",
       "      <td>0.195128</td>\n",
       "      <td>-0.085856</td>\n",
       "      <td>-0.179518</td>\n",
       "      <td>-0.273180</td>\n",
       "      <td>-0.085856</td>\n",
       "      <td>-1.397118</td>\n",
       "      <td>-1.116134</td>\n",
       "      <td>...</td>\n",
       "      <td>-0.554164</td>\n",
       "      <td>-0.741487</td>\n",
       "      <td>-0.741487</td>\n",
       "      <td>-0.741487</td>\n",
       "      <td>-1.116134</td>\n",
       "      <td>-0.460503</td>\n",
       "      <td>0.476113</td>\n",
       "      <td>2.349344</td>\n",
       "      <td>2.255682</td>\n",
       "      <td>1.600052</td>\n",
       "    </tr>\n",
       "    <tr>\n",
       "      <th>3</th>\n",
       "      <td>2</td>\n",
       "      <td>-0.812444</td>\n",
       "      <td>-1.157553</td>\n",
       "      <td>-1.416385</td>\n",
       "      <td>-1.531421</td>\n",
       "      <td>-1.502662</td>\n",
       "      <td>-1.416385</td>\n",
       "      <td>-1.646458</td>\n",
       "      <td>-0.467335</td>\n",
       "      <td>0.654269</td>\n",
       "      <td>...</td>\n",
       "      <td>0.740547</td>\n",
       "      <td>0.884342</td>\n",
       "      <td>0.884342</td>\n",
       "      <td>0.683028</td>\n",
       "      <td>0.625510</td>\n",
       "      <td>0.424197</td>\n",
       "      <td>-0.007190</td>\n",
       "      <td>-0.035949</td>\n",
       "      <td>0.107847</td>\n",
       "      <td>-0.266022</td>\n",
       "    </tr>\n",
       "    <tr>\n",
       "      <th>4</th>\n",
       "      <td>1</td>\n",
       "      <td>-0.972840</td>\n",
       "      <td>-1.390518</td>\n",
       "      <td>-1.536705</td>\n",
       "      <td>-1.620240</td>\n",
       "      <td>-1.620240</td>\n",
       "      <td>-1.453169</td>\n",
       "      <td>-0.993724</td>\n",
       "      <td>0.050469</td>\n",
       "      <td>0.635218</td>\n",
       "      <td>...</td>\n",
       "      <td>0.321960</td>\n",
       "      <td>0.489031</td>\n",
       "      <td>0.614334</td>\n",
       "      <td>1.303502</td>\n",
       "      <td>1.240850</td>\n",
       "      <td>1.073779</td>\n",
       "      <td>0.551682</td>\n",
       "      <td>0.426379</td>\n",
       "      <td>-0.179253</td>\n",
       "      <td>-0.638698</td>\n",
       "    </tr>\n",
       "  </tbody>\n",
       "</table>\n",
       "<p>5 rows × 25 columns</p>\n",
       "</div>"
      ],
      "text/org": [
       "|    |   0 |         1 |         2 |         3 |          4 |         5 |        6 |          7 |          8 |         9 |        10 |         11 |         12 |         13 |         14 |        15 |        16 |        17 |        18 |        19 |        20 |          21 |         22 |         23 |        24 |\n",
       "|----+-----+-----------+-----------+-----------+------------+-----------+----------+------------+------------+-----------+-----------+------------+------------+------------+------------+-----------+-----------+-----------+-----------+-----------+-----------+-------------+------------+------------+-----------|\n",
       "|  0 |   1 | -0.710518 | -1.18332  | -1.37244  | -1.59308   | -1.467    | -1.37244 | -1.08876   |  0.0459669 |  0.928532 |  1.08613  | 1.27525    |  0.960052  | 0.61333    |  0.0144468 | -0.647477 | -0.269235 | -0.206195 |  0.61333  |  1.36981  |  1.46438  |  1.05461    |  0.58181   |  0.172048  | -0.269235 |\n",
       "|  1 |   1 | -0.993009 | -1.42679  | -1.57988  | -1.6054    | -1.63092  | -1.37575 | -1.01853   | -0.355102  |  0.716583 |  1.20139  | 1.12484    |  1.04829   | 0.793132   |  0.46142   |  0.486936 |  0.563485 |  0.614518 |  0.308322 |  0.257289 |  1.09933  |  1.04829    |  0.691066  | -0.0489062 | -0.380618 |\n",
       "|  2 |   2 |  1.31907  |  0.569774 |  0.195128 | -0.0858564 | -0.179518 | -0.27318 | -0.0858564 | -1.39712   | -1.11613  | -0.741487 | 0.00780513 | -0.0858564 | 0.00780513 | -0.460503  | -0.554164 | -0.741487 | -0.741487 | -0.741487 | -1.11613  | -0.460503 |  0.476113   |  2.34934   |  2.25568   |  1.60005  |\n",
       "|  3 |   2 | -0.812444 | -1.15755  | -1.41639  | -1.53142   | -1.50266  | -1.41639 | -1.64646   | -0.467335  |  0.654269 |  1.0569   | 1.34449    |  1.20069   | 0.999378   |  0.654269  |  0.740547 |  0.884342 |  0.884342 |  0.683028 |  0.62551  |  0.424197 | -0.00718977 | -0.0359489 |  0.107847  | -0.266022 |\n",
       "|  4 |   1 | -0.97284  | -1.39052  | -1.5367   | -1.62024   | -1.62024  | -1.45317 | -0.993724  |  0.0504694 |  0.635218 |  1.03201  | 0.802289   |  0.823173  | 0.656102   |  0.384611  |  0.32196  |  0.489031 |  0.614334 |  1.3035   |  1.24085  |  1.07378  |  0.551682   |  0.426379  | -0.179253  | -0.638698 |"
      ],
      "text/plain": [
       "   0         1         2         3         4         5         6         7   \\\n",
       "0   1 -0.710518 -1.183320 -1.372442 -1.593083 -1.467002 -1.372442 -1.088760   \n",
       "1   1 -0.993009 -1.426786 -1.579884 -1.605401 -1.630917 -1.375754 -1.018526   \n",
       "2   2  1.319067  0.569774  0.195128 -0.085856 -0.179518 -0.273180 -0.085856   \n",
       "3   2 -0.812444 -1.157553 -1.416385 -1.531421 -1.502662 -1.416385 -1.646458   \n",
       "4   1 -0.972840 -1.390518 -1.536705 -1.620240 -1.620240 -1.453169 -0.993724   \n",
       "\n",
       "         8         9   ...        15        16        17        18        19  \\\n",
       "0  0.045967  0.928532  ... -0.647477 -0.269235 -0.206195  0.613330  1.369815   \n",
       "1 -0.355102  0.716583  ...  0.486936  0.563485  0.614518  0.308322  0.257289   \n",
       "2 -1.397118 -1.116134  ... -0.554164 -0.741487 -0.741487 -0.741487 -1.116134   \n",
       "3 -0.467335  0.654269  ...  0.740547  0.884342  0.884342  0.683028  0.625510   \n",
       "4  0.050469  0.635218  ...  0.321960  0.489031  0.614334  1.303502  1.240850   \n",
       "\n",
       "         20        21        22        23        24  \n",
       "0  1.464375  1.054613  0.581810  0.172048 -0.269235  \n",
       "1  1.099327  1.048295  0.691066 -0.048906 -0.380618  \n",
       "2 -0.460503  0.476113  2.349344  2.255682  1.600052  \n",
       "3  0.424197 -0.007190 -0.035949  0.107847 -0.266022  \n",
       "4  1.073779  0.551682  0.426379 -0.179253 -0.638698  \n",
       "\n",
       "[5 rows x 25 columns]"
      ]
     },
     "execution_count": 16,
     "metadata": {},
     "output_type": "execute_result"
    }
   ],
   "source": [
    "df.head()"
   ]
  },
  {
   "cell_type": "markdown",
   "id": "907e202f",
   "metadata": {},
   "source": [
    "### Join all relevant files"
   ]
  },
  {
   "cell_type": "code",
   "execution_count": 56,
   "id": "e1b12941",
   "metadata": {},
   "outputs": [
    {
     "data": {
      "text/plain": [
       "\u001b[0;31mSignature:\u001b[0m \u001b[0mre\u001b[0m\u001b[0;34m.\u001b[0m\u001b[0mmatch\u001b[0m\u001b[0;34m(\u001b[0m\u001b[0mpattern\u001b[0m\u001b[0;34m,\u001b[0m \u001b[0mstring\u001b[0m\u001b[0;34m,\u001b[0m \u001b[0mflags\u001b[0m\u001b[0;34m=\u001b[0m\u001b[0;36m0\u001b[0m\u001b[0;34m)\u001b[0m\u001b[0;34m\u001b[0m\u001b[0;34m\u001b[0m\u001b[0m\n",
       "\u001b[0;31mDocstring:\u001b[0m\n",
       "Try to apply the pattern at the start of the string, returning\n",
       "a Match object, or None if no match was found.\n",
       "\u001b[0;31mFile:\u001b[0m      ~/anaconda3/lib/python3.7/re.py\n",
       "\u001b[0;31mType:\u001b[0m      function\n"
      ]
     },
     "metadata": {},
     "output_type": "display_data"
    }
   ],
   "source": [
    "re.match?"
   ]
  },
  {
   "cell_type": "code",
   "execution_count": 62,
   "id": "1009b60f",
   "metadata": {},
   "outputs": [],
   "source": [
    "for root, dirs, files in os.walk(\"../data/ucr_data/UCRArchive_2018/\"):\n",
    "    for name in files:\n",
    "        if(name.endswith(\"_TRAIN.tsv\")):\n",
    "            folders = re.split(\"/\", root)\n",
    "            ts_name = folders[-1]\n",
    "#             print(re.match(\"\\/([^\\/]+)\\/?$\", root))"
   ]
  },
  {
   "cell_type": "code",
   "execution_count": 67,
   "id": "7743c8fd",
   "metadata": {},
   "outputs": [
    {
     "data": {
      "text/org": [
       "|    | 0                      | 1                                                                                        |\n",
       "|----+------------------------+------------------------------------------------------------------------------------------|\n",
       "|  0 | Haptics                | ../data/ucr_data/UCRArchive_2018/Haptics/Haptics_TRAIN.tsv                               |\n",
       "|  1 | SyntheticControl       | ../data/ucr_data/UCRArchive_2018/SyntheticControl/SyntheticControl_TRAIN.tsv             |\n",
       "|  2 | Worms                  | ../data/ucr_data/UCRArchive_2018/Worms/Worms_TRAIN.tsv                                   |\n",
       "|  3 | Computers              | ../data/ucr_data/UCRArchive_2018/Computers/Computers_TRAIN.tsv                           |\n",
       "|  4 | HouseTwenty            | ../data/ucr_data/UCRArchive_2018/HouseTwenty/HouseTwenty_TRAIN.tsv                       |\n",
       "|  5 | GestureMidAirD3        | ../data/ucr_data/UCRArchive_2018/GestureMidAirD3/GestureMidAirD3_TRAIN.tsv               |\n",
       "|  6 | Chinatown              | ../data/ucr_data/UCRArchive_2018/Chinatown/Chinatown_TRAIN.tsv                           |\n",
       "|  7 | UWaveGestureLibraryAll | ../data/ucr_data/UCRArchive_2018/UWaveGestureLibraryAll/UWaveGestureLibraryAll_TRAIN.tsv |\n",
       "|  8 | Strawberry             | ../data/ucr_data/UCRArchive_2018/Strawberry/Strawberry_TRAIN.tsv                         |\n",
       "|  9 | Car                    | ../data/ucr_data/UCRArchive_2018/Car/Car_TRAIN.tsv                                       |"
      ],
      "text/plain": [
       "[('Haptics', '../data/ucr_data/UCRArchive_2018/Haptics/Haptics_TRAIN.tsv'),\n",
       " ('SyntheticControl',\n",
       "  '../data/ucr_data/UCRArchive_2018/SyntheticControl/SyntheticControl_TRAIN.tsv'),\n",
       " ('Worms', '../data/ucr_data/UCRArchive_2018/Worms/Worms_TRAIN.tsv'),\n",
       " ('Computers',\n",
       "  '../data/ucr_data/UCRArchive_2018/Computers/Computers_TRAIN.tsv'),\n",
       " ('HouseTwenty',\n",
       "  '../data/ucr_data/UCRArchive_2018/HouseTwenty/HouseTwenty_TRAIN.tsv'),\n",
       " ('GestureMidAirD3',\n",
       "  '../data/ucr_data/UCRArchive_2018/GestureMidAirD3/GestureMidAirD3_TRAIN.tsv'),\n",
       " ('Chinatown',\n",
       "  '../data/ucr_data/UCRArchive_2018/Chinatown/Chinatown_TRAIN.tsv'),\n",
       " ('UWaveGestureLibraryAll',\n",
       "  '../data/ucr_data/UCRArchive_2018/UWaveGestureLibraryAll/UWaveGestureLibraryAll_TRAIN.tsv'),\n",
       " ('Strawberry',\n",
       "  '../data/ucr_data/UCRArchive_2018/Strawberry/Strawberry_TRAIN.tsv'),\n",
       " ('Car', '../data/ucr_data/UCRArchive_2018/Car/Car_TRAIN.tsv')]"
      ]
     },
     "execution_count": 67,
     "metadata": {},
     "output_type": "execute_result"
    }
   ],
   "source": [
    "ts_infos = []\n",
    "for root, dirs, files in os.walk(\"../data/ucr_data/UCRArchive_2018/\"):\n",
    "    for name in files:\n",
    "        if(name.endswith(\"_TRAIN.tsv\")):\n",
    "            path_tmp = os.path.join(root,name)\n",
    "            ts_name = re.split(\"/\", root)[-1]\n",
    "            ts_infos.append((ts_name, os.path.join(root,name)))\n",
    "            \n",
    "ts_infos[:10]\n"
   ]
  },
  {
   "cell_type": "code",
   "execution_count": 76,
   "id": "2162726a",
   "metadata": {},
   "outputs": [
    {
     "data": {
      "application/vnd.jupyter.widget-view+json": {
       "model_id": "07d34491b1b9418ebaf487696b90e78a",
       "version_major": 2,
       "version_minor": 0
      },
      "text/plain": [
       "  0%|          | 0/143 [00:00<?, ?it/s]"
      ]
     },
     "metadata": {},
     "output_type": "display_data"
    }
   ],
   "source": [
    "df = pd.DataFrame()\n",
    "\n",
    "for ts_info in tqdm(ts_infos):\n",
    "    ts_name = ts_info[0]\n",
    "    fp = ts_info[1]\n",
    "    \n",
    "    df_tmp = pd.read_csv(fp, sep='\\t', header=None)\n",
    "    df_tmp['name'] = ts_name\n",
    "    cols = df_tmp.columns.tolist()\n",
    "    cols = cols[-1:] + cols[:-1]\n",
    "    df_tmp = df_tmp[cols]\n",
    "    df = df.append(df_tmp)"
   ]
  },
  {
   "cell_type": "code",
   "execution_count": 84,
   "id": "12d4e974",
   "metadata": {},
   "outputs": [
    {
     "data": {
      "text/plain": [
       "\u001b[0;31mSignature:\u001b[0m \u001b[0mrandom\u001b[0m\u001b[0;34m.\u001b[0m\u001b[0mrandint\u001b[0m\u001b[0;34m(\u001b[0m\u001b[0ma\u001b[0m\u001b[0;34m,\u001b[0m \u001b[0mb\u001b[0m\u001b[0;34m)\u001b[0m\u001b[0;34m\u001b[0m\u001b[0;34m\u001b[0m\u001b[0m\n",
       "\u001b[0;31mDocstring:\u001b[0m\n",
       "Return random integer in range [a, b], including both end points.\n",
       "        \n",
       "\u001b[0;31mFile:\u001b[0m      ~/anaconda3/lib/python3.7/random.py\n",
       "\u001b[0;31mType:\u001b[0m      method\n"
      ]
     },
     "metadata": {},
     "output_type": "display_data"
    }
   ],
   "source": [
    "random.randint(0, 100) for "
   ]
  },
  {
   "cell_type": "code",
   "execution_count": 89,
   "id": "94b18cb7",
   "metadata": {},
   "outputs": [
    {
     "data": {
      "text/plain": [
       "\u001b[0;31mSignature:\u001b[0m \u001b[0mrandom\u001b[0m\u001b[0;34m.\u001b[0m\u001b[0mrandrange\u001b[0m\u001b[0;34m(\u001b[0m\u001b[0mstart\u001b[0m\u001b[0;34m,\u001b[0m \u001b[0mstop\u001b[0m\u001b[0;34m=\u001b[0m\u001b[0;32mNone\u001b[0m\u001b[0;34m,\u001b[0m \u001b[0mstep\u001b[0m\u001b[0;34m=\u001b[0m\u001b[0;36m1\u001b[0m\u001b[0;34m,\u001b[0m \u001b[0m_int\u001b[0m\u001b[0;34m=\u001b[0m\u001b[0;34m<\u001b[0m\u001b[0;32mclass\u001b[0m \u001b[0;34m'int'\u001b[0m\u001b[0;34m>\u001b[0m\u001b[0;34m)\u001b[0m\u001b[0;34m\u001b[0m\u001b[0;34m\u001b[0m\u001b[0m\n",
       "\u001b[0;31mDocstring:\u001b[0m\n",
       "Choose a random item from range(start, stop[, step]).\n",
       "\n",
       "This fixes the problem with randint() which includes the\n",
       "endpoint; in Python this is usually not what you want.\n",
       "\u001b[0;31mFile:\u001b[0m      ~/anaconda3/lib/python3.7/random.py\n",
       "\u001b[0;31mType:\u001b[0m      method\n"
      ]
     },
     "metadata": {},
     "output_type": "display_data"
    }
   ],
   "source": [
    "?random.randrange?"
   ]
  },
  {
   "cell_type": "code",
   "execution_count": 95,
   "id": "b62d9dac",
   "metadata": {},
   "outputs": [
    {
     "data": {
      "text/plain": [
       "[53, 9, 14, 44]"
      ]
     },
     "execution_count": 95,
     "metadata": {},
     "output_type": "execute_result"
    }
   ],
   "source": [
    "list(np.random.randint(0, 100, 4))"
   ]
  },
  {
   "cell_type": "code",
   "execution_count": 102,
   "id": "4b7df0b7",
   "metadata": {},
   "outputs": [
    {
     "data": {
      "text/plain": [
       "139"
      ]
     },
     "execution_count": 102,
     "metadata": {},
     "output_type": "execute_result"
    }
   ],
   "source": [
    "random.randint(0,1000)"
   ]
  },
  {
   "cell_type": "code",
   "execution_count": 112,
   "id": "ee196f97",
   "metadata": {},
   "outputs": [
    {
     "data": {
      "text/html": [
       "<div>\n",
       "<style scoped>\n",
       "    .dataframe tbody tr th:only-of-type {\n",
       "        vertical-align: middle;\n",
       "    }\n",
       "\n",
       "    .dataframe tbody tr th {\n",
       "        vertical-align: top;\n",
       "    }\n",
       "\n",
       "    .dataframe thead th {\n",
       "        text-align: right;\n",
       "    }\n",
       "</style>\n",
       "<table border=\"1\" class=\"dataframe\">\n",
       "  <thead>\n",
       "    <tr style=\"text-align: right;\">\n",
       "      <th></th>\n",
       "      <th>name</th>\n",
       "      <th>class</th>\n",
       "      <th>1</th>\n",
       "      <th>2</th>\n",
       "      <th>3</th>\n",
       "      <th>4</th>\n",
       "      <th>5</th>\n",
       "    </tr>\n",
       "  </thead>\n",
       "  <tbody>\n",
       "    <tr>\n",
       "      <th>0</th>\n",
       "      <td>B</td>\n",
       "      <td>1</td>\n",
       "      <td>9</td>\n",
       "      <td>486</td>\n",
       "      <td>904</td>\n",
       "      <td>168</td>\n",
       "      <td>399</td>\n",
       "    </tr>\n",
       "    <tr>\n",
       "      <th>0</th>\n",
       "      <td>B</td>\n",
       "      <td>2</td>\n",
       "      <td>40</td>\n",
       "      <td>954</td>\n",
       "      <td>889</td>\n",
       "      <td>112</td>\n",
       "      <td>818</td>\n",
       "    </tr>\n",
       "    <tr>\n",
       "      <th>0</th>\n",
       "      <td>A</td>\n",
       "      <td>2</td>\n",
       "      <td>897</td>\n",
       "      <td>871</td>\n",
       "      <td>375</td>\n",
       "      <td>640</td>\n",
       "      <td>54</td>\n",
       "    </tr>\n",
       "    <tr>\n",
       "      <th>0</th>\n",
       "      <td>A</td>\n",
       "      <td>1</td>\n",
       "      <td>261</td>\n",
       "      <td>847</td>\n",
       "      <td>736</td>\n",
       "      <td>266</td>\n",
       "      <td>501</td>\n",
       "    </tr>\n",
       "    <tr>\n",
       "      <th>0</th>\n",
       "      <td>B</td>\n",
       "      <td>1</td>\n",
       "      <td>869</td>\n",
       "      <td>144</td>\n",
       "      <td>925</td>\n",
       "      <td>782</td>\n",
       "      <td>438</td>\n",
       "    </tr>\n",
       "  </tbody>\n",
       "</table>\n",
       "</div>"
      ],
      "text/org": [
       "|    | name   |   class |   1 |   2 |   3 |   4 |   5 |\n",
       "|----+--------+---------+-----+-----+-----+-----+-----|\n",
       "|  0 | B      |       1 |   9 | 486 | 904 | 168 | 399 |\n",
       "|  0 | B      |       2 |  40 | 954 | 889 | 112 | 818 |\n",
       "|  0 | A      |       2 | 897 | 871 | 375 | 640 |  54 |\n",
       "|  0 | A      |       1 | 261 | 847 | 736 | 266 | 501 |\n",
       "|  0 | B      |       1 | 869 | 144 | 925 | 782 | 438 |"
      ],
      "text/plain": [
       "  name  class    1    2    3    4    5\n",
       "0    B      1    9  486  904  168  399\n",
       "0    B      2   40  954  889  112  818\n",
       "0    A      2  897  871  375  640   54\n",
       "0    A      1  261  847  736  266  501\n",
       "0    B      1  869  144  925  782  438"
      ]
     },
     "execution_count": 112,
     "metadata": {},
     "output_type": "execute_result"
    }
   ],
   "source": [
    "df = pd.DataFrame()\n",
    "for i in range(5):\n",
    "    \n",
    "    name = random.choice(['A','B'])\n",
    "    type_cls = random.randint(1,2)\n",
    "    val1 = random.randint(0,1000)\n",
    "    val2 = random.randint(0,1000)\n",
    "    val3 = random.randint(0,1000)\n",
    "    val4 = random.randint(0,1000)\n",
    "    val5 = random.randint(0,1000)\n",
    "    \n",
    "    df_tmp = pd.DataFrame([[name,type_cls,val1,val2,val3,val4,val5]], columns=['name', 'class', 1,2,3,4,5])\n",
    "\n",
    "    df = df.append(df_tmp)\n",
    "    \n",
    "df "
   ]
  },
  {
   "cell_type": "code",
   "execution_count": 115,
   "id": "6e298633",
   "metadata": {},
   "outputs": [],
   "source": [
    "df.reset_index(inplace=True)"
   ]
  },
  {
   "cell_type": "code",
   "execution_count": 130,
   "id": "a2191ab1",
   "metadata": {},
   "outputs": [
    {
     "data": {
      "text/html": [
       "<div>\n",
       "<style scoped>\n",
       "    .dataframe tbody tr th:only-of-type {\n",
       "        vertical-align: middle;\n",
       "    }\n",
       "\n",
       "    .dataframe tbody tr th {\n",
       "        vertical-align: top;\n",
       "    }\n",
       "\n",
       "    .dataframe thead th {\n",
       "        text-align: right;\n",
       "    }\n",
       "</style>\n",
       "<table border=\"1\" class=\"dataframe\">\n",
       "  <thead>\n",
       "    <tr style=\"text-align: right;\">\n",
       "      <th></th>\n",
       "      <th>index</th>\n",
       "      <th>name</th>\n",
       "      <th>class</th>\n",
       "      <th>1</th>\n",
       "      <th>2</th>\n",
       "      <th>3</th>\n",
       "      <th>4</th>\n",
       "      <th>5</th>\n",
       "    </tr>\n",
       "  </thead>\n",
       "  <tbody>\n",
       "    <tr>\n",
       "      <th>0</th>\n",
       "      <td>0</td>\n",
       "      <td>B</td>\n",
       "      <td>1</td>\n",
       "      <td>9</td>\n",
       "      <td>486</td>\n",
       "      <td>904</td>\n",
       "      <td>168</td>\n",
       "      <td>399</td>\n",
       "    </tr>\n",
       "    <tr>\n",
       "      <th>1</th>\n",
       "      <td>0</td>\n",
       "      <td>B</td>\n",
       "      <td>2</td>\n",
       "      <td>40</td>\n",
       "      <td>954</td>\n",
       "      <td>889</td>\n",
       "      <td>112</td>\n",
       "      <td>818</td>\n",
       "    </tr>\n",
       "    <tr>\n",
       "      <th>2</th>\n",
       "      <td>0</td>\n",
       "      <td>A</td>\n",
       "      <td>2</td>\n",
       "      <td>897</td>\n",
       "      <td>871</td>\n",
       "      <td>375</td>\n",
       "      <td>640</td>\n",
       "      <td>54</td>\n",
       "    </tr>\n",
       "    <tr>\n",
       "      <th>3</th>\n",
       "      <td>0</td>\n",
       "      <td>A</td>\n",
       "      <td>1</td>\n",
       "      <td>261</td>\n",
       "      <td>847</td>\n",
       "      <td>736</td>\n",
       "      <td>266</td>\n",
       "      <td>501</td>\n",
       "    </tr>\n",
       "    <tr>\n",
       "      <th>4</th>\n",
       "      <td>0</td>\n",
       "      <td>B</td>\n",
       "      <td>1</td>\n",
       "      <td>869</td>\n",
       "      <td>144</td>\n",
       "      <td>925</td>\n",
       "      <td>782</td>\n",
       "      <td>438</td>\n",
       "    </tr>\n",
       "  </tbody>\n",
       "</table>\n",
       "</div>"
      ],
      "text/org": [
       "|    |   index | name   |   class |   1 |   2 |   3 |   4 |   5 |\n",
       "|----+---------+--------+---------+-----+-----+-----+-----+-----|\n",
       "|  0 |       0 | B      |       1 |   9 | 486 | 904 | 168 | 399 |\n",
       "|  1 |       0 | B      |       2 |  40 | 954 | 889 | 112 | 818 |\n",
       "|  2 |       0 | A      |       2 | 897 | 871 | 375 | 640 |  54 |\n",
       "|  3 |       0 | A      |       1 | 261 | 847 | 736 | 266 | 501 |\n",
       "|  4 |       0 | B      |       1 | 869 | 144 | 925 | 782 | 438 |"
      ],
      "text/plain": [
       "   index name  class    1    2    3    4    5\n",
       "0      0    B      1    9  486  904  168  399\n",
       "1      0    B      2   40  954  889  112  818\n",
       "2      0    A      2  897  871  375  640   54\n",
       "3      0    A      1  261  847  736  266  501\n",
       "4      0    B      1  869  144  925  782  438"
      ]
     },
     "execution_count": 130,
     "metadata": {},
     "output_type": "execute_result"
    }
   ],
   "source": [
    "df.head()"
   ]
  },
  {
   "cell_type": "code",
   "execution_count": 132,
   "id": "1f6f1d64",
   "metadata": {},
   "outputs": [
    {
     "data": {
      "text/plain": [
       "array([0, 1, 2, 3, 4])"
      ]
     },
     "execution_count": 132,
     "metadata": {},
     "output_type": "execute_result"
    }
   ],
   "source": [
    "df.index.values"
   ]
  },
  {
   "cell_type": "code",
   "execution_count": 128,
   "id": "d4871690",
   "metadata": {},
   "outputs": [],
   "source": [
    "def separate_ts(s: pd.Series):\n",
    "    print(s)\n",
    "    name = s['name']\n",
    "    cls_type = s['class']\n",
    "    ar = np.array(s.iloc[2:].dropna())\n",
    "    print(\"name: {}, class: {}, ar: {}\".format(name,cls_type,ar))\n",
    "    return (name,cls_type,ar)"
   ]
  },
  {
   "cell_type": "code",
   "execution_count": 129,
   "id": "5fb3f86e",
   "metadata": {},
   "outputs": [
    {
     "name": "stdout",
     "output_type": "stream",
     "text": [
      "index      0\n",
      "name       B\n",
      "class      1\n",
      "1          9\n",
      "2        486\n",
      "3        904\n",
      "4        168\n",
      "5        399\n",
      "Name: 0, dtype: object\n",
      "name: B, class: 1, ar: [1 9 486 904 168 399]\n",
      "index      0\n",
      "name       B\n",
      "class      2\n",
      "1         40\n",
      "2        954\n",
      "3        889\n",
      "4        112\n",
      "5        818\n",
      "Name: 1, dtype: object\n",
      "name: B, class: 2, ar: [2 40 954 889 112 818]\n",
      "index      0\n",
      "name       A\n",
      "class      2\n",
      "1        897\n",
      "2        871\n",
      "3        375\n",
      "4        640\n",
      "5         54\n",
      "Name: 2, dtype: object\n",
      "name: A, class: 2, ar: [2 897 871 375 640 54]\n",
      "index      0\n",
      "name       A\n",
      "class      1\n",
      "1        261\n",
      "2        847\n",
      "3        736\n",
      "4        266\n",
      "5        501\n",
      "Name: 3, dtype: object\n",
      "name: A, class: 1, ar: [1 261 847 736 266 501]\n",
      "index      0\n",
      "name       B\n",
      "class      1\n",
      "1        869\n",
      "2        144\n",
      "3        925\n",
      "4        782\n",
      "5        438\n",
      "Name: 4, dtype: object\n",
      "name: B, class: 1, ar: [1 869 144 925 782 438]\n"
     ]
    }
   ],
   "source": [
    "res = df.apply(separate_ts, axis=1)"
   ]
  },
  {
   "cell_type": "code",
   "execution_count": 127,
   "id": "32c546ac",
   "metadata": {},
   "outputs": [
    {
     "data": {
      "text/org": [
       "|   ('B', 1, array([1, 9, 486, 904, 168, 399], dtype=object)) | ('B', 2, array([2, 40, 954, 889, 112, 818], dtype=object))   |   ('A', 2, array([2, 897, 871, 375, 640, 54], dtype=object)) | ('A', 1, array([1, 261, 847, 736, 266, 501], dtype=object))   |\n",
       "|-------------------------------------------------------------+--------------------------------------------------------------+--------------------------------------------------------------+---------------------------------------------------------------|\n",
       "|                                                           0 | B                                                            |                                                            1 | [1 9 486 904 168 399]                                         |\n",
       "|                                                           1 | B                                                            |                                                            2 | [2 40 954 889 112 818]                                        |\n",
       "|                                                           2 | A                                                            |                                                            2 | [2 897 871 375 640 54]                                        |\n",
       "|                                                           3 | A                                                            |                                                            1 | [1 261 847 736 266 501]                                       |\n",
       "|                                                           4 | B                                                            |                                                            1 | [1 869 144 925 782 438]                                       |"
      ],
      "text/plain": [
       "0      (B, 1, [1, 9, 486, 904, 168, 399])\n",
       "1     (B, 2, [2, 40, 954, 889, 112, 818])\n",
       "2     (A, 2, [2, 897, 871, 375, 640, 54])\n",
       "3    (A, 1, [1, 261, 847, 736, 266, 501])\n",
       "4    (B, 1, [1, 869, 144, 925, 782, 438])\n",
       "dtype: object"
      ]
     },
     "execution_count": 127,
     "metadata": {},
     "output_type": "execute_result"
    }
   ],
   "source": [
    "res"
   ]
  },
  {
   "cell_type": "code",
   "execution_count": null,
   "id": "fe9d9636",
   "metadata": {},
   "outputs": [],
   "source": []
  }
 ],
 "metadata": {
  "kernelspec": {
   "display_name": "Python 3",
   "language": "python",
   "name": "python3"
  },
  "language_info": {
   "codemirror_mode": {
    "name": "ipython",
    "version": 3
   },
   "file_extension": ".py",
   "mimetype": "text/x-python",
   "name": "python",
   "nbconvert_exporter": "python",
   "pygments_lexer": "ipython3",
   "version": "3.7.9"
  }
 },
 "nbformat": 4,
 "nbformat_minor": 5
}
