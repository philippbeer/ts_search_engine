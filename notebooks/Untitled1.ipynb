{
 "cells": [
  {
   "cell_type": "code",
   "execution_count": 184,
   "id": "4337e481",
   "metadata": {},
   "outputs": [
    {
     "ename": "ModuleNotFoundError",
     "evalue": "No module named 'dtw'",
     "output_type": "error",
     "traceback": [
      "\u001b[0;31m---------------------------------------------------------------------------\u001b[0m",
      "\u001b[0;31mModuleNotFoundError\u001b[0m                       Traceback (most recent call last)",
      "\u001b[0;32m<ipython-input-184-cb91cdef2c95>\u001b[0m in \u001b[0;36m<module>\u001b[0;34m\u001b[0m\n\u001b[0;32m----> 1\u001b[0;31m \u001b[0;32mfrom\u001b[0m \u001b[0mdtw\u001b[0m \u001b[0;32mimport\u001b[0m \u001b[0mdtw\u001b[0m\u001b[0;34m\u001b[0m\u001b[0;34m\u001b[0m\u001b[0m\n\u001b[0m\u001b[1;32m      2\u001b[0m \u001b[0;32mimport\u001b[0m \u001b[0mpandas\u001b[0m \u001b[0;32mas\u001b[0m \u001b[0mpd\u001b[0m\u001b[0;34m\u001b[0m\u001b[0;34m\u001b[0m\u001b[0m\n\u001b[1;32m      3\u001b[0m \u001b[0;32mimport\u001b[0m \u001b[0mseaborn\u001b[0m \u001b[0;32mas\u001b[0m \u001b[0msns\u001b[0m\u001b[0;34m\u001b[0m\u001b[0;34m\u001b[0m\u001b[0m\n",
      "\u001b[0;31mModuleNotFoundError\u001b[0m: No module named 'dtw'"
     ]
    }
   ],
   "source": [
    "from dtw import dtw\n",
    "import pandas as pd\n",
    "import seaborn as sns"
   ]
  },
  {
   "cell_type": "code",
   "execution_count": 111,
   "id": "374203c9",
   "metadata": {},
   "outputs": [],
   "source": [
    "df = pd.read_csv(\"../data/df_ucr_min_delta.csv\")"
   ]
  },
  {
   "cell_type": "code",
   "execution_count": 112,
   "id": "25abc126",
   "metadata": {},
   "outputs": [
    {
     "data": {
      "text/html": [
       "<div>\n",
       "<style scoped>\n",
       "    .dataframe tbody tr th:only-of-type {\n",
       "        vertical-align: middle;\n",
       "    }\n",
       "\n",
       "    .dataframe tbody tr th {\n",
       "        vertical-align: top;\n",
       "    }\n",
       "\n",
       "    .dataframe thead th {\n",
       "        text-align: right;\n",
       "    }\n",
       "</style>\n",
       "<table border=\"1\" class=\"dataframe\">\n",
       "  <thead>\n",
       "    <tr style=\"text-align: right;\">\n",
       "      <th></th>\n",
       "      <th>ts_1</th>\n",
       "      <th>no_1</th>\n",
       "      <th>class_1</th>\n",
       "      <th>ts_2</th>\n",
       "      <th>no_2</th>\n",
       "      <th>class_2</th>\n",
       "      <th>type</th>\n",
       "      <th>match_score</th>\n",
       "      <th>min_kpi</th>\n",
       "    </tr>\n",
       "  </thead>\n",
       "  <tbody>\n",
       "    <tr>\n",
       "      <th>0</th>\n",
       "      <td>Coffee</td>\n",
       "      <td>11</td>\n",
       "      <td>0</td>\n",
       "      <td>Coffee</td>\n",
       "      <td>5</td>\n",
       "      <td>5</td>\n",
       "      <td>fft</td>\n",
       "      <td>11111</td>\n",
       "      <td>d_m</td>\n",
       "    </tr>\n",
       "    <tr>\n",
       "      <th>1</th>\n",
       "      <td>Coffee</td>\n",
       "      <td>11</td>\n",
       "      <td>0</td>\n",
       "      <td>Coffee</td>\n",
       "      <td>10</td>\n",
       "      <td>10</td>\n",
       "      <td>fft</td>\n",
       "      <td>11111</td>\n",
       "      <td>d_mean</td>\n",
       "    </tr>\n",
       "    <tr>\n",
       "      <th>2</th>\n",
       "      <td>Coffee</td>\n",
       "      <td>11</td>\n",
       "      <td>0</td>\n",
       "      <td>Coffee</td>\n",
       "      <td>13</td>\n",
       "      <td>13</td>\n",
       "      <td>fft</td>\n",
       "      <td>11111</td>\n",
       "      <td>d_std</td>\n",
       "    </tr>\n",
       "    <tr>\n",
       "      <th>3</th>\n",
       "      <td>Coffee</td>\n",
       "      <td>11</td>\n",
       "      <td>0</td>\n",
       "      <td>Coffee</td>\n",
       "      <td>26</td>\n",
       "      <td>26</td>\n",
       "      <td>fft</td>\n",
       "      <td>11111</td>\n",
       "      <td>d_q25</td>\n",
       "    </tr>\n",
       "    <tr>\n",
       "      <th>4</th>\n",
       "      <td>Coffee</td>\n",
       "      <td>11</td>\n",
       "      <td>0</td>\n",
       "      <td>Coffee</td>\n",
       "      <td>26</td>\n",
       "      <td>26</td>\n",
       "      <td>fft</td>\n",
       "      <td>11111</td>\n",
       "      <td>d_q50</td>\n",
       "    </tr>\n",
       "  </tbody>\n",
       "</table>\n",
       "</div>"
      ],
      "text/org": [
       "|    | ts_1   |   no_1 |   class_1 | ts_2   |   no_2 |   class_2 | type   |   match_score | min_kpi   |\n",
       "|----+--------+--------+-----------+--------+--------+-----------+--------+---------------+-----------|\n",
       "|  0 | Coffee |     11 |         0 | Coffee |      5 |         5 | fft    |         11111 | d_m       |\n",
       "|  1 | Coffee |     11 |         0 | Coffee |     10 |        10 | fft    |         11111 | d_mean    |\n",
       "|  2 | Coffee |     11 |         0 | Coffee |     13 |        13 | fft    |         11111 | d_std     |\n",
       "|  3 | Coffee |     11 |         0 | Coffee |     26 |        26 | fft    |         11111 | d_q25     |\n",
       "|  4 | Coffee |     11 |         0 | Coffee |     26 |        26 | fft    |         11111 | d_q50     |"
      ],
      "text/plain": [
       "     ts_1  no_1  class_1    ts_2  no_2  class_2 type  match_score min_kpi\n",
       "0  Coffee    11        0  Coffee     5        5  fft        11111     d_m\n",
       "1  Coffee    11        0  Coffee    10       10  fft        11111  d_mean\n",
       "2  Coffee    11        0  Coffee    13       13  fft        11111   d_std\n",
       "3  Coffee    11        0  Coffee    26       26  fft        11111   d_q25\n",
       "4  Coffee    11        0  Coffee    26       26  fft        11111   d_q50"
      ]
     },
     "execution_count": 112,
     "metadata": {},
     "output_type": "execute_result"
    }
   ],
   "source": [
    "df.head()"
   ]
  },
  {
   "cell_type": "code",
   "execution_count": 127,
   "id": "4c15e220",
   "metadata": {},
   "outputs": [],
   "source": [
    "df_same_ts = df[(df['ts_1']==df['ts_2'])&\n",
    "               (df['no_1']==df['no_2'])]\n",
    "\n",
    "df_same_class = df[(df['ts_1']==df['ts_2'])&\n",
    "               (df['class_1']==df['class_2'])]"
   ]
  },
  {
   "cell_type": "code",
   "execution_count": 138,
   "id": "c7cd60b2",
   "metadata": {},
   "outputs": [
    {
     "data": {
      "text/plain": [
       "<matplotlib.axes._subplots.AxesSubplot at 0x7fbe545343d0>"
      ]
     },
     "execution_count": 138,
     "metadata": {},
     "output_type": "execute_result"
    },
    {
     "data": {
      "image/png": "[encoded data removed]",
      "text/plain": [
       "<Figure size 936x720 with 2 Axes>"
      ]
     },
     "metadata": {
      "needs_background": "light"
     },
     "output_type": "display_data"
    }
   ],
   "source": [
    "fig, axes = plt.subplots(1, 2, figsize=(13,10), sharey=True)\n",
    "fig.suptitle('Distribution of minimal KPI for similarity')\n",
    "axes[0].set_title(\"Same Class\")\n",
    "axes[1].set_title(\"Same TS\")\n",
    "sns.histplot(data=df_same_class, ax=axes[0], x='min_kpi', hue='type')\n",
    "sns.histplot(data=df_same_ts, ax=axes[1], x='min_kpi', hue='type')"
   ]
  },
  {
   "cell_type": "code",
   "execution_count": null,
   "id": "bd2b314c",
   "metadata": {},
   "outputs": [],
   "source": [
    "fig, ax = plt.subplot"
   ]
  },
  {
   "cell_type": "code",
   "execution_count": 166,
   "id": "ef729ecd",
   "metadata": {},
   "outputs": [],
   "source": [
    "s = pd.Series(['A', 1, 2, 3,4,np.nan])"
   ]
  },
  {
   "cell_type": "code",
   "execution_count": 167,
   "id": "4a0396d4",
   "metadata": {},
   "outputs": [
    {
     "data": {
      "text/plain": [
       "0      A\n",
       "1      1\n",
       "2      2\n",
       "3      3\n",
       "4      4\n",
       "5    NaN\n",
       "dtype: object"
      ]
     },
     "execution_count": 167,
     "metadata": {},
     "output_type": "execute_result"
    }
   ],
   "source": [
    "s"
   ]
  },
  {
   "cell_type": "code",
   "execution_count": 198,
   "id": "5f24d3f1",
   "metadata": {},
   "outputs": [],
   "source": [
    "df = pd.DataFrame({\n",
    "    \"c1\": ['A','B','C'],\n",
    "    \"c2\": [3,1,2]\n",
    "})"
   ]
  },
  {
   "cell_type": "code",
   "execution_count": 189,
   "id": "d4ecb339",
   "metadata": {},
   "outputs": [
    {
     "data": {
      "text/html": [
       "<div>\n",
       "<style scoped>\n",
       "    .dataframe tbody tr th:only-of-type {\n",
       "        vertical-align: middle;\n",
       "    }\n",
       "\n",
       "    .dataframe tbody tr th {\n",
       "        vertical-align: top;\n",
       "    }\n",
       "\n",
       "    .dataframe thead th {\n",
       "        text-align: right;\n",
       "    }\n",
       "</style>\n",
       "<table border=\"1\" class=\"dataframe\">\n",
       "  <thead>\n",
       "    <tr style=\"text-align: right;\">\n",
       "      <th></th>\n",
       "      <th>c1</th>\n",
       "      <th>c2</th>\n",
       "    </tr>\n",
       "  </thead>\n",
       "  <tbody>\n",
       "    <tr>\n",
       "      <th>0</th>\n",
       "      <td>A</td>\n",
       "      <td>3</td>\n",
       "    </tr>\n",
       "    <tr>\n",
       "      <th>1</th>\n",
       "      <td>B</td>\n",
       "      <td>1</td>\n",
       "    </tr>\n",
       "    <tr>\n",
       "      <th>2</th>\n",
       "      <td>C</td>\n",
       "      <td>2</td>\n",
       "    </tr>\n",
       "  </tbody>\n",
       "</table>\n",
       "</div>"
      ],
      "text/org": [
       "|    | c1   |   c2 |\n",
       "|----+------+------|\n",
       "|  0 | A    |    3 |\n",
       "|  1 | B    |    1 |\n",
       "|  2 | C    |    2 |"
      ],
      "text/plain": [
       "  c1  c2\n",
       "0  A   3\n",
       "1  B   1\n",
       "2  C   2"
      ]
     },
     "execution_count": 189,
     "metadata": {},
     "output_type": "execute_result"
    }
   ],
   "source": [
    "df.head()"
   ]
  },
  {
   "cell_type": "code",
   "execution_count": 199,
   "id": "0fd65f25",
   "metadata": {},
   "outputs": [
    {
     "data": {
      "text/plain": [
       "c1    B\n",
       "c2    1\n",
       "Name: 1, dtype: object"
      ]
     },
     "execution_count": 199,
     "metadata": {},
     "output_type": "execute_result"
    }
   ],
   "source": [
    "df.sort_values('c2').iloc[0]"
   ]
  },
  {
   "cell_type": "code",
   "execution_count": 200,
   "id": "c70e0fac",
   "metadata": {},
   "outputs": [
    {
     "data": {
      "text/plain": [
       "pandas.core.series.Series"
      ]
     },
     "execution_count": 200,
     "metadata": {},
     "output_type": "execute_result"
    }
   ],
   "source": [
    "type(df.iloc[0])"
   ]
  },
  {
   "cell_type": "code",
   "execution_count": null,
   "id": "d56aa774",
   "metadata": {},
   "outputs": [],
   "source": []
  }
 ],
 "metadata": {
  "kernelspec": {
   "display_name": "Python 3",
   "language": "python",
   "name": "python3"
  },
  "language_info": {
   "codemirror_mode": {
    "name": "ipython",
    "version": 3
   },
   "file_extension": ".py",
   "mimetype": "text/x-python",
   "name": "python",
   "nbconvert_exporter": "python",
   "pygments_lexer": "ipython3",
   "version": "3.7.9"
  }
 },
 "nbformat": 4,
 "nbformat_minor": 5
}
