{
 "cells": [
  {
   "cell_type": "code",
   "execution_count": 30,
   "id": "66da84c5",
   "metadata": {},
   "outputs": [],
   "source": [
    "import matplotlib.pyplot as plt\n",
    "import pandas as pd\n",
    "import seaborn as sbn"
   ]
  },
  {
   "cell_type": "code",
   "execution_count": 20,
   "id": "0c9b1e71",
   "metadata": {},
   "outputs": [],
   "source": [
    "df_300 = pd.read_csv(\"./data/df_winners_300.csv\")\n",
    "\n",
    "df_400 = pd.read_csv(\"./data/df_winners_400.csv\")\n",
    "\n",
    "df_1000 = pd.read_csv(\"./data/df_winners_1000.csv\")\n"
   ]
  },
  {
   "cell_type": "code",
   "execution_count": 25,
   "id": "5db2d89c",
   "metadata": {},
   "outputs": [
    {
     "data": {
      "text/html": [
       "<div>\n",
       "<style scoped>\n",
       "    .dataframe tbody tr th:only-of-type {\n",
       "        vertical-align: middle;\n",
       "    }\n",
       "\n",
       "    .dataframe tbody tr th {\n",
       "        vertical-align: top;\n",
       "    }\n",
       "\n",
       "    .dataframe thead th {\n",
       "        text-align: right;\n",
       "    }\n",
       "</style>\n",
       "<table border=\"1\" class=\"dataframe\">\n",
       "  <thead>\n",
       "    <tr style=\"text-align: right;\">\n",
       "      <th></th>\n",
       "      <th>ts_name</th>\n",
       "      <th>type</th>\n",
       "      <th>candidate</th>\n",
       "      <th>dtw_dist</th>\n",
       "    </tr>\n",
       "  </thead>\n",
       "  <tbody>\n",
       "    <tr>\n",
       "      <th>0</th>\n",
       "      <td>M31076</td>\n",
       "      <td>Hamming</td>\n",
       "      <td>M15637</td>\n",
       "      <td>182891.500</td>\n",
       "    </tr>\n",
       "    <tr>\n",
       "      <th>1</th>\n",
       "      <td>M31076</td>\n",
       "      <td>Welch</td>\n",
       "      <td>M14234</td>\n",
       "      <td>91859.800</td>\n",
       "    </tr>\n",
       "    <tr>\n",
       "      <th>2</th>\n",
       "      <td>M31076</td>\n",
       "      <td>fft</td>\n",
       "      <td>M15628</td>\n",
       "      <td>194149.800</td>\n",
       "    </tr>\n",
       "    <tr>\n",
       "      <th>3</th>\n",
       "      <td>Q20663</td>\n",
       "      <td>Hamming</td>\n",
       "      <td>M26835</td>\n",
       "      <td>32803.424</td>\n",
       "    </tr>\n",
       "    <tr>\n",
       "      <th>4</th>\n",
       "      <td>Q20663</td>\n",
       "      <td>Welch</td>\n",
       "      <td>M22536</td>\n",
       "      <td>943546.000</td>\n",
       "    </tr>\n",
       "  </tbody>\n",
       "</table>\n",
       "</div>"
      ],
      "text/org": [
       "|    | ts_name   | type    | candidate   |   dtw_dist |\n",
       "|----+-----------+---------+-------------+------------|\n",
       "|  0 | M31076    | Hamming | M15637      |   182891   |\n",
       "|  1 | M31076    | Welch   | M14234      |    91859.8 |\n",
       "|  2 | M31076    | fft     | M15628      |   194150   |\n",
       "|  3 | Q20663    | Hamming | M26835      |    32803.4 |\n",
       "|  4 | Q20663    | Welch   | M22536      |   943546   |"
      ],
      "text/plain": [
       "  ts_name     type candidate    dtw_dist\n",
       "0  M31076  Hamming    M15637  182891.500\n",
       "1  M31076    Welch    M14234   91859.800\n",
       "2  M31076      fft    M15628  194149.800\n",
       "3  Q20663  Hamming    M26835   32803.424\n",
       "4  Q20663    Welch    M22536  943546.000"
      ]
     },
     "execution_count": 25,
     "metadata": {},
     "output_type": "execute_result"
    }
   ],
   "source": [
    "df_300.head()"
   ]
  },
  {
   "cell_type": "code",
   "execution_count": 38,
   "id": "3ef2f4be",
   "metadata": {},
   "outputs": [
    {
     "data": {
      "image/png": "[encoded data removed]",
      "text/plain": [
       "<Figure size 1296x576 with 1 Axes>"
      ]
     },
     "metadata": {
      "needs_background": "light"
     },
     "output_type": "display_data"
    }
   ],
   "source": [
    "fig, ax = plt.subplots(figsize=(18,8))\n",
    "sbn.histplot(df_1000, ax=ax, x='dtw_dist',\n",
    "            hue='type', log_scale=True);\n",
    "plt.grid()\n",
    "plt.show()\n",
    "plt.close()"
   ]
  },
  {
   "cell_type": "code",
   "execution_count": 43,
   "id": "0e8909f0",
   "metadata": {},
   "outputs": [
    {
     "data": {
      "text/plain": [
       "type\n",
       "fft        168090.934939\n",
       "Hamming    171990.737609\n",
       "Welch      203436.001510\n",
       "Name: dtw_dist, dtype: float64"
      ]
     },
     "execution_count": 43,
     "metadata": {},
     "output_type": "execute_result"
    }
   ],
   "source": [
    "df_300.groupby('type')['dtw_dist'].mean().sort_values()"
   ]
  },
  {
   "cell_type": "code",
   "execution_count": 44,
   "id": "ae04b44e",
   "metadata": {},
   "outputs": [
    {
     "data": {
      "text/plain": [
       "type\n",
       "fft        253273.462556\n",
       "Hamming    259678.411569\n",
       "Welch      312483.219169\n",
       "Name: dtw_dist, dtype: float64"
      ]
     },
     "execution_count": 44,
     "metadata": {},
     "output_type": "execute_result"
    }
   ],
   "source": [
    "df_400.groupby('type')['dtw_dist'].mean().sort_values()"
   ]
  },
  {
   "cell_type": "code",
   "execution_count": 45,
   "id": "e86c1f31",
   "metadata": {},
   "outputs": [
    {
     "data": {
      "text/plain": [
       "type\n",
       "Hamming    221310.131944\n",
       "fft        221830.614341\n",
       "Welch      294547.949271\n",
       "Name: dtw_dist, dtype: float64"
      ]
     },
     "execution_count": 45,
     "metadata": {},
     "output_type": "execute_result"
    }
   ],
   "source": [
    "df_1000.groupby('type')['dtw_dist'].mean().sort_values()"
   ]
  },
  {
   "cell_type": "code",
   "execution_count": null,
   "id": "61d2e8d6",
   "metadata": {},
   "outputs": [],
   "source": []
  }
 ],
 "metadata": {
  "kernelspec": {
   "display_name": "Python 3",
   "language": "python",
   "name": "python3"
  },
  "language_info": {
   "codemirror_mode": {
    "name": "ipython",
    "version": 3
   },
   "file_extension": ".py",
   "mimetype": "text/x-python",
   "name": "python",
   "nbconvert_exporter": "python",
   "pygments_lexer": "ipython3",
   "version": "3.7.9"
  }
 },
 "nbformat": 4,
 "nbformat_minor": 5
}
